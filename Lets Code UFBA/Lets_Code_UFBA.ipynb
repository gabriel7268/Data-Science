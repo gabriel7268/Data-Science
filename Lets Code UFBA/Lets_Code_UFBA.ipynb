{
  "nbformat": 4,
  "nbformat_minor": 0,
  "metadata": {
    "colab": {
      "name": "Lets_Code_UFBA.ipynb",
      "provenance": [],
      "authorship_tag": "ABX9TyOTPHWbNpr/lDcd83YzPZ9L",
      "include_colab_link": true
    },
    "kernelspec": {
      "name": "python3",
      "display_name": "Python 3"
    },
    "language_info": {
      "name": "python"
    }
  },
  "cells": [
    {
      "cell_type": "markdown",
      "metadata": {
        "id": "view-in-github",
        "colab_type": "text"
      },
      "source": [
        "<a href=\"https://colab.research.google.com/github/gabriel7268/Data-Science/blob/main/Lets%20Code%20UFBA/Lets_Code_UFBA.ipynb\" target=\"_parent\"><img src=\"https://colab.research.google.com/assets/colab-badge.svg\" alt=\"Open In Colab\"/></a>"
      ]
    },
    {
      "cell_type": "markdown",
      "metadata": {
        "id": "f6NkAfcdgcFv"
      },
      "source": [
        "#Data Science and Artificial Intelligence Workshop\n",
        "\n",
        "https://drive.google.com/drive/folders/1_3V20BfgxPozfbBi1VnK8ycgycO1SplG\n",
        "\n",
        "## Ementa:\n",
        "  - 11/05:  \n",
        "    - ambientação do jupyter notebook\n",
        "    - análise de dados (eda - exploratory dara analysis)\n",
        "    - \n",
        "\n",
        "  - 13/05:\n",
        "    - modelo de machine learning\n",
        "    - avaliação do modelo\n",
        "\n",
        "````\n",
        "Jupyter Notebook\n",
        "````\n",
        "\n",
        "Para abrir:\n",
        "\n",
        "```\n",
        "Abrir o prompt do anaconda\n",
        "\n",
        "digitar: jupyter notebook\n",
        "```\n",
        "\n",
        "# Linguagens para Data Science\n",
        "\n",
        "## Python:\n",
        "- genérico\n",
        "- usado para ML, Web Scrapping, text mining, dashboard (Streamlit, usados tambem em deploy de modelos (colocar modelos em produção)) \n",
        "\n",
        "\n",
        "## R:\n",
        "- Estatística\n",
        "- Séries temporais, análises multivariada, análise de sobrevivência\n"
      ]
    },
    {
      "cell_type": "code",
      "metadata": {
        "colab": {
          "base_uri": "https://localhost:8080/"
        },
        "id": "nF-V16vcgMU-",
        "outputId": "a0c66705-86ae-4e8f-90bb-5a98a905c62a"
      },
      "source": [
        "#Exibir imagem\n",
        "![](link da imagem)"
      ],
      "execution_count": 13,
      "outputs": [
        {
          "output_type": "stream",
          "text": [
            "/bin/bash: -c: line 0: syntax error near unexpected token `link'\n",
            "/bin/bash: -c: line 0: `[](link da imagem)'\n"
          ],
          "name": "stdout"
        }
      ]
    },
    {
      "cell_type": "markdown",
      "metadata": {
        "id": "kcGzVZE3qRks"
      },
      "source": [
        "![](data:image/jpeg;base64,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)"
      ]
    },
    {
      "cell_type": "markdown",
      "metadata": {
        "id": "1kLr_Vqlp6r4"
      },
      "source": [
        "![](https://static.javatpoint.com/tutorial/r/images/r-vs-python.png)"
      ]
    },
    {
      "cell_type": "markdown",
      "metadata": {
        "id": "oFl-sexMl6G9"
      },
      "source": [
        "#Objetivo do case:\n",
        "- Prever atrasos de cartão de crédito (Target), dado as demais características (features) dos clientes."
      ]
    },
    {
      "cell_type": "code",
      "metadata": {
        "colab": {
          "base_uri": "https://localhost:8080/",
          "height": 202
        },
        "id": "UZCFvLZjl6iT",
        "outputId": "eec1d058-d339-4849-e180-ca4bf1690d31"
      },
      "source": [
        "#Importar bibliotecas:\n",
        "import pandas as pd\n",
        "import os\n",
        "\n",
        "link = 'https://github.com/gabriel7268/Datasets/raw/main/AtrasoCartaoCredito.csv'\n",
        "\n",
        "df = pd.read_csv(link)\n",
        "df.shape #atributo\n",
        "df.head() #método"
      ],
      "execution_count": 14,
      "outputs": [
        {
          "output_type": "execute_result",
          "data": {
            "text/html": [
              "<div>\n",
              "<style scoped>\n",
              "    .dataframe tbody tr th:only-of-type {\n",
              "        vertical-align: middle;\n",
              "    }\n",
              "\n",
              "    .dataframe tbody tr th {\n",
              "        vertical-align: top;\n",
              "    }\n",
              "\n",
              "    .dataframe thead th {\n",
              "        text-align: right;\n",
              "    }\n",
              "</style>\n",
              "<table border=\"1\" class=\"dataframe\">\n",
              "  <thead>\n",
              "    <tr style=\"text-align: right;\">\n",
              "      <th></th>\n",
              "      <th>ID</th>\n",
              "      <th>Target</th>\n",
              "      <th>GrupoEconomico</th>\n",
              "      <th>Sexo</th>\n",
              "      <th>Idade</th>\n",
              "      <th>GrupoRisco</th>\n",
              "      <th>ValorCompraAnual</th>\n",
              "      <th>GastoMax</th>\n",
              "      <th>GastoMedio</th>\n",
              "      <th>UF</th>\n",
              "      <th>CidadeResidencia</th>\n",
              "      <th>RegiaodoPais</th>\n",
              "      <th>NumeroComprasOnline</th>\n",
              "    </tr>\n",
              "  </thead>\n",
              "  <tbody>\n",
              "    <tr>\n",
              "      <th>0</th>\n",
              "      <td>1</td>\n",
              "      <td>0</td>\n",
              "      <td>3</td>\n",
              "      <td>homem</td>\n",
              "      <td>22</td>\n",
              "      <td>1</td>\n",
              "      <td>7250.0</td>\n",
              "      <td>517.857143</td>\n",
              "      <td>604.166667</td>\n",
              "      <td>MG</td>\n",
              "      <td>Morada Nova de Minas</td>\n",
              "      <td>Região Sudeste</td>\n",
              "      <td>54.924242</td>\n",
              "    </tr>\n",
              "    <tr>\n",
              "      <th>1</th>\n",
              "      <td>2</td>\n",
              "      <td>1</td>\n",
              "      <td>1</td>\n",
              "      <td>mulher</td>\n",
              "      <td>38</td>\n",
              "      <td>1</td>\n",
              "      <td>71283.0</td>\n",
              "      <td>5091.642857</td>\n",
              "      <td>5940.250000</td>\n",
              "      <td>RN</td>\n",
              "      <td>Marcelino Vieira</td>\n",
              "      <td>Região Nordeste</td>\n",
              "      <td>312.644737</td>\n",
              "    </tr>\n",
              "    <tr>\n",
              "      <th>2</th>\n",
              "      <td>3</td>\n",
              "      <td>1</td>\n",
              "      <td>3</td>\n",
              "      <td>mulher</td>\n",
              "      <td>26</td>\n",
              "      <td>0</td>\n",
              "      <td>7925.0</td>\n",
              "      <td>566.071429</td>\n",
              "      <td>660.416667</td>\n",
              "      <td>PR</td>\n",
              "      <td>Agudos do Sul</td>\n",
              "      <td>Região Sul</td>\n",
              "      <td>50.801282</td>\n",
              "    </tr>\n",
              "    <tr>\n",
              "      <th>3</th>\n",
              "      <td>4</td>\n",
              "      <td>1</td>\n",
              "      <td>1</td>\n",
              "      <td>mulher</td>\n",
              "      <td>35</td>\n",
              "      <td>1</td>\n",
              "      <td>531.0</td>\n",
              "      <td>37.928571</td>\n",
              "      <td>44.250000</td>\n",
              "      <td>PR</td>\n",
              "      <td>Congonhinhas</td>\n",
              "      <td>Região Sul</td>\n",
              "      <td>2.528571</td>\n",
              "    </tr>\n",
              "    <tr>\n",
              "      <th>4</th>\n",
              "      <td>5</td>\n",
              "      <td>0</td>\n",
              "      <td>3</td>\n",
              "      <td>homem</td>\n",
              "      <td>35</td>\n",
              "      <td>0</td>\n",
              "      <td>805.0</td>\n",
              "      <td>57.500000</td>\n",
              "      <td>67.083333</td>\n",
              "      <td>BA</td>\n",
              "      <td>Morpará</td>\n",
              "      <td>Região Nordeste</td>\n",
              "      <td>3.833333</td>\n",
              "    </tr>\n",
              "  </tbody>\n",
              "</table>\n",
              "</div>"
            ],
            "text/plain": [
              "   ID  Target  ...     RegiaodoPais NumeroComprasOnline\n",
              "0   1       0  ...   Região Sudeste           54.924242\n",
              "1   2       1  ...  Região Nordeste          312.644737\n",
              "2   3       1  ...       Região Sul           50.801282\n",
              "3   4       1  ...       Região Sul            2.528571\n",
              "4   5       0  ...  Região Nordeste            3.833333\n",
              "\n",
              "[5 rows x 13 columns]"
            ]
          },
          "metadata": {
            "tags": []
          },
          "execution_count": 14
        }
      ]
    },
    {
      "cell_type": "code",
      "metadata": {
        "id": "hqXNid_MnYGL"
      },
      "source": [
        "#Listar arquivos do diretório\n",
        "#os.listdir()"
      ],
      "execution_count": 15,
      "outputs": []
    },
    {
      "cell_type": "markdown",
      "metadata": {
        "id": "uUToEv9-npOj"
      },
      "source": [
        "Python é uma linguagem orientada a objetos: OOP.\n",
        "\n",
        "Tem objetos, atributos, métodos, ações...\n",
        "\n",
        "- atributos não tem parênteses\n",
        "- método tem parênteses\n"
      ]
    },
    {
      "cell_type": "markdown",
      "metadata": {
        "id": "vKl3LJ8Tn8lj"
      },
      "source": [
        "Atalhos Google Colab:\n",
        "- `ctrl + ;` (Comenta linhas selecionadas)\n",
        "- `ctrl + d` (Seleciona variáveis com mesmo nome)\n",
        "- "
      ]
    },
    {
      "cell_type": "code",
      "metadata": {
        "colab": {
          "base_uri": "https://localhost:8080/"
        },
        "id": "PHjNvKBRnmmA",
        "outputId": "ca07ee96-3f37-41f7-a107-ec7bc671c08c"
      },
      "source": [
        "#Tipo de dados\n",
        "type(df)"
      ],
      "execution_count": 16,
      "outputs": [
        {
          "output_type": "execute_result",
          "data": {
            "text/plain": [
              "pandas.core.frame.DataFrame"
            ]
          },
          "metadata": {
            "tags": []
          },
          "execution_count": 16
        }
      ]
    },
    {
      "cell_type": "code",
      "metadata": {
        "colab": {
          "base_uri": "https://localhost:8080/"
        },
        "id": "Z78MN1DGn_x-",
        "outputId": "b5c5f23d-9236-4fd5-cc94-fac381343280"
      },
      "source": [
        "#Número de valores únicos\n",
        "#df.ID.nunique()\n",
        "df['ID'].nunique()\n",
        "\n",
        "#Coluna inútil, nunique = rows do df, logo é igual ao index\n",
        "#podemos excluí-la sem prejuízos"
      ],
      "execution_count": 17,
      "outputs": [
        {
          "output_type": "execute_result",
          "data": {
            "text/plain": [
              "891"
            ]
          },
          "metadata": {
            "tags": []
          },
          "execution_count": 17
        }
      ]
    },
    {
      "cell_type": "markdown",
      "metadata": {
        "id": "-YyQfFzcrPLZ"
      },
      "source": [
        "`axis=1` coluna  \n",
        "`axis=0` linha "
      ]
    },
    {
      "cell_type": "code",
      "metadata": {
        "colab": {
          "base_uri": "https://localhost:8080/",
          "height": 202
        },
        "id": "SmMEbxzXqfBu",
        "outputId": "9cdeadf3-a453-48e0-8119-168f87356018"
      },
      "source": [
        "#Para excluir uma coluna, parâmetros: 'coluna', axis=1 (coluna) 0 (linha), inplace=true atualiza:\n",
        "#df.drop('ID', axis=1, inplace=True) ou \n",
        "df.drop(columns='ID', inplace=True)\n",
        "df.head()"
      ],
      "execution_count": 18,
      "outputs": [
        {
          "output_type": "execute_result",
          "data": {
            "text/html": [
              "<div>\n",
              "<style scoped>\n",
              "    .dataframe tbody tr th:only-of-type {\n",
              "        vertical-align: middle;\n",
              "    }\n",
              "\n",
              "    .dataframe tbody tr th {\n",
              "        vertical-align: top;\n",
              "    }\n",
              "\n",
              "    .dataframe thead th {\n",
              "        text-align: right;\n",
              "    }\n",
              "</style>\n",
              "<table border=\"1\" class=\"dataframe\">\n",
              "  <thead>\n",
              "    <tr style=\"text-align: right;\">\n",
              "      <th></th>\n",
              "      <th>Target</th>\n",
              "      <th>GrupoEconomico</th>\n",
              "      <th>Sexo</th>\n",
              "      <th>Idade</th>\n",
              "      <th>GrupoRisco</th>\n",
              "      <th>ValorCompraAnual</th>\n",
              "      <th>GastoMax</th>\n",
              "      <th>GastoMedio</th>\n",
              "      <th>UF</th>\n",
              "      <th>CidadeResidencia</th>\n",
              "      <th>RegiaodoPais</th>\n",
              "      <th>NumeroComprasOnline</th>\n",
              "    </tr>\n",
              "  </thead>\n",
              "  <tbody>\n",
              "    <tr>\n",
              "      <th>0</th>\n",
              "      <td>0</td>\n",
              "      <td>3</td>\n",
              "      <td>homem</td>\n",
              "      <td>22</td>\n",
              "      <td>1</td>\n",
              "      <td>7250.0</td>\n",
              "      <td>517.857143</td>\n",
              "      <td>604.166667</td>\n",
              "      <td>MG</td>\n",
              "      <td>Morada Nova de Minas</td>\n",
              "      <td>Região Sudeste</td>\n",
              "      <td>54.924242</td>\n",
              "    </tr>\n",
              "    <tr>\n",
              "      <th>1</th>\n",
              "      <td>1</td>\n",
              "      <td>1</td>\n",
              "      <td>mulher</td>\n",
              "      <td>38</td>\n",
              "      <td>1</td>\n",
              "      <td>71283.0</td>\n",
              "      <td>5091.642857</td>\n",
              "      <td>5940.250000</td>\n",
              "      <td>RN</td>\n",
              "      <td>Marcelino Vieira</td>\n",
              "      <td>Região Nordeste</td>\n",
              "      <td>312.644737</td>\n",
              "    </tr>\n",
              "    <tr>\n",
              "      <th>2</th>\n",
              "      <td>1</td>\n",
              "      <td>3</td>\n",
              "      <td>mulher</td>\n",
              "      <td>26</td>\n",
              "      <td>0</td>\n",
              "      <td>7925.0</td>\n",
              "      <td>566.071429</td>\n",
              "      <td>660.416667</td>\n",
              "      <td>PR</td>\n",
              "      <td>Agudos do Sul</td>\n",
              "      <td>Região Sul</td>\n",
              "      <td>50.801282</td>\n",
              "    </tr>\n",
              "    <tr>\n",
              "      <th>3</th>\n",
              "      <td>1</td>\n",
              "      <td>1</td>\n",
              "      <td>mulher</td>\n",
              "      <td>35</td>\n",
              "      <td>1</td>\n",
              "      <td>531.0</td>\n",
              "      <td>37.928571</td>\n",
              "      <td>44.250000</td>\n",
              "      <td>PR</td>\n",
              "      <td>Congonhinhas</td>\n",
              "      <td>Região Sul</td>\n",
              "      <td>2.528571</td>\n",
              "    </tr>\n",
              "    <tr>\n",
              "      <th>4</th>\n",
              "      <td>0</td>\n",
              "      <td>3</td>\n",
              "      <td>homem</td>\n",
              "      <td>35</td>\n",
              "      <td>0</td>\n",
              "      <td>805.0</td>\n",
              "      <td>57.500000</td>\n",
              "      <td>67.083333</td>\n",
              "      <td>BA</td>\n",
              "      <td>Morpará</td>\n",
              "      <td>Região Nordeste</td>\n",
              "      <td>3.833333</td>\n",
              "    </tr>\n",
              "  </tbody>\n",
              "</table>\n",
              "</div>"
            ],
            "text/plain": [
              "   Target  GrupoEconomico  ...     RegiaodoPais  NumeroComprasOnline\n",
              "0       0               3  ...   Região Sudeste            54.924242\n",
              "1       1               1  ...  Região Nordeste           312.644737\n",
              "2       1               3  ...       Região Sul            50.801282\n",
              "3       1               1  ...       Região Sul             2.528571\n",
              "4       0               3  ...  Região Nordeste             3.833333\n",
              "\n",
              "[5 rows x 12 columns]"
            ]
          },
          "metadata": {
            "tags": []
          },
          "execution_count": 18
        }
      ]
    },
    {
      "cell_type": "code",
      "metadata": {
        "colab": {
          "base_uri": "https://localhost:8080/"
        },
        "id": "OXcvG9B-reT6",
        "outputId": "d75170e8-e5a6-4f05-9d3b-2646a491743c"
      },
      "source": [
        "#Checa se é nulo\n",
        "df.isna()\n",
        "#Soma os nulos, por coluna:\n",
        "df.isna().sum()\n",
        "#Soma os nulos, por linha:\n",
        "df.isna().sum(axis=1)"
      ],
      "execution_count": 19,
      "outputs": [
        {
          "output_type": "execute_result",
          "data": {
            "text/plain": [
              "0      0\n",
              "1      0\n",
              "2      0\n",
              "3      0\n",
              "4      0\n",
              "      ..\n",
              "886    0\n",
              "887    0\n",
              "888    0\n",
              "889    0\n",
              "890    0\n",
              "Length: 891, dtype: int64"
            ]
          },
          "metadata": {
            "tags": []
          },
          "execution_count": 19
        }
      ]
    },
    {
      "cell_type": "code",
      "metadata": {
        "colab": {
          "base_uri": "https://localhost:8080/",
          "height": 908
        },
        "id": "VqFw5NuMr6rZ",
        "outputId": "ed0b02c1-1615-4a3c-9dff-e3270bc9a6b5"
      },
      "source": [
        "#filtro somentes as linhas onde ValorCompraAnual é nulo\n",
        "df[df['ValorCompraAnual'].isna()] "
      ],
      "execution_count": 20,
      "outputs": [
        {
          "output_type": "execute_result",
          "data": {
            "text/html": [
              "<div>\n",
              "<style scoped>\n",
              "    .dataframe tbody tr th:only-of-type {\n",
              "        vertical-align: middle;\n",
              "    }\n",
              "\n",
              "    .dataframe tbody tr th {\n",
              "        vertical-align: top;\n",
              "    }\n",
              "\n",
              "    .dataframe thead th {\n",
              "        text-align: right;\n",
              "    }\n",
              "</style>\n",
              "<table border=\"1\" class=\"dataframe\">\n",
              "  <thead>\n",
              "    <tr style=\"text-align: right;\">\n",
              "      <th></th>\n",
              "      <th>Target</th>\n",
              "      <th>GrupoEconomico</th>\n",
              "      <th>Sexo</th>\n",
              "      <th>Idade</th>\n",
              "      <th>GrupoRisco</th>\n",
              "      <th>ValorCompraAnual</th>\n",
              "      <th>GastoMax</th>\n",
              "      <th>GastoMedio</th>\n",
              "      <th>UF</th>\n",
              "      <th>CidadeResidencia</th>\n",
              "      <th>RegiaodoPais</th>\n",
              "      <th>NumeroComprasOnline</th>\n",
              "    </tr>\n",
              "  </thead>\n",
              "  <tbody>\n",
              "    <tr>\n",
              "      <th>236</th>\n",
              "      <td>0</td>\n",
              "      <td>2</td>\n",
              "      <td>homem</td>\n",
              "      <td>44</td>\n",
              "      <td>1</td>\n",
              "      <td>NaN</td>\n",
              "      <td>1.857143</td>\n",
              "      <td>2.166667</td>\n",
              "      <td>GO</td>\n",
              "      <td>Abadiânia</td>\n",
              "      <td>Região Centro-Oeste</td>\n",
              "      <td>0.098485</td>\n",
              "    </tr>\n",
              "    <tr>\n",
              "      <th>237</th>\n",
              "      <td>1</td>\n",
              "      <td>2</td>\n",
              "      <td>mulher</td>\n",
              "      <td>44</td>\n",
              "      <td>0</td>\n",
              "      <td>NaN</td>\n",
              "      <td>187.500000</td>\n",
              "      <td>218.750000</td>\n",
              "      <td>GO</td>\n",
              "      <td>Crixás</td>\n",
              "      <td>Região Centro-Oeste</td>\n",
              "      <td>54.687500</td>\n",
              "    </tr>\n",
              "    <tr>\n",
              "      <th>238</th>\n",
              "      <td>0</td>\n",
              "      <td>2</td>\n",
              "      <td>homem</td>\n",
              "      <td>19</td>\n",
              "      <td>0</td>\n",
              "      <td>NaN</td>\n",
              "      <td>7.500000</td>\n",
              "      <td>8.750000</td>\n",
              "      <td>PE</td>\n",
              "      <td>Joaquim Nabuco</td>\n",
              "      <td>Região Nordeste</td>\n",
              "      <td>0.921053</td>\n",
              "    </tr>\n",
              "    <tr>\n",
              "      <th>239</th>\n",
              "      <td>0</td>\n",
              "      <td>2</td>\n",
              "      <td>homem</td>\n",
              "      <td>33</td>\n",
              "      <td>0</td>\n",
              "      <td>NaN</td>\n",
              "      <td>876.785714</td>\n",
              "      <td>1022.916667</td>\n",
              "      <td>SP</td>\n",
              "      <td>Elias Fausto</td>\n",
              "      <td>Região Sudeste</td>\n",
              "      <td>61.994949</td>\n",
              "    </tr>\n",
              "    <tr>\n",
              "      <th>240</th>\n",
              "      <td>0</td>\n",
              "      <td>3</td>\n",
              "      <td>mulher</td>\n",
              "      <td>22</td>\n",
              "      <td>1</td>\n",
              "      <td>NaN</td>\n",
              "      <td>10324.428571</td>\n",
              "      <td>12045.166667</td>\n",
              "      <td>PR</td>\n",
              "      <td>Terra Boa</td>\n",
              "      <td>Região Sul</td>\n",
              "      <td>1095.015152</td>\n",
              "    </tr>\n",
              "    <tr>\n",
              "      <th>241</th>\n",
              "      <td>1</td>\n",
              "      <td>3</td>\n",
              "      <td>mulher</td>\n",
              "      <td>22</td>\n",
              "      <td>1</td>\n",
              "      <td>NaN</td>\n",
              "      <td>11.071429</td>\n",
              "      <td>12.916667</td>\n",
              "      <td>BA</td>\n",
              "      <td>Ibicuí</td>\n",
              "      <td>Região Nordeste</td>\n",
              "      <td>1.174242</td>\n",
              "    </tr>\n",
              "    <tr>\n",
              "      <th>242</th>\n",
              "      <td>0</td>\n",
              "      <td>2</td>\n",
              "      <td>homem</td>\n",
              "      <td>29</td>\n",
              "      <td>0</td>\n",
              "      <td>NaN</td>\n",
              "      <td>7.500000</td>\n",
              "      <td>8.750000</td>\n",
              "      <td>ES</td>\n",
              "      <td>João Neiva</td>\n",
              "      <td>Região Sudeste</td>\n",
              "      <td>0.603448</td>\n",
              "    </tr>\n",
              "    <tr>\n",
              "      <th>243</th>\n",
              "      <td>0</td>\n",
              "      <td>3</td>\n",
              "      <td>homem</td>\n",
              "      <td>22</td>\n",
              "      <td>0</td>\n",
              "      <td>NaN</td>\n",
              "      <td>508.928571</td>\n",
              "      <td>593.750000</td>\n",
              "      <td>PE</td>\n",
              "      <td>Jataúba</td>\n",
              "      <td>Região Nordeste</td>\n",
              "      <td>53.977273</td>\n",
              "    </tr>\n",
              "    <tr>\n",
              "      <th>244</th>\n",
              "      <td>0</td>\n",
              "      <td>3</td>\n",
              "      <td>homem</td>\n",
              "      <td>30</td>\n",
              "      <td>0</td>\n",
              "      <td>NaN</td>\n",
              "      <td>516.071429</td>\n",
              "      <td>602.083333</td>\n",
              "      <td>MG</td>\n",
              "      <td>Tocantins</td>\n",
              "      <td>Região Sudeste</td>\n",
              "      <td>40.138889</td>\n",
              "    </tr>\n",
              "    <tr>\n",
              "      <th>245</th>\n",
              "      <td>0</td>\n",
              "      <td>1</td>\n",
              "      <td>homem</td>\n",
              "      <td>44</td>\n",
              "      <td>2</td>\n",
              "      <td>NaN</td>\n",
              "      <td>6.428571</td>\n",
              "      <td>7.500000</td>\n",
              "      <td>SE</td>\n",
              "      <td>Indiaroba</td>\n",
              "      <td>Região Nordeste</td>\n",
              "      <td>0.340909</td>\n",
              "    </tr>\n",
              "    <tr>\n",
              "      <th>246</th>\n",
              "      <td>0</td>\n",
              "      <td>3</td>\n",
              "      <td>mulher</td>\n",
              "      <td>25</td>\n",
              "      <td>0</td>\n",
              "      <td>NaN</td>\n",
              "      <td>555.357143</td>\n",
              "      <td>647.916667</td>\n",
              "      <td>RN</td>\n",
              "      <td>São Paulo do Potengi</td>\n",
              "      <td>Região Nordeste</td>\n",
              "      <td>51.833333</td>\n",
              "    </tr>\n",
              "    <tr>\n",
              "      <th>247</th>\n",
              "      <td>1</td>\n",
              "      <td>2</td>\n",
              "      <td>mulher</td>\n",
              "      <td>24</td>\n",
              "      <td>0</td>\n",
              "      <td>NaN</td>\n",
              "      <td>10.357143</td>\n",
              "      <td>12.083333</td>\n",
              "      <td>PA</td>\n",
              "      <td>Aveiro</td>\n",
              "      <td>Região Norte</td>\n",
              "      <td>1.006944</td>\n",
              "    </tr>\n",
              "    <tr>\n",
              "      <th>248</th>\n",
              "      <td>1</td>\n",
              "      <td>1</td>\n",
              "      <td>homem</td>\n",
              "      <td>37</td>\n",
              "      <td>1</td>\n",
              "      <td>NaN</td>\n",
              "      <td>37538.714286</td>\n",
              "      <td>43795.166667</td>\n",
              "      <td>RS</td>\n",
              "      <td>Restinga Seca</td>\n",
              "      <td>Região Sul</td>\n",
              "      <td>2367.306306</td>\n",
              "    </tr>\n",
              "    <tr>\n",
              "      <th>249</th>\n",
              "      <td>0</td>\n",
              "      <td>2</td>\n",
              "      <td>homem</td>\n",
              "      <td>54</td>\n",
              "      <td>1</td>\n",
              "      <td>NaN</td>\n",
              "      <td>1.857143</td>\n",
              "      <td>2.166667</td>\n",
              "      <td>RO</td>\n",
              "      <td>Cujubim</td>\n",
              "      <td>Região Norte</td>\n",
              "      <td>0.080247</td>\n",
              "    </tr>\n",
              "    <tr>\n",
              "      <th>250</th>\n",
              "      <td>0</td>\n",
              "      <td>3</td>\n",
              "      <td>homem</td>\n",
              "      <td>22</td>\n",
              "      <td>0</td>\n",
              "      <td>NaN</td>\n",
              "      <td>51.785714</td>\n",
              "      <td>60.416667</td>\n",
              "      <td>MG</td>\n",
              "      <td>Montalvânia</td>\n",
              "      <td>Região Sudeste</td>\n",
              "      <td>5.492424</td>\n",
              "    </tr>\n",
              "    <tr>\n",
              "      <th>251</th>\n",
              "      <td>0</td>\n",
              "      <td>3</td>\n",
              "      <td>mulher</td>\n",
              "      <td>29</td>\n",
              "      <td>1</td>\n",
              "      <td>NaN</td>\n",
              "      <td>7473.214286</td>\n",
              "      <td>8718.750000</td>\n",
              "      <td>PR</td>\n",
              "      <td>Bituruna</td>\n",
              "      <td>Região Sul</td>\n",
              "      <td>601.293103</td>\n",
              "    </tr>\n",
              "    <tr>\n",
              "      <th>252</th>\n",
              "      <td>0</td>\n",
              "      <td>1</td>\n",
              "      <td>homem</td>\n",
              "      <td>62</td>\n",
              "      <td>0</td>\n",
              "      <td>NaN</td>\n",
              "      <td>189.642857</td>\n",
              "      <td>221.250000</td>\n",
              "      <td>PR</td>\n",
              "      <td>Contenda</td>\n",
              "      <td>Região Sul</td>\n",
              "      <td>7.137097</td>\n",
              "    </tr>\n",
              "    <tr>\n",
              "      <th>299</th>\n",
              "      <td>1</td>\n",
              "      <td>1</td>\n",
              "      <td>mulher</td>\n",
              "      <td>50</td>\n",
              "      <td>0</td>\n",
              "      <td>NaN</td>\n",
              "      <td>176800.571429</td>\n",
              "      <td>206267.333333</td>\n",
              "      <td>BA</td>\n",
              "      <td>Tapiramutá</td>\n",
              "      <td>Região Nordeste</td>\n",
              "      <td>8250.693333</td>\n",
              "    </tr>\n",
              "    <tr>\n",
              "      <th>300</th>\n",
              "      <td>1</td>\n",
              "      <td>3</td>\n",
              "      <td>mulher</td>\n",
              "      <td>22</td>\n",
              "      <td>0</td>\n",
              "      <td>NaN</td>\n",
              "      <td>55.357143</td>\n",
              "      <td>64.583333</td>\n",
              "      <td>SE</td>\n",
              "      <td>Cristinápolis</td>\n",
              "      <td>Região Nordeste</td>\n",
              "      <td>5.871212</td>\n",
              "    </tr>\n",
              "    <tr>\n",
              "      <th>301</th>\n",
              "      <td>1</td>\n",
              "      <td>3</td>\n",
              "      <td>homem</td>\n",
              "      <td>22</td>\n",
              "      <td>2</td>\n",
              "      <td>NaN</td>\n",
              "      <td>166.071429</td>\n",
              "      <td>193.750000</td>\n",
              "      <td>BA</td>\n",
              "      <td>Sapeaçu</td>\n",
              "      <td>Região Nordeste</td>\n",
              "      <td>17.613636</td>\n",
              "    </tr>\n",
              "    <tr>\n",
              "      <th>302</th>\n",
              "      <td>0</td>\n",
              "      <td>3</td>\n",
              "      <td>homem</td>\n",
              "      <td>19</td>\n",
              "      <td>0</td>\n",
              "      <td>NaN</td>\n",
              "      <td>0.000000</td>\n",
              "      <td>0.000000</td>\n",
              "      <td>RJ</td>\n",
              "      <td>Porto Real</td>\n",
              "      <td>Região Sudeste</td>\n",
              "      <td>0.000000</td>\n",
              "    </tr>\n",
              "    <tr>\n",
              "      <th>303</th>\n",
              "      <td>1</td>\n",
              "      <td>2</td>\n",
              "      <td>mulher</td>\n",
              "      <td>22</td>\n",
              "      <td>0</td>\n",
              "      <td>NaN</td>\n",
              "      <td>88.214286</td>\n",
              "      <td>102.916667</td>\n",
              "      <td>MA</td>\n",
              "      <td>Bacuri</td>\n",
              "      <td>Região Nordeste</td>\n",
              "      <td>9.356061</td>\n",
              "    </tr>\n",
              "    <tr>\n",
              "      <th>304</th>\n",
              "      <td>0</td>\n",
              "      <td>3</td>\n",
              "      <td>homem</td>\n",
              "      <td>22</td>\n",
              "      <td>0</td>\n",
              "      <td>NaN</td>\n",
              "      <td>57.500000</td>\n",
              "      <td>67.083333</td>\n",
              "      <td>SP</td>\n",
              "      <td>Cafelândia</td>\n",
              "      <td>Região Sudeste</td>\n",
              "      <td>6.098485</td>\n",
              "    </tr>\n",
              "    <tr>\n",
              "      <th>305</th>\n",
              "      <td>1</td>\n",
              "      <td>1</td>\n",
              "      <td>homem</td>\n",
              "      <td>92</td>\n",
              "      <td>1</td>\n",
              "      <td>NaN</td>\n",
              "      <td>1082.500000</td>\n",
              "      <td>1262.916667</td>\n",
              "      <td>RS</td>\n",
              "      <td>Tapes</td>\n",
              "      <td>Região Sul</td>\n",
              "      <td>27.454710</td>\n",
              "    </tr>\n",
              "    <tr>\n",
              "      <th>306</th>\n",
              "      <td>1</td>\n",
              "      <td>1</td>\n",
              "      <td>mulher</td>\n",
              "      <td>22</td>\n",
              "      <td>0</td>\n",
              "      <td>NaN</td>\n",
              "      <td>79202.357143</td>\n",
              "      <td>92402.750000</td>\n",
              "      <td>PR</td>\n",
              "      <td>Cândido de Abreu</td>\n",
              "      <td>Região Sul</td>\n",
              "      <td>8400.250000</td>\n",
              "    </tr>\n",
              "    <tr>\n",
              "      <th>307</th>\n",
              "      <td>1</td>\n",
              "      <td>1</td>\n",
              "      <td>mulher</td>\n",
              "      <td>17</td>\n",
              "      <td>1</td>\n",
              "      <td>NaN</td>\n",
              "      <td>77.785714</td>\n",
              "      <td>90.750000</td>\n",
              "      <td>CE</td>\n",
              "      <td>Monsenhor Tabosa</td>\n",
              "      <td>Região Nordeste</td>\n",
              "      <td>10.676471</td>\n",
              "    </tr>\n",
              "    <tr>\n",
              "      <th>308</th>\n",
              "      <td>0</td>\n",
              "      <td>2</td>\n",
              "      <td>homem</td>\n",
              "      <td>30</td>\n",
              "      <td>1</td>\n",
              "      <td>NaN</td>\n",
              "      <td>1.714286</td>\n",
              "      <td>2.000000</td>\n",
              "      <td>MG</td>\n",
              "      <td>Ipaba</td>\n",
              "      <td>Região Sudeste</td>\n",
              "      <td>0.133333</td>\n",
              "    </tr>\n",
              "    <tr>\n",
              "      <th>309</th>\n",
              "      <td>1</td>\n",
              "      <td>1</td>\n",
              "      <td>mulher</td>\n",
              "      <td>30</td>\n",
              "      <td>0</td>\n",
              "      <td>NaN</td>\n",
              "      <td>40663.714286</td>\n",
              "      <td>47441.000000</td>\n",
              "      <td>BA</td>\n",
              "      <td>Nova Canaã</td>\n",
              "      <td>Região Nordeste</td>\n",
              "      <td>3162.733333</td>\n",
              "    </tr>\n",
              "  </tbody>\n",
              "</table>\n",
              "</div>"
            ],
            "text/plain": [
              "     Target  GrupoEconomico  ...         RegiaodoPais  NumeroComprasOnline\n",
              "236       0               2  ...  Região Centro-Oeste             0.098485\n",
              "237       1               2  ...  Região Centro-Oeste            54.687500\n",
              "238       0               2  ...      Região Nordeste             0.921053\n",
              "239       0               2  ...       Região Sudeste            61.994949\n",
              "240       0               3  ...           Região Sul          1095.015152\n",
              "241       1               3  ...      Região Nordeste             1.174242\n",
              "242       0               2  ...       Região Sudeste             0.603448\n",
              "243       0               3  ...      Região Nordeste            53.977273\n",
              "244       0               3  ...       Região Sudeste            40.138889\n",
              "245       0               1  ...      Região Nordeste             0.340909\n",
              "246       0               3  ...      Região Nordeste            51.833333\n",
              "247       1               2  ...         Região Norte             1.006944\n",
              "248       1               1  ...           Região Sul          2367.306306\n",
              "249       0               2  ...         Região Norte             0.080247\n",
              "250       0               3  ...       Região Sudeste             5.492424\n",
              "251       0               3  ...           Região Sul           601.293103\n",
              "252       0               1  ...           Região Sul             7.137097\n",
              "299       1               1  ...      Região Nordeste          8250.693333\n",
              "300       1               3  ...      Região Nordeste             5.871212\n",
              "301       1               3  ...      Região Nordeste            17.613636\n",
              "302       0               3  ...       Região Sudeste             0.000000\n",
              "303       1               2  ...      Região Nordeste             9.356061\n",
              "304       0               3  ...       Região Sudeste             6.098485\n",
              "305       1               1  ...           Região Sul            27.454710\n",
              "306       1               1  ...           Região Sul          8400.250000\n",
              "307       1               1  ...      Região Nordeste            10.676471\n",
              "308       0               2  ...       Região Sudeste             0.133333\n",
              "309       1               1  ...      Região Nordeste          3162.733333\n",
              "\n",
              "[28 rows x 12 columns]"
            ]
          },
          "metadata": {
            "tags": []
          },
          "execution_count": 20
        }
      ]
    },
    {
      "cell_type": "code",
      "metadata": {
        "colab": {
          "base_uri": "https://localhost:8080/"
        },
        "id": "4ph5kuj8sPAe",
        "outputId": "314730ba-b57c-4a4e-f8be-18f4e7a1cf74"
      },
      "source": [
        "#Apagar as linhas que contem dados nulos nan\n",
        "df.dropna(inplace=True)\n",
        "df.shape"
      ],
      "execution_count": 21,
      "outputs": [
        {
          "output_type": "execute_result",
          "data": {
            "text/plain": [
              "(863, 12)"
            ]
          },
          "metadata": {
            "tags": []
          },
          "execution_count": 21
        }
      ]
    },
    {
      "cell_type": "code",
      "metadata": {
        "colab": {
          "base_uri": "https://localhost:8080/"
        },
        "id": "iC7AQSSHrkMP",
        "outputId": "ef6b7ae2-171a-476b-9633-ce26c0a06f88"
      },
      "source": [
        "#Imprime frequência dos valores da variável 'Target'\n",
        "#df['Target'].value_count() ou \n",
        "df.Target.value_counts()"
      ],
      "execution_count": 28,
      "outputs": [
        {
          "output_type": "execute_result",
          "data": {
            "text/plain": [
              "0    533\n",
              "1    330\n",
              "Name: Target, dtype: int64"
            ]
          },
          "metadata": {
            "tags": []
          },
          "execution_count": 28
        }
      ]
    },
    {
      "cell_type": "markdown",
      "metadata": {
        "id": "rFTudYGVsQMX"
      },
      "source": [
        "#Análise Exploratória dos Dados (EDA)"
      ]
    },
    {
      "cell_type": "code",
      "metadata": {
        "colab": {
          "base_uri": "https://localhost:8080/",
          "height": 244
        },
        "id": "HMfEt1TasUO9",
        "outputId": "b9203ad1-c590-4ff4-cc1d-d6008f74fe67"
      },
      "source": [
        "#Plotar gráfico de barras horizontais com a frequencia dos valores de Target\n",
        "df['Target'].value_counts().plot(kind='barh', title ='Frequência da Target', figsize=(4,3))"
      ],
      "execution_count": 29,
      "outputs": [
        {
          "output_type": "execute_result",
          "data": {
            "text/plain": [
              "<matplotlib.axes._subplots.AxesSubplot at 0x7f9897964250>"
            ]
          },
          "metadata": {
            "tags": []
          },
          "execution_count": 29
        },
        {
          "output_type": "display_data",
          "data": {
            "image/png": "[encoded data removed]",
            "text/plain": [
              "<Figure size 288x216 with 1 Axes>"
            ]
          },
          "metadata": {
            "tags": [],
            "needs_background": "light"
          }
        }
      ]
    },
    {
      "cell_type": "code",
      "metadata": {
        "id": "qvZl8dWHsn-D"
      },
      "source": [
        "import matplotlib.pyplot as plt\n",
        "import seaborn as sns"
      ],
      "execution_count": 31,
      "outputs": []
    },
    {
      "cell_type": "markdown",
      "metadata": {
        "id": "wiWnAIcQsw_r"
      },
      "source": [
        "- **Diferenças entre bibliotecas de visualização de dados**\n",
        "    - `plot do pandas`: enxuto e simples\n",
        "    - `matplotlib`: complexo e menos conciso\n",
        "    - `seaborn`: mais voltado pra estatística"
      ]
    },
    {
      "cell_type": "code",
      "metadata": {
        "colab": {
          "base_uri": "https://localhost:8080/",
          "height": 302
        },
        "id": "HeptdZpjsy0y",
        "outputId": "37ac1fe1-7cb0-4241-e1f4-4ad4b2238118"
      },
      "source": [
        "#Plota gráfico de barras verticais da frequencia do Target\n",
        "sns.set()\n",
        "sns.countplot(data=df, x = 'Target')"
      ],
      "execution_count": 33,
      "outputs": [
        {
          "output_type": "execute_result",
          "data": {
            "text/plain": [
              "<matplotlib.axes._subplots.AxesSubplot at 0x7f9888cf3e50>"
            ]
          },
          "metadata": {
            "tags": []
          },
          "execution_count": 33
        },
        {
          "output_type": "display_data",
          "data": {
            "image/png": "[encoded data removed]",
            "text/plain": [
              "<Figure size 432x288 with 1 Axes>"
            ]
          },
          "metadata": {
            "tags": []
          }
        }
      ]
    },
    {
      "cell_type": "code",
      "metadata": {
        "colab": {
          "base_uri": "https://localhost:8080/",
          "height": 301
        },
        "id": "2gm-c3EatADC",
        "outputId": "e532fb49-7c86-47c3-f69f-de85c6992d53"
      },
      "source": [
        "#Plota distribuição da idade, bins numero de retangulos, grid quadradinhos no fundo do grafico\n",
        "df['Idade'].hist(bins=50, grid=False)\n",
        "plt.title('Distribuição da idade')\n"
      ],
      "execution_count": 36,
      "outputs": [
        {
          "output_type": "execute_result",
          "data": {
            "text/plain": [
              "Text(0.5, 1.0, 'Distribuição da idade')"
            ]
          },
          "metadata": {
            "tags": []
          },
          "execution_count": 36
        },
        {
          "output_type": "display_data",
          "data": {
            "image/png": "[encoded data removed]",
            "text/plain": [
              "<Figure size 432x288 with 1 Axes>"
            ]
          },
          "metadata": {
            "tags": []
          }
        }
      ]
    },
    {
      "cell_type": "code",
      "metadata": {
        "colab": {
          "base_uri": "https://localhost:8080/",
          "height": 202
        },
        "id": "f1Iut3rntQWv",
        "outputId": "dea2aaed-5ff0-4196-8315-a9956d874829"
      },
      "source": [
        "df.head()"
      ],
      "execution_count": 37,
      "outputs": [
        {
          "output_type": "execute_result",
          "data": {
            "text/html": [
              "<div>\n",
              "<style scoped>\n",
              "    .dataframe tbody tr th:only-of-type {\n",
              "        vertical-align: middle;\n",
              "    }\n",
              "\n",
              "    .dataframe tbody tr th {\n",
              "        vertical-align: top;\n",
              "    }\n",
              "\n",
              "    .dataframe thead th {\n",
              "        text-align: right;\n",
              "    }\n",
              "</style>\n",
              "<table border=\"1\" class=\"dataframe\">\n",
              "  <thead>\n",
              "    <tr style=\"text-align: right;\">\n",
              "      <th></th>\n",
              "      <th>Target</th>\n",
              "      <th>GrupoEconomico</th>\n",
              "      <th>Sexo</th>\n",
              "      <th>Idade</th>\n",
              "      <th>GrupoRisco</th>\n",
              "      <th>ValorCompraAnual</th>\n",
              "      <th>GastoMax</th>\n",
              "      <th>GastoMedio</th>\n",
              "      <th>UF</th>\n",
              "      <th>CidadeResidencia</th>\n",
              "      <th>RegiaodoPais</th>\n",
              "      <th>NumeroComprasOnline</th>\n",
              "    </tr>\n",
              "  </thead>\n",
              "  <tbody>\n",
              "    <tr>\n",
              "      <th>0</th>\n",
              "      <td>0</td>\n",
              "      <td>3</td>\n",
              "      <td>homem</td>\n",
              "      <td>22</td>\n",
              "      <td>1</td>\n",
              "      <td>7250.0</td>\n",
              "      <td>517.857143</td>\n",
              "      <td>604.166667</td>\n",
              "      <td>MG</td>\n",
              "      <td>Morada Nova de Minas</td>\n",
              "      <td>Região Sudeste</td>\n",
              "      <td>54.924242</td>\n",
              "    </tr>\n",
              "    <tr>\n",
              "      <th>1</th>\n",
              "      <td>1</td>\n",
              "      <td>1</td>\n",
              "      <td>mulher</td>\n",
              "      <td>38</td>\n",
              "      <td>1</td>\n",
              "      <td>71283.0</td>\n",
              "      <td>5091.642857</td>\n",
              "      <td>5940.250000</td>\n",
              "      <td>RN</td>\n",
              "      <td>Marcelino Vieira</td>\n",
              "      <td>Região Nordeste</td>\n",
              "      <td>312.644737</td>\n",
              "    </tr>\n",
              "    <tr>\n",
              "      <th>2</th>\n",
              "      <td>1</td>\n",
              "      <td>3</td>\n",
              "      <td>mulher</td>\n",
              "      <td>26</td>\n",
              "      <td>0</td>\n",
              "      <td>7925.0</td>\n",
              "      <td>566.071429</td>\n",
              "      <td>660.416667</td>\n",
              "      <td>PR</td>\n",
              "      <td>Agudos do Sul</td>\n",
              "      <td>Região Sul</td>\n",
              "      <td>50.801282</td>\n",
              "    </tr>\n",
              "    <tr>\n",
              "      <th>3</th>\n",
              "      <td>1</td>\n",
              "      <td>1</td>\n",
              "      <td>mulher</td>\n",
              "      <td>35</td>\n",
              "      <td>1</td>\n",
              "      <td>531.0</td>\n",
              "      <td>37.928571</td>\n",
              "      <td>44.250000</td>\n",
              "      <td>PR</td>\n",
              "      <td>Congonhinhas</td>\n",
              "      <td>Região Sul</td>\n",
              "      <td>2.528571</td>\n",
              "    </tr>\n",
              "    <tr>\n",
              "      <th>4</th>\n",
              "      <td>0</td>\n",
              "      <td>3</td>\n",
              "      <td>homem</td>\n",
              "      <td>35</td>\n",
              "      <td>0</td>\n",
              "      <td>805.0</td>\n",
              "      <td>57.500000</td>\n",
              "      <td>67.083333</td>\n",
              "      <td>BA</td>\n",
              "      <td>Morpará</td>\n",
              "      <td>Região Nordeste</td>\n",
              "      <td>3.833333</td>\n",
              "    </tr>\n",
              "  </tbody>\n",
              "</table>\n",
              "</div>"
            ],
            "text/plain": [
              "   Target  GrupoEconomico  ...     RegiaodoPais  NumeroComprasOnline\n",
              "0       0               3  ...   Região Sudeste            54.924242\n",
              "1       1               1  ...  Região Nordeste           312.644737\n",
              "2       1               3  ...       Região Sul            50.801282\n",
              "3       1               1  ...       Região Sul             2.528571\n",
              "4       0               3  ...  Região Nordeste             3.833333\n",
              "\n",
              "[5 rows x 12 columns]"
            ]
          },
          "metadata": {
            "tags": []
          },
          "execution_count": 37
        }
      ]
    },
    {
      "cell_type": "code",
      "metadata": {
        "colab": {
          "base_uri": "https://localhost:8080/",
          "height": 302
        },
        "id": "PYA6SI62tS1-",
        "outputId": "61c03531-e45a-427c-9899-9ee8e384b0c5"
      },
      "source": [
        "#Plota gráfico de dispersão da idade pelo gasto medio filtrado por target\n",
        "sns.scatterplot(data=df, x='Idade', y='GastoMedio', hue=\"Target\")"
      ],
      "execution_count": 40,
      "outputs": [
        {
          "output_type": "execute_result",
          "data": {
            "text/plain": [
              "<matplotlib.axes._subplots.AxesSubplot at 0x7f98888e2950>"
            ]
          },
          "metadata": {
            "tags": []
          },
          "execution_count": 40
        },
        {
          "output_type": "display_data",
          "data": {
            "image/png": "[encoded data removed]",
            "text/plain": [
              "<Figure size 432x288 with 1 Axes>"
            ]
          },
          "metadata": {
            "tags": []
          }
        }
      ]
    },
    {
      "cell_type": "code",
      "metadata": {
        "colab": {
          "base_uri": "https://localhost:8080/",
          "height": 294
        },
        "id": "K5p0fvekuYzh",
        "outputId": "e2efdea8-eed6-411e-9e85-5536aeb1209d"
      },
      "source": [
        "#Estatistica descritiva, média, mediana, 1 quartil 3 quartil, contagem, min, max\n",
        "df.describe()"
      ],
      "execution_count": 42,
      "outputs": [
        {
          "output_type": "execute_result",
          "data": {
            "text/html": [
              "<div>\n",
              "<style scoped>\n",
              "    .dataframe tbody tr th:only-of-type {\n",
              "        vertical-align: middle;\n",
              "    }\n",
              "\n",
              "    .dataframe tbody tr th {\n",
              "        vertical-align: top;\n",
              "    }\n",
              "\n",
              "    .dataframe thead th {\n",
              "        text-align: right;\n",
              "    }\n",
              "</style>\n",
              "<table border=\"1\" class=\"dataframe\">\n",
              "  <thead>\n",
              "    <tr style=\"text-align: right;\">\n",
              "      <th></th>\n",
              "      <th>Target</th>\n",
              "      <th>GrupoEconomico</th>\n",
              "      <th>Idade</th>\n",
              "      <th>GrupoRisco</th>\n",
              "      <th>ValorCompraAnual</th>\n",
              "      <th>GastoMax</th>\n",
              "      <th>GastoMedio</th>\n",
              "      <th>NumeroComprasOnline</th>\n",
              "    </tr>\n",
              "  </thead>\n",
              "  <tbody>\n",
              "    <tr>\n",
              "      <th>count</th>\n",
              "      <td>863.000000</td>\n",
              "      <td>863.000000</td>\n",
              "      <td>863.000000</td>\n",
              "      <td>863.000000</td>\n",
              "      <td>8.630000e+02</td>\n",
              "      <td>863.000000</td>\n",
              "      <td>863.000000</td>\n",
              "      <td>8.630000e+02</td>\n",
              "    </tr>\n",
              "    <tr>\n",
              "      <th>mean</th>\n",
              "      <td>0.382387</td>\n",
              "      <td>2.315180</td>\n",
              "      <td>30.334878</td>\n",
              "      <td>0.524913</td>\n",
              "      <td>1.138834e+05</td>\n",
              "      <td>8134.529217</td>\n",
              "      <td>9490.284087</td>\n",
              "      <td>5.034897e+04</td>\n",
              "    </tr>\n",
              "    <tr>\n",
              "      <th>std</th>\n",
              "      <td>0.486252</td>\n",
              "      <td>0.835877</td>\n",
              "      <td>12.437044</td>\n",
              "      <td>1.114768</td>\n",
              "      <td>3.976690e+05</td>\n",
              "      <td>28404.926272</td>\n",
              "      <td>33139.080651</td>\n",
              "      <td>1.172906e+06</td>\n",
              "    </tr>\n",
              "    <tr>\n",
              "      <th>min</th>\n",
              "      <td>0.000000</td>\n",
              "      <td>1.000000</td>\n",
              "      <td>10.000000</td>\n",
              "      <td>0.000000</td>\n",
              "      <td>0.000000e+00</td>\n",
              "      <td>0.000000</td>\n",
              "      <td>0.000000</td>\n",
              "      <td>0.000000e+00</td>\n",
              "    </tr>\n",
              "    <tr>\n",
              "      <th>25%</th>\n",
              "      <td>0.000000</td>\n",
              "      <td>2.000000</td>\n",
              "      <td>22.000000</td>\n",
              "      <td>0.000000</td>\n",
              "      <td>1.610000e+02</td>\n",
              "      <td>11.500000</td>\n",
              "      <td>13.416667</td>\n",
              "      <td>1.098485e+00</td>\n",
              "    </tr>\n",
              "    <tr>\n",
              "      <th>50%</th>\n",
              "      <td>0.000000</td>\n",
              "      <td>3.000000</td>\n",
              "      <td>26.000000</td>\n",
              "      <td>0.000000</td>\n",
              "      <td>2.415000e+03</td>\n",
              "      <td>172.500000</td>\n",
              "      <td>201.250000</td>\n",
              "      <td>1.341667e+01</td>\n",
              "    </tr>\n",
              "    <tr>\n",
              "      <th>75%</th>\n",
              "      <td>1.000000</td>\n",
              "      <td>3.000000</td>\n",
              "      <td>36.000000</td>\n",
              "      <td>1.000000</td>\n",
              "      <td>7.883350e+04</td>\n",
              "      <td>5630.964286</td>\n",
              "      <td>6569.458333</td>\n",
              "      <td>5.757389e+02</td>\n",
              "    </tr>\n",
              "    <tr>\n",
              "      <th>max</th>\n",
              "      <td>1.000000</td>\n",
              "      <td>3.000000</td>\n",
              "      <td>90.000000</td>\n",
              "      <td>8.000000</td>\n",
              "      <td>5.123292e+06</td>\n",
              "      <td>365949.428571</td>\n",
              "      <td>426941.000000</td>\n",
              "      <td>3.410762e+07</td>\n",
              "    </tr>\n",
              "  </tbody>\n",
              "</table>\n",
              "</div>"
            ],
            "text/plain": [
              "           Target  GrupoEconomico  ...     GastoMedio  NumeroComprasOnline\n",
              "count  863.000000      863.000000  ...     863.000000         8.630000e+02\n",
              "mean     0.382387        2.315180  ...    9490.284087         5.034897e+04\n",
              "std      0.486252        0.835877  ...   33139.080651         1.172906e+06\n",
              "min      0.000000        1.000000  ...       0.000000         0.000000e+00\n",
              "25%      0.000000        2.000000  ...      13.416667         1.098485e+00\n",
              "50%      0.000000        3.000000  ...     201.250000         1.341667e+01\n",
              "75%      1.000000        3.000000  ...    6569.458333         5.757389e+02\n",
              "max      1.000000        3.000000  ...  426941.000000         3.410762e+07\n",
              "\n",
              "[8 rows x 8 columns]"
            ]
          },
          "metadata": {
            "tags": []
          },
          "execution_count": 42
        }
      ]
    },
    {
      "cell_type": "code",
      "metadata": {
        "colab": {
          "base_uri": "https://localhost:8080/",
          "height": 296
        },
        "id": "63THfefAujHV",
        "outputId": "77edccce-a3bc-4601-a797-9876afb32017"
      },
      "source": [
        "#Boxplot\n",
        "df['NumeroComprasOnline'].plot.box()"
      ],
      "execution_count": 43,
      "outputs": [
        {
          "output_type": "execute_result",
          "data": {
            "text/plain": [
              "<matplotlib.axes._subplots.AxesSubplot at 0x7f9888810890>"
            ]
          },
          "metadata": {
            "tags": []
          },
          "execution_count": 43
        },
        {
          "output_type": "display_data",
          "data": {
            "image/png": "[encoded data removed]",
            "text/plain": [
              "<Figure size 432x288 with 1 Axes>"
            ]
          },
          "metadata": {
            "tags": []
          }
        }
      ]
    },
    {
      "cell_type": "code",
      "metadata": {
        "colab": {
          "base_uri": "https://localhost:8080/",
          "height": 285
        },
        "id": "0dtHpFkXupBN",
        "outputId": "7fa5b0f7-1f86-423b-ea94-27456bf976c5"
      },
      "source": [
        "df.Idade.plot.box()"
      ],
      "execution_count": 44,
      "outputs": [
        {
          "output_type": "execute_result",
          "data": {
            "text/plain": [
              "<matplotlib.axes._subplots.AxesSubplot at 0x7f98887dd890>"
            ]
          },
          "metadata": {
            "tags": []
          },
          "execution_count": 44
        },
        {
          "output_type": "display_data",
          "data": {
            "image/png": "[encoded data removed]",
            "text/plain": [
              "<Figure size 432x288 with 1 Axes>"
            ]
          },
          "metadata": {
            "tags": []
          }
        }
      ]
    },
    {
      "cell_type": "markdown",
      "metadata": {
        "id": "BFOgvugnut2n"
      },
      "source": [
        "#Tratamento de Dados para Modelagem"
      ]
    },
    {
      "cell_type": "code",
      "metadata": {
        "colab": {
          "base_uri": "https://localhost:8080/"
        },
        "id": "RRyg03-Guv0t",
        "outputId": "8172505f-e9b2-4cf6-bd00-c37cc41f08e9"
      },
      "source": [
        "#Imprime tipo de dados das colunas\n",
        "df.dtypes"
      ],
      "execution_count": 45,
      "outputs": [
        {
          "output_type": "execute_result",
          "data": {
            "text/plain": [
              "Target                   int64\n",
              "GrupoEconomico           int64\n",
              "Sexo                    object\n",
              "Idade                    int64\n",
              "GrupoRisco               int64\n",
              "ValorCompraAnual       float64\n",
              "GastoMax               float64\n",
              "GastoMedio             float64\n",
              "UF                      object\n",
              "CidadeResidencia        object\n",
              "RegiaodoPais            object\n",
              "NumeroComprasOnline    float64\n",
              "dtype: object"
            ]
          },
          "metadata": {
            "tags": []
          },
          "execution_count": 45
        }
      ]
    },
    {
      "cell_type": "code",
      "metadata": {
        "colab": {
          "base_uri": "https://localhost:8080/",
          "height": 202
        },
        "id": "MB6WTrlGuz-O",
        "outputId": "847481af-01cf-4c7d-ea8c-16555adf3461"
      },
      "source": [
        "#Seleciona apenas colunas com dtype = object (texto, string)\n",
        "df.select_dtypes(include='object').head()"
      ],
      "execution_count": 48,
      "outputs": [
        {
          "output_type": "execute_result",
          "data": {
            "text/html": [
              "<div>\n",
              "<style scoped>\n",
              "    .dataframe tbody tr th:only-of-type {\n",
              "        vertical-align: middle;\n",
              "    }\n",
              "\n",
              "    .dataframe tbody tr th {\n",
              "        vertical-align: top;\n",
              "    }\n",
              "\n",
              "    .dataframe thead th {\n",
              "        text-align: right;\n",
              "    }\n",
              "</style>\n",
              "<table border=\"1\" class=\"dataframe\">\n",
              "  <thead>\n",
              "    <tr style=\"text-align: right;\">\n",
              "      <th></th>\n",
              "      <th>Sexo</th>\n",
              "      <th>UF</th>\n",
              "      <th>CidadeResidencia</th>\n",
              "      <th>RegiaodoPais</th>\n",
              "    </tr>\n",
              "  </thead>\n",
              "  <tbody>\n",
              "    <tr>\n",
              "      <th>0</th>\n",
              "      <td>homem</td>\n",
              "      <td>MG</td>\n",
              "      <td>Morada Nova de Minas</td>\n",
              "      <td>Região Sudeste</td>\n",
              "    </tr>\n",
              "    <tr>\n",
              "      <th>1</th>\n",
              "      <td>mulher</td>\n",
              "      <td>RN</td>\n",
              "      <td>Marcelino Vieira</td>\n",
              "      <td>Região Nordeste</td>\n",
              "    </tr>\n",
              "    <tr>\n",
              "      <th>2</th>\n",
              "      <td>mulher</td>\n",
              "      <td>PR</td>\n",
              "      <td>Agudos do Sul</td>\n",
              "      <td>Região Sul</td>\n",
              "    </tr>\n",
              "    <tr>\n",
              "      <th>3</th>\n",
              "      <td>mulher</td>\n",
              "      <td>PR</td>\n",
              "      <td>Congonhinhas</td>\n",
              "      <td>Região Sul</td>\n",
              "    </tr>\n",
              "    <tr>\n",
              "      <th>4</th>\n",
              "      <td>homem</td>\n",
              "      <td>BA</td>\n",
              "      <td>Morpará</td>\n",
              "      <td>Região Nordeste</td>\n",
              "    </tr>\n",
              "  </tbody>\n",
              "</table>\n",
              "</div>"
            ],
            "text/plain": [
              "     Sexo  UF      CidadeResidencia     RegiaodoPais\n",
              "0   homem  MG  Morada Nova de Minas   Região Sudeste\n",
              "1  mulher  RN      Marcelino Vieira  Região Nordeste\n",
              "2  mulher  PR         Agudos do Sul       Região Sul\n",
              "3  mulher  PR          Congonhinhas       Região Sul\n",
              "4   homem  BA               Morpará  Região Nordeste"
            ]
          },
          "metadata": {
            "tags": []
          },
          "execution_count": 48
        }
      ]
    },
    {
      "cell_type": "code",
      "metadata": {
        "colab": {
          "base_uri": "https://localhost:8080/"
        },
        "id": "SoO__fZFu_cZ",
        "outputId": "cc82841e-6ffc-4429-b889-c5a0998c051c"
      },
      "source": [
        "#Conta quantidade de dados unicos de cada coluna com dtype = object\n",
        "df.select_dtypes(include='object').nunique()"
      ],
      "execution_count": 49,
      "outputs": [
        {
          "output_type": "execute_result",
          "data": {
            "text/plain": [
              "Sexo                  2\n",
              "UF                   26\n",
              "CidadeResidencia    823\n",
              "RegiaodoPais          5\n",
              "dtype: int64"
            ]
          },
          "metadata": {
            "tags": []
          },
          "execution_count": 49
        }
      ]
    },
    {
      "cell_type": "code",
      "metadata": {
        "colab": {
          "base_uri": "https://localhost:8080/",
          "height": 202
        },
        "id": "75QqAT0FvHko",
        "outputId": "959fb2d1-9387-4506-f339-964f13c90bad"
      },
      "source": [
        "import numpy as np\n",
        "#Adiciona uma coluna com True/1 or False/0 caso sexo seja mulher ou nao\n",
        "df['Sexo_mulher'] = np.where(df['Sexo']=='mulher', 1, 0)\n",
        "\n",
        "df.drop(columns='Sexo', inplace=True)\n",
        "\n",
        "df.select_dtypes(include='object').head()"
      ],
      "execution_count": 50,
      "outputs": [
        {
          "output_type": "execute_result",
          "data": {
            "text/html": [
              "<div>\n",
              "<style scoped>\n",
              "    .dataframe tbody tr th:only-of-type {\n",
              "        vertical-align: middle;\n",
              "    }\n",
              "\n",
              "    .dataframe tbody tr th {\n",
              "        vertical-align: top;\n",
              "    }\n",
              "\n",
              "    .dataframe thead th {\n",
              "        text-align: right;\n",
              "    }\n",
              "</style>\n",
              "<table border=\"1\" class=\"dataframe\">\n",
              "  <thead>\n",
              "    <tr style=\"text-align: right;\">\n",
              "      <th></th>\n",
              "      <th>UF</th>\n",
              "      <th>CidadeResidencia</th>\n",
              "      <th>RegiaodoPais</th>\n",
              "    </tr>\n",
              "  </thead>\n",
              "  <tbody>\n",
              "    <tr>\n",
              "      <th>0</th>\n",
              "      <td>MG</td>\n",
              "      <td>Morada Nova de Minas</td>\n",
              "      <td>Região Sudeste</td>\n",
              "    </tr>\n",
              "    <tr>\n",
              "      <th>1</th>\n",
              "      <td>RN</td>\n",
              "      <td>Marcelino Vieira</td>\n",
              "      <td>Região Nordeste</td>\n",
              "    </tr>\n",
              "    <tr>\n",
              "      <th>2</th>\n",
              "      <td>PR</td>\n",
              "      <td>Agudos do Sul</td>\n",
              "      <td>Região Sul</td>\n",
              "    </tr>\n",
              "    <tr>\n",
              "      <th>3</th>\n",
              "      <td>PR</td>\n",
              "      <td>Congonhinhas</td>\n",
              "      <td>Região Sul</td>\n",
              "    </tr>\n",
              "    <tr>\n",
              "      <th>4</th>\n",
              "      <td>BA</td>\n",
              "      <td>Morpará</td>\n",
              "      <td>Região Nordeste</td>\n",
              "    </tr>\n",
              "  </tbody>\n",
              "</table>\n",
              "</div>"
            ],
            "text/plain": [
              "   UF      CidadeResidencia     RegiaodoPais\n",
              "0  MG  Morada Nova de Minas   Região Sudeste\n",
              "1  RN      Marcelino Vieira  Região Nordeste\n",
              "2  PR         Agudos do Sul       Região Sul\n",
              "3  PR          Congonhinhas       Região Sul\n",
              "4  BA               Morpará  Região Nordeste"
            ]
          },
          "metadata": {
            "tags": []
          },
          "execution_count": 50
        }
      ]
    },
    {
      "cell_type": "code",
      "metadata": {
        "colab": {
          "base_uri": "https://localhost:8080/"
        },
        "id": "LQQjk7M1vdwx",
        "outputId": "031e4230-caa4-4d92-a83d-b487c38b53a9"
      },
      "source": [
        "df.drop(columns='CidadeResidencia', inplace=True)\n",
        "df.select_dtypes(include='object').nunique()"
      ],
      "execution_count": 51,
      "outputs": [
        {
          "output_type": "execute_result",
          "data": {
            "text/plain": [
              "UF              26\n",
              "RegiaodoPais     5\n",
              "dtype: int64"
            ]
          },
          "metadata": {
            "tags": []
          },
          "execution_count": 51
        }
      ]
    },
    {
      "cell_type": "code",
      "metadata": {
        "id": "O8-CT1TLwB3G"
      },
      "source": [
        "df.head()"
      ],
      "execution_count": null,
      "outputs": []
    },
    {
      "cell_type": "code",
      "metadata": {
        "colab": {
          "base_uri": "https://localhost:8080/",
          "height": 412
        },
        "id": "C_IqlCYSvtuN",
        "outputId": "7d09249a-5c0a-4600-b15e-4cb56fb23c68"
      },
      "source": [
        "plt.figure(figsize=(14,6))\n",
        "\n",
        "sns.countplot(data=df, y='RegiaodoPais')"
      ],
      "execution_count": 58,
      "outputs": [
        {
          "output_type": "execute_result",
          "data": {
            "text/plain": [
              "<matplotlib.axes._subplots.AxesSubplot at 0x7f98886cc850>"
            ]
          },
          "metadata": {
            "tags": []
          },
          "execution_count": 58
        },
        {
          "output_type": "display_data",
          "data": {
            "image/png": "[encoded data removed]",
            "text/plain": [
              "<Figure size 1008x432 with 1 Axes>"
            ]
          },
          "metadata": {
            "tags": []
          }
        }
      ]
    },
    {
      "cell_type": "code",
      "metadata": {
        "colab": {
          "base_uri": "https://localhost:8080/",
          "height": 328
        },
        "id": "zVjF4RlDwHGX",
        "outputId": "0451e1aa-abfb-4a75-8e2e-09e43e73f139"
      },
      "source": [
        "df = pd.get_dummies(df, columns=['RegiaodoPais'], drop_first=True)\n",
        "display(df.head())"
      ],
      "execution_count": 63,
      "outputs": [
        {
          "output_type": "error",
          "ename": "KeyError",
          "evalue": "ignored",
          "traceback": [
            "\u001b[0;31m---------------------------------------------------------------------------\u001b[0m",
            "\u001b[0;31mKeyError\u001b[0m                                  Traceback (most recent call last)",
            "\u001b[0;32m<ipython-input-63-067ebe09f1ee>\u001b[0m in \u001b[0;36m<module>\u001b[0;34m()\u001b[0m\n\u001b[0;32m----> 1\u001b[0;31m \u001b[0mdf\u001b[0m \u001b[0;34m=\u001b[0m \u001b[0mpd\u001b[0m\u001b[0;34m.\u001b[0m\u001b[0mget_dummies\u001b[0m\u001b[0;34m(\u001b[0m\u001b[0mdf\u001b[0m\u001b[0;34m,\u001b[0m \u001b[0mcolumns\u001b[0m\u001b[0;34m=\u001b[0m\u001b[0;34m[\u001b[0m\u001b[0;34m'RegiaodoPais'\u001b[0m\u001b[0;34m]\u001b[0m\u001b[0;34m,\u001b[0m \u001b[0mdrop_first\u001b[0m\u001b[0;34m=\u001b[0m\u001b[0;32mTrue\u001b[0m\u001b[0;34m)\u001b[0m\u001b[0;34m\u001b[0m\u001b[0;34m\u001b[0m\u001b[0m\n\u001b[0m\u001b[1;32m      2\u001b[0m \u001b[0mdisplay\u001b[0m\u001b[0;34m(\u001b[0m\u001b[0mdf\u001b[0m\u001b[0;34m.\u001b[0m\u001b[0mhead\u001b[0m\u001b[0;34m(\u001b[0m\u001b[0;34m)\u001b[0m\u001b[0;34m)\u001b[0m\u001b[0;34m\u001b[0m\u001b[0;34m\u001b[0m\u001b[0m\n",
            "\u001b[0;32m/usr/local/lib/python3.7/dist-packages/pandas/core/reshape/reshape.py\u001b[0m in \u001b[0;36mget_dummies\u001b[0;34m(data, prefix, prefix_sep, dummy_na, columns, sparse, drop_first, dtype)\u001b[0m\n\u001b[1;32m    841\u001b[0m             \u001b[0;32mraise\u001b[0m \u001b[0mTypeError\u001b[0m\u001b[0;34m(\u001b[0m\u001b[0;34m\"Input must be a list-like for parameter `columns`\"\u001b[0m\u001b[0;34m)\u001b[0m\u001b[0;34m\u001b[0m\u001b[0;34m\u001b[0m\u001b[0m\n\u001b[1;32m    842\u001b[0m         \u001b[0;32melse\u001b[0m\u001b[0;34m:\u001b[0m\u001b[0;34m\u001b[0m\u001b[0;34m\u001b[0m\u001b[0m\n\u001b[0;32m--> 843\u001b[0;31m             \u001b[0mdata_to_encode\u001b[0m \u001b[0;34m=\u001b[0m \u001b[0mdata\u001b[0m\u001b[0;34m[\u001b[0m\u001b[0mcolumns\u001b[0m\u001b[0;34m]\u001b[0m\u001b[0;34m\u001b[0m\u001b[0;34m\u001b[0m\u001b[0m\n\u001b[0m\u001b[1;32m    844\u001b[0m \u001b[0;34m\u001b[0m\u001b[0m\n\u001b[1;32m    845\u001b[0m         \u001b[0;31m# validate prefixes and separator to avoid silently dropping cols\u001b[0m\u001b[0;34m\u001b[0m\u001b[0;34m\u001b[0m\u001b[0;34m\u001b[0m\u001b[0m\n",
            "\u001b[0;32m/usr/local/lib/python3.7/dist-packages/pandas/core/frame.py\u001b[0m in \u001b[0;36m__getitem__\u001b[0;34m(self, key)\u001b[0m\n\u001b[1;32m   2910\u001b[0m             \u001b[0;32mif\u001b[0m \u001b[0mis_iterator\u001b[0m\u001b[0;34m(\u001b[0m\u001b[0mkey\u001b[0m\u001b[0;34m)\u001b[0m\u001b[0;34m:\u001b[0m\u001b[0;34m\u001b[0m\u001b[0;34m\u001b[0m\u001b[0m\n\u001b[1;32m   2911\u001b[0m                 \u001b[0mkey\u001b[0m \u001b[0;34m=\u001b[0m \u001b[0mlist\u001b[0m\u001b[0;34m(\u001b[0m\u001b[0mkey\u001b[0m\u001b[0;34m)\u001b[0m\u001b[0;34m\u001b[0m\u001b[0;34m\u001b[0m\u001b[0m\n\u001b[0;32m-> 2912\u001b[0;31m             \u001b[0mindexer\u001b[0m \u001b[0;34m=\u001b[0m \u001b[0mself\u001b[0m\u001b[0;34m.\u001b[0m\u001b[0mloc\u001b[0m\u001b[0;34m.\u001b[0m\u001b[0m_get_listlike_indexer\u001b[0m\u001b[0;34m(\u001b[0m\u001b[0mkey\u001b[0m\u001b[0;34m,\u001b[0m \u001b[0maxis\u001b[0m\u001b[0;34m=\u001b[0m\u001b[0;36m1\u001b[0m\u001b[0;34m,\u001b[0m \u001b[0mraise_missing\u001b[0m\u001b[0;34m=\u001b[0m\u001b[0;32mTrue\u001b[0m\u001b[0;34m)\u001b[0m\u001b[0;34m[\u001b[0m\u001b[0;36m1\u001b[0m\u001b[0;34m]\u001b[0m\u001b[0;34m\u001b[0m\u001b[0;34m\u001b[0m\u001b[0m\n\u001b[0m\u001b[1;32m   2913\u001b[0m \u001b[0;34m\u001b[0m\u001b[0m\n\u001b[1;32m   2914\u001b[0m         \u001b[0;31m# take() does not accept boolean indexers\u001b[0m\u001b[0;34m\u001b[0m\u001b[0;34m\u001b[0m\u001b[0;34m\u001b[0m\u001b[0m\n",
            "\u001b[0;32m/usr/local/lib/python3.7/dist-packages/pandas/core/indexing.py\u001b[0m in \u001b[0;36m_get_listlike_indexer\u001b[0;34m(self, key, axis, raise_missing)\u001b[0m\n\u001b[1;32m   1252\u001b[0m             \u001b[0mkeyarr\u001b[0m\u001b[0;34m,\u001b[0m \u001b[0mindexer\u001b[0m\u001b[0;34m,\u001b[0m \u001b[0mnew_indexer\u001b[0m \u001b[0;34m=\u001b[0m \u001b[0max\u001b[0m\u001b[0;34m.\u001b[0m\u001b[0m_reindex_non_unique\u001b[0m\u001b[0;34m(\u001b[0m\u001b[0mkeyarr\u001b[0m\u001b[0;34m)\u001b[0m\u001b[0;34m\u001b[0m\u001b[0;34m\u001b[0m\u001b[0m\n\u001b[1;32m   1253\u001b[0m \u001b[0;34m\u001b[0m\u001b[0m\n\u001b[0;32m-> 1254\u001b[0;31m         \u001b[0mself\u001b[0m\u001b[0;34m.\u001b[0m\u001b[0m_validate_read_indexer\u001b[0m\u001b[0;34m(\u001b[0m\u001b[0mkeyarr\u001b[0m\u001b[0;34m,\u001b[0m \u001b[0mindexer\u001b[0m\u001b[0;34m,\u001b[0m \u001b[0maxis\u001b[0m\u001b[0;34m,\u001b[0m \u001b[0mraise_missing\u001b[0m\u001b[0;34m=\u001b[0m\u001b[0mraise_missing\u001b[0m\u001b[0;34m)\u001b[0m\u001b[0;34m\u001b[0m\u001b[0;34m\u001b[0m\u001b[0m\n\u001b[0m\u001b[1;32m   1255\u001b[0m         \u001b[0;32mreturn\u001b[0m \u001b[0mkeyarr\u001b[0m\u001b[0;34m,\u001b[0m \u001b[0mindexer\u001b[0m\u001b[0;34m\u001b[0m\u001b[0;34m\u001b[0m\u001b[0m\n\u001b[1;32m   1256\u001b[0m \u001b[0;34m\u001b[0m\u001b[0m\n",
            "\u001b[0;32m/usr/local/lib/python3.7/dist-packages/pandas/core/indexing.py\u001b[0m in \u001b[0;36m_validate_read_indexer\u001b[0;34m(self, key, indexer, axis, raise_missing)\u001b[0m\n\u001b[1;32m   1296\u001b[0m             \u001b[0;32mif\u001b[0m \u001b[0mmissing\u001b[0m \u001b[0;34m==\u001b[0m \u001b[0mlen\u001b[0m\u001b[0;34m(\u001b[0m\u001b[0mindexer\u001b[0m\u001b[0;34m)\u001b[0m\u001b[0;34m:\u001b[0m\u001b[0;34m\u001b[0m\u001b[0;34m\u001b[0m\u001b[0m\n\u001b[1;32m   1297\u001b[0m                 \u001b[0maxis_name\u001b[0m \u001b[0;34m=\u001b[0m \u001b[0mself\u001b[0m\u001b[0;34m.\u001b[0m\u001b[0mobj\u001b[0m\u001b[0;34m.\u001b[0m\u001b[0m_get_axis_name\u001b[0m\u001b[0;34m(\u001b[0m\u001b[0maxis\u001b[0m\u001b[0;34m)\u001b[0m\u001b[0;34m\u001b[0m\u001b[0;34m\u001b[0m\u001b[0m\n\u001b[0;32m-> 1298\u001b[0;31m                 \u001b[0;32mraise\u001b[0m \u001b[0mKeyError\u001b[0m\u001b[0;34m(\u001b[0m\u001b[0;34mf\"None of [{key}] are in the [{axis_name}]\"\u001b[0m\u001b[0;34m)\u001b[0m\u001b[0;34m\u001b[0m\u001b[0;34m\u001b[0m\u001b[0m\n\u001b[0m\u001b[1;32m   1299\u001b[0m \u001b[0;34m\u001b[0m\u001b[0m\n\u001b[1;32m   1300\u001b[0m             \u001b[0;31m# We (temporarily) allow for some missing keys with .loc, except in\u001b[0m\u001b[0;34m\u001b[0m\u001b[0;34m\u001b[0m\u001b[0;34m\u001b[0m\u001b[0m\n",
            "\u001b[0;31mKeyError\u001b[0m: \"None of [Index(['RegiaodoPais'], dtype='object')] are in the [columns]\""
          ]
        }
      ]
    }
  ]
}