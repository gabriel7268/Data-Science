{
  "nbformat": 4,
  "nbformat_minor": 0,
  "metadata": {
    "colab": {
      "name": "Lets_Code_UFBA.ipynb",
      "provenance": [],
      "authorship_tag": "ABX9TyOlRR5AKlkAxUFVUhnASnvv",
      "include_colab_link": true
    },
    "kernelspec": {
      "name": "python3",
      "display_name": "Python 3"
    },
    "language_info": {
      "name": "python"
    }
  },
  "cells": [
    {
      "cell_type": "markdown",
      "metadata": {
        "id": "view-in-github",
        "colab_type": "text"
      },
      "source": [
        "<a href=\"https://colab.research.google.com/github/gabriel7268/Data-Science/blob/main/Lets%20Code%20UFBA/Lets_Code_UFBA.ipynb\" target=\"_parent\"><img src=\"https://colab.research.google.com/assets/colab-badge.svg\" alt=\"Open In Colab\"/></a>"
      ]
    },
    {
      "cell_type": "markdown",
      "metadata": {
        "id": "f6NkAfcdgcFv"
      },
      "source": [
        "#Data Science and Artificial Intelligence Workshop\n",
        "\n",
        "## Ementa:\n",
        "  - 11/05:  \n",
        "    - ambientação do jupyter notebook\n",
        "    - análise de dados (eda - exploratory dara analysis)\n",
        "    - \n",
        "\n",
        "  - 13/05:\n",
        "    - modelo de machine learning\n",
        "    - avaliação do modelo\n",
        "\n",
        "````\n",
        "Jupyter Notebook\n",
        "````\n",
        "\n",
        "Para abrir:\n",
        "\n",
        "```\n",
        "Abrir o prompt do anaconda\n",
        "\n",
        "digitar: jupyter notebook\n",
        "```\n",
        "\n",
        "# Linguagens para Data Science\n",
        "\n",
        "## Python:\n",
        "- genérico\n",
        "- usado para ML, Web Scrapping, text mining, dashboard\n",
        "\n",
        "## R:\n",
        "- Estatística\n",
        "- Séries temporais, análises multivariada, análise de sobrevivência\n"
      ]
    },
    {
      "cell_type": "code",
      "metadata": {
        "colab": {
          "base_uri": "https://localhost:8080/"
        },
        "id": "nF-V16vcgMU-",
        "outputId": "d7f8234e-f0c4-4dcb-ee8c-06d3ca5af01c"
      },
      "source": [
        "#Exibir imagem\n",
        "![]'https://www.google.com/imgres?imgurl=https%3A%2F%2Fmk0setscholarsn9sko6.kinstacdn.com%2Fwp-content%2Fuploads%2F2020%2F08%2FPythob_vs_R.jpeg&imgrefurl=https%3A%2F%2Fsetscholars.net%2Fpython-vs-r-which-should-i-learn-for-business-data-analytics%2F&tbnid=krxs-OXZworYFM&vet=12ahUKEwiB2duQ1cLwAhXkC9QKHQZzDoUQMygMegUIARC7AQ..i&docid=qygeyROXJVeCIM&w=730&h=410&q=python%20vs%20r&ved=2ahUKEwiB2duQ1cLwAhXkC9QKHQZzDoUQMygMegUIARC7AQ'"
      ],
      "execution_count": null,
      "outputs": [
        {
          "output_type": "stream",
          "text": [
            "/bin/bash: []https://www.google.com/imgres?imgurl=https%3A%2F%2Fmk0setscholarsn9sko6.kinstacdn.com%2Fwp-content%2Fuploads%2F2020%2F08%2FPythob_vs_R.jpeg&imgrefurl=https%3A%2F%2Fsetscholars.net%2Fpython-vs-r-which-should-i-learn-for-business-data-analytics%2F&tbnid=krxs-OXZworYFM&vet=12ahUKEwiB2duQ1cLwAhXkC9QKHQZzDoUQMygMegUIARC7AQ..i&docid=qygeyROXJVeCIM&w=730&h=410&q=python%20vs%20r&ved=2ahUKEwiB2duQ1cLwAhXkC9QKHQZzDoUQMygMegUIARC7AQ: No such file or directory\n"
          ],
          "name": "stdout"
        }
      ]
    },
    {
      "cell_type": "markdown",
      "metadata": {
        "id": "oFl-sexMl6G9"
      },
      "source": [
        "#Objetivo do case:\n",
        "- Prever atrasos de cartão de crédito (Target), dado as demais características (features) dos clientes."
      ]
    },
    {
      "cell_type": "code",
      "metadata": {
        "colab": {
          "base_uri": "https://localhost:8080/",
          "height": 255
        },
        "id": "UZCFvLZjl6iT",
        "outputId": "93824bf0-f620-4234-bbcd-5c9050c22140"
      },
      "source": [
        "#Importar bibliotecas:\n",
        "import pandas as pd\n",
        "import os\n",
        "\n",
        "df = pd.read_csv('AtrasoCartaoCredito.csv')\n",
        "df.shape #atributo\n",
        "df.head() #método"
      ],
      "execution_count": null,
      "outputs": [
        {
          "output_type": "execute_result",
          "data": {
            "text/html": [
              "<div>\n",
              "<style scoped>\n",
              "    .dataframe tbody tr th:only-of-type {\n",
              "        vertical-align: middle;\n",
              "    }\n",
              "\n",
              "    .dataframe tbody tr th {\n",
              "        vertical-align: top;\n",
              "    }\n",
              "\n",
              "    .dataframe thead th {\n",
              "        text-align: right;\n",
              "    }\n",
              "</style>\n",
              "<table border=\"1\" class=\"dataframe\">\n",
              "  <thead>\n",
              "    <tr style=\"text-align: right;\">\n",
              "      <th></th>\n",
              "      <th>ID</th>\n",
              "      <th>Target</th>\n",
              "      <th>GrupoEconomico</th>\n",
              "      <th>Sexo</th>\n",
              "      <th>Idade</th>\n",
              "      <th>GrupoRisco</th>\n",
              "      <th>ValorCompraAnual</th>\n",
              "      <th>GastoMax</th>\n",
              "      <th>GastoMedio</th>\n",
              "      <th>UF</th>\n",
              "      <th>CidadeResidencia</th>\n",
              "      <th>RegiaodoPais</th>\n",
              "      <th>NumeroComprasOnline</th>\n",
              "    </tr>\n",
              "  </thead>\n",
              "  <tbody>\n",
              "    <tr>\n",
              "      <th>0</th>\n",
              "      <td>1</td>\n",
              "      <td>0</td>\n",
              "      <td>3</td>\n",
              "      <td>homem</td>\n",
              "      <td>22</td>\n",
              "      <td>1</td>\n",
              "      <td>7250.0</td>\n",
              "      <td>517.857143</td>\n",
              "      <td>604.166667</td>\n",
              "      <td>MG</td>\n",
              "      <td>Morada Nova de Minas</td>\n",
              "      <td>Região Sudeste</td>\n",
              "      <td>54.924242</td>\n",
              "    </tr>\n",
              "    <tr>\n",
              "      <th>1</th>\n",
              "      <td>2</td>\n",
              "      <td>1</td>\n",
              "      <td>1</td>\n",
              "      <td>mulher</td>\n",
              "      <td>38</td>\n",
              "      <td>1</td>\n",
              "      <td>71283.0</td>\n",
              "      <td>5091.642857</td>\n",
              "      <td>5940.250000</td>\n",
              "      <td>RN</td>\n",
              "      <td>Marcelino Vieira</td>\n",
              "      <td>Região Nordeste</td>\n",
              "      <td>312.644737</td>\n",
              "    </tr>\n",
              "    <tr>\n",
              "      <th>2</th>\n",
              "      <td>3</td>\n",
              "      <td>1</td>\n",
              "      <td>3</td>\n",
              "      <td>mulher</td>\n",
              "      <td>26</td>\n",
              "      <td>0</td>\n",
              "      <td>7925.0</td>\n",
              "      <td>566.071429</td>\n",
              "      <td>660.416667</td>\n",
              "      <td>PR</td>\n",
              "      <td>Agudos do Sul</td>\n",
              "      <td>Região Sul</td>\n",
              "      <td>50.801282</td>\n",
              "    </tr>\n",
              "    <tr>\n",
              "      <th>3</th>\n",
              "      <td>4</td>\n",
              "      <td>1</td>\n",
              "      <td>1</td>\n",
              "      <td>mulher</td>\n",
              "      <td>35</td>\n",
              "      <td>1</td>\n",
              "      <td>531.0</td>\n",
              "      <td>37.928571</td>\n",
              "      <td>44.250000</td>\n",
              "      <td>PR</td>\n",
              "      <td>Congonhinhas</td>\n",
              "      <td>Região Sul</td>\n",
              "      <td>2.528571</td>\n",
              "    </tr>\n",
              "    <tr>\n",
              "      <th>4</th>\n",
              "      <td>5</td>\n",
              "      <td>0</td>\n",
              "      <td>3</td>\n",
              "      <td>homem</td>\n",
              "      <td>35</td>\n",
              "      <td>0</td>\n",
              "      <td>805.0</td>\n",
              "      <td>57.500000</td>\n",
              "      <td>67.083333</td>\n",
              "      <td>BA</td>\n",
              "      <td>Morpará</td>\n",
              "      <td>Região Nordeste</td>\n",
              "      <td>3.833333</td>\n",
              "    </tr>\n",
              "  </tbody>\n",
              "</table>\n",
              "</div>"
            ],
            "text/plain": [
              "   ID  Target  ...     RegiaodoPais NumeroComprasOnline\n",
              "0   1       0  ...   Região Sudeste           54.924242\n",
              "1   2       1  ...  Região Nordeste          312.644737\n",
              "2   3       1  ...       Região Sul           50.801282\n",
              "3   4       1  ...       Região Sul            2.528571\n",
              "4   5       0  ...  Região Nordeste            3.833333\n",
              "\n",
              "[5 rows x 13 columns]"
            ]
          },
          "metadata": {
            "tags": []
          },
          "execution_count": 6
        }
      ]
    },
    {
      "cell_type": "code",
      "metadata": {
        "id": "hqXNid_MnYGL"
      },
      "source": [
        "#Listar arquivos do diretório\n",
        "#os.listdir()"
      ],
      "execution_count": null,
      "outputs": []
    },
    {
      "cell_type": "markdown",
      "metadata": {
        "id": "uUToEv9-npOj"
      },
      "source": [
        "Python é uma linguagem orientada a objetos: OOP.\n",
        "\n",
        "Tem objetos, atributos, métodos, ações...\n",
        "\n",
        "- atributos não tem parênteses\n",
        "- método tem parênteses\n"
      ]
    },
    {
      "cell_type": "markdown",
      "metadata": {
        "id": "vKl3LJ8Tn8lj"
      },
      "source": [
        "Atalhos Google Colab:\n",
        "- ctrl + ; (Comenta linhas selecionadas)\n",
        "- ctrl + d (Seleciona variáveis com mesmo nome)\n",
        "- "
      ]
    },
    {
      "cell_type": "code",
      "metadata": {
        "colab": {
          "base_uri": "https://localhost:8080/",
          "height": 34
        },
        "id": "PHjNvKBRnmmA",
        "outputId": "56a387fd-22de-4b27-f96e-935debe5c73b"
      },
      "source": [
        "#Tipo de dados\n",
        "type(df)"
      ],
      "execution_count": null,
      "outputs": [
        {
          "output_type": "display_data",
          "data": {
            "text/plain": [
              "pandas.core.frame.DataFrame"
            ]
          },
          "metadata": {
            "tags": []
          }
        }
      ]
    },
    {
      "cell_type": "code",
      "metadata": {
        "colab": {
          "base_uri": "https://localhost:8080/"
        },
        "id": "Z78MN1DGn_x-",
        "outputId": "205781e5-5b88-449e-9206-55d38bddd18b"
      },
      "source": [
        "#Número de valores únicos\n",
        "#df.ID.nunique()\n",
        "df['ID'].nunique()\n",
        "\n",
        "#Coluna inútil, nunique = rows do df, logo é igual ao index\n",
        "#podemos excluí-la sem prejuízos"
      ],
      "execution_count": null,
      "outputs": [
        {
          "output_type": "execute_result",
          "data": {
            "text/plain": [
              "891"
            ]
          },
          "metadata": {
            "tags": []
          },
          "execution_count": 12
        }
      ]
    },
    {
      "cell_type": "markdown",
      "metadata": {
        "id": "-YyQfFzcrPLZ"
      },
      "source": [
        "`axis=1` coluna  \n",
        "`axis=0` linha "
      ]
    },
    {
      "cell_type": "code",
      "metadata": {
        "colab": {
          "base_uri": "https://localhost:8080/",
          "height": 204
        },
        "id": "SmMEbxzXqfBu",
        "outputId": "64086736-f955-4e00-eab8-34dba1a14f60"
      },
      "source": [
        "#Para excluir uma coluna, parâmetros: 'coluna', axis=1 (coluna) 0 (linha), inplace=true atualiza:\n",
        "#df.drop('ID', axis=1, inplace=True) ou \n",
        "df.drop(columns='ID', inplace=True)\n",
        "df.head()"
      ],
      "execution_count": null,
      "outputs": [
        {
          "output_type": "execute_result",
          "data": {
            "text/html": [
              "<div>\n",
              "<style scoped>\n",
              "    .dataframe tbody tr th:only-of-type {\n",
              "        vertical-align: middle;\n",
              "    }\n",
              "\n",
              "    .dataframe tbody tr th {\n",
              "        vertical-align: top;\n",
              "    }\n",
              "\n",
              "    .dataframe thead th {\n",
              "        text-align: right;\n",
              "    }\n",
              "</style>\n",
              "<table border=\"1\" class=\"dataframe\">\n",
              "  <thead>\n",
              "    <tr style=\"text-align: right;\">\n",
              "      <th></th>\n",
              "      <th>Target</th>\n",
              "      <th>GrupoEconomico</th>\n",
              "      <th>Sexo</th>\n",
              "      <th>Idade</th>\n",
              "      <th>GrupoRisco</th>\n",
              "      <th>ValorCompraAnual</th>\n",
              "      <th>GastoMax</th>\n",
              "      <th>GastoMedio</th>\n",
              "      <th>UF</th>\n",
              "      <th>CidadeResidencia</th>\n",
              "      <th>RegiaodoPais</th>\n",
              "      <th>NumeroComprasOnline</th>\n",
              "    </tr>\n",
              "  </thead>\n",
              "  <tbody>\n",
              "    <tr>\n",
              "      <th>0</th>\n",
              "      <td>0</td>\n",
              "      <td>3</td>\n",
              "      <td>homem</td>\n",
              "      <td>22</td>\n",
              "      <td>1</td>\n",
              "      <td>7250.0</td>\n",
              "      <td>517.857143</td>\n",
              "      <td>604.166667</td>\n",
              "      <td>MG</td>\n",
              "      <td>Morada Nova de Minas</td>\n",
              "      <td>Região Sudeste</td>\n",
              "      <td>54.924242</td>\n",
              "    </tr>\n",
              "    <tr>\n",
              "      <th>1</th>\n",
              "      <td>1</td>\n",
              "      <td>1</td>\n",
              "      <td>mulher</td>\n",
              "      <td>38</td>\n",
              "      <td>1</td>\n",
              "      <td>71283.0</td>\n",
              "      <td>5091.642857</td>\n",
              "      <td>5940.250000</td>\n",
              "      <td>RN</td>\n",
              "      <td>Marcelino Vieira</td>\n",
              "      <td>Região Nordeste</td>\n",
              "      <td>312.644737</td>\n",
              "    </tr>\n",
              "    <tr>\n",
              "      <th>2</th>\n",
              "      <td>1</td>\n",
              "      <td>3</td>\n",
              "      <td>mulher</td>\n",
              "      <td>26</td>\n",
              "      <td>0</td>\n",
              "      <td>7925.0</td>\n",
              "      <td>566.071429</td>\n",
              "      <td>660.416667</td>\n",
              "      <td>PR</td>\n",
              "      <td>Agudos do Sul</td>\n",
              "      <td>Região Sul</td>\n",
              "      <td>50.801282</td>\n",
              "    </tr>\n",
              "    <tr>\n",
              "      <th>3</th>\n",
              "      <td>1</td>\n",
              "      <td>1</td>\n",
              "      <td>mulher</td>\n",
              "      <td>35</td>\n",
              "      <td>1</td>\n",
              "      <td>531.0</td>\n",
              "      <td>37.928571</td>\n",
              "      <td>44.250000</td>\n",
              "      <td>PR</td>\n",
              "      <td>Congonhinhas</td>\n",
              "      <td>Região Sul</td>\n",
              "      <td>2.528571</td>\n",
              "    </tr>\n",
              "    <tr>\n",
              "      <th>4</th>\n",
              "      <td>0</td>\n",
              "      <td>3</td>\n",
              "      <td>homem</td>\n",
              "      <td>35</td>\n",
              "      <td>0</td>\n",
              "      <td>805.0</td>\n",
              "      <td>57.500000</td>\n",
              "      <td>67.083333</td>\n",
              "      <td>BA</td>\n",
              "      <td>Morpará</td>\n",
              "      <td>Região Nordeste</td>\n",
              "      <td>3.833333</td>\n",
              "    </tr>\n",
              "  </tbody>\n",
              "</table>\n",
              "</div>"
            ],
            "text/plain": [
              "   Target  GrupoEconomico  ...     RegiaodoPais  NumeroComprasOnline\n",
              "0       0               3  ...   Região Sudeste            54.924242\n",
              "1       1               1  ...  Região Nordeste           312.644737\n",
              "2       1               3  ...       Região Sul            50.801282\n",
              "3       1               1  ...       Região Sul             2.528571\n",
              "4       0               3  ...  Região Nordeste             3.833333\n",
              "\n",
              "[5 rows x 12 columns]"
            ]
          },
          "metadata": {
            "tags": []
          },
          "execution_count": 14
        }
      ]
    },
    {
      "cell_type": "code",
      "metadata": {
        "colab": {
          "base_uri": "https://localhost:8080/"
        },
        "id": "OXcvG9B-reT6",
        "outputId": "40e1134c-9a72-493a-d4ef-019020381bc7"
      },
      "source": [
        "#Checa se é nulo\n",
        "df.isna()\n",
        "#Soma os nulos, por coluna:\n",
        "df.isna().sum()\n",
        "#Soma os nulos, por linha:\n",
        "df.isna().sum(axis=1)"
      ],
      "execution_count": null,
      "outputs": [
        {
          "output_type": "execute_result",
          "data": {
            "text/plain": [
              "Target                  0\n",
              "GrupoEconomico          0\n",
              "Sexo                    0\n",
              "Idade                   0\n",
              "GrupoRisco              0\n",
              "ValorCompraAnual       28\n",
              "GastoMax                0\n",
              "GastoMedio              0\n",
              "UF                      0\n",
              "CidadeResidencia        0\n",
              "RegiaodoPais            0\n",
              "NumeroComprasOnline     0\n",
              "dtype: int64"
            ]
          },
          "metadata": {
            "tags": []
          },
          "execution_count": 15
        }
      ]
    },
    {
      "cell_type": "code",
      "metadata": {
        "colab": {
          "base_uri": "https://localhost:8080/"
        },
        "id": "VqFw5NuMr6rZ",
        "outputId": "6c61d0f0-932e-41cf-b2e1-25938e6be21c"
      },
      "source": [
        "#filtro somentes as linhas onde ValorCompraAnual é nulo\n",
        "df[df['ValorCompraAnual'].isna()] "
      ],
      "execution_count": null,
      "outputs": [
        {
          "output_type": "execute_result",
          "data": {
            "text/plain": [
              "(28, 12)"
            ]
          },
          "metadata": {
            "tags": []
          },
          "execution_count": 17
        }
      ]
    },
    {
      "cell_type": "code",
      "metadata": {
        "colab": {
          "base_uri": "https://localhost:8080/"
        },
        "id": "4ph5kuj8sPAe",
        "outputId": "fd5f05ef-e079-4b3b-9fcb-45a235947286"
      },
      "source": [
        "#Apagar as linhas que contem dados nulos nan\n",
        "df.dropna(inplace=True)\n",
        "df.shape"
      ],
      "execution_count": null,
      "outputs": [
        {
          "output_type": "execute_result",
          "data": {
            "text/plain": [
              "(863, 12)"
            ]
          },
          "metadata": {
            "tags": []
          },
          "execution_count": 19
        }
      ]
    }
  ]
}