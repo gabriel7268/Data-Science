{
  "nbformat": 4,
  "nbformat_minor": 0,
  "metadata": {
    "hide_input": false,
    "kernelspec": {
      "display_name": "Python 3",
      "language": "python",
      "name": "python3"
    },
    "language_info": {
      "codemirror_mode": {
        "name": "ipython",
        "version": 3
      },
      "file_extension": ".py",
      "mimetype": "text/x-python",
      "name": "python",
      "nbconvert_exporter": "python",
      "pygments_lexer": "ipython3",
      "version": "3.8.3"
    },
    "toc": {
      "base_numbering": 1,
      "nav_menu": {},
      "number_sections": true,
      "sideBar": true,
      "skip_h1_title": false,
      "title_cell": "Table of Contents",
      "title_sidebar": "Contents",
      "toc_cell": false,
      "toc_position": {},
      "toc_section_display": true,
      "toc_window_display": false
    },
    "varInspector": {
      "cols": {
        "lenName": 16,
        "lenType": 16,
        "lenVar": 40
      },
      "kernels_config": {
        "python": {
          "delete_cmd_postfix": "",
          "delete_cmd_prefix": "del ",
          "library": "var_list.py",
          "varRefreshCmd": "print(var_dic_list())"
        },
        "r": {
          "delete_cmd_postfix": ") ",
          "delete_cmd_prefix": "rm(",
          "library": "var_list.r",
          "varRefreshCmd": "cat(var_dic_list()) "
        }
      },
      "types_to_exclude": [
        "module",
        "function",
        "builtin_function_or_method",
        "instance",
        "_Feature"
      ],
      "window_display": false
    },
    "colab": {
      "name": "Gabarito 01 - Análise de dados.ipynb",
      "provenance": [],
      "include_colab_link": true
    }
  },
  "cells": [
    {
      "cell_type": "markdown",
      "metadata": {
        "id": "view-in-github",
        "colab_type": "text"
      },
      "source": [
        "<a href=\"https://colab.research.google.com/github/gabriel7268/Data-Science/blob/main/Lets%20Code%20UFBA/Gabarito_01_An%C3%A1lise_de_dados.ipynb\" target=\"_parent\"><img src=\"https://colab.research.google.com/assets/colab-badge.svg\" alt=\"Open In Colab\"/></a>"
      ]
    },
    {
      "cell_type": "markdown",
      "metadata": {
        "id": "X0ESaH-fDMQR"
      },
      "source": [
        "## Ementa do workshop\n",
        "\n",
        "- 11/05:\n",
        "    - ambientação do jupyter notebook \n",
        "    - análise de dados - eda (exploratory data analysis)\n",
        "    - visualização de dados\n",
        "- 13/05:\n",
        "    - modelagem de machine learning\n",
        "    - avaliação do modelo\n",
        "    - extra"
      ]
    },
    {
      "cell_type": "markdown",
      "metadata": {
        "id": "hlufLqWDDMQw"
      },
      "source": [
        "**Jupyter notebook**\n",
        "- IDE = ambiente de desenvolvimento\n",
        "- Ambiente que trabalharemos utilizando python\n",
        "\n",
        "\n",
        "**Para abrir o jupyter notebook**\n",
        "- abrir prompt do anaconda\n",
        "- digitar: `jupyter notebook`"
      ]
    },
    {
      "cell_type": "markdown",
      "metadata": {
        "id": "f_1HWWWKDMQz"
      },
      "source": [
        "- **Python**\n",
        "- Características:\n",
        "    - genérico\n",
        "        - pode ser usado pra machine learning, web scraping, text mining, dashboard...\n",
        "\n",
        "- **R**\n",
        "- Características:\n",
        "    - mais voltado pra estatística\n",
        "    - menos performático    \n",
        "    - \"melhor para:\"\n",
        "        - séries temporais\n",
        "        - análise multivariada\n",
        "        - análise de sobrevivência"
      ]
    },
    {
      "cell_type": "markdown",
      "metadata": {
        "id": "9-oWch-UDMQ1"
      },
      "source": [
        "![](https://static.javatpoint.com/tutorial/r/images/r-vs-python.png)"
      ]
    },
    {
      "cell_type": "markdown",
      "metadata": {
        "id": "HS0bv-f4DMQ3"
      },
      "source": [
        "- **bibliotecas**:\n",
        "    - códigos prontos para determinada função\n",
        "    \n",
        "- **atalhos do jupyter notebook**:\n",
        "    - `tab`: autopreenche o código\n",
        "    \n",
        "        "
      ]
    },
    {
      "cell_type": "code",
      "metadata": {
        "ExecuteTime": {
          "end_time": "2021-05-11T22:47:21.969132Z",
          "start_time": "2021-05-11T22:47:21.952135Z"
        },
        "id": "ZsgNTsRFDMQ4"
      },
      "source": [
        "import pandas as pd\n",
        "import os"
      ],
      "execution_count": null,
      "outputs": []
    },
    {
      "cell_type": "code",
      "metadata": {
        "ExecuteTime": {
          "end_time": "2021-05-11T22:45:45.860882Z",
          "start_time": "2021-05-11T22:45:45.839900Z"
        },
        "id": "J6svLEiuDMQ6",
        "outputId": "d3a27c24-75bb-40b1-c3e3-282b28c67408"
      },
      "source": [
        "os.listdir()"
      ],
      "execution_count": null,
      "outputs": [
        {
          "output_type": "execute_result",
          "data": {
            "text/plain": [
              "['.ipynb_checkpoints',\n",
              " 'AtrasoCartaoCredito.csv',\n",
              " 'UFBA - Case data science - backup.ipynb',\n",
              " 'Untitled.ipynb']"
            ]
          },
          "metadata": {
            "tags": []
          },
          "execution_count": 7
        }
      ]
    },
    {
      "cell_type": "code",
      "metadata": {
        "ExecuteTime": {
          "end_time": "2021-05-11T22:47:48.315817Z",
          "start_time": "2021-05-11T22:47:48.294791Z"
        },
        "id": "bx8PSCsZDMQ9"
      },
      "source": [
        "df = pd.read_csv('AtrasoCartaoCredito.csv')"
      ],
      "execution_count": null,
      "outputs": []
    },
    {
      "cell_type": "markdown",
      "metadata": {
        "id": "QX-469lhDMQ_"
      },
      "source": [
        "- No python:\n",
        "    - atributos não têm parênteses\n",
        "    - método têm parênteses"
      ]
    },
    {
      "cell_type": "code",
      "metadata": {
        "ExecuteTime": {
          "end_time": "2021-05-11T22:49:52.135052Z",
          "start_time": "2021-05-11T22:49:52.116064Z"
        },
        "id": "G3iCQvVYDMRB",
        "outputId": "316aa1b0-33ad-45d6-b4e5-9cda281183b9"
      },
      "source": [
        "df.shape"
      ],
      "execution_count": null,
      "outputs": [
        {
          "output_type": "execute_result",
          "data": {
            "text/plain": [
              "(891, 13)"
            ]
          },
          "metadata": {
            "tags": []
          },
          "execution_count": 14
        }
      ]
    },
    {
      "cell_type": "markdown",
      "metadata": {
        "id": "f9QbEVczDMRE"
      },
      "source": [
        "- **Objetivo do case**\n",
        "    - Prever atraso de cartão de crédito (`Target`), dado as demais características (features) dos clientes"
      ]
    },
    {
      "cell_type": "code",
      "metadata": {
        "ExecuteTime": {
          "end_time": "2021-05-11T22:51:07.748549Z",
          "start_time": "2021-05-11T22:51:07.703019Z"
        },
        "id": "AFLVI96sDMRF",
        "outputId": "ca0c62bb-6feb-404e-db02-102cc8b7f088"
      },
      "source": [
        "df.head()"
      ],
      "execution_count": null,
      "outputs": [
        {
          "output_type": "execute_result",
          "data": {
            "text/html": [
              "<div>\n",
              "<style scoped>\n",
              "    .dataframe tbody tr th:only-of-type {\n",
              "        vertical-align: middle;\n",
              "    }\n",
              "\n",
              "    .dataframe tbody tr th {\n",
              "        vertical-align: top;\n",
              "    }\n",
              "\n",
              "    .dataframe thead th {\n",
              "        text-align: right;\n",
              "    }\n",
              "</style>\n",
              "<table border=\"1\" class=\"dataframe\">\n",
              "  <thead>\n",
              "    <tr style=\"text-align: right;\">\n",
              "      <th></th>\n",
              "      <th>ID</th>\n",
              "      <th>Target</th>\n",
              "      <th>GrupoEconomico</th>\n",
              "      <th>Sexo</th>\n",
              "      <th>Idade</th>\n",
              "      <th>GrupoRisco</th>\n",
              "      <th>ValorCompraAnual</th>\n",
              "      <th>GastoMax</th>\n",
              "      <th>GastoMedio</th>\n",
              "      <th>UF</th>\n",
              "      <th>CidadeResidencia</th>\n",
              "      <th>RegiaodoPais</th>\n",
              "      <th>NumeroComprasOnline</th>\n",
              "    </tr>\n",
              "  </thead>\n",
              "  <tbody>\n",
              "    <tr>\n",
              "      <th>0</th>\n",
              "      <td>1</td>\n",
              "      <td>0</td>\n",
              "      <td>3</td>\n",
              "      <td>homem</td>\n",
              "      <td>22</td>\n",
              "      <td>1</td>\n",
              "      <td>7250.0</td>\n",
              "      <td>517.857143</td>\n",
              "      <td>604.166667</td>\n",
              "      <td>MG</td>\n",
              "      <td>Morada Nova de Minas</td>\n",
              "      <td>Região Sudeste</td>\n",
              "      <td>54.924242</td>\n",
              "    </tr>\n",
              "    <tr>\n",
              "      <th>1</th>\n",
              "      <td>2</td>\n",
              "      <td>1</td>\n",
              "      <td>1</td>\n",
              "      <td>mulher</td>\n",
              "      <td>38</td>\n",
              "      <td>1</td>\n",
              "      <td>71283.0</td>\n",
              "      <td>5091.642857</td>\n",
              "      <td>5940.250000</td>\n",
              "      <td>RN</td>\n",
              "      <td>Marcelino Vieira</td>\n",
              "      <td>Região Nordeste</td>\n",
              "      <td>312.644737</td>\n",
              "    </tr>\n",
              "    <tr>\n",
              "      <th>2</th>\n",
              "      <td>3</td>\n",
              "      <td>1</td>\n",
              "      <td>3</td>\n",
              "      <td>mulher</td>\n",
              "      <td>26</td>\n",
              "      <td>0</td>\n",
              "      <td>7925.0</td>\n",
              "      <td>566.071429</td>\n",
              "      <td>660.416667</td>\n",
              "      <td>PR</td>\n",
              "      <td>Agudos do Sul</td>\n",
              "      <td>Região Sul</td>\n",
              "      <td>50.801282</td>\n",
              "    </tr>\n",
              "    <tr>\n",
              "      <th>3</th>\n",
              "      <td>4</td>\n",
              "      <td>1</td>\n",
              "      <td>1</td>\n",
              "      <td>mulher</td>\n",
              "      <td>35</td>\n",
              "      <td>1</td>\n",
              "      <td>531.0</td>\n",
              "      <td>37.928571</td>\n",
              "      <td>44.250000</td>\n",
              "      <td>PR</td>\n",
              "      <td>Congonhinhas</td>\n",
              "      <td>Região Sul</td>\n",
              "      <td>2.528571</td>\n",
              "    </tr>\n",
              "    <tr>\n",
              "      <th>4</th>\n",
              "      <td>5</td>\n",
              "      <td>0</td>\n",
              "      <td>3</td>\n",
              "      <td>homem</td>\n",
              "      <td>35</td>\n",
              "      <td>0</td>\n",
              "      <td>805.0</td>\n",
              "      <td>57.500000</td>\n",
              "      <td>67.083333</td>\n",
              "      <td>BA</td>\n",
              "      <td>Morpará</td>\n",
              "      <td>Região Nordeste</td>\n",
              "      <td>3.833333</td>\n",
              "    </tr>\n",
              "  </tbody>\n",
              "</table>\n",
              "</div>"
            ],
            "text/plain": [
              "   ID  Target  GrupoEconomico    Sexo  Idade  GrupoRisco  ValorCompraAnual  \\\n",
              "0   1       0               3   homem     22           1            7250.0   \n",
              "1   2       1               1  mulher     38           1           71283.0   \n",
              "2   3       1               3  mulher     26           0            7925.0   \n",
              "3   4       1               1  mulher     35           1             531.0   \n",
              "4   5       0               3   homem     35           0             805.0   \n",
              "\n",
              "      GastoMax   GastoMedio  UF      CidadeResidencia     RegiaodoPais  \\\n",
              "0   517.857143   604.166667  MG  Morada Nova de Minas   Região Sudeste   \n",
              "1  5091.642857  5940.250000  RN      Marcelino Vieira  Região Nordeste   \n",
              "2   566.071429   660.416667  PR         Agudos do Sul       Região Sul   \n",
              "3    37.928571    44.250000  PR          Congonhinhas       Região Sul   \n",
              "4    57.500000    67.083333  BA               Morpará  Região Nordeste   \n",
              "\n",
              "   NumeroComprasOnline  \n",
              "0            54.924242  \n",
              "1           312.644737  \n",
              "2            50.801282  \n",
              "3             2.528571  \n",
              "4             3.833333  "
            ]
          },
          "metadata": {
            "tags": []
          },
          "execution_count": 18
        }
      ]
    },
    {
      "cell_type": "code",
      "metadata": {
        "ExecuteTime": {
          "end_time": "2021-05-11T22:54:04.164262Z",
          "start_time": "2021-05-11T22:54:04.155275Z"
        },
        "id": "3G_SrrCSDMRH",
        "outputId": "7530b028-c373-4e93-a911-e1247e46473b"
      },
      "source": [
        "type(df)"
      ],
      "execution_count": null,
      "outputs": [
        {
          "output_type": "execute_result",
          "data": {
            "text/plain": [
              "pandas.core.frame.DataFrame"
            ]
          },
          "metadata": {
            "tags": []
          },
          "execution_count": 19
        }
      ]
    },
    {
      "cell_type": "markdown",
      "metadata": {
        "id": "tZB1CvsdDMRI"
      },
      "source": [
        "- comentar código\n",
        "    - `ctrl + ;` ou\n",
        "    - `ctrl + /`"
      ]
    },
    {
      "cell_type": "code",
      "metadata": {
        "ExecuteTime": {
          "end_time": "2021-05-11T22:57:14.738438Z",
          "start_time": "2021-05-11T22:57:14.716437Z"
        },
        "id": "zAvq-jjoDMRK",
        "outputId": "6294973c-8b14-49fc-f919-8c13695cca45"
      },
      "source": [
        "# selecionar coluna\n",
        "# df.ID \n",
        "df['ID'].nunique()"
      ],
      "execution_count": null,
      "outputs": [
        {
          "output_type": "execute_result",
          "data": {
            "text/plain": [
              "891"
            ]
          },
          "metadata": {
            "tags": []
          },
          "execution_count": 22
        }
      ]
    },
    {
      "cell_type": "code",
      "metadata": {
        "ExecuteTime": {
          "end_time": "2021-05-11T23:01:09.088548Z",
          "start_time": "2021-05-11T23:01:09.044551Z"
        },
        "id": "x4I7XzTODMRL",
        "outputId": "957bac3c-a90e-4ca3-c5e8-3cb744b24e08"
      },
      "source": [
        "df.head()"
      ],
      "execution_count": null,
      "outputs": [
        {
          "output_type": "execute_result",
          "data": {
            "text/html": [
              "<div>\n",
              "<style scoped>\n",
              "    .dataframe tbody tr th:only-of-type {\n",
              "        vertical-align: middle;\n",
              "    }\n",
              "\n",
              "    .dataframe tbody tr th {\n",
              "        vertical-align: top;\n",
              "    }\n",
              "\n",
              "    .dataframe thead th {\n",
              "        text-align: right;\n",
              "    }\n",
              "</style>\n",
              "<table border=\"1\" class=\"dataframe\">\n",
              "  <thead>\n",
              "    <tr style=\"text-align: right;\">\n",
              "      <th></th>\n",
              "      <th>ID</th>\n",
              "      <th>Target</th>\n",
              "      <th>GrupoEconomico</th>\n",
              "      <th>Sexo</th>\n",
              "      <th>Idade</th>\n",
              "      <th>GrupoRisco</th>\n",
              "      <th>ValorCompraAnual</th>\n",
              "      <th>GastoMax</th>\n",
              "      <th>GastoMedio</th>\n",
              "      <th>UF</th>\n",
              "      <th>CidadeResidencia</th>\n",
              "      <th>RegiaodoPais</th>\n",
              "      <th>NumeroComprasOnline</th>\n",
              "    </tr>\n",
              "  </thead>\n",
              "  <tbody>\n",
              "    <tr>\n",
              "      <th>0</th>\n",
              "      <td>1</td>\n",
              "      <td>0</td>\n",
              "      <td>3</td>\n",
              "      <td>homem</td>\n",
              "      <td>22</td>\n",
              "      <td>1</td>\n",
              "      <td>7250.0</td>\n",
              "      <td>517.857143</td>\n",
              "      <td>604.166667</td>\n",
              "      <td>MG</td>\n",
              "      <td>Morada Nova de Minas</td>\n",
              "      <td>Região Sudeste</td>\n",
              "      <td>54.924242</td>\n",
              "    </tr>\n",
              "    <tr>\n",
              "      <th>1</th>\n",
              "      <td>2</td>\n",
              "      <td>1</td>\n",
              "      <td>1</td>\n",
              "      <td>mulher</td>\n",
              "      <td>38</td>\n",
              "      <td>1</td>\n",
              "      <td>71283.0</td>\n",
              "      <td>5091.642857</td>\n",
              "      <td>5940.250000</td>\n",
              "      <td>RN</td>\n",
              "      <td>Marcelino Vieira</td>\n",
              "      <td>Região Nordeste</td>\n",
              "      <td>312.644737</td>\n",
              "    </tr>\n",
              "    <tr>\n",
              "      <th>2</th>\n",
              "      <td>3</td>\n",
              "      <td>1</td>\n",
              "      <td>3</td>\n",
              "      <td>mulher</td>\n",
              "      <td>26</td>\n",
              "      <td>0</td>\n",
              "      <td>7925.0</td>\n",
              "      <td>566.071429</td>\n",
              "      <td>660.416667</td>\n",
              "      <td>PR</td>\n",
              "      <td>Agudos do Sul</td>\n",
              "      <td>Região Sul</td>\n",
              "      <td>50.801282</td>\n",
              "    </tr>\n",
              "    <tr>\n",
              "      <th>3</th>\n",
              "      <td>4</td>\n",
              "      <td>1</td>\n",
              "      <td>1</td>\n",
              "      <td>mulher</td>\n",
              "      <td>35</td>\n",
              "      <td>1</td>\n",
              "      <td>531.0</td>\n",
              "      <td>37.928571</td>\n",
              "      <td>44.250000</td>\n",
              "      <td>PR</td>\n",
              "      <td>Congonhinhas</td>\n",
              "      <td>Região Sul</td>\n",
              "      <td>2.528571</td>\n",
              "    </tr>\n",
              "    <tr>\n",
              "      <th>4</th>\n",
              "      <td>5</td>\n",
              "      <td>0</td>\n",
              "      <td>3</td>\n",
              "      <td>homem</td>\n",
              "      <td>35</td>\n",
              "      <td>0</td>\n",
              "      <td>805.0</td>\n",
              "      <td>57.500000</td>\n",
              "      <td>67.083333</td>\n",
              "      <td>BA</td>\n",
              "      <td>Morpará</td>\n",
              "      <td>Região Nordeste</td>\n",
              "      <td>3.833333</td>\n",
              "    </tr>\n",
              "  </tbody>\n",
              "</table>\n",
              "</div>"
            ],
            "text/plain": [
              "   ID  Target  GrupoEconomico    Sexo  Idade  GrupoRisco  ValorCompraAnual  \\\n",
              "0   1       0               3   homem     22           1            7250.0   \n",
              "1   2       1               1  mulher     38           1           71283.0   \n",
              "2   3       1               3  mulher     26           0            7925.0   \n",
              "3   4       1               1  mulher     35           1             531.0   \n",
              "4   5       0               3   homem     35           0             805.0   \n",
              "\n",
              "      GastoMax   GastoMedio  UF      CidadeResidencia     RegiaodoPais  \\\n",
              "0   517.857143   604.166667  MG  Morada Nova de Minas   Região Sudeste   \n",
              "1  5091.642857  5940.250000  RN      Marcelino Vieira  Região Nordeste   \n",
              "2   566.071429   660.416667  PR         Agudos do Sul       Região Sul   \n",
              "3    37.928571    44.250000  PR          Congonhinhas       Região Sul   \n",
              "4    57.500000    67.083333  BA               Morpará  Região Nordeste   \n",
              "\n",
              "   NumeroComprasOnline  \n",
              "0            54.924242  \n",
              "1           312.644737  \n",
              "2            50.801282  \n",
              "3             2.528571  \n",
              "4             3.833333  "
            ]
          },
          "metadata": {
            "tags": []
          },
          "execution_count": 23
        }
      ]
    },
    {
      "cell_type": "markdown",
      "metadata": {
        "id": "xdCbMhUcDMRN"
      },
      "source": [
        "- **no pandas**:\n",
        "    - `axis=0`: orientado para linha\n",
        "    - `axis=1`: orientado para coluna"
      ]
    },
    {
      "cell_type": "code",
      "metadata": {
        "ExecuteTime": {
          "end_time": "2021-05-11T23:03:30.661075Z",
          "start_time": "2021-05-11T23:03:30.643077Z"
        },
        "id": "nBTqhT0EDMRO"
      },
      "source": [
        "# df.drop('ID', axis=1, inplace=True)"
      ],
      "execution_count": null,
      "outputs": []
    },
    {
      "cell_type": "code",
      "metadata": {
        "ExecuteTime": {
          "end_time": "2021-05-11T23:04:41.983559Z",
          "start_time": "2021-05-11T23:04:41.965579Z"
        },
        "id": "vk2X8Yo8DMRP"
      },
      "source": [
        "df.drop(columns='ID', inplace=True)"
      ],
      "execution_count": null,
      "outputs": []
    },
    {
      "cell_type": "code",
      "metadata": {
        "ExecuteTime": {
          "end_time": "2021-05-11T23:06:45.858222Z",
          "start_time": "2021-05-11T23:06:45.831693Z"
        },
        "id": "0yGAiGhQDMRQ",
        "outputId": "bece5081-5d42-43ca-ef5d-ef7a6164b5ec"
      },
      "source": [
        "df.isna().sum()"
      ],
      "execution_count": null,
      "outputs": [
        {
          "output_type": "execute_result",
          "data": {
            "text/plain": [
              "Target                  0\n",
              "GrupoEconomico          0\n",
              "Sexo                    0\n",
              "Idade                   0\n",
              "GrupoRisco              0\n",
              "ValorCompraAnual       28\n",
              "GastoMax                0\n",
              "GastoMedio              0\n",
              "UF                      0\n",
              "CidadeResidencia        0\n",
              "RegiaodoPais            0\n",
              "NumeroComprasOnline     0\n",
              "dtype: int64"
            ]
          },
          "metadata": {
            "tags": []
          },
          "execution_count": 36
        }
      ]
    },
    {
      "cell_type": "code",
      "metadata": {
        "ExecuteTime": {
          "end_time": "2021-05-11T23:08:44.708560Z",
          "start_time": "2021-05-11T23:08:44.700561Z"
        },
        "id": "SUGC1KoPDMRS",
        "outputId": "726d5728-f31d-40df-dc3e-ba6472c60e9b"
      },
      "source": [
        "28/891"
      ],
      "execution_count": null,
      "outputs": [
        {
          "output_type": "execute_result",
          "data": {
            "text/plain": [
              "0.031425364758698095"
            ]
          },
          "metadata": {
            "tags": []
          },
          "execution_count": 44
        }
      ]
    },
    {
      "cell_type": "code",
      "metadata": {
        "ExecuteTime": {
          "end_time": "2021-05-11T23:08:40.924423Z",
          "start_time": "2021-05-11T23:08:40.903887Z"
        },
        "id": "NmB8t8yKDMRU",
        "outputId": "892a4eca-7588-4e10-b7f4-a84f7002387c"
      },
      "source": [
        "df.shape"
      ],
      "execution_count": null,
      "outputs": [
        {
          "output_type": "execute_result",
          "data": {
            "text/plain": [
              "(891, 12)"
            ]
          },
          "metadata": {
            "tags": []
          },
          "execution_count": 43
        }
      ]
    },
    {
      "cell_type": "code",
      "metadata": {
        "ExecuteTime": {
          "end_time": "2021-05-11T23:08:35.711443Z",
          "start_time": "2021-05-11T23:08:35.674431Z"
        },
        "scrolled": true,
        "id": "2Aq-cT5WDMRV",
        "outputId": "673a41fc-1f98-4800-fdfa-a3eb05532216"
      },
      "source": [
        "df[df['ValorCompraAnual'].isna()]"
      ],
      "execution_count": null,
      "outputs": [
        {
          "output_type": "execute_result",
          "data": {
            "text/html": [
              "<div>\n",
              "<style scoped>\n",
              "    .dataframe tbody tr th:only-of-type {\n",
              "        vertical-align: middle;\n",
              "    }\n",
              "\n",
              "    .dataframe tbody tr th {\n",
              "        vertical-align: top;\n",
              "    }\n",
              "\n",
              "    .dataframe thead th {\n",
              "        text-align: right;\n",
              "    }\n",
              "</style>\n",
              "<table border=\"1\" class=\"dataframe\">\n",
              "  <thead>\n",
              "    <tr style=\"text-align: right;\">\n",
              "      <th></th>\n",
              "      <th>Target</th>\n",
              "      <th>GrupoEconomico</th>\n",
              "      <th>Sexo</th>\n",
              "      <th>Idade</th>\n",
              "      <th>GrupoRisco</th>\n",
              "      <th>ValorCompraAnual</th>\n",
              "      <th>GastoMax</th>\n",
              "      <th>GastoMedio</th>\n",
              "      <th>UF</th>\n",
              "      <th>CidadeResidencia</th>\n",
              "      <th>RegiaodoPais</th>\n",
              "      <th>NumeroComprasOnline</th>\n",
              "    </tr>\n",
              "  </thead>\n",
              "  <tbody>\n",
              "    <tr>\n",
              "      <th>236</th>\n",
              "      <td>0</td>\n",
              "      <td>2</td>\n",
              "      <td>homem</td>\n",
              "      <td>44</td>\n",
              "      <td>1</td>\n",
              "      <td>NaN</td>\n",
              "      <td>1.857143</td>\n",
              "      <td>2.166667</td>\n",
              "      <td>GO</td>\n",
              "      <td>Abadiânia</td>\n",
              "      <td>Região Centro-Oeste</td>\n",
              "      <td>0.098485</td>\n",
              "    </tr>\n",
              "    <tr>\n",
              "      <th>237</th>\n",
              "      <td>1</td>\n",
              "      <td>2</td>\n",
              "      <td>mulher</td>\n",
              "      <td>44</td>\n",
              "      <td>0</td>\n",
              "      <td>NaN</td>\n",
              "      <td>187.500000</td>\n",
              "      <td>218.750000</td>\n",
              "      <td>GO</td>\n",
              "      <td>Crixás</td>\n",
              "      <td>Região Centro-Oeste</td>\n",
              "      <td>54.687500</td>\n",
              "    </tr>\n",
              "    <tr>\n",
              "      <th>238</th>\n",
              "      <td>0</td>\n",
              "      <td>2</td>\n",
              "      <td>homem</td>\n",
              "      <td>19</td>\n",
              "      <td>0</td>\n",
              "      <td>NaN</td>\n",
              "      <td>7.500000</td>\n",
              "      <td>8.750000</td>\n",
              "      <td>PE</td>\n",
              "      <td>Joaquim Nabuco</td>\n",
              "      <td>Região Nordeste</td>\n",
              "      <td>0.921053</td>\n",
              "    </tr>\n",
              "    <tr>\n",
              "      <th>239</th>\n",
              "      <td>0</td>\n",
              "      <td>2</td>\n",
              "      <td>homem</td>\n",
              "      <td>33</td>\n",
              "      <td>0</td>\n",
              "      <td>NaN</td>\n",
              "      <td>876.785714</td>\n",
              "      <td>1022.916667</td>\n",
              "      <td>SP</td>\n",
              "      <td>Elias Fausto</td>\n",
              "      <td>Região Sudeste</td>\n",
              "      <td>61.994949</td>\n",
              "    </tr>\n",
              "    <tr>\n",
              "      <th>240</th>\n",
              "      <td>0</td>\n",
              "      <td>3</td>\n",
              "      <td>mulher</td>\n",
              "      <td>22</td>\n",
              "      <td>1</td>\n",
              "      <td>NaN</td>\n",
              "      <td>10324.428571</td>\n",
              "      <td>12045.166667</td>\n",
              "      <td>PR</td>\n",
              "      <td>Terra Boa</td>\n",
              "      <td>Região Sul</td>\n",
              "      <td>1095.015152</td>\n",
              "    </tr>\n",
              "    <tr>\n",
              "      <th>241</th>\n",
              "      <td>1</td>\n",
              "      <td>3</td>\n",
              "      <td>mulher</td>\n",
              "      <td>22</td>\n",
              "      <td>1</td>\n",
              "      <td>NaN</td>\n",
              "      <td>11.071429</td>\n",
              "      <td>12.916667</td>\n",
              "      <td>BA</td>\n",
              "      <td>Ibicuí</td>\n",
              "      <td>Região Nordeste</td>\n",
              "      <td>1.174242</td>\n",
              "    </tr>\n",
              "    <tr>\n",
              "      <th>242</th>\n",
              "      <td>0</td>\n",
              "      <td>2</td>\n",
              "      <td>homem</td>\n",
              "      <td>29</td>\n",
              "      <td>0</td>\n",
              "      <td>NaN</td>\n",
              "      <td>7.500000</td>\n",
              "      <td>8.750000</td>\n",
              "      <td>ES</td>\n",
              "      <td>João Neiva</td>\n",
              "      <td>Região Sudeste</td>\n",
              "      <td>0.603448</td>\n",
              "    </tr>\n",
              "    <tr>\n",
              "      <th>243</th>\n",
              "      <td>0</td>\n",
              "      <td>3</td>\n",
              "      <td>homem</td>\n",
              "      <td>22</td>\n",
              "      <td>0</td>\n",
              "      <td>NaN</td>\n",
              "      <td>508.928571</td>\n",
              "      <td>593.750000</td>\n",
              "      <td>PE</td>\n",
              "      <td>Jataúba</td>\n",
              "      <td>Região Nordeste</td>\n",
              "      <td>53.977273</td>\n",
              "    </tr>\n",
              "    <tr>\n",
              "      <th>244</th>\n",
              "      <td>0</td>\n",
              "      <td>3</td>\n",
              "      <td>homem</td>\n",
              "      <td>30</td>\n",
              "      <td>0</td>\n",
              "      <td>NaN</td>\n",
              "      <td>516.071429</td>\n",
              "      <td>602.083333</td>\n",
              "      <td>MG</td>\n",
              "      <td>Tocantins</td>\n",
              "      <td>Região Sudeste</td>\n",
              "      <td>40.138889</td>\n",
              "    </tr>\n",
              "    <tr>\n",
              "      <th>245</th>\n",
              "      <td>0</td>\n",
              "      <td>1</td>\n",
              "      <td>homem</td>\n",
              "      <td>44</td>\n",
              "      <td>2</td>\n",
              "      <td>NaN</td>\n",
              "      <td>6.428571</td>\n",
              "      <td>7.500000</td>\n",
              "      <td>SE</td>\n",
              "      <td>Indiaroba</td>\n",
              "      <td>Região Nordeste</td>\n",
              "      <td>0.340909</td>\n",
              "    </tr>\n",
              "    <tr>\n",
              "      <th>246</th>\n",
              "      <td>0</td>\n",
              "      <td>3</td>\n",
              "      <td>mulher</td>\n",
              "      <td>25</td>\n",
              "      <td>0</td>\n",
              "      <td>NaN</td>\n",
              "      <td>555.357143</td>\n",
              "      <td>647.916667</td>\n",
              "      <td>RN</td>\n",
              "      <td>São Paulo do Potengi</td>\n",
              "      <td>Região Nordeste</td>\n",
              "      <td>51.833333</td>\n",
              "    </tr>\n",
              "    <tr>\n",
              "      <th>247</th>\n",
              "      <td>1</td>\n",
              "      <td>2</td>\n",
              "      <td>mulher</td>\n",
              "      <td>24</td>\n",
              "      <td>0</td>\n",
              "      <td>NaN</td>\n",
              "      <td>10.357143</td>\n",
              "      <td>12.083333</td>\n",
              "      <td>PA</td>\n",
              "      <td>Aveiro</td>\n",
              "      <td>Região Norte</td>\n",
              "      <td>1.006944</td>\n",
              "    </tr>\n",
              "    <tr>\n",
              "      <th>248</th>\n",
              "      <td>1</td>\n",
              "      <td>1</td>\n",
              "      <td>homem</td>\n",
              "      <td>37</td>\n",
              "      <td>1</td>\n",
              "      <td>NaN</td>\n",
              "      <td>37538.714286</td>\n",
              "      <td>43795.166667</td>\n",
              "      <td>RS</td>\n",
              "      <td>Restinga Seca</td>\n",
              "      <td>Região Sul</td>\n",
              "      <td>2367.306306</td>\n",
              "    </tr>\n",
              "    <tr>\n",
              "      <th>249</th>\n",
              "      <td>0</td>\n",
              "      <td>2</td>\n",
              "      <td>homem</td>\n",
              "      <td>54</td>\n",
              "      <td>1</td>\n",
              "      <td>NaN</td>\n",
              "      <td>1.857143</td>\n",
              "      <td>2.166667</td>\n",
              "      <td>RO</td>\n",
              "      <td>Cujubim</td>\n",
              "      <td>Região Norte</td>\n",
              "      <td>0.080247</td>\n",
              "    </tr>\n",
              "    <tr>\n",
              "      <th>250</th>\n",
              "      <td>0</td>\n",
              "      <td>3</td>\n",
              "      <td>homem</td>\n",
              "      <td>22</td>\n",
              "      <td>0</td>\n",
              "      <td>NaN</td>\n",
              "      <td>51.785714</td>\n",
              "      <td>60.416667</td>\n",
              "      <td>MG</td>\n",
              "      <td>Montalvânia</td>\n",
              "      <td>Região Sudeste</td>\n",
              "      <td>5.492424</td>\n",
              "    </tr>\n",
              "    <tr>\n",
              "      <th>251</th>\n",
              "      <td>0</td>\n",
              "      <td>3</td>\n",
              "      <td>mulher</td>\n",
              "      <td>29</td>\n",
              "      <td>1</td>\n",
              "      <td>NaN</td>\n",
              "      <td>7473.214286</td>\n",
              "      <td>8718.750000</td>\n",
              "      <td>PR</td>\n",
              "      <td>Bituruna</td>\n",
              "      <td>Região Sul</td>\n",
              "      <td>601.293103</td>\n",
              "    </tr>\n",
              "    <tr>\n",
              "      <th>252</th>\n",
              "      <td>0</td>\n",
              "      <td>1</td>\n",
              "      <td>homem</td>\n",
              "      <td>62</td>\n",
              "      <td>0</td>\n",
              "      <td>NaN</td>\n",
              "      <td>189.642857</td>\n",
              "      <td>221.250000</td>\n",
              "      <td>PR</td>\n",
              "      <td>Contenda</td>\n",
              "      <td>Região Sul</td>\n",
              "      <td>7.137097</td>\n",
              "    </tr>\n",
              "    <tr>\n",
              "      <th>299</th>\n",
              "      <td>1</td>\n",
              "      <td>1</td>\n",
              "      <td>mulher</td>\n",
              "      <td>50</td>\n",
              "      <td>0</td>\n",
              "      <td>NaN</td>\n",
              "      <td>176800.571429</td>\n",
              "      <td>206267.333333</td>\n",
              "      <td>BA</td>\n",
              "      <td>Tapiramutá</td>\n",
              "      <td>Região Nordeste</td>\n",
              "      <td>8250.693333</td>\n",
              "    </tr>\n",
              "    <tr>\n",
              "      <th>300</th>\n",
              "      <td>1</td>\n",
              "      <td>3</td>\n",
              "      <td>mulher</td>\n",
              "      <td>22</td>\n",
              "      <td>0</td>\n",
              "      <td>NaN</td>\n",
              "      <td>55.357143</td>\n",
              "      <td>64.583333</td>\n",
              "      <td>SE</td>\n",
              "      <td>Cristinápolis</td>\n",
              "      <td>Região Nordeste</td>\n",
              "      <td>5.871212</td>\n",
              "    </tr>\n",
              "    <tr>\n",
              "      <th>301</th>\n",
              "      <td>1</td>\n",
              "      <td>3</td>\n",
              "      <td>homem</td>\n",
              "      <td>22</td>\n",
              "      <td>2</td>\n",
              "      <td>NaN</td>\n",
              "      <td>166.071429</td>\n",
              "      <td>193.750000</td>\n",
              "      <td>BA</td>\n",
              "      <td>Sapeaçu</td>\n",
              "      <td>Região Nordeste</td>\n",
              "      <td>17.613636</td>\n",
              "    </tr>\n",
              "    <tr>\n",
              "      <th>302</th>\n",
              "      <td>0</td>\n",
              "      <td>3</td>\n",
              "      <td>homem</td>\n",
              "      <td>19</td>\n",
              "      <td>0</td>\n",
              "      <td>NaN</td>\n",
              "      <td>0.000000</td>\n",
              "      <td>0.000000</td>\n",
              "      <td>RJ</td>\n",
              "      <td>Porto Real</td>\n",
              "      <td>Região Sudeste</td>\n",
              "      <td>0.000000</td>\n",
              "    </tr>\n",
              "    <tr>\n",
              "      <th>303</th>\n",
              "      <td>1</td>\n",
              "      <td>2</td>\n",
              "      <td>mulher</td>\n",
              "      <td>22</td>\n",
              "      <td>0</td>\n",
              "      <td>NaN</td>\n",
              "      <td>88.214286</td>\n",
              "      <td>102.916667</td>\n",
              "      <td>MA</td>\n",
              "      <td>Bacuri</td>\n",
              "      <td>Região Nordeste</td>\n",
              "      <td>9.356061</td>\n",
              "    </tr>\n",
              "    <tr>\n",
              "      <th>304</th>\n",
              "      <td>0</td>\n",
              "      <td>3</td>\n",
              "      <td>homem</td>\n",
              "      <td>22</td>\n",
              "      <td>0</td>\n",
              "      <td>NaN</td>\n",
              "      <td>57.500000</td>\n",
              "      <td>67.083333</td>\n",
              "      <td>SP</td>\n",
              "      <td>Cafelândia</td>\n",
              "      <td>Região Sudeste</td>\n",
              "      <td>6.098485</td>\n",
              "    </tr>\n",
              "    <tr>\n",
              "      <th>305</th>\n",
              "      <td>1</td>\n",
              "      <td>1</td>\n",
              "      <td>homem</td>\n",
              "      <td>92</td>\n",
              "      <td>1</td>\n",
              "      <td>NaN</td>\n",
              "      <td>1082.500000</td>\n",
              "      <td>1262.916667</td>\n",
              "      <td>RS</td>\n",
              "      <td>Tapes</td>\n",
              "      <td>Região Sul</td>\n",
              "      <td>27.454710</td>\n",
              "    </tr>\n",
              "    <tr>\n",
              "      <th>306</th>\n",
              "      <td>1</td>\n",
              "      <td>1</td>\n",
              "      <td>mulher</td>\n",
              "      <td>22</td>\n",
              "      <td>0</td>\n",
              "      <td>NaN</td>\n",
              "      <td>79202.357143</td>\n",
              "      <td>92402.750000</td>\n",
              "      <td>PR</td>\n",
              "      <td>Cândido de Abreu</td>\n",
              "      <td>Região Sul</td>\n",
              "      <td>8400.250000</td>\n",
              "    </tr>\n",
              "    <tr>\n",
              "      <th>307</th>\n",
              "      <td>1</td>\n",
              "      <td>1</td>\n",
              "      <td>mulher</td>\n",
              "      <td>17</td>\n",
              "      <td>1</td>\n",
              "      <td>NaN</td>\n",
              "      <td>77.785714</td>\n",
              "      <td>90.750000</td>\n",
              "      <td>CE</td>\n",
              "      <td>Monsenhor Tabosa</td>\n",
              "      <td>Região Nordeste</td>\n",
              "      <td>10.676471</td>\n",
              "    </tr>\n",
              "    <tr>\n",
              "      <th>308</th>\n",
              "      <td>0</td>\n",
              "      <td>2</td>\n",
              "      <td>homem</td>\n",
              "      <td>30</td>\n",
              "      <td>1</td>\n",
              "      <td>NaN</td>\n",
              "      <td>1.714286</td>\n",
              "      <td>2.000000</td>\n",
              "      <td>MG</td>\n",
              "      <td>Ipaba</td>\n",
              "      <td>Região Sudeste</td>\n",
              "      <td>0.133333</td>\n",
              "    </tr>\n",
              "    <tr>\n",
              "      <th>309</th>\n",
              "      <td>1</td>\n",
              "      <td>1</td>\n",
              "      <td>mulher</td>\n",
              "      <td>30</td>\n",
              "      <td>0</td>\n",
              "      <td>NaN</td>\n",
              "      <td>40663.714286</td>\n",
              "      <td>47441.000000</td>\n",
              "      <td>BA</td>\n",
              "      <td>Nova Canaã</td>\n",
              "      <td>Região Nordeste</td>\n",
              "      <td>3162.733333</td>\n",
              "    </tr>\n",
              "  </tbody>\n",
              "</table>\n",
              "</div>"
            ],
            "text/plain": [
              "     Target  GrupoEconomico    Sexo  Idade  GrupoRisco  ValorCompraAnual  \\\n",
              "236       0               2   homem     44           1               NaN   \n",
              "237       1               2  mulher     44           0               NaN   \n",
              "238       0               2   homem     19           0               NaN   \n",
              "239       0               2   homem     33           0               NaN   \n",
              "240       0               3  mulher     22           1               NaN   \n",
              "241       1               3  mulher     22           1               NaN   \n",
              "242       0               2   homem     29           0               NaN   \n",
              "243       0               3   homem     22           0               NaN   \n",
              "244       0               3   homem     30           0               NaN   \n",
              "245       0               1   homem     44           2               NaN   \n",
              "246       0               3  mulher     25           0               NaN   \n",
              "247       1               2  mulher     24           0               NaN   \n",
              "248       1               1   homem     37           1               NaN   \n",
              "249       0               2   homem     54           1               NaN   \n",
              "250       0               3   homem     22           0               NaN   \n",
              "251       0               3  mulher     29           1               NaN   \n",
              "252       0               1   homem     62           0               NaN   \n",
              "299       1               1  mulher     50           0               NaN   \n",
              "300       1               3  mulher     22           0               NaN   \n",
              "301       1               3   homem     22           2               NaN   \n",
              "302       0               3   homem     19           0               NaN   \n",
              "303       1               2  mulher     22           0               NaN   \n",
              "304       0               3   homem     22           0               NaN   \n",
              "305       1               1   homem     92           1               NaN   \n",
              "306       1               1  mulher     22           0               NaN   \n",
              "307       1               1  mulher     17           1               NaN   \n",
              "308       0               2   homem     30           1               NaN   \n",
              "309       1               1  mulher     30           0               NaN   \n",
              "\n",
              "          GastoMax     GastoMedio  UF      CidadeResidencia  \\\n",
              "236       1.857143       2.166667  GO             Abadiânia   \n",
              "237     187.500000     218.750000  GO                Crixás   \n",
              "238       7.500000       8.750000  PE        Joaquim Nabuco   \n",
              "239     876.785714    1022.916667  SP          Elias Fausto   \n",
              "240   10324.428571   12045.166667  PR             Terra Boa   \n",
              "241      11.071429      12.916667  BA                Ibicuí   \n",
              "242       7.500000       8.750000  ES            João Neiva   \n",
              "243     508.928571     593.750000  PE               Jataúba   \n",
              "244     516.071429     602.083333  MG             Tocantins   \n",
              "245       6.428571       7.500000  SE             Indiaroba   \n",
              "246     555.357143     647.916667  RN  São Paulo do Potengi   \n",
              "247      10.357143      12.083333  PA                Aveiro   \n",
              "248   37538.714286   43795.166667  RS         Restinga Seca   \n",
              "249       1.857143       2.166667  RO               Cujubim   \n",
              "250      51.785714      60.416667  MG           Montalvânia   \n",
              "251    7473.214286    8718.750000  PR              Bituruna   \n",
              "252     189.642857     221.250000  PR              Contenda   \n",
              "299  176800.571429  206267.333333  BA            Tapiramutá   \n",
              "300      55.357143      64.583333  SE         Cristinápolis   \n",
              "301     166.071429     193.750000  BA               Sapeaçu   \n",
              "302       0.000000       0.000000  RJ            Porto Real   \n",
              "303      88.214286     102.916667  MA                Bacuri   \n",
              "304      57.500000      67.083333  SP            Cafelândia   \n",
              "305    1082.500000    1262.916667  RS                 Tapes   \n",
              "306   79202.357143   92402.750000  PR      Cândido de Abreu   \n",
              "307      77.785714      90.750000  CE      Monsenhor Tabosa   \n",
              "308       1.714286       2.000000  MG                 Ipaba   \n",
              "309   40663.714286   47441.000000  BA            Nova Canaã   \n",
              "\n",
              "            RegiaodoPais  NumeroComprasOnline  \n",
              "236  Região Centro-Oeste             0.098485  \n",
              "237  Região Centro-Oeste            54.687500  \n",
              "238      Região Nordeste             0.921053  \n",
              "239       Região Sudeste            61.994949  \n",
              "240           Região Sul          1095.015152  \n",
              "241      Região Nordeste             1.174242  \n",
              "242       Região Sudeste             0.603448  \n",
              "243      Região Nordeste            53.977273  \n",
              "244       Região Sudeste            40.138889  \n",
              "245      Região Nordeste             0.340909  \n",
              "246      Região Nordeste            51.833333  \n",
              "247         Região Norte             1.006944  \n",
              "248           Região Sul          2367.306306  \n",
              "249         Região Norte             0.080247  \n",
              "250       Região Sudeste             5.492424  \n",
              "251           Região Sul           601.293103  \n",
              "252           Região Sul             7.137097  \n",
              "299      Região Nordeste          8250.693333  \n",
              "300      Região Nordeste             5.871212  \n",
              "301      Região Nordeste            17.613636  \n",
              "302       Região Sudeste             0.000000  \n",
              "303      Região Nordeste             9.356061  \n",
              "304       Região Sudeste             6.098485  \n",
              "305           Região Sul            27.454710  \n",
              "306           Região Sul          8400.250000  \n",
              "307      Região Nordeste            10.676471  \n",
              "308       Região Sudeste             0.133333  \n",
              "309      Região Nordeste          3162.733333  "
            ]
          },
          "metadata": {
            "tags": []
          },
          "execution_count": 42
        }
      ]
    },
    {
      "cell_type": "code",
      "metadata": {
        "ExecuteTime": {
          "end_time": "2021-05-11T23:13:27.698293Z",
          "start_time": "2021-05-11T23:13:27.682286Z"
        },
        "id": "xsfeZr8bDMRW"
      },
      "source": [
        "df.dropna(inplace=True)"
      ],
      "execution_count": null,
      "outputs": []
    },
    {
      "cell_type": "code",
      "metadata": {
        "ExecuteTime": {
          "end_time": "2021-05-11T23:31:54.017464Z",
          "start_time": "2021-05-11T23:31:53.983454Z"
        },
        "id": "ypnVNxPRDMRX",
        "outputId": "06738051-bbe3-495b-a1a2-f83287e48c97"
      },
      "source": [
        "df.head()"
      ],
      "execution_count": null,
      "outputs": [
        {
          "output_type": "execute_result",
          "data": {
            "text/html": [
              "<div>\n",
              "<style scoped>\n",
              "    .dataframe tbody tr th:only-of-type {\n",
              "        vertical-align: middle;\n",
              "    }\n",
              "\n",
              "    .dataframe tbody tr th {\n",
              "        vertical-align: top;\n",
              "    }\n",
              "\n",
              "    .dataframe thead th {\n",
              "        text-align: right;\n",
              "    }\n",
              "</style>\n",
              "<table border=\"1\" class=\"dataframe\">\n",
              "  <thead>\n",
              "    <tr style=\"text-align: right;\">\n",
              "      <th></th>\n",
              "      <th>Target</th>\n",
              "      <th>GrupoEconomico</th>\n",
              "      <th>Sexo</th>\n",
              "      <th>Idade</th>\n",
              "      <th>GrupoRisco</th>\n",
              "      <th>ValorCompraAnual</th>\n",
              "      <th>GastoMax</th>\n",
              "      <th>GastoMedio</th>\n",
              "      <th>UF</th>\n",
              "      <th>CidadeResidencia</th>\n",
              "      <th>RegiaodoPais</th>\n",
              "      <th>NumeroComprasOnline</th>\n",
              "    </tr>\n",
              "  </thead>\n",
              "  <tbody>\n",
              "    <tr>\n",
              "      <th>0</th>\n",
              "      <td>0</td>\n",
              "      <td>3</td>\n",
              "      <td>homem</td>\n",
              "      <td>22</td>\n",
              "      <td>1</td>\n",
              "      <td>7250.0</td>\n",
              "      <td>517.857143</td>\n",
              "      <td>604.166667</td>\n",
              "      <td>MG</td>\n",
              "      <td>Morada Nova de Minas</td>\n",
              "      <td>Região Sudeste</td>\n",
              "      <td>54.924242</td>\n",
              "    </tr>\n",
              "    <tr>\n",
              "      <th>1</th>\n",
              "      <td>1</td>\n",
              "      <td>1</td>\n",
              "      <td>mulher</td>\n",
              "      <td>38</td>\n",
              "      <td>1</td>\n",
              "      <td>71283.0</td>\n",
              "      <td>5091.642857</td>\n",
              "      <td>5940.250000</td>\n",
              "      <td>RN</td>\n",
              "      <td>Marcelino Vieira</td>\n",
              "      <td>Região Nordeste</td>\n",
              "      <td>312.644737</td>\n",
              "    </tr>\n",
              "    <tr>\n",
              "      <th>2</th>\n",
              "      <td>1</td>\n",
              "      <td>3</td>\n",
              "      <td>mulher</td>\n",
              "      <td>26</td>\n",
              "      <td>0</td>\n",
              "      <td>7925.0</td>\n",
              "      <td>566.071429</td>\n",
              "      <td>660.416667</td>\n",
              "      <td>PR</td>\n",
              "      <td>Agudos do Sul</td>\n",
              "      <td>Região Sul</td>\n",
              "      <td>50.801282</td>\n",
              "    </tr>\n",
              "    <tr>\n",
              "      <th>3</th>\n",
              "      <td>1</td>\n",
              "      <td>1</td>\n",
              "      <td>mulher</td>\n",
              "      <td>35</td>\n",
              "      <td>1</td>\n",
              "      <td>531.0</td>\n",
              "      <td>37.928571</td>\n",
              "      <td>44.250000</td>\n",
              "      <td>PR</td>\n",
              "      <td>Congonhinhas</td>\n",
              "      <td>Região Sul</td>\n",
              "      <td>2.528571</td>\n",
              "    </tr>\n",
              "    <tr>\n",
              "      <th>4</th>\n",
              "      <td>0</td>\n",
              "      <td>3</td>\n",
              "      <td>homem</td>\n",
              "      <td>35</td>\n",
              "      <td>0</td>\n",
              "      <td>805.0</td>\n",
              "      <td>57.500000</td>\n",
              "      <td>67.083333</td>\n",
              "      <td>BA</td>\n",
              "      <td>Morpará</td>\n",
              "      <td>Região Nordeste</td>\n",
              "      <td>3.833333</td>\n",
              "    </tr>\n",
              "  </tbody>\n",
              "</table>\n",
              "</div>"
            ],
            "text/plain": [
              "   Target  GrupoEconomico    Sexo  Idade  GrupoRisco  ValorCompraAnual  \\\n",
              "0       0               3   homem     22           1            7250.0   \n",
              "1       1               1  mulher     38           1           71283.0   \n",
              "2       1               3  mulher     26           0            7925.0   \n",
              "3       1               1  mulher     35           1             531.0   \n",
              "4       0               3   homem     35           0             805.0   \n",
              "\n",
              "      GastoMax   GastoMedio  UF      CidadeResidencia     RegiaodoPais  \\\n",
              "0   517.857143   604.166667  MG  Morada Nova de Minas   Região Sudeste   \n",
              "1  5091.642857  5940.250000  RN      Marcelino Vieira  Região Nordeste   \n",
              "2   566.071429   660.416667  PR         Agudos do Sul       Região Sul   \n",
              "3    37.928571    44.250000  PR          Congonhinhas       Região Sul   \n",
              "4    57.500000    67.083333  BA               Morpará  Região Nordeste   \n",
              "\n",
              "   NumeroComprasOnline  \n",
              "0            54.924242  \n",
              "1           312.644737  \n",
              "2            50.801282  \n",
              "3             2.528571  \n",
              "4             3.833333  "
            ]
          },
          "metadata": {
            "tags": []
          },
          "execution_count": 51
        }
      ]
    },
    {
      "cell_type": "code",
      "metadata": {
        "ExecuteTime": {
          "end_time": "2021-05-11T23:32:24.759433Z",
          "start_time": "2021-05-11T23:32:24.750435Z"
        },
        "id": "3ybxmgcKDMRY",
        "outputId": "f5a923a9-4b15-45c7-d90e-952623580425"
      },
      "source": [
        "df.shape"
      ],
      "execution_count": null,
      "outputs": [
        {
          "output_type": "execute_result",
          "data": {
            "text/plain": [
              "(863, 12)"
            ]
          },
          "metadata": {
            "tags": []
          },
          "execution_count": 53
        }
      ]
    },
    {
      "cell_type": "code",
      "metadata": {
        "ExecuteTime": {
          "end_time": "2021-05-11T23:33:22.468752Z",
          "start_time": "2021-05-11T23:33:22.453741Z"
        },
        "id": "FKYrMFm6DMRZ",
        "outputId": "e0ac7a21-cc82-4f4c-b74c-3730e21f7a6e"
      },
      "source": [
        "df['Target'].value_counts()"
      ],
      "execution_count": null,
      "outputs": [
        {
          "output_type": "execute_result",
          "data": {
            "text/plain": [
              "0    533\n",
              "1    330\n",
              "Name: Target, dtype: int64"
            ]
          },
          "metadata": {
            "tags": []
          },
          "execution_count": 55
        }
      ]
    },
    {
      "cell_type": "code",
      "metadata": {
        "ExecuteTime": {
          "end_time": "2021-05-11T23:35:19.142983Z",
          "start_time": "2021-05-11T23:35:19.137981Z"
        },
        "id": "RC1s03XBDMRZ",
        "outputId": "afe657c8-1b12-4dcc-983e-49573337b7c3"
      },
      "source": [
        "print('hello world')"
      ],
      "execution_count": null,
      "outputs": [
        {
          "output_type": "stream",
          "text": [
            "hello world\n"
          ],
          "name": "stdout"
        }
      ]
    },
    {
      "cell_type": "markdown",
      "metadata": {
        "id": "aUFqGDhgDMRa"
      },
      "source": [
        "## Análise de dados exploratória"
      ]
    },
    {
      "cell_type": "code",
      "metadata": {
        "ExecuteTime": {
          "end_time": "2021-05-11T23:35:30.644370Z",
          "start_time": "2021-05-11T23:35:30.421369Z"
        },
        "id": "Ed62PLPDDMRe",
        "outputId": "7090524a-a468-464f-90e9-1e5cfb887dd4"
      },
      "source": [
        "df['Target'].value_counts().plot(kind='barh', title='Frequencia da target', figsize=(4, 3));"
      ],
      "execution_count": null,
      "outputs": [
        {
          "output_type": "display_data",
          "data": {
            "image/png": "[encoded data removed]",
            "text/plain": [
              "<Figure size 288x216 with 1 Axes>"
            ]
          },
          "metadata": {
            "tags": [],
            "needs_background": "light"
          }
        }
      ]
    },
    {
      "cell_type": "code",
      "metadata": {
        "ExecuteTime": {
          "end_time": "2021-05-11T23:37:04.328957Z",
          "start_time": "2021-05-11T23:37:04.312953Z"
        },
        "id": "Sdypg8S7DMRf"
      },
      "source": [
        "# bibliotecas de visualização de dados\n",
        "import matplotlib.pyplot as b\n",
        "import seaborn as sns"
      ],
      "execution_count": null,
      "outputs": []
    },
    {
      "cell_type": "markdown",
      "metadata": {
        "id": "rBwRA0oaDMRi"
      },
      "source": [
        "- **Diferenças entre bibliotecas de visualização de dados**\n",
        "    - `plot do pandas`: enxuto e simples\n",
        "    - `matplotlib`: complexo e menos conciso\n",
        "    - `seaborn`: mais voltado pra estatística"
      ]
    },
    {
      "cell_type": "code",
      "metadata": {
        "ExecuteTime": {
          "end_time": "2021-05-11T23:36:19.154758Z",
          "start_time": "2021-05-11T23:36:18.941773Z"
        },
        "id": "hhki46-NDMRj",
        "outputId": "61c66e30-658e-4f13-dda7-2259eff4a6bd"
      },
      "source": [
        "sns.countplot(data=df, y='Target');"
      ],
      "execution_count": null,
      "outputs": [
        {
          "output_type": "display_data",
          "data": {
            "image/png": "[encoded data removed]",
            "text/plain": [
              "<Figure size 432x288 with 1 Axes>"
            ]
          },
          "metadata": {
            "tags": [],
            "needs_background": "light"
          }
        }
      ]
    },
    {
      "cell_type": "code",
      "metadata": {
        "ExecuteTime": {
          "end_time": "2021-05-11T23:39:13.060078Z",
          "start_time": "2021-05-11T23:39:12.668569Z"
        },
        "scrolled": true,
        "id": "kuMjh6KbDMRk",
        "outputId": "c433a5fb-139e-47e4-9d4d-5ad4b089e0c2"
      },
      "source": [
        "plt.title('DIstribuição de idade') \n",
        "df['Idade'].hist(bins=50, grid=False);"
      ],
      "execution_count": null,
      "outputs": [
        {
          "output_type": "display_data",
          "data": {
            "image/png": "[encoded data removed]",
            "text/plain": [
              "<Figure size 432x288 with 1 Axes>"
            ]
          },
          "metadata": {
            "tags": [],
            "needs_background": "light"
          }
        }
      ]
    },
    {
      "cell_type": "code",
      "metadata": {
        "ExecuteTime": {
          "end_time": "2021-05-11T23:37:10.998905Z",
          "start_time": "2021-05-11T23:37:10.966907Z"
        },
        "id": "CNkQA4p1DMRl",
        "outputId": "9d806aea-4383-403b-9f4f-3623bc09976b"
      },
      "source": [
        "df.head()"
      ],
      "execution_count": null,
      "outputs": [
        {
          "output_type": "execute_result",
          "data": {
            "text/html": [
              "<div>\n",
              "<style scoped>\n",
              "    .dataframe tbody tr th:only-of-type {\n",
              "        vertical-align: middle;\n",
              "    }\n",
              "\n",
              "    .dataframe tbody tr th {\n",
              "        vertical-align: top;\n",
              "    }\n",
              "\n",
              "    .dataframe thead th {\n",
              "        text-align: right;\n",
              "    }\n",
              "</style>\n",
              "<table border=\"1\" class=\"dataframe\">\n",
              "  <thead>\n",
              "    <tr style=\"text-align: right;\">\n",
              "      <th></th>\n",
              "      <th>Target</th>\n",
              "      <th>GrupoEconomico</th>\n",
              "      <th>Sexo</th>\n",
              "      <th>Idade</th>\n",
              "      <th>GrupoRisco</th>\n",
              "      <th>ValorCompraAnual</th>\n",
              "      <th>GastoMax</th>\n",
              "      <th>GastoMedio</th>\n",
              "      <th>UF</th>\n",
              "      <th>CidadeResidencia</th>\n",
              "      <th>RegiaodoPais</th>\n",
              "      <th>NumeroComprasOnline</th>\n",
              "    </tr>\n",
              "  </thead>\n",
              "  <tbody>\n",
              "    <tr>\n",
              "      <th>0</th>\n",
              "      <td>0</td>\n",
              "      <td>3</td>\n",
              "      <td>homem</td>\n",
              "      <td>22</td>\n",
              "      <td>1</td>\n",
              "      <td>7250.0</td>\n",
              "      <td>517.857143</td>\n",
              "      <td>604.166667</td>\n",
              "      <td>MG</td>\n",
              "      <td>Morada Nova de Minas</td>\n",
              "      <td>Região Sudeste</td>\n",
              "      <td>54.924242</td>\n",
              "    </tr>\n",
              "    <tr>\n",
              "      <th>1</th>\n",
              "      <td>1</td>\n",
              "      <td>1</td>\n",
              "      <td>mulher</td>\n",
              "      <td>38</td>\n",
              "      <td>1</td>\n",
              "      <td>71283.0</td>\n",
              "      <td>5091.642857</td>\n",
              "      <td>5940.250000</td>\n",
              "      <td>RN</td>\n",
              "      <td>Marcelino Vieira</td>\n",
              "      <td>Região Nordeste</td>\n",
              "      <td>312.644737</td>\n",
              "    </tr>\n",
              "    <tr>\n",
              "      <th>2</th>\n",
              "      <td>1</td>\n",
              "      <td>3</td>\n",
              "      <td>mulher</td>\n",
              "      <td>26</td>\n",
              "      <td>0</td>\n",
              "      <td>7925.0</td>\n",
              "      <td>566.071429</td>\n",
              "      <td>660.416667</td>\n",
              "      <td>PR</td>\n",
              "      <td>Agudos do Sul</td>\n",
              "      <td>Região Sul</td>\n",
              "      <td>50.801282</td>\n",
              "    </tr>\n",
              "    <tr>\n",
              "      <th>3</th>\n",
              "      <td>1</td>\n",
              "      <td>1</td>\n",
              "      <td>mulher</td>\n",
              "      <td>35</td>\n",
              "      <td>1</td>\n",
              "      <td>531.0</td>\n",
              "      <td>37.928571</td>\n",
              "      <td>44.250000</td>\n",
              "      <td>PR</td>\n",
              "      <td>Congonhinhas</td>\n",
              "      <td>Região Sul</td>\n",
              "      <td>2.528571</td>\n",
              "    </tr>\n",
              "    <tr>\n",
              "      <th>4</th>\n",
              "      <td>0</td>\n",
              "      <td>3</td>\n",
              "      <td>homem</td>\n",
              "      <td>35</td>\n",
              "      <td>0</td>\n",
              "      <td>805.0</td>\n",
              "      <td>57.500000</td>\n",
              "      <td>67.083333</td>\n",
              "      <td>BA</td>\n",
              "      <td>Morpará</td>\n",
              "      <td>Região Nordeste</td>\n",
              "      <td>3.833333</td>\n",
              "    </tr>\n",
              "  </tbody>\n",
              "</table>\n",
              "</div>"
            ],
            "text/plain": [
              "   Target  GrupoEconomico    Sexo  Idade  GrupoRisco  ValorCompraAnual  \\\n",
              "0       0               3   homem     22           1            7250.0   \n",
              "1       1               1  mulher     38           1           71283.0   \n",
              "2       1               3  mulher     26           0            7925.0   \n",
              "3       1               1  mulher     35           1             531.0   \n",
              "4       0               3   homem     35           0             805.0   \n",
              "\n",
              "      GastoMax   GastoMedio  UF      CidadeResidencia     RegiaodoPais  \\\n",
              "0   517.857143   604.166667  MG  Morada Nova de Minas   Região Sudeste   \n",
              "1  5091.642857  5940.250000  RN      Marcelino Vieira  Região Nordeste   \n",
              "2   566.071429   660.416667  PR         Agudos do Sul       Região Sul   \n",
              "3    37.928571    44.250000  PR          Congonhinhas       Região Sul   \n",
              "4    57.500000    67.083333  BA               Morpará  Região Nordeste   \n",
              "\n",
              "   NumeroComprasOnline  \n",
              "0            54.924242  \n",
              "1           312.644737  \n",
              "2            50.801282  \n",
              "3             2.528571  \n",
              "4             3.833333  "
            ]
          },
          "metadata": {
            "tags": []
          },
          "execution_count": 64
        }
      ]
    },
    {
      "cell_type": "code",
      "metadata": {
        "ExecuteTime": {
          "end_time": "2021-05-11T23:43:45.218558Z",
          "start_time": "2021-05-11T23:43:44.455946Z"
        },
        "id": "zfVeKCUNDMRm",
        "outputId": "0dcbbb61-1f8d-4f1d-fe83-86c07e3bb8e7"
      },
      "source": [
        "sns.scatterplot(data=df, x='Idade', y='GastoMedio', hue='Target');"
      ],
      "execution_count": null,
      "outputs": [
        {
          "output_type": "display_data",
          "data": {
            "image/png": "[encoded data removed]",
            "text/plain": [
              "<Figure size 432x288 with 1 Axes>"
            ]
          },
          "metadata": {
            "tags": [],
            "needs_background": "light"
          }
        }
      ]
    },
    {
      "cell_type": "code",
      "metadata": {
        "ExecuteTime": {
          "end_time": "2021-05-11T23:44:31.460722Z",
          "start_time": "2021-05-11T23:44:31.432730Z"
        },
        "id": "BS0sm-HqDMRn",
        "outputId": "62404a36-2537-4f3d-e5d0-828489735469"
      },
      "source": [
        "df.head()"
      ],
      "execution_count": null,
      "outputs": [
        {
          "output_type": "execute_result",
          "data": {
            "text/html": [
              "<div>\n",
              "<style scoped>\n",
              "    .dataframe tbody tr th:only-of-type {\n",
              "        vertical-align: middle;\n",
              "    }\n",
              "\n",
              "    .dataframe tbody tr th {\n",
              "        vertical-align: top;\n",
              "    }\n",
              "\n",
              "    .dataframe thead th {\n",
              "        text-align: right;\n",
              "    }\n",
              "</style>\n",
              "<table border=\"1\" class=\"dataframe\">\n",
              "  <thead>\n",
              "    <tr style=\"text-align: right;\">\n",
              "      <th></th>\n",
              "      <th>Target</th>\n",
              "      <th>GrupoEconomico</th>\n",
              "      <th>Sexo</th>\n",
              "      <th>Idade</th>\n",
              "      <th>GrupoRisco</th>\n",
              "      <th>ValorCompraAnual</th>\n",
              "      <th>GastoMax</th>\n",
              "      <th>GastoMedio</th>\n",
              "      <th>UF</th>\n",
              "      <th>CidadeResidencia</th>\n",
              "      <th>RegiaodoPais</th>\n",
              "      <th>NumeroComprasOnline</th>\n",
              "    </tr>\n",
              "  </thead>\n",
              "  <tbody>\n",
              "    <tr>\n",
              "      <th>0</th>\n",
              "      <td>0</td>\n",
              "      <td>3</td>\n",
              "      <td>homem</td>\n",
              "      <td>22</td>\n",
              "      <td>1</td>\n",
              "      <td>7250.0</td>\n",
              "      <td>517.857143</td>\n",
              "      <td>604.166667</td>\n",
              "      <td>MG</td>\n",
              "      <td>Morada Nova de Minas</td>\n",
              "      <td>Região Sudeste</td>\n",
              "      <td>54.924242</td>\n",
              "    </tr>\n",
              "    <tr>\n",
              "      <th>1</th>\n",
              "      <td>1</td>\n",
              "      <td>1</td>\n",
              "      <td>mulher</td>\n",
              "      <td>38</td>\n",
              "      <td>1</td>\n",
              "      <td>71283.0</td>\n",
              "      <td>5091.642857</td>\n",
              "      <td>5940.250000</td>\n",
              "      <td>RN</td>\n",
              "      <td>Marcelino Vieira</td>\n",
              "      <td>Região Nordeste</td>\n",
              "      <td>312.644737</td>\n",
              "    </tr>\n",
              "    <tr>\n",
              "      <th>2</th>\n",
              "      <td>1</td>\n",
              "      <td>3</td>\n",
              "      <td>mulher</td>\n",
              "      <td>26</td>\n",
              "      <td>0</td>\n",
              "      <td>7925.0</td>\n",
              "      <td>566.071429</td>\n",
              "      <td>660.416667</td>\n",
              "      <td>PR</td>\n",
              "      <td>Agudos do Sul</td>\n",
              "      <td>Região Sul</td>\n",
              "      <td>50.801282</td>\n",
              "    </tr>\n",
              "    <tr>\n",
              "      <th>3</th>\n",
              "      <td>1</td>\n",
              "      <td>1</td>\n",
              "      <td>mulher</td>\n",
              "      <td>35</td>\n",
              "      <td>1</td>\n",
              "      <td>531.0</td>\n",
              "      <td>37.928571</td>\n",
              "      <td>44.250000</td>\n",
              "      <td>PR</td>\n",
              "      <td>Congonhinhas</td>\n",
              "      <td>Região Sul</td>\n",
              "      <td>2.528571</td>\n",
              "    </tr>\n",
              "    <tr>\n",
              "      <th>4</th>\n",
              "      <td>0</td>\n",
              "      <td>3</td>\n",
              "      <td>homem</td>\n",
              "      <td>35</td>\n",
              "      <td>0</td>\n",
              "      <td>805.0</td>\n",
              "      <td>57.500000</td>\n",
              "      <td>67.083333</td>\n",
              "      <td>BA</td>\n",
              "      <td>Morpará</td>\n",
              "      <td>Região Nordeste</td>\n",
              "      <td>3.833333</td>\n",
              "    </tr>\n",
              "  </tbody>\n",
              "</table>\n",
              "</div>"
            ],
            "text/plain": [
              "   Target  GrupoEconomico    Sexo  Idade  GrupoRisco  ValorCompraAnual  \\\n",
              "0       0               3   homem     22           1            7250.0   \n",
              "1       1               1  mulher     38           1           71283.0   \n",
              "2       1               3  mulher     26           0            7925.0   \n",
              "3       1               1  mulher     35           1             531.0   \n",
              "4       0               3   homem     35           0             805.0   \n",
              "\n",
              "      GastoMax   GastoMedio  UF      CidadeResidencia     RegiaodoPais  \\\n",
              "0   517.857143   604.166667  MG  Morada Nova de Minas   Região Sudeste   \n",
              "1  5091.642857  5940.250000  RN      Marcelino Vieira  Região Nordeste   \n",
              "2   566.071429   660.416667  PR         Agudos do Sul       Região Sul   \n",
              "3    37.928571    44.250000  PR          Congonhinhas       Região Sul   \n",
              "4    57.500000    67.083333  BA               Morpará  Região Nordeste   \n",
              "\n",
              "   NumeroComprasOnline  \n",
              "0            54.924242  \n",
              "1           312.644737  \n",
              "2            50.801282  \n",
              "3             2.528571  \n",
              "4             3.833333  "
            ]
          },
          "metadata": {
            "tags": []
          },
          "execution_count": 77
        }
      ]
    },
    {
      "cell_type": "code",
      "metadata": {
        "ExecuteTime": {
          "end_time": "2021-05-11T23:44:26.962371Z",
          "start_time": "2021-05-11T23:44:26.898351Z"
        },
        "id": "eaE360ThDMRo",
        "outputId": "a266a463-1811-448e-ba92-4e8b1fd6e90c"
      },
      "source": [
        "df.describe()"
      ],
      "execution_count": null,
      "outputs": [
        {
          "output_type": "execute_result",
          "data": {
            "text/html": [
              "<div>\n",
              "<style scoped>\n",
              "    .dataframe tbody tr th:only-of-type {\n",
              "        vertical-align: middle;\n",
              "    }\n",
              "\n",
              "    .dataframe tbody tr th {\n",
              "        vertical-align: top;\n",
              "    }\n",
              "\n",
              "    .dataframe thead th {\n",
              "        text-align: right;\n",
              "    }\n",
              "</style>\n",
              "<table border=\"1\" class=\"dataframe\">\n",
              "  <thead>\n",
              "    <tr style=\"text-align: right;\">\n",
              "      <th></th>\n",
              "      <th>Target</th>\n",
              "      <th>GrupoEconomico</th>\n",
              "      <th>Idade</th>\n",
              "      <th>GrupoRisco</th>\n",
              "      <th>ValorCompraAnual</th>\n",
              "      <th>GastoMax</th>\n",
              "      <th>GastoMedio</th>\n",
              "      <th>NumeroComprasOnline</th>\n",
              "    </tr>\n",
              "  </thead>\n",
              "  <tbody>\n",
              "    <tr>\n",
              "      <th>count</th>\n",
              "      <td>863.000000</td>\n",
              "      <td>863.000000</td>\n",
              "      <td>863.000000</td>\n",
              "      <td>863.000000</td>\n",
              "      <td>8.630000e+02</td>\n",
              "      <td>863.000000</td>\n",
              "      <td>863.000000</td>\n",
              "      <td>8.630000e+02</td>\n",
              "    </tr>\n",
              "    <tr>\n",
              "      <th>mean</th>\n",
              "      <td>0.382387</td>\n",
              "      <td>2.315180</td>\n",
              "      <td>30.334878</td>\n",
              "      <td>0.524913</td>\n",
              "      <td>1.138834e+05</td>\n",
              "      <td>8134.529217</td>\n",
              "      <td>9490.284087</td>\n",
              "      <td>5.034897e+04</td>\n",
              "    </tr>\n",
              "    <tr>\n",
              "      <th>std</th>\n",
              "      <td>0.486252</td>\n",
              "      <td>0.835877</td>\n",
              "      <td>12.437044</td>\n",
              "      <td>1.114768</td>\n",
              "      <td>3.976690e+05</td>\n",
              "      <td>28404.926272</td>\n",
              "      <td>33139.080651</td>\n",
              "      <td>1.172906e+06</td>\n",
              "    </tr>\n",
              "    <tr>\n",
              "      <th>min</th>\n",
              "      <td>0.000000</td>\n",
              "      <td>1.000000</td>\n",
              "      <td>10.000000</td>\n",
              "      <td>0.000000</td>\n",
              "      <td>0.000000e+00</td>\n",
              "      <td>0.000000</td>\n",
              "      <td>0.000000</td>\n",
              "      <td>0.000000e+00</td>\n",
              "    </tr>\n",
              "    <tr>\n",
              "      <th>25%</th>\n",
              "      <td>0.000000</td>\n",
              "      <td>2.000000</td>\n",
              "      <td>22.000000</td>\n",
              "      <td>0.000000</td>\n",
              "      <td>1.610000e+02</td>\n",
              "      <td>11.500000</td>\n",
              "      <td>13.416667</td>\n",
              "      <td>1.098485e+00</td>\n",
              "    </tr>\n",
              "    <tr>\n",
              "      <th>50%</th>\n",
              "      <td>0.000000</td>\n",
              "      <td>3.000000</td>\n",
              "      <td>26.000000</td>\n",
              "      <td>0.000000</td>\n",
              "      <td>2.415000e+03</td>\n",
              "      <td>172.500000</td>\n",
              "      <td>201.250000</td>\n",
              "      <td>1.341667e+01</td>\n",
              "    </tr>\n",
              "    <tr>\n",
              "      <th>75%</th>\n",
              "      <td>1.000000</td>\n",
              "      <td>3.000000</td>\n",
              "      <td>36.000000</td>\n",
              "      <td>1.000000</td>\n",
              "      <td>7.883350e+04</td>\n",
              "      <td>5630.964286</td>\n",
              "      <td>6569.458333</td>\n",
              "      <td>5.757389e+02</td>\n",
              "    </tr>\n",
              "    <tr>\n",
              "      <th>max</th>\n",
              "      <td>1.000000</td>\n",
              "      <td>3.000000</td>\n",
              "      <td>90.000000</td>\n",
              "      <td>8.000000</td>\n",
              "      <td>5.123292e+06</td>\n",
              "      <td>365949.428571</td>\n",
              "      <td>426941.000000</td>\n",
              "      <td>3.410762e+07</td>\n",
              "    </tr>\n",
              "  </tbody>\n",
              "</table>\n",
              "</div>"
            ],
            "text/plain": [
              "           Target  GrupoEconomico       Idade  GrupoRisco  ValorCompraAnual  \\\n",
              "count  863.000000      863.000000  863.000000  863.000000      8.630000e+02   \n",
              "mean     0.382387        2.315180   30.334878    0.524913      1.138834e+05   \n",
              "std      0.486252        0.835877   12.437044    1.114768      3.976690e+05   \n",
              "min      0.000000        1.000000   10.000000    0.000000      0.000000e+00   \n",
              "25%      0.000000        2.000000   22.000000    0.000000      1.610000e+02   \n",
              "50%      0.000000        3.000000   26.000000    0.000000      2.415000e+03   \n",
              "75%      1.000000        3.000000   36.000000    1.000000      7.883350e+04   \n",
              "max      1.000000        3.000000   90.000000    8.000000      5.123292e+06   \n",
              "\n",
              "            GastoMax     GastoMedio  NumeroComprasOnline  \n",
              "count     863.000000     863.000000         8.630000e+02  \n",
              "mean     8134.529217    9490.284087         5.034897e+04  \n",
              "std     28404.926272   33139.080651         1.172906e+06  \n",
              "min         0.000000       0.000000         0.000000e+00  \n",
              "25%        11.500000      13.416667         1.098485e+00  \n",
              "50%       172.500000     201.250000         1.341667e+01  \n",
              "75%      5630.964286    6569.458333         5.757389e+02  \n",
              "max    365949.428571  426941.000000         3.410762e+07  "
            ]
          },
          "metadata": {
            "tags": []
          },
          "execution_count": 76
        }
      ]
    },
    {
      "cell_type": "code",
      "metadata": {
        "ExecuteTime": {
          "end_time": "2021-05-11T23:48:06.844680Z",
          "start_time": "2021-05-11T23:48:06.612038Z"
        },
        "id": "c6y45aCfDMRp",
        "outputId": "f93fb47e-e387-4710-fb9f-d34f89242cb0"
      },
      "source": [
        "df['NumeroComprasOnline'].plot.box();"
      ],
      "execution_count": null,
      "outputs": [
        {
          "output_type": "display_data",
          "data": {
            "image/png": "[encoded data removed]",
            "text/plain": [
              "<Figure size 432x288 with 1 Axes>"
            ]
          },
          "metadata": {
            "tags": [],
            "needs_background": "light"
          }
        }
      ]
    },
    {
      "cell_type": "code",
      "metadata": {
        "ExecuteTime": {
          "end_time": "2021-05-11T23:46:54.030341Z",
          "start_time": "2021-05-11T23:46:53.812264Z"
        },
        "id": "ggzahudHDMRq",
        "outputId": "6e3500ee-7068-4bc2-ccad-73f19235ea55"
      },
      "source": [
        "df['Idade'].plot.box();"
      ],
      "execution_count": null,
      "outputs": [
        {
          "output_type": "display_data",
          "data": {
            "image/png": "[encoded data removed]",
            "text/plain": [
              "<Figure size 432x288 with 1 Axes>"
            ]
          },
          "metadata": {
            "tags": [],
            "needs_background": "light"
          }
        }
      ]
    },
    {
      "cell_type": "markdown",
      "metadata": {
        "id": "wvDwq-jwDMRr"
      },
      "source": [
        "## Tratamento dos dados para modelagem"
      ]
    },
    {
      "cell_type": "code",
      "metadata": {
        "ExecuteTime": {
          "end_time": "2021-05-11T23:50:00.527917Z",
          "start_time": "2021-05-11T23:50:00.499918Z"
        },
        "id": "XwkHCqaODMRr",
        "outputId": "e2efdf05-fc64-4800-e96e-7be48a29c057"
      },
      "source": [
        "df.head()"
      ],
      "execution_count": null,
      "outputs": [
        {
          "output_type": "execute_result",
          "data": {
            "text/html": [
              "<div>\n",
              "<style scoped>\n",
              "    .dataframe tbody tr th:only-of-type {\n",
              "        vertical-align: middle;\n",
              "    }\n",
              "\n",
              "    .dataframe tbody tr th {\n",
              "        vertical-align: top;\n",
              "    }\n",
              "\n",
              "    .dataframe thead th {\n",
              "        text-align: right;\n",
              "    }\n",
              "</style>\n",
              "<table border=\"1\" class=\"dataframe\">\n",
              "  <thead>\n",
              "    <tr style=\"text-align: right;\">\n",
              "      <th></th>\n",
              "      <th>Target</th>\n",
              "      <th>GrupoEconomico</th>\n",
              "      <th>Sexo</th>\n",
              "      <th>Idade</th>\n",
              "      <th>GrupoRisco</th>\n",
              "      <th>ValorCompraAnual</th>\n",
              "      <th>GastoMax</th>\n",
              "      <th>GastoMedio</th>\n",
              "      <th>UF</th>\n",
              "      <th>CidadeResidencia</th>\n",
              "      <th>RegiaodoPais</th>\n",
              "      <th>NumeroComprasOnline</th>\n",
              "    </tr>\n",
              "  </thead>\n",
              "  <tbody>\n",
              "    <tr>\n",
              "      <th>0</th>\n",
              "      <td>0</td>\n",
              "      <td>3</td>\n",
              "      <td>homem</td>\n",
              "      <td>22</td>\n",
              "      <td>1</td>\n",
              "      <td>7250.0</td>\n",
              "      <td>517.857143</td>\n",
              "      <td>604.166667</td>\n",
              "      <td>MG</td>\n",
              "      <td>Morada Nova de Minas</td>\n",
              "      <td>Região Sudeste</td>\n",
              "      <td>54.924242</td>\n",
              "    </tr>\n",
              "    <tr>\n",
              "      <th>1</th>\n",
              "      <td>1</td>\n",
              "      <td>1</td>\n",
              "      <td>mulher</td>\n",
              "      <td>38</td>\n",
              "      <td>1</td>\n",
              "      <td>71283.0</td>\n",
              "      <td>5091.642857</td>\n",
              "      <td>5940.250000</td>\n",
              "      <td>RN</td>\n",
              "      <td>Marcelino Vieira</td>\n",
              "      <td>Região Nordeste</td>\n",
              "      <td>312.644737</td>\n",
              "    </tr>\n",
              "    <tr>\n",
              "      <th>2</th>\n",
              "      <td>1</td>\n",
              "      <td>3</td>\n",
              "      <td>mulher</td>\n",
              "      <td>26</td>\n",
              "      <td>0</td>\n",
              "      <td>7925.0</td>\n",
              "      <td>566.071429</td>\n",
              "      <td>660.416667</td>\n",
              "      <td>PR</td>\n",
              "      <td>Agudos do Sul</td>\n",
              "      <td>Região Sul</td>\n",
              "      <td>50.801282</td>\n",
              "    </tr>\n",
              "    <tr>\n",
              "      <th>3</th>\n",
              "      <td>1</td>\n",
              "      <td>1</td>\n",
              "      <td>mulher</td>\n",
              "      <td>35</td>\n",
              "      <td>1</td>\n",
              "      <td>531.0</td>\n",
              "      <td>37.928571</td>\n",
              "      <td>44.250000</td>\n",
              "      <td>PR</td>\n",
              "      <td>Congonhinhas</td>\n",
              "      <td>Região Sul</td>\n",
              "      <td>2.528571</td>\n",
              "    </tr>\n",
              "    <tr>\n",
              "      <th>4</th>\n",
              "      <td>0</td>\n",
              "      <td>3</td>\n",
              "      <td>homem</td>\n",
              "      <td>35</td>\n",
              "      <td>0</td>\n",
              "      <td>805.0</td>\n",
              "      <td>57.500000</td>\n",
              "      <td>67.083333</td>\n",
              "      <td>BA</td>\n",
              "      <td>Morpará</td>\n",
              "      <td>Região Nordeste</td>\n",
              "      <td>3.833333</td>\n",
              "    </tr>\n",
              "  </tbody>\n",
              "</table>\n",
              "</div>"
            ],
            "text/plain": [
              "   Target  GrupoEconomico    Sexo  Idade  GrupoRisco  ValorCompraAnual  \\\n",
              "0       0               3   homem     22           1            7250.0   \n",
              "1       1               1  mulher     38           1           71283.0   \n",
              "2       1               3  mulher     26           0            7925.0   \n",
              "3       1               1  mulher     35           1             531.0   \n",
              "4       0               3   homem     35           0             805.0   \n",
              "\n",
              "      GastoMax   GastoMedio  UF      CidadeResidencia     RegiaodoPais  \\\n",
              "0   517.857143   604.166667  MG  Morada Nova de Minas   Região Sudeste   \n",
              "1  5091.642857  5940.250000  RN      Marcelino Vieira  Região Nordeste   \n",
              "2   566.071429   660.416667  PR         Agudos do Sul       Região Sul   \n",
              "3    37.928571    44.250000  PR          Congonhinhas       Região Sul   \n",
              "4    57.500000    67.083333  BA               Morpará  Região Nordeste   \n",
              "\n",
              "   NumeroComprasOnline  \n",
              "0            54.924242  \n",
              "1           312.644737  \n",
              "2            50.801282  \n",
              "3             2.528571  \n",
              "4             3.833333  "
            ]
          },
          "metadata": {
            "tags": []
          },
          "execution_count": 81
        }
      ]
    },
    {
      "cell_type": "code",
      "metadata": {
        "ExecuteTime": {
          "end_time": "2021-05-11T23:50:38.938236Z",
          "start_time": "2021-05-11T23:50:38.915236Z"
        },
        "id": "XA2UjIq-DMRs",
        "outputId": "e6fe0257-bd2b-448d-e91c-ed0b3dbdc860"
      },
      "source": [
        "df.dtypes"
      ],
      "execution_count": null,
      "outputs": [
        {
          "output_type": "execute_result",
          "data": {
            "text/plain": [
              "Target                   int64\n",
              "GrupoEconomico           int64\n",
              "Sexo                    object\n",
              "Idade                    int64\n",
              "GrupoRisco               int64\n",
              "ValorCompraAnual       float64\n",
              "GastoMax               float64\n",
              "GastoMedio             float64\n",
              "UF                      object\n",
              "CidadeResidencia        object\n",
              "RegiaodoPais            object\n",
              "NumeroComprasOnline    float64\n",
              "dtype: object"
            ]
          },
          "metadata": {
            "tags": []
          },
          "execution_count": 82
        }
      ]
    },
    {
      "cell_type": "code",
      "metadata": {
        "ExecuteTime": {
          "end_time": "2021-05-11T23:51:36.275278Z",
          "start_time": "2021-05-11T23:51:36.241277Z"
        },
        "id": "eiktrlsgDMRt",
        "outputId": "3355c6cf-f4f2-46bd-afe1-5a35f5f036af"
      },
      "source": [
        "df.select_dtypes(include='object').head()"
      ],
      "execution_count": null,
      "outputs": [
        {
          "output_type": "execute_result",
          "data": {
            "text/html": [
              "<div>\n",
              "<style scoped>\n",
              "    .dataframe tbody tr th:only-of-type {\n",
              "        vertical-align: middle;\n",
              "    }\n",
              "\n",
              "    .dataframe tbody tr th {\n",
              "        vertical-align: top;\n",
              "    }\n",
              "\n",
              "    .dataframe thead th {\n",
              "        text-align: right;\n",
              "    }\n",
              "</style>\n",
              "<table border=\"1\" class=\"dataframe\">\n",
              "  <thead>\n",
              "    <tr style=\"text-align: right;\">\n",
              "      <th></th>\n",
              "      <th>Sexo</th>\n",
              "      <th>UF</th>\n",
              "      <th>CidadeResidencia</th>\n",
              "      <th>RegiaodoPais</th>\n",
              "    </tr>\n",
              "  </thead>\n",
              "  <tbody>\n",
              "    <tr>\n",
              "      <th>0</th>\n",
              "      <td>homem</td>\n",
              "      <td>MG</td>\n",
              "      <td>Morada Nova de Minas</td>\n",
              "      <td>Região Sudeste</td>\n",
              "    </tr>\n",
              "    <tr>\n",
              "      <th>1</th>\n",
              "      <td>mulher</td>\n",
              "      <td>RN</td>\n",
              "      <td>Marcelino Vieira</td>\n",
              "      <td>Região Nordeste</td>\n",
              "    </tr>\n",
              "    <tr>\n",
              "      <th>2</th>\n",
              "      <td>mulher</td>\n",
              "      <td>PR</td>\n",
              "      <td>Agudos do Sul</td>\n",
              "      <td>Região Sul</td>\n",
              "    </tr>\n",
              "    <tr>\n",
              "      <th>3</th>\n",
              "      <td>mulher</td>\n",
              "      <td>PR</td>\n",
              "      <td>Congonhinhas</td>\n",
              "      <td>Região Sul</td>\n",
              "    </tr>\n",
              "    <tr>\n",
              "      <th>4</th>\n",
              "      <td>homem</td>\n",
              "      <td>BA</td>\n",
              "      <td>Morpará</td>\n",
              "      <td>Região Nordeste</td>\n",
              "    </tr>\n",
              "  </tbody>\n",
              "</table>\n",
              "</div>"
            ],
            "text/plain": [
              "     Sexo  UF      CidadeResidencia     RegiaodoPais\n",
              "0   homem  MG  Morada Nova de Minas   Região Sudeste\n",
              "1  mulher  RN      Marcelino Vieira  Região Nordeste\n",
              "2  mulher  PR         Agudos do Sul       Região Sul\n",
              "3  mulher  PR          Congonhinhas       Região Sul\n",
              "4   homem  BA               Morpará  Região Nordeste"
            ]
          },
          "metadata": {
            "tags": []
          },
          "execution_count": 85
        }
      ]
    },
    {
      "cell_type": "code",
      "metadata": {
        "ExecuteTime": {
          "end_time": "2021-05-11T23:51:53.801517Z",
          "start_time": "2021-05-11T23:51:53.765494Z"
        },
        "id": "3XWz7y5_DMRt",
        "outputId": "b817ffa8-b07a-4261-ff53-20bedb75f800"
      },
      "source": [
        "df.select_dtypes(include='object').nunique()"
      ],
      "execution_count": null,
      "outputs": [
        {
          "output_type": "execute_result",
          "data": {
            "text/plain": [
              "Sexo                  2\n",
              "UF                   26\n",
              "CidadeResidencia    823\n",
              "RegiaodoPais          5\n",
              "dtype: int64"
            ]
          },
          "metadata": {
            "tags": []
          },
          "execution_count": 86
        }
      ]
    },
    {
      "cell_type": "code",
      "metadata": {
        "ExecuteTime": {
          "end_time": "2021-05-11T23:52:26.958185Z",
          "start_time": "2021-05-11T23:52:26.945182Z"
        },
        "id": "mHlBueDcDMRu"
      },
      "source": [
        "import numpy as np"
      ],
      "execution_count": null,
      "outputs": []
    },
    {
      "cell_type": "code",
      "metadata": {
        "ExecuteTime": {
          "end_time": "2021-05-11T23:53:49.965606Z",
          "start_time": "2021-05-11T23:53:49.948623Z"
        },
        "id": "3k5YYpZRDMRv"
      },
      "source": [
        "df['Sexo_mulher'] = np.where(df['Sexo']=='mulher', 1, 0)"
      ],
      "execution_count": null,
      "outputs": []
    },
    {
      "cell_type": "code",
      "metadata": {
        "ExecuteTime": {
          "end_time": "2021-05-11T23:54:21.039646Z",
          "start_time": "2021-05-11T23:54:21.026639Z"
        },
        "id": "lFSnvGokDMRv"
      },
      "source": [
        "df.drop(columns='Sexo', inplace=True)"
      ],
      "execution_count": null,
      "outputs": []
    },
    {
      "cell_type": "code",
      "metadata": {
        "ExecuteTime": {
          "end_time": "2021-05-11T23:56:41.437146Z",
          "start_time": "2021-05-11T23:56:41.417151Z"
        },
        "id": "5rv7JCUaDMRw",
        "outputId": "bb12fb04-e716-4ab3-ec3a-3c1f23b20bf9"
      },
      "source": [
        "df.select_dtypes(include='object').head()"
      ],
      "execution_count": null,
      "outputs": [
        {
          "output_type": "execute_result",
          "data": {
            "text/html": [
              "<div>\n",
              "<style scoped>\n",
              "    .dataframe tbody tr th:only-of-type {\n",
              "        vertical-align: middle;\n",
              "    }\n",
              "\n",
              "    .dataframe tbody tr th {\n",
              "        vertical-align: top;\n",
              "    }\n",
              "\n",
              "    .dataframe thead th {\n",
              "        text-align: right;\n",
              "    }\n",
              "</style>\n",
              "<table border=\"1\" class=\"dataframe\">\n",
              "  <thead>\n",
              "    <tr style=\"text-align: right;\">\n",
              "      <th></th>\n",
              "      <th>UF</th>\n",
              "      <th>RegiaodoPais</th>\n",
              "    </tr>\n",
              "  </thead>\n",
              "  <tbody>\n",
              "    <tr>\n",
              "      <th>0</th>\n",
              "      <td>MG</td>\n",
              "      <td>Região Sudeste</td>\n",
              "    </tr>\n",
              "    <tr>\n",
              "      <th>1</th>\n",
              "      <td>RN</td>\n",
              "      <td>Região Nordeste</td>\n",
              "    </tr>\n",
              "    <tr>\n",
              "      <th>2</th>\n",
              "      <td>PR</td>\n",
              "      <td>Região Sul</td>\n",
              "    </tr>\n",
              "    <tr>\n",
              "      <th>3</th>\n",
              "      <td>PR</td>\n",
              "      <td>Região Sul</td>\n",
              "    </tr>\n",
              "    <tr>\n",
              "      <th>4</th>\n",
              "      <td>BA</td>\n",
              "      <td>Região Nordeste</td>\n",
              "    </tr>\n",
              "  </tbody>\n",
              "</table>\n",
              "</div>"
            ],
            "text/plain": [
              "   UF     RegiaodoPais\n",
              "0  MG   Região Sudeste\n",
              "1  RN  Região Nordeste\n",
              "2  PR       Região Sul\n",
              "3  PR       Região Sul\n",
              "4  BA  Região Nordeste"
            ]
          },
          "metadata": {
            "tags": []
          },
          "execution_count": 102
        }
      ]
    },
    {
      "cell_type": "code",
      "metadata": {
        "ExecuteTime": {
          "end_time": "2021-05-11T23:56:38.346239Z",
          "start_time": "2021-05-11T23:56:38.337240Z"
        },
        "id": "Hl3BC1x7DMRx"
      },
      "source": [
        "df.drop(columns='CidadeResidencia', inplace=True)"
      ],
      "execution_count": null,
      "outputs": []
    },
    {
      "cell_type": "code",
      "metadata": {
        "ExecuteTime": {
          "end_time": "2021-05-11T23:56:47.228974Z",
          "start_time": "2021-05-11T23:56:47.192985Z"
        },
        "id": "vQKlaZtFDMRx",
        "outputId": "69268243-c7c9-4f02-c6ef-8049003045ae"
      },
      "source": [
        "df.select_dtypes(include='object').nunique()"
      ],
      "execution_count": null,
      "outputs": [
        {
          "output_type": "execute_result",
          "data": {
            "text/plain": [
              "UF              26\n",
              "RegiaodoPais     5\n",
              "dtype: int64"
            ]
          },
          "metadata": {
            "tags": []
          },
          "execution_count": 103
        }
      ]
    },
    {
      "cell_type": "code",
      "metadata": {
        "ExecuteTime": {
          "end_time": "2021-05-12T00:02:11.353659Z",
          "start_time": "2021-05-12T00:02:11.332655Z"
        },
        "id": "WX7Md1WSDMRy"
      },
      "source": [
        "df.drop(columns='UF', inplace=True)"
      ],
      "execution_count": null,
      "outputs": []
    },
    {
      "cell_type": "code",
      "metadata": {
        "ExecuteTime": {
          "end_time": "2021-05-12T00:01:19.485140Z",
          "start_time": "2021-05-12T00:01:19.150596Z"
        },
        "id": "B0eo-VWsDMRz",
        "outputId": "0c8da595-56b2-42c4-ab51-4700d5e5f406"
      },
      "source": [
        "plt.figure(figsize=(14, 6))\n",
        "sns.countplot(data=df, y='RegiaodoPais');"
      ],
      "execution_count": null,
      "outputs": [
        {
          "output_type": "display_data",
          "data": {
            "image/png": "[encoded data removed]",
            "text/plain": [
              "<Figure size 1008x432 with 1 Axes>"
            ]
          },
          "metadata": {
            "tags": [],
            "needs_background": "light"
          }
        }
      ]
    },
    {
      "cell_type": "code",
      "metadata": {
        "ExecuteTime": {
          "end_time": "2021-05-12T00:05:02.629268Z",
          "start_time": "2021-05-12T00:05:02.614270Z"
        },
        "id": "qBCInqNODMR0"
      },
      "source": [
        "df = pd.get_dummies(df, columns=['RegiaodoPais'], drop_first=True)"
      ],
      "execution_count": null,
      "outputs": []
    },
    {
      "cell_type": "markdown",
      "metadata": {
        "id": "_XZ_Te4KDMR1"
      },
      "source": [
        "**Tratando variáveis categóricas**\n",
        "\n",
        "Explicando dummy (ou one-hot) encoding\n",
        "\n",
        "![](https://images.deepai.org/glossary-terms/85ba9785fe164baca5739a8594e71e4f/dummy.jpeg)"
      ]
    },
    {
      "cell_type": "code",
      "metadata": {
        "ExecuteTime": {
          "end_time": "2021-05-12T00:05:07.401225Z",
          "start_time": "2021-05-12T00:05:07.364709Z"
        },
        "id": "yAjO4Q0VDMR1",
        "outputId": "55d47c72-3fb3-440e-dbb7-f5d74b5974f2"
      },
      "source": [
        "df.head()"
      ],
      "execution_count": null,
      "outputs": [
        {
          "output_type": "execute_result",
          "data": {
            "text/html": [
              "<div>\n",
              "<style scoped>\n",
              "    .dataframe tbody tr th:only-of-type {\n",
              "        vertical-align: middle;\n",
              "    }\n",
              "\n",
              "    .dataframe tbody tr th {\n",
              "        vertical-align: top;\n",
              "    }\n",
              "\n",
              "    .dataframe thead th {\n",
              "        text-align: right;\n",
              "    }\n",
              "</style>\n",
              "<table border=\"1\" class=\"dataframe\">\n",
              "  <thead>\n",
              "    <tr style=\"text-align: right;\">\n",
              "      <th></th>\n",
              "      <th>Target</th>\n",
              "      <th>GrupoEconomico</th>\n",
              "      <th>Idade</th>\n",
              "      <th>GrupoRisco</th>\n",
              "      <th>ValorCompraAnual</th>\n",
              "      <th>GastoMax</th>\n",
              "      <th>GastoMedio</th>\n",
              "      <th>NumeroComprasOnline</th>\n",
              "      <th>Sexo_mulher</th>\n",
              "      <th>RegiaodoPais_Região Nordeste</th>\n",
              "      <th>RegiaodoPais_Região Norte</th>\n",
              "      <th>RegiaodoPais_Região Sudeste</th>\n",
              "      <th>RegiaodoPais_Região Sul</th>\n",
              "    </tr>\n",
              "  </thead>\n",
              "  <tbody>\n",
              "    <tr>\n",
              "      <th>0</th>\n",
              "      <td>0</td>\n",
              "      <td>3</td>\n",
              "      <td>22</td>\n",
              "      <td>1</td>\n",
              "      <td>7250.0</td>\n",
              "      <td>517.857143</td>\n",
              "      <td>604.166667</td>\n",
              "      <td>54.924242</td>\n",
              "      <td>0</td>\n",
              "      <td>0</td>\n",
              "      <td>0</td>\n",
              "      <td>1</td>\n",
              "      <td>0</td>\n",
              "    </tr>\n",
              "    <tr>\n",
              "      <th>1</th>\n",
              "      <td>1</td>\n",
              "      <td>1</td>\n",
              "      <td>38</td>\n",
              "      <td>1</td>\n",
              "      <td>71283.0</td>\n",
              "      <td>5091.642857</td>\n",
              "      <td>5940.250000</td>\n",
              "      <td>312.644737</td>\n",
              "      <td>1</td>\n",
              "      <td>1</td>\n",
              "      <td>0</td>\n",
              "      <td>0</td>\n",
              "      <td>0</td>\n",
              "    </tr>\n",
              "    <tr>\n",
              "      <th>2</th>\n",
              "      <td>1</td>\n",
              "      <td>3</td>\n",
              "      <td>26</td>\n",
              "      <td>0</td>\n",
              "      <td>7925.0</td>\n",
              "      <td>566.071429</td>\n",
              "      <td>660.416667</td>\n",
              "      <td>50.801282</td>\n",
              "      <td>1</td>\n",
              "      <td>0</td>\n",
              "      <td>0</td>\n",
              "      <td>0</td>\n",
              "      <td>1</td>\n",
              "    </tr>\n",
              "    <tr>\n",
              "      <th>3</th>\n",
              "      <td>1</td>\n",
              "      <td>1</td>\n",
              "      <td>35</td>\n",
              "      <td>1</td>\n",
              "      <td>531.0</td>\n",
              "      <td>37.928571</td>\n",
              "      <td>44.250000</td>\n",
              "      <td>2.528571</td>\n",
              "      <td>1</td>\n",
              "      <td>0</td>\n",
              "      <td>0</td>\n",
              "      <td>0</td>\n",
              "      <td>1</td>\n",
              "    </tr>\n",
              "    <tr>\n",
              "      <th>4</th>\n",
              "      <td>0</td>\n",
              "      <td>3</td>\n",
              "      <td>35</td>\n",
              "      <td>0</td>\n",
              "      <td>805.0</td>\n",
              "      <td>57.500000</td>\n",
              "      <td>67.083333</td>\n",
              "      <td>3.833333</td>\n",
              "      <td>0</td>\n",
              "      <td>1</td>\n",
              "      <td>0</td>\n",
              "      <td>0</td>\n",
              "      <td>0</td>\n",
              "    </tr>\n",
              "  </tbody>\n",
              "</table>\n",
              "</div>"
            ],
            "text/plain": [
              "   Target  GrupoEconomico  Idade  GrupoRisco  ValorCompraAnual     GastoMax  \\\n",
              "0       0               3     22           1            7250.0   517.857143   \n",
              "1       1               1     38           1           71283.0  5091.642857   \n",
              "2       1               3     26           0            7925.0   566.071429   \n",
              "3       1               1     35           1             531.0    37.928571   \n",
              "4       0               3     35           0             805.0    57.500000   \n",
              "\n",
              "    GastoMedio  NumeroComprasOnline  Sexo_mulher  \\\n",
              "0   604.166667            54.924242            0   \n",
              "1  5940.250000           312.644737            1   \n",
              "2   660.416667            50.801282            1   \n",
              "3    44.250000             2.528571            1   \n",
              "4    67.083333             3.833333            0   \n",
              "\n",
              "   RegiaodoPais_Região Nordeste  RegiaodoPais_Região Norte  \\\n",
              "0                             0                          0   \n",
              "1                             1                          0   \n",
              "2                             0                          0   \n",
              "3                             0                          0   \n",
              "4                             1                          0   \n",
              "\n",
              "   RegiaodoPais_Região Sudeste  RegiaodoPais_Região Sul  \n",
              "0                            1                        0  \n",
              "1                            0                        0  \n",
              "2                            0                        1  \n",
              "3                            0                        1  \n",
              "4                            0                        0  "
            ]
          },
          "metadata": {
            "tags": []
          },
          "execution_count": 111
        }
      ]
    },
    {
      "cell_type": "code",
      "metadata": {
        "ExecuteTime": {
          "end_time": "2021-05-12T00:05:34.145712Z",
          "start_time": "2021-05-12T00:05:33.871613Z"
        },
        "id": "6xqMJhuZDMR2",
        "outputId": "ff6ddd58-7979-4427-a24d-b476af47b02a"
      },
      "source": [
        "sns.countplot(data=df, y='GrupoRisco')"
      ],
      "execution_count": null,
      "outputs": [
        {
          "output_type": "execute_result",
          "data": {
            "text/plain": [
              "<matplotlib.axes._subplots.AxesSubplot at 0x1d5b23d4850>"
            ]
          },
          "metadata": {
            "tags": []
          },
          "execution_count": 112
        },
        {
          "output_type": "display_data",
          "data": {
            "image/png": "[encoded data removed]",
            "text/plain": [
              "<Figure size 432x288 with 1 Axes>"
            ]
          },
          "metadata": {
            "tags": [],
            "needs_background": "light"
          }
        }
      ]
    },
    {
      "cell_type": "code",
      "metadata": {
        "ExecuteTime": {
          "end_time": "2021-05-12T00:06:11.408676Z",
          "start_time": "2021-05-12T00:06:11.371656Z"
        },
        "id": "CgFvKEmWDMR3",
        "outputId": "92352a09-8ac6-4a85-e66a-032d6cecddf6"
      },
      "source": [
        "df.head()"
      ],
      "execution_count": null,
      "outputs": [
        {
          "output_type": "execute_result",
          "data": {
            "text/html": [
              "<div>\n",
              "<style scoped>\n",
              "    .dataframe tbody tr th:only-of-type {\n",
              "        vertical-align: middle;\n",
              "    }\n",
              "\n",
              "    .dataframe tbody tr th {\n",
              "        vertical-align: top;\n",
              "    }\n",
              "\n",
              "    .dataframe thead th {\n",
              "        text-align: right;\n",
              "    }\n",
              "</style>\n",
              "<table border=\"1\" class=\"dataframe\">\n",
              "  <thead>\n",
              "    <tr style=\"text-align: right;\">\n",
              "      <th></th>\n",
              "      <th>Target</th>\n",
              "      <th>GrupoEconomico</th>\n",
              "      <th>Idade</th>\n",
              "      <th>GrupoRisco</th>\n",
              "      <th>ValorCompraAnual</th>\n",
              "      <th>GastoMax</th>\n",
              "      <th>GastoMedio</th>\n",
              "      <th>NumeroComprasOnline</th>\n",
              "      <th>Sexo_mulher</th>\n",
              "      <th>RegiaodoPais_Região Nordeste</th>\n",
              "      <th>RegiaodoPais_Região Norte</th>\n",
              "      <th>RegiaodoPais_Região Sudeste</th>\n",
              "      <th>RegiaodoPais_Região Sul</th>\n",
              "    </tr>\n",
              "  </thead>\n",
              "  <tbody>\n",
              "    <tr>\n",
              "      <th>0</th>\n",
              "      <td>0</td>\n",
              "      <td>3</td>\n",
              "      <td>22</td>\n",
              "      <td>1</td>\n",
              "      <td>7250.0</td>\n",
              "      <td>517.857143</td>\n",
              "      <td>604.166667</td>\n",
              "      <td>54.924242</td>\n",
              "      <td>0</td>\n",
              "      <td>0</td>\n",
              "      <td>0</td>\n",
              "      <td>1</td>\n",
              "      <td>0</td>\n",
              "    </tr>\n",
              "    <tr>\n",
              "      <th>1</th>\n",
              "      <td>1</td>\n",
              "      <td>1</td>\n",
              "      <td>38</td>\n",
              "      <td>1</td>\n",
              "      <td>71283.0</td>\n",
              "      <td>5091.642857</td>\n",
              "      <td>5940.250000</td>\n",
              "      <td>312.644737</td>\n",
              "      <td>1</td>\n",
              "      <td>1</td>\n",
              "      <td>0</td>\n",
              "      <td>0</td>\n",
              "      <td>0</td>\n",
              "    </tr>\n",
              "    <tr>\n",
              "      <th>2</th>\n",
              "      <td>1</td>\n",
              "      <td>3</td>\n",
              "      <td>26</td>\n",
              "      <td>0</td>\n",
              "      <td>7925.0</td>\n",
              "      <td>566.071429</td>\n",
              "      <td>660.416667</td>\n",
              "      <td>50.801282</td>\n",
              "      <td>1</td>\n",
              "      <td>0</td>\n",
              "      <td>0</td>\n",
              "      <td>0</td>\n",
              "      <td>1</td>\n",
              "    </tr>\n",
              "    <tr>\n",
              "      <th>3</th>\n",
              "      <td>1</td>\n",
              "      <td>1</td>\n",
              "      <td>35</td>\n",
              "      <td>1</td>\n",
              "      <td>531.0</td>\n",
              "      <td>37.928571</td>\n",
              "      <td>44.250000</td>\n",
              "      <td>2.528571</td>\n",
              "      <td>1</td>\n",
              "      <td>0</td>\n",
              "      <td>0</td>\n",
              "      <td>0</td>\n",
              "      <td>1</td>\n",
              "    </tr>\n",
              "    <tr>\n",
              "      <th>4</th>\n",
              "      <td>0</td>\n",
              "      <td>3</td>\n",
              "      <td>35</td>\n",
              "      <td>0</td>\n",
              "      <td>805.0</td>\n",
              "      <td>57.500000</td>\n",
              "      <td>67.083333</td>\n",
              "      <td>3.833333</td>\n",
              "      <td>0</td>\n",
              "      <td>1</td>\n",
              "      <td>0</td>\n",
              "      <td>0</td>\n",
              "      <td>0</td>\n",
              "    </tr>\n",
              "  </tbody>\n",
              "</table>\n",
              "</div>"
            ],
            "text/plain": [
              "   Target  GrupoEconomico  Idade  GrupoRisco  ValorCompraAnual     GastoMax  \\\n",
              "0       0               3     22           1            7250.0   517.857143   \n",
              "1       1               1     38           1           71283.0  5091.642857   \n",
              "2       1               3     26           0            7925.0   566.071429   \n",
              "3       1               1     35           1             531.0    37.928571   \n",
              "4       0               3     35           0             805.0    57.500000   \n",
              "\n",
              "    GastoMedio  NumeroComprasOnline  Sexo_mulher  \\\n",
              "0   604.166667            54.924242            0   \n",
              "1  5940.250000           312.644737            1   \n",
              "2   660.416667            50.801282            1   \n",
              "3    44.250000             2.528571            1   \n",
              "4    67.083333             3.833333            0   \n",
              "\n",
              "   RegiaodoPais_Região Nordeste  RegiaodoPais_Região Norte  \\\n",
              "0                             0                          0   \n",
              "1                             1                          0   \n",
              "2                             0                          0   \n",
              "3                             0                          0   \n",
              "4                             1                          0   \n",
              "\n",
              "   RegiaodoPais_Região Sudeste  RegiaodoPais_Região Sul  \n",
              "0                            1                        0  \n",
              "1                            0                        0  \n",
              "2                            0                        1  \n",
              "3                            0                        1  \n",
              "4                            0                        0  "
            ]
          },
          "metadata": {
            "tags": []
          },
          "execution_count": 113
        }
      ]
    },
    {
      "cell_type": "code",
      "metadata": {
        "ExecuteTime": {
          "end_time": "2021-05-12T00:06:30.899991Z",
          "start_time": "2021-05-12T00:06:30.821631Z"
        },
        "id": "uEjS8oHTDMR3",
        "outputId": "02999e7c-de92-477d-d882-bb4a4de53934"
      },
      "source": [
        "pd.crosstab(df['GrupoRisco'], df['Target'])"
      ],
      "execution_count": null,
      "outputs": [
        {
          "output_type": "execute_result",
          "data": {
            "text/html": [
              "<div>\n",
              "<style scoped>\n",
              "    .dataframe tbody tr th:only-of-type {\n",
              "        vertical-align: middle;\n",
              "    }\n",
              "\n",
              "    .dataframe tbody tr th {\n",
              "        vertical-align: top;\n",
              "    }\n",
              "\n",
              "    .dataframe thead th {\n",
              "        text-align: right;\n",
              "    }\n",
              "</style>\n",
              "<table border=\"1\" class=\"dataframe\">\n",
              "  <thead>\n",
              "    <tr style=\"text-align: right;\">\n",
              "      <th>Target</th>\n",
              "      <th>0</th>\n",
              "      <th>1</th>\n",
              "    </tr>\n",
              "    <tr>\n",
              "      <th>GrupoRisco</th>\n",
              "      <th></th>\n",
              "      <th></th>\n",
              "    </tr>\n",
              "  </thead>\n",
              "  <tbody>\n",
              "    <tr>\n",
              "      <th>0</th>\n",
              "      <td>388</td>\n",
              "      <td>203</td>\n",
              "    </tr>\n",
              "    <tr>\n",
              "      <th>1</th>\n",
              "      <td>92</td>\n",
              "      <td>108</td>\n",
              "    </tr>\n",
              "    <tr>\n",
              "      <th>2</th>\n",
              "      <td>14</td>\n",
              "      <td>12</td>\n",
              "    </tr>\n",
              "    <tr>\n",
              "      <th>3</th>\n",
              "      <td>12</td>\n",
              "      <td>4</td>\n",
              "    </tr>\n",
              "    <tr>\n",
              "      <th>4</th>\n",
              "      <td>15</td>\n",
              "      <td>3</td>\n",
              "    </tr>\n",
              "    <tr>\n",
              "      <th>5</th>\n",
              "      <td>5</td>\n",
              "      <td>0</td>\n",
              "    </tr>\n",
              "    <tr>\n",
              "      <th>8</th>\n",
              "      <td>7</td>\n",
              "      <td>0</td>\n",
              "    </tr>\n",
              "  </tbody>\n",
              "</table>\n",
              "</div>"
            ],
            "text/plain": [
              "Target        0    1\n",
              "GrupoRisco          \n",
              "0           388  203\n",
              "1            92  108\n",
              "2            14   12\n",
              "3            12    4\n",
              "4            15    3\n",
              "5             5    0\n",
              "8             7    0"
            ]
          },
          "metadata": {
            "tags": []
          },
          "execution_count": 114
        }
      ]
    },
    {
      "cell_type": "code",
      "metadata": {
        "ExecuteTime": {
          "end_time": "2021-05-12T00:07:43.086445Z",
          "start_time": "2021-05-12T00:07:34.771461Z"
        },
        "id": "E8DrJfKRDMR4",
        "outputId": "168a9927-82dd-4772-c019-c084fb65bb0f"
      },
      "source": [
        "# instalar biblioteca direto do notebook\n",
        "# !pip install researchpy"
      ],
      "execution_count": null,
      "outputs": [
        {
          "output_type": "stream",
          "text": [
            "Requirement already satisfied: researchpy in c:\\users\\milto\\anaconda3\\lib\\site-packages (0.2.3)\n",
            "Requirement already satisfied: pandas in c:\\users\\milto\\anaconda3\\lib\\site-packages (from researchpy) (1.1.4)\n",
            "Requirement already satisfied: scipy in c:\\users\\milto\\anaconda3\\lib\\site-packages (from researchpy) (1.5.0)\n",
            "Requirement already satisfied: numpy in c:\\users\\milto\\anaconda3\\lib\\site-packages (from researchpy) (1.19.5)\n",
            "Requirement already satisfied: statsmodels in c:\\users\\milto\\anaconda3\\lib\\site-packages (from researchpy) (0.11.1)\n",
            "Requirement already satisfied: python-dateutil>=2.7.3 in c:\\users\\milto\\anaconda3\\lib\\site-packages (from pandas->researchpy) (2.8.1)\n",
            "Requirement already satisfied: pytz>=2017.2 in c:\\users\\milto\\anaconda3\\lib\\site-packages (from pandas->researchpy) (2020.1)\n",
            "Requirement already satisfied: patsy>=0.5 in c:\\users\\milto\\anaconda3\\lib\\site-packages (from statsmodels->researchpy) (0.5.1)\n",
            "Requirement already satisfied: six>=1.5 in c:\\users\\milto\\anaconda3\\lib\\site-packages (from python-dateutil>=2.7.3->pandas->researchpy) (1.15.0)\n"
          ],
          "name": "stdout"
        }
      ]
    },
    {
      "cell_type": "code",
      "metadata": {
        "ExecuteTime": {
          "end_time": "2021-05-12T00:08:02.779971Z",
          "start_time": "2021-05-12T00:08:02.772969Z"
        },
        "id": "O5xF38HwDMR5"
      },
      "source": [
        "import researchpy as rp"
      ],
      "execution_count": null,
      "outputs": []
    },
    {
      "cell_type": "code",
      "metadata": {
        "ExecuteTime": {
          "end_time": "2021-05-12T00:06:30.899991Z",
          "start_time": "2021-05-12T00:06:30.821631Z"
        },
        "id": "JA-giPwTDMR5",
        "outputId": "9a1158ac-d159-4b7d-9eb2-d1dde0f86c97"
      },
      "source": [
        "pd.crosstab(df['GrupoRisco'], df['Target'])"
      ],
      "execution_count": null,
      "outputs": [
        {
          "output_type": "execute_result",
          "data": {
            "text/html": [
              "<div>\n",
              "<style scoped>\n",
              "    .dataframe tbody tr th:only-of-type {\n",
              "        vertical-align: middle;\n",
              "    }\n",
              "\n",
              "    .dataframe tbody tr th {\n",
              "        vertical-align: top;\n",
              "    }\n",
              "\n",
              "    .dataframe thead th {\n",
              "        text-align: right;\n",
              "    }\n",
              "</style>\n",
              "<table border=\"1\" class=\"dataframe\">\n",
              "  <thead>\n",
              "    <tr style=\"text-align: right;\">\n",
              "      <th>Target</th>\n",
              "      <th>0</th>\n",
              "      <th>1</th>\n",
              "    </tr>\n",
              "    <tr>\n",
              "      <th>GrupoRisco</th>\n",
              "      <th></th>\n",
              "      <th></th>\n",
              "    </tr>\n",
              "  </thead>\n",
              "  <tbody>\n",
              "    <tr>\n",
              "      <th>0</th>\n",
              "      <td>388</td>\n",
              "      <td>203</td>\n",
              "    </tr>\n",
              "    <tr>\n",
              "      <th>1</th>\n",
              "      <td>92</td>\n",
              "      <td>108</td>\n",
              "    </tr>\n",
              "    <tr>\n",
              "      <th>2</th>\n",
              "      <td>14</td>\n",
              "      <td>12</td>\n",
              "    </tr>\n",
              "    <tr>\n",
              "      <th>3</th>\n",
              "      <td>12</td>\n",
              "      <td>4</td>\n",
              "    </tr>\n",
              "    <tr>\n",
              "      <th>4</th>\n",
              "      <td>15</td>\n",
              "      <td>3</td>\n",
              "    </tr>\n",
              "    <tr>\n",
              "      <th>5</th>\n",
              "      <td>5</td>\n",
              "      <td>0</td>\n",
              "    </tr>\n",
              "    <tr>\n",
              "      <th>8</th>\n",
              "      <td>7</td>\n",
              "      <td>0</td>\n",
              "    </tr>\n",
              "  </tbody>\n",
              "</table>\n",
              "</div>"
            ],
            "text/plain": [
              "Target        0    1\n",
              "GrupoRisco          \n",
              "0           388  203\n",
              "1            92  108\n",
              "2            14   12\n",
              "3            12    4\n",
              "4            15    3\n",
              "5             5    0\n",
              "8             7    0"
            ]
          },
          "metadata": {
            "tags": []
          },
          "execution_count": 114
        }
      ]
    },
    {
      "cell_type": "code",
      "metadata": {
        "ExecuteTime": {
          "end_time": "2021-05-12T00:09:30.048396Z",
          "start_time": "2021-05-12T00:09:29.934397Z"
        },
        "id": "vOMCCvqxDMR6"
      },
      "source": [
        "freq = rp.crosstab(df['GrupoRisco'], df['Target'], prop='row')"
      ],
      "execution_count": null,
      "outputs": []
    },
    {
      "cell_type": "code",
      "metadata": {
        "ExecuteTime": {
          "end_time": "2021-05-12T00:10:43.296486Z",
          "start_time": "2021-05-12T00:10:43.278487Z"
        },
        "id": "YkiSJo8TDMR7",
        "outputId": "e9acf420-7ca8-4664-d41f-0b9636b7bdff"
      },
      "source": [
        "freq.index"
      ],
      "execution_count": null,
      "outputs": [
        {
          "output_type": "execute_result",
          "data": {
            "text/plain": [
              "Index([0, 1, 2, 3, 4, 5, 8, 'All'], dtype='object', name='GrupoRisco')"
            ]
          },
          "metadata": {
            "tags": []
          },
          "execution_count": 126
        }
      ]
    },
    {
      "cell_type": "code",
      "metadata": {
        "ExecuteTime": {
          "end_time": "2021-05-12T00:12:23.897328Z",
          "start_time": "2021-05-12T00:12:23.887326Z"
        },
        "id": "zoC-zGTZDMR7"
      },
      "source": [
        "freq = freq.iloc[:-1,:-1]"
      ],
      "execution_count": null,
      "outputs": []
    },
    {
      "cell_type": "code",
      "metadata": {
        "ExecuteTime": {
          "end_time": "2021-05-12T00:12:26.178015Z",
          "start_time": "2021-05-12T00:12:26.161007Z"
        },
        "id": "ogDhO8inDMR8",
        "outputId": "6e3c3346-9cb7-4dd3-c269-9d23c575e5c4"
      },
      "source": [
        "freq"
      ],
      "execution_count": null,
      "outputs": [
        {
          "output_type": "execute_result",
          "data": {
            "text/html": [
              "<div>\n",
              "<style scoped>\n",
              "    .dataframe tbody tr th:only-of-type {\n",
              "        vertical-align: middle;\n",
              "    }\n",
              "\n",
              "    .dataframe tbody tr th {\n",
              "        vertical-align: top;\n",
              "    }\n",
              "\n",
              "    .dataframe thead tr th {\n",
              "        text-align: left;\n",
              "    }\n",
              "\n",
              "    .dataframe thead tr:last-of-type th {\n",
              "        text-align: right;\n",
              "    }\n",
              "</style>\n",
              "<table border=\"1\" class=\"dataframe\">\n",
              "  <thead>\n",
              "    <tr>\n",
              "      <th></th>\n",
              "      <th colspan=\"2\" halign=\"left\">Target</th>\n",
              "    </tr>\n",
              "    <tr>\n",
              "      <th>Target</th>\n",
              "      <th>0</th>\n",
              "      <th>1</th>\n",
              "    </tr>\n",
              "    <tr>\n",
              "      <th>GrupoRisco</th>\n",
              "      <th></th>\n",
              "      <th></th>\n",
              "    </tr>\n",
              "  </thead>\n",
              "  <tbody>\n",
              "    <tr>\n",
              "      <th>0</th>\n",
              "      <td>65.65</td>\n",
              "      <td>34.35</td>\n",
              "    </tr>\n",
              "    <tr>\n",
              "      <th>1</th>\n",
              "      <td>46.00</td>\n",
              "      <td>54.00</td>\n",
              "    </tr>\n",
              "    <tr>\n",
              "      <th>2</th>\n",
              "      <td>53.85</td>\n",
              "      <td>46.15</td>\n",
              "    </tr>\n",
              "    <tr>\n",
              "      <th>3</th>\n",
              "      <td>75.00</td>\n",
              "      <td>25.00</td>\n",
              "    </tr>\n",
              "    <tr>\n",
              "      <th>4</th>\n",
              "      <td>83.33</td>\n",
              "      <td>16.67</td>\n",
              "    </tr>\n",
              "    <tr>\n",
              "      <th>5</th>\n",
              "      <td>100.00</td>\n",
              "      <td>0.00</td>\n",
              "    </tr>\n",
              "    <tr>\n",
              "      <th>8</th>\n",
              "      <td>100.00</td>\n",
              "      <td>0.00</td>\n",
              "    </tr>\n",
              "  </tbody>\n",
              "</table>\n",
              "</div>"
            ],
            "text/plain": [
              "            Target       \n",
              "Target           0      1\n",
              "GrupoRisco               \n",
              "0            65.65  34.35\n",
              "1            46.00  54.00\n",
              "2            53.85  46.15\n",
              "3            75.00  25.00\n",
              "4            83.33  16.67\n",
              "5           100.00   0.00\n",
              "8           100.00   0.00"
            ]
          },
          "metadata": {
            "tags": []
          },
          "execution_count": 133
        }
      ]
    },
    {
      "cell_type": "code",
      "metadata": {
        "ExecuteTime": {
          "end_time": "2021-05-12T00:14:30.709749Z",
          "start_time": "2021-05-12T00:14:30.501759Z"
        },
        "id": "1HB7NZh4DMR9",
        "outputId": "a86e2006-aff4-46df-9333-3d8bf22c879c"
      },
      "source": [
        "plt.figure(figsize=(3, 4))\n",
        "sns.heatmap(freq, cmap='Greens', annot=True, fmt='.3g', cbar=False);"
      ],
      "execution_count": null,
      "outputs": [
        {
          "output_type": "display_data",
          "data": {
            "image/png": "[encoded data removed]",
            "text/plain": [
              "<Figure size 216x288 with 1 Axes>"
            ]
          },
          "metadata": {
            "tags": [],
            "needs_background": "light"
          }
        }
      ]
    },
    {
      "cell_type": "code",
      "metadata": {
        "ExecuteTime": {
          "end_time": "2021-05-12T00:25:49.206067Z",
          "start_time": "2021-05-12T00:25:49.077076Z"
        },
        "id": "lrMzsv2kDMR-"
      },
      "source": [
        "freq, stat = rp.crosstab(df['GrupoEconomico'], df['Target'], prop='row', test='chi-square')"
      ],
      "execution_count": null,
      "outputs": []
    },
    {
      "cell_type": "code",
      "metadata": {
        "ExecuteTime": {
          "end_time": "2021-05-12T00:26:08.871111Z",
          "start_time": "2021-05-12T00:26:08.852117Z"
        },
        "id": "m_vKfHJ5DMR_"
      },
      "source": [
        "freq = freq.iloc[:-1,:-1]"
      ],
      "execution_count": null,
      "outputs": []
    },
    {
      "cell_type": "code",
      "metadata": {
        "ExecuteTime": {
          "end_time": "2021-05-12T00:26:09.932673Z",
          "start_time": "2021-05-12T00:26:09.648522Z"
        },
        "id": "C3CbLmVQDMSA",
        "outputId": "ba8131a2-6e3a-48f3-971e-476cc08dc686"
      },
      "source": [
        "plt.figure(figsize=(3, 2))\n",
        "sns.heatmap(freq, cmap='Oranges', annot=True, fmt='.3g', cbar=False);"
      ],
      "execution_count": null,
      "outputs": [
        {
          "output_type": "display_data",
          "data": {
            "image/png": "[encoded data removed]",
            "text/plain": [
              "<Figure size 216x144 with 1 Axes>"
            ]
          },
          "metadata": {
            "tags": [],
            "needs_background": "light"
          }
        }
      ]
    },
    {
      "cell_type": "code",
      "metadata": {
        "ExecuteTime": {
          "end_time": "2021-05-12T00:26:20.574265Z",
          "start_time": "2021-05-12T00:26:20.547727Z"
        },
        "id": "bFuRCfVKDMSB",
        "outputId": "77414a8a-9103-4147-c3ce-959ea2d662ff"
      },
      "source": [
        "stat"
      ],
      "execution_count": null,
      "outputs": [
        {
          "output_type": "execute_result",
          "data": {
            "text/html": [
              "<div>\n",
              "<style scoped>\n",
              "    .dataframe tbody tr th:only-of-type {\n",
              "        vertical-align: middle;\n",
              "    }\n",
              "\n",
              "    .dataframe tbody tr th {\n",
              "        vertical-align: top;\n",
              "    }\n",
              "\n",
              "    .dataframe thead th {\n",
              "        text-align: right;\n",
              "    }\n",
              "</style>\n",
              "<table border=\"1\" class=\"dataframe\">\n",
              "  <thead>\n",
              "    <tr style=\"text-align: right;\">\n",
              "      <th></th>\n",
              "      <th>Chi-square test</th>\n",
              "      <th>results</th>\n",
              "    </tr>\n",
              "  </thead>\n",
              "  <tbody>\n",
              "    <tr>\n",
              "      <th>0</th>\n",
              "      <td>Pearson Chi-square ( 2.0) =</td>\n",
              "      <td>99.1485</td>\n",
              "    </tr>\n",
              "    <tr>\n",
              "      <th>1</th>\n",
              "      <td>p-value =</td>\n",
              "      <td>0.0000</td>\n",
              "    </tr>\n",
              "    <tr>\n",
              "      <th>2</th>\n",
              "      <td>Cramer's V =</td>\n",
              "      <td>0.3390</td>\n",
              "    </tr>\n",
              "  </tbody>\n",
              "</table>\n",
              "</div>"
            ],
            "text/plain": [
              "                Chi-square test  results\n",
              "0  Pearson Chi-square ( 2.0) =   99.1485\n",
              "1                    p-value =    0.0000\n",
              "2                 Cramer's V =    0.3390"
            ]
          },
          "metadata": {
            "tags": []
          },
          "execution_count": 160
        }
      ]
    },
    {
      "cell_type": "code",
      "metadata": {
        "ExecuteTime": {
          "end_time": "2021-05-12T00:19:52.498032Z",
          "start_time": "2021-05-12T00:19:52.471037Z"
        },
        "id": "nYT60pcfDMSC"
      },
      "source": [
        "df_reg_target = pd.read_csv('AtrasoCartaoCredito.csv', usecols=['RegiaodoPais', 'Target'])"
      ],
      "execution_count": null,
      "outputs": []
    },
    {
      "cell_type": "code",
      "metadata": {
        "ExecuteTime": {
          "end_time": "2021-05-12T00:19:29.608140Z",
          "start_time": "2021-05-12T00:19:29.598135Z"
        },
        "id": "MwzvlaE0DMSD",
        "outputId": "534078bb-de33-4189-ac96-ff683716020e"
      },
      "source": [
        "df.columns"
      ],
      "execution_count": null,
      "outputs": [
        {
          "output_type": "execute_result",
          "data": {
            "text/plain": [
              "Index(['Target', 'GrupoEconomico', 'Idade', 'GrupoRisco', 'ValorCompraAnual',\n",
              "       'GastoMax', 'GastoMedio', 'NumeroComprasOnline', 'Sexo_mulher',\n",
              "       'RegiaodoPais_Região Nordeste', 'RegiaodoPais_Região Norte',\n",
              "       'RegiaodoPais_Região Sudeste', 'RegiaodoPais_Região Sul'],\n",
              "      dtype='object')"
            ]
          },
          "metadata": {
            "tags": []
          },
          "execution_count": 145
        }
      ]
    },
    {
      "cell_type": "code",
      "metadata": {
        "ExecuteTime": {
          "end_time": "2021-05-12T00:27:59.587842Z",
          "start_time": "2021-05-12T00:27:59.459388Z"
        },
        "id": "2utvV39YDMSE"
      },
      "source": [
        "freq, stat = rp.crosstab(df_reg_target['RegiaodoPais'], df_reg_target['Target'], prop='row', test='chi-square')"
      ],
      "execution_count": null,
      "outputs": []
    },
    {
      "cell_type": "code",
      "metadata": {
        "ExecuteTime": {
          "end_time": "2021-05-12T00:28:02.837847Z",
          "start_time": "2021-05-12T00:28:02.818842Z"
        },
        "id": "oufV_cFuDMSF",
        "outputId": "f55b92ce-36ec-44c8-e9e7-0e5923ca9130"
      },
      "source": [
        "stat"
      ],
      "execution_count": null,
      "outputs": [
        {
          "output_type": "execute_result",
          "data": {
            "text/html": [
              "<div>\n",
              "<style scoped>\n",
              "    .dataframe tbody tr th:only-of-type {\n",
              "        vertical-align: middle;\n",
              "    }\n",
              "\n",
              "    .dataframe tbody tr th {\n",
              "        vertical-align: top;\n",
              "    }\n",
              "\n",
              "    .dataframe thead th {\n",
              "        text-align: right;\n",
              "    }\n",
              "</style>\n",
              "<table border=\"1\" class=\"dataframe\">\n",
              "  <thead>\n",
              "    <tr style=\"text-align: right;\">\n",
              "      <th></th>\n",
              "      <th>Chi-square test</th>\n",
              "      <th>results</th>\n",
              "    </tr>\n",
              "  </thead>\n",
              "  <tbody>\n",
              "    <tr>\n",
              "      <th>0</th>\n",
              "      <td>Pearson Chi-square ( 4.0) =</td>\n",
              "      <td>1.0101</td>\n",
              "    </tr>\n",
              "    <tr>\n",
              "      <th>1</th>\n",
              "      <td>p-value =</td>\n",
              "      <td>0.9083</td>\n",
              "    </tr>\n",
              "    <tr>\n",
              "      <th>2</th>\n",
              "      <td>Cramer's V =</td>\n",
              "      <td>0.0337</td>\n",
              "    </tr>\n",
              "  </tbody>\n",
              "</table>\n",
              "</div>"
            ],
            "text/plain": [
              "                Chi-square test  results\n",
              "0  Pearson Chi-square ( 4.0) =    1.0101\n",
              "1                    p-value =    0.9083\n",
              "2                 Cramer's V =    0.0337"
            ]
          },
          "metadata": {
            "tags": []
          },
          "execution_count": 163
        }
      ]
    },
    {
      "cell_type": "code",
      "metadata": {
        "ExecuteTime": {
          "end_time": "2021-05-12T00:20:29.587772Z",
          "start_time": "2021-05-12T00:20:29.575776Z"
        },
        "id": "ea8i-cVgDMSG"
      },
      "source": [
        "freq = freq.iloc[:-1,:-1]"
      ],
      "execution_count": null,
      "outputs": []
    },
    {
      "cell_type": "code",
      "metadata": {
        "ExecuteTime": {
          "end_time": "2021-05-12T00:21:09.519830Z",
          "start_time": "2021-05-12T00:21:09.134779Z"
        },
        "id": "epeRCcjVDMSH",
        "outputId": "31823e58-f09b-4bd0-89fb-1d368246caa6"
      },
      "source": [
        "plt.figure(figsize=(3, 4))\n",
        "sns.heatmap(freq, cmap='Blues', annot=True, fmt='.3g', cbar=False);"
      ],
      "execution_count": null,
      "outputs": [
        {
          "output_type": "display_data",
          "data": {
            "image/png": "[encoded data removed]",
            "text/plain": [
              "<Figure size 216x288 with 1 Axes>"
            ]
          },
          "metadata": {
            "tags": [],
            "needs_background": "light"
          }
        }
      ]
    },
    {
      "cell_type": "code",
      "metadata": {
        "ExecuteTime": {
          "end_time": "2021-05-12T00:21:59.353948Z",
          "start_time": "2021-05-12T00:21:59.219402Z"
        },
        "id": "Qsgpq02gDMSI",
        "outputId": "b332ff49-b28b-40d2-a5e6-7c897e997951"
      },
      "source": [
        "rp.crosstab(df_reg_target['RegiaodoPais'], df_reg_target['Target'])"
      ],
      "execution_count": null,
      "outputs": [
        {
          "output_type": "execute_result",
          "data": {
            "text/html": [
              "<div>\n",
              "<style scoped>\n",
              "    .dataframe tbody tr th:only-of-type {\n",
              "        vertical-align: middle;\n",
              "    }\n",
              "\n",
              "    .dataframe tbody tr th {\n",
              "        vertical-align: top;\n",
              "    }\n",
              "\n",
              "    .dataframe thead tr th {\n",
              "        text-align: left;\n",
              "    }\n",
              "\n",
              "    .dataframe thead tr:last-of-type th {\n",
              "        text-align: right;\n",
              "    }\n",
              "</style>\n",
              "<table border=\"1\" class=\"dataframe\">\n",
              "  <thead>\n",
              "    <tr>\n",
              "      <th></th>\n",
              "      <th colspan=\"3\" halign=\"left\">Target</th>\n",
              "    </tr>\n",
              "    <tr>\n",
              "      <th>Target</th>\n",
              "      <th>0</th>\n",
              "      <th>1</th>\n",
              "      <th>All</th>\n",
              "    </tr>\n",
              "    <tr>\n",
              "      <th>RegiaodoPais</th>\n",
              "      <th></th>\n",
              "      <th></th>\n",
              "      <th></th>\n",
              "    </tr>\n",
              "  </thead>\n",
              "  <tbody>\n",
              "    <tr>\n",
              "      <th>Região Centro-Oeste</th>\n",
              "      <td>46</td>\n",
              "      <td>24</td>\n",
              "      <td>70</td>\n",
              "    </tr>\n",
              "    <tr>\n",
              "      <th>Região Nordeste</th>\n",
              "      <td>207</td>\n",
              "      <td>136</td>\n",
              "      <td>343</td>\n",
              "    </tr>\n",
              "    <tr>\n",
              "      <th>Região Norte</th>\n",
              "      <td>53</td>\n",
              "      <td>30</td>\n",
              "      <td>83</td>\n",
              "    </tr>\n",
              "    <tr>\n",
              "      <th>Região Sudeste</th>\n",
              "      <td>151</td>\n",
              "      <td>92</td>\n",
              "      <td>243</td>\n",
              "    </tr>\n",
              "    <tr>\n",
              "      <th>Região Sul</th>\n",
              "      <td>92</td>\n",
              "      <td>60</td>\n",
              "      <td>152</td>\n",
              "    </tr>\n",
              "    <tr>\n",
              "      <th>All</th>\n",
              "      <td>549</td>\n",
              "      <td>342</td>\n",
              "      <td>891</td>\n",
              "    </tr>\n",
              "  </tbody>\n",
              "</table>\n",
              "</div>"
            ],
            "text/plain": [
              "                    Target          \n",
              "Target                   0    1  All\n",
              "RegiaodoPais                        \n",
              "Região Centro-Oeste     46   24   70\n",
              "Região Nordeste        207  136  343\n",
              "Região Norte            53   30   83\n",
              "Região Sudeste         151   92  243\n",
              "Região Sul              92   60  152\n",
              "All                    549  342  891"
            ]
          },
          "metadata": {
            "tags": []
          },
          "execution_count": 154
        }
      ]
    },
    {
      "cell_type": "code",
      "metadata": {
        "ExecuteTime": {
          "end_time": "2021-05-12T00:17:29.929584Z",
          "start_time": "2021-05-12T00:17:29.894804Z"
        },
        "id": "djEmrDwzDMSJ",
        "outputId": "c61cf4a2-3457-4411-8739-b937ca62e82d"
      },
      "source": [
        "df.head()"
      ],
      "execution_count": null,
      "outputs": [
        {
          "output_type": "execute_result",
          "data": {
            "text/html": [
              "<div>\n",
              "<style scoped>\n",
              "    .dataframe tbody tr th:only-of-type {\n",
              "        vertical-align: middle;\n",
              "    }\n",
              "\n",
              "    .dataframe tbody tr th {\n",
              "        vertical-align: top;\n",
              "    }\n",
              "\n",
              "    .dataframe thead th {\n",
              "        text-align: right;\n",
              "    }\n",
              "</style>\n",
              "<table border=\"1\" class=\"dataframe\">\n",
              "  <thead>\n",
              "    <tr style=\"text-align: right;\">\n",
              "      <th></th>\n",
              "      <th>Target</th>\n",
              "      <th>GrupoEconomico</th>\n",
              "      <th>Idade</th>\n",
              "      <th>GrupoRisco</th>\n",
              "      <th>ValorCompraAnual</th>\n",
              "      <th>GastoMax</th>\n",
              "      <th>GastoMedio</th>\n",
              "      <th>NumeroComprasOnline</th>\n",
              "      <th>Sexo_mulher</th>\n",
              "      <th>RegiaodoPais_Região Nordeste</th>\n",
              "      <th>RegiaodoPais_Região Norte</th>\n",
              "      <th>RegiaodoPais_Região Sudeste</th>\n",
              "      <th>RegiaodoPais_Região Sul</th>\n",
              "    </tr>\n",
              "  </thead>\n",
              "  <tbody>\n",
              "    <tr>\n",
              "      <th>0</th>\n",
              "      <td>0</td>\n",
              "      <td>3</td>\n",
              "      <td>22</td>\n",
              "      <td>1</td>\n",
              "      <td>7250.0</td>\n",
              "      <td>517.857143</td>\n",
              "      <td>604.166667</td>\n",
              "      <td>54.924242</td>\n",
              "      <td>0</td>\n",
              "      <td>0</td>\n",
              "      <td>0</td>\n",
              "      <td>1</td>\n",
              "      <td>0</td>\n",
              "    </tr>\n",
              "    <tr>\n",
              "      <th>1</th>\n",
              "      <td>1</td>\n",
              "      <td>1</td>\n",
              "      <td>38</td>\n",
              "      <td>1</td>\n",
              "      <td>71283.0</td>\n",
              "      <td>5091.642857</td>\n",
              "      <td>5940.250000</td>\n",
              "      <td>312.644737</td>\n",
              "      <td>1</td>\n",
              "      <td>1</td>\n",
              "      <td>0</td>\n",
              "      <td>0</td>\n",
              "      <td>0</td>\n",
              "    </tr>\n",
              "    <tr>\n",
              "      <th>2</th>\n",
              "      <td>1</td>\n",
              "      <td>3</td>\n",
              "      <td>26</td>\n",
              "      <td>0</td>\n",
              "      <td>7925.0</td>\n",
              "      <td>566.071429</td>\n",
              "      <td>660.416667</td>\n",
              "      <td>50.801282</td>\n",
              "      <td>1</td>\n",
              "      <td>0</td>\n",
              "      <td>0</td>\n",
              "      <td>0</td>\n",
              "      <td>1</td>\n",
              "    </tr>\n",
              "    <tr>\n",
              "      <th>3</th>\n",
              "      <td>1</td>\n",
              "      <td>1</td>\n",
              "      <td>35</td>\n",
              "      <td>1</td>\n",
              "      <td>531.0</td>\n",
              "      <td>37.928571</td>\n",
              "      <td>44.250000</td>\n",
              "      <td>2.528571</td>\n",
              "      <td>1</td>\n",
              "      <td>0</td>\n",
              "      <td>0</td>\n",
              "      <td>0</td>\n",
              "      <td>1</td>\n",
              "    </tr>\n",
              "    <tr>\n",
              "      <th>4</th>\n",
              "      <td>0</td>\n",
              "      <td>3</td>\n",
              "      <td>35</td>\n",
              "      <td>0</td>\n",
              "      <td>805.0</td>\n",
              "      <td>57.500000</td>\n",
              "      <td>67.083333</td>\n",
              "      <td>3.833333</td>\n",
              "      <td>0</td>\n",
              "      <td>1</td>\n",
              "      <td>0</td>\n",
              "      <td>0</td>\n",
              "      <td>0</td>\n",
              "    </tr>\n",
              "  </tbody>\n",
              "</table>\n",
              "</div>"
            ],
            "text/plain": [
              "   Target  GrupoEconomico  Idade  GrupoRisco  ValorCompraAnual     GastoMax  \\\n",
              "0       0               3     22           1            7250.0   517.857143   \n",
              "1       1               1     38           1           71283.0  5091.642857   \n",
              "2       1               3     26           0            7925.0   566.071429   \n",
              "3       1               1     35           1             531.0    37.928571   \n",
              "4       0               3     35           0             805.0    57.500000   \n",
              "\n",
              "    GastoMedio  NumeroComprasOnline  Sexo_mulher  \\\n",
              "0   604.166667            54.924242            0   \n",
              "1  5940.250000           312.644737            1   \n",
              "2   660.416667            50.801282            1   \n",
              "3    44.250000             2.528571            1   \n",
              "4    67.083333             3.833333            0   \n",
              "\n",
              "   RegiaodoPais_Região Nordeste  RegiaodoPais_Região Norte  \\\n",
              "0                             0                          0   \n",
              "1                             1                          0   \n",
              "2                             0                          0   \n",
              "3                             0                          0   \n",
              "4                             1                          0   \n",
              "\n",
              "   RegiaodoPais_Região Sudeste  RegiaodoPais_Região Sul  \n",
              "0                            1                        0  \n",
              "1                            0                        0  \n",
              "2                            0                        1  \n",
              "3                            0                        1  \n",
              "4                            0                        0  "
            ]
          },
          "metadata": {
            "tags": []
          },
          "execution_count": 144
        }
      ]
    },
    {
      "cell_type": "markdown",
      "metadata": {
        "id": "iGGLpMf7DMSK"
      },
      "source": [
        "## Modelagem - Machine Learning"
      ]
    },
    {
      "cell_type": "code",
      "metadata": {
        "ExecuteTime": {
          "end_time": "2021-05-12T00:35:02.902990Z",
          "start_time": "2021-05-12T00:35:02.884993Z"
        },
        "id": "brIsLaqbDMSK",
        "outputId": "4e2d89e6-d76c-40fc-8300-2cd11ffebcc4"
      },
      "source": [
        "df.shape"
      ],
      "execution_count": null,
      "outputs": [
        {
          "output_type": "execute_result",
          "data": {
            "text/plain": [
              "(863, 13)"
            ]
          },
          "metadata": {
            "tags": []
          },
          "execution_count": 164
        }
      ]
    },
    {
      "cell_type": "markdown",
      "metadata": {
        "id": "-QeXv62TDMSL"
      },
      "source": [
        "- Antes de fazer a modelagem de machine learning, precisamos dividir nosso dataset em 2 pedaços:\n",
        "    - treino: que será usado pra treinar o modelo\n",
        "    - teste: que será usado pra avaliar o modelo\n",
        "    \n",
        "- Isso pode ser feito com o `train_test_split`, que recebe:\n",
        "    - `X`: matrix de covariáveis ou de features, que são variáveis que vão auxiliar a prever a target (`Atraso_Cartao`)\n",
        "    - `y`: vetor com a variável resposta"
      ]
    },
    {
      "cell_type": "code",
      "metadata": {
        "ExecuteTime": {
          "end_time": "2021-05-12T00:38:35.217164Z",
          "start_time": "2021-05-12T00:38:35.207166Z"
        },
        "id": "UPL4EqM_DMSM"
      },
      "source": [
        "x = df.drop(columns='Target')\n",
        "y = df['Target']"
      ],
      "execution_count": null,
      "outputs": []
    },
    {
      "cell_type": "code",
      "metadata": {
        "ExecuteTime": {
          "end_time": "2021-05-12T00:38:58.276922Z",
          "start_time": "2021-05-12T00:38:58.263920Z"
        },
        "id": "DI4QXCrdDMSN"
      },
      "source": [
        "from sklearn.model_selection import train_test_split"
      ],
      "execution_count": null,
      "outputs": []
    },
    {
      "cell_type": "code",
      "metadata": {
        "ExecuteTime": {
          "end_time": "2021-05-12T00:41:43.143717Z",
          "start_time": "2021-05-12T00:41:43.130708Z"
        },
        "id": "1vu2uzzbDMSP"
      },
      "source": [
        "x_train, x_test, y_train, y_test = train_test_split(x, y, random_state=42)"
      ],
      "execution_count": null,
      "outputs": []
    },
    {
      "cell_type": "code",
      "metadata": {
        "ExecuteTime": {
          "end_time": "2021-05-12T00:44:12.469429Z",
          "start_time": "2021-05-12T00:44:12.451410Z"
        },
        "id": "r_au4E14DMSQ"
      },
      "source": [
        "from sklearn.linear_model import LogisticRegression"
      ],
      "execution_count": null,
      "outputs": []
    },
    {
      "cell_type": "code",
      "metadata": {
        "ExecuteTime": {
          "end_time": "2021-05-12T00:44:37.700715Z",
          "start_time": "2021-05-12T00:44:37.679714Z"
        },
        "id": "qNl-NUxzDMSR"
      },
      "source": [
        "lr = LogisticRegression()"
      ],
      "execution_count": null,
      "outputs": []
    },
    {
      "cell_type": "code",
      "metadata": {
        "ExecuteTime": {
          "end_time": "2021-05-12T00:45:12.142669Z",
          "start_time": "2021-05-12T00:45:11.876152Z"
        },
        "id": "JBLHDYjDDMSS",
        "outputId": "189e29aa-ad6b-43f4-e8e9-21b68e6e8ea1"
      },
      "source": [
        "lr.fit(x_train, y_train)"
      ],
      "execution_count": null,
      "outputs": [
        {
          "output_type": "execute_result",
          "data": {
            "text/plain": [
              "LogisticRegression()"
            ]
          },
          "metadata": {
            "tags": []
          },
          "execution_count": 184
        }
      ]
    },
    {
      "cell_type": "code",
      "metadata": {
        "ExecuteTime": {
          "end_time": "2021-05-12T00:45:49.045276Z",
          "start_time": "2021-05-12T00:45:49.033291Z"
        },
        "id": "aG8joSQdDMST"
      },
      "source": [
        "y_pred = lr.predict(x_test)"
      ],
      "execution_count": null,
      "outputs": []
    },
    {
      "cell_type": "code",
      "metadata": {
        "ExecuteTime": {
          "end_time": "2021-05-12T00:46:49.292589Z",
          "start_time": "2021-05-12T00:46:49.270567Z"
        },
        "id": "3__7aFsXDMSU",
        "outputId": "61d65853-e57b-4a24-f336-48eb2c4f6295"
      },
      "source": [
        "pd.DataFrame({'y_test': y_test,\n",
        "              'y_pred': y_pred})"
      ],
      "execution_count": null,
      "outputs": [
        {
          "output_type": "execute_result",
          "data": {
            "text/html": [
              "<div>\n",
              "<style scoped>\n",
              "    .dataframe tbody tr th:only-of-type {\n",
              "        vertical-align: middle;\n",
              "    }\n",
              "\n",
              "    .dataframe tbody tr th {\n",
              "        vertical-align: top;\n",
              "    }\n",
              "\n",
              "    .dataframe thead th {\n",
              "        text-align: right;\n",
              "    }\n",
              "</style>\n",
              "<table border=\"1\" class=\"dataframe\">\n",
              "  <thead>\n",
              "    <tr style=\"text-align: right;\">\n",
              "      <th></th>\n",
              "      <th>y_test</th>\n",
              "      <th>y_pred</th>\n",
              "    </tr>\n",
              "  </thead>\n",
              "  <tbody>\n",
              "    <tr>\n",
              "      <th>743</th>\n",
              "      <td>0</td>\n",
              "      <td>1</td>\n",
              "    </tr>\n",
              "    <tr>\n",
              "      <th>633</th>\n",
              "      <td>0</td>\n",
              "      <td>0</td>\n",
              "    </tr>\n",
              "    <tr>\n",
              "      <th>120</th>\n",
              "      <td>0</td>\n",
              "      <td>1</td>\n",
              "    </tr>\n",
              "    <tr>\n",
              "      <th>208</th>\n",
              "      <td>1</td>\n",
              "      <td>1</td>\n",
              "    </tr>\n",
              "    <tr>\n",
              "      <th>408</th>\n",
              "      <td>0</td>\n",
              "      <td>1</td>\n",
              "    </tr>\n",
              "    <tr>\n",
              "      <th>...</th>\n",
              "      <td>...</td>\n",
              "      <td>...</td>\n",
              "    </tr>\n",
              "    <tr>\n",
              "      <th>506</th>\n",
              "      <td>1</td>\n",
              "      <td>1</td>\n",
              "    </tr>\n",
              "    <tr>\n",
              "      <th>697</th>\n",
              "      <td>1</td>\n",
              "      <td>1</td>\n",
              "    </tr>\n",
              "    <tr>\n",
              "      <th>555</th>\n",
              "      <td>0</td>\n",
              "      <td>1</td>\n",
              "    </tr>\n",
              "    <tr>\n",
              "      <th>457</th>\n",
              "      <td>1</td>\n",
              "      <td>1</td>\n",
              "    </tr>\n",
              "    <tr>\n",
              "      <th>462</th>\n",
              "      <td>0</td>\n",
              "      <td>1</td>\n",
              "    </tr>\n",
              "  </tbody>\n",
              "</table>\n",
              "<p>216 rows × 2 columns</p>\n",
              "</div>"
            ],
            "text/plain": [
              "     y_test  y_pred\n",
              "743       0       1\n",
              "633       0       0\n",
              "120       0       1\n",
              "208       1       1\n",
              "408       0       1\n",
              "..      ...     ...\n",
              "506       1       1\n",
              "697       1       1\n",
              "555       0       1\n",
              "457       1       1\n",
              "462       0       1\n",
              "\n",
              "[216 rows x 2 columns]"
            ]
          },
          "metadata": {
            "tags": []
          },
          "execution_count": 188
        }
      ]
    },
    {
      "cell_type": "code",
      "metadata": {
        "id": "GPjYZYW7DMSU"
      },
      "source": [
        ""
      ],
      "execution_count": null,
      "outputs": []
    },
    {
      "cell_type": "code",
      "metadata": {
        "id": "4GWRzhhvDMSV"
      },
      "source": [
        ""
      ],
      "execution_count": null,
      "outputs": []
    },
    {
      "cell_type": "code",
      "metadata": {
        "id": "wum7ErVwDMSV"
      },
      "source": [
        ""
      ],
      "execution_count": null,
      "outputs": []
    },
    {
      "cell_type": "code",
      "metadata": {
        "id": "ANpW7x2PDMSW"
      },
      "source": [
        ""
      ],
      "execution_count": null,
      "outputs": []
    },
    {
      "cell_type": "code",
      "metadata": {
        "id": "3rULNWL0DMSW"
      },
      "source": [
        ""
      ],
      "execution_count": null,
      "outputs": []
    },
    {
      "cell_type": "code",
      "metadata": {
        "id": "G59doRGHDMSW"
      },
      "source": [
        ""
      ],
      "execution_count": null,
      "outputs": []
    },
    {
      "cell_type": "markdown",
      "metadata": {
        "ExecuteTime": {
          "end_time": "2021-05-11T23:24:44.445630Z",
          "start_time": "2021-05-11T23:24:44.426641Z"
        },
        "id": "Wj_gC82gDMSX"
      },
      "source": [
        "- cursos online\n",
        "    - coursera\n",
        "    - edx\n",
        "    - kaggle"
      ]
    },
    {
      "cell_type": "code",
      "metadata": {
        "id": "CtvmYqQfDMSY"
      },
      "source": [
        "chris albon"
      ],
      "execution_count": null,
      "outputs": []
    }
  ]
}