{
  "nbformat": 4,
  "nbformat_minor": 0,
  "metadata": {
    "hide_input": false,
    "kernelspec": {
      "display_name": "Python 3",
      "language": "python",
      "name": "python3"
    },
    "language_info": {
      "codemirror_mode": {
        "name": "ipython",
        "version": 3
      },
      "file_extension": ".py",
      "mimetype": "text/x-python",
      "name": "python",
      "nbconvert_exporter": "python",
      "pygments_lexer": "ipython3",
      "version": "3.8.3"
    },
    "toc": {
      "base_numbering": 1,
      "nav_menu": {},
      "number_sections": true,
      "sideBar": true,
      "skip_h1_title": false,
      "title_cell": "Table of Contents",
      "title_sidebar": "Contents",
      "toc_cell": false,
      "toc_position": {},
      "toc_section_display": true,
      "toc_window_display": true
    },
    "varInspector": {
      "cols": {
        "lenName": 16,
        "lenType": 16,
        "lenVar": 40
      },
      "kernels_config": {
        "python": {
          "delete_cmd_postfix": "",
          "delete_cmd_prefix": "del ",
          "library": "var_list.py",
          "varRefreshCmd": "print(var_dic_list())"
        },
        "r": {
          "delete_cmd_postfix": ") ",
          "delete_cmd_prefix": "rm(",
          "library": "var_list.r",
          "varRefreshCmd": "cat(var_dic_list()) "
        }
      },
      "types_to_exclude": [
        "module",
        "function",
        "builtin_function_or_method",
        "instance",
        "_Feature"
      ],
      "window_display": false
    },
    "colab": {
      "name": "Gabarito_01_Análise_de_dados.ipynb",
      "provenance": [],
      "include_colab_link": true
    }
  },
  "cells": [
    {
      "cell_type": "markdown",
      "metadata": {
        "id": "view-in-github",
        "colab_type": "text"
      },
      "source": [
        "<a href=\"https://colab.research.google.com/github/gabriel7268/Data-Science/blob/main/Lets%20Code%20UFBA/Gabarito_01_An%C3%A1lise_de_dados.ipynb\" target=\"_parent\"><img src=\"https://colab.research.google.com/assets/colab-badge.svg\" alt=\"Open In Colab\"/></a>"
      ]
    },
    {
      "cell_type": "markdown",
      "metadata": {
        "id": "JP7hJtisWvIt"
      },
      "source": [
        "# Case Let's Code\n",
        "\n",
        "- **Prof. Milton Ossamu**\n",
        "- **Linkedin:** https://www.linkedin.com/in/ossamum/"
      ]
    },
    {
      "cell_type": "markdown",
      "metadata": {
        "id": "a1PKsb2iWvJE"
      },
      "source": [
        "## Ementa do workshop\n",
        "\n",
        "- 11/05:\n",
        "    - ambientação do jupyter notebook \n",
        "    - análise de dados - eda (exploratory data analysis)\n",
        "    - visualização de dados\n",
        "- 13/05:\n",
        "    - modelagem de machine learning\n",
        "    - avaliação do modelo\n",
        "    - extra"
      ]
    },
    {
      "cell_type": "markdown",
      "metadata": {
        "id": "3Vs6zg_4WvJH"
      },
      "source": [
        "**Jupyter notebook**\n",
        "- IDE = ambiente de desenvolvimento\n",
        "- Ambiente que trabalharemos utilizando python\n",
        "\n",
        "\n",
        "**Para abrir o jupyter notebook**\n",
        "- abrir prompt do anaconda\n",
        "- digitar: `jupyter notebook`"
      ]
    },
    {
      "cell_type": "markdown",
      "metadata": {
        "id": "J2vXndyMWvJJ"
      },
      "source": [
        "- **Python**\n",
        "- Características:\n",
        "    - genérico\n",
        "        - pode ser usado pra machine learning, web scraping, text mining, dashboard...\n",
        "\n",
        "- **R**\n",
        "- Características:\n",
        "    - mais voltado pra estatística\n",
        "    - menos performático    \n",
        "    - \"melhor para:\"\n",
        "        - séries temporais\n",
        "        - análise multivariada\n",
        "        - análise de sobrevivência\n",
        "        \n",
        "        \n",
        "- **SQL**\n",
        "- Structured Query Language\n",
        "    - linguagem para trabalhar com banco de dados"
      ]
    },
    {
      "cell_type": "markdown",
      "metadata": {
        "id": "6aBWUnZsWvJK"
      },
      "source": [
        "![](https://static.javatpoint.com/tutorial/r/images/r-vs-python.png)"
      ]
    },
    {
      "cell_type": "markdown",
      "metadata": {
        "id": "jNTLrs3hWvJL"
      },
      "source": [
        "- **bibliotecas**:\n",
        "    - códigos prontos para determinada função\n",
        "    \n",
        "- **atalhos do jupyter notebook**:\n",
        "    - `tab`: autopreenche o código\n",
        "    \n",
        "        "
      ]
    },
    {
      "cell_type": "code",
      "metadata": {
        "ExecuteTime": {
          "end_time": "2021-05-13T22:13:56.902480Z",
          "start_time": "2021-05-13T22:13:55.609226Z"
        },
        "id": "V0VV_yE7WvJN"
      },
      "source": [
        "import pandas as pd\n",
        "import os"
      ],
      "execution_count": null,
      "outputs": []
    },
    {
      "cell_type": "code",
      "metadata": {
        "ExecuteTime": {
          "end_time": "2021-05-13T22:13:56.934479Z",
          "start_time": "2021-05-13T22:13:56.905480Z"
        },
        "id": "e7rAP5JRWvJQ",
        "outputId": "7db6e778-53d4-4c0d-bd51-2845006b9e76"
      },
      "source": [
        "os.listdir()"
      ],
      "execution_count": null,
      "outputs": [
        {
          "output_type": "execute_result",
          "data": {
            "text/plain": [
              "['.ipynb_checkpoints',\n",
              " 'AtrasoCartaoCredito.csv',\n",
              " 'Demo - Análise de dados.ipynb',\n",
              " 'UFBA - Case data science - backup.ipynb']"
            ]
          },
          "metadata": {
            "tags": []
          },
          "execution_count": 2
        }
      ]
    },
    {
      "cell_type": "code",
      "metadata": {
        "ExecuteTime": {
          "end_time": "2021-05-13T22:13:57.030505Z",
          "start_time": "2021-05-13T22:13:56.942488Z"
        },
        "id": "rGUPd9pPWvJW"
      },
      "source": [
        "df = pd.read_csv('AtrasoCartaoCredito.csv')"
      ],
      "execution_count": null,
      "outputs": []
    },
    {
      "cell_type": "markdown",
      "metadata": {
        "id": "-GLm_5iBWvJX"
      },
      "source": [
        "- No python:\n",
        "    - atributos não têm parênteses\n",
        "    - método têm parênteses"
      ]
    },
    {
      "cell_type": "code",
      "metadata": {
        "ExecuteTime": {
          "end_time": "2021-05-13T22:13:57.062500Z",
          "start_time": "2021-05-13T22:13:57.036486Z"
        },
        "id": "Q7Kpoh8WWvJY",
        "outputId": "91bb215a-d744-4d5b-aeea-fbe0d9c68bd8"
      },
      "source": [
        "df.shape"
      ],
      "execution_count": null,
      "outputs": [
        {
          "output_type": "execute_result",
          "data": {
            "text/plain": [
              "(891, 13)"
            ]
          },
          "metadata": {
            "tags": []
          },
          "execution_count": 4
        }
      ]
    },
    {
      "cell_type": "markdown",
      "metadata": {
        "id": "NTSLi69mWvJZ"
      },
      "source": [
        "- **Objetivo do case**\n",
        "    - Prever atraso de cartão de crédito (`Target`), dado as demais características (features) dos clientes"
      ]
    },
    {
      "cell_type": "code",
      "metadata": {
        "ExecuteTime": {
          "end_time": "2021-05-13T22:13:57.158482Z",
          "start_time": "2021-05-13T22:13:57.071483Z"
        },
        "id": "TdVdPDceWvJa",
        "outputId": "8d617586-83dd-44e6-b7ee-7c6610724a72"
      },
      "source": [
        "df.head()"
      ],
      "execution_count": null,
      "outputs": [
        {
          "output_type": "execute_result",
          "data": {
            "text/html": [
              "<div>\n",
              "<style scoped>\n",
              "    .dataframe tbody tr th:only-of-type {\n",
              "        vertical-align: middle;\n",
              "    }\n",
              "\n",
              "    .dataframe tbody tr th {\n",
              "        vertical-align: top;\n",
              "    }\n",
              "\n",
              "    .dataframe thead th {\n",
              "        text-align: right;\n",
              "    }\n",
              "</style>\n",
              "<table border=\"1\" class=\"dataframe\">\n",
              "  <thead>\n",
              "    <tr style=\"text-align: right;\">\n",
              "      <th></th>\n",
              "      <th>ID</th>\n",
              "      <th>Target</th>\n",
              "      <th>GrupoEconomico</th>\n",
              "      <th>Sexo</th>\n",
              "      <th>Idade</th>\n",
              "      <th>GrupoRisco</th>\n",
              "      <th>ValorCompraAnual</th>\n",
              "      <th>GastoMax</th>\n",
              "      <th>GastoMedio</th>\n",
              "      <th>UF</th>\n",
              "      <th>CidadeResidencia</th>\n",
              "      <th>RegiaodoPais</th>\n",
              "      <th>NumeroComprasOnline</th>\n",
              "    </tr>\n",
              "  </thead>\n",
              "  <tbody>\n",
              "    <tr>\n",
              "      <th>0</th>\n",
              "      <td>1</td>\n",
              "      <td>0</td>\n",
              "      <td>3</td>\n",
              "      <td>homem</td>\n",
              "      <td>22</td>\n",
              "      <td>1</td>\n",
              "      <td>7250.0</td>\n",
              "      <td>517.857143</td>\n",
              "      <td>604.166667</td>\n",
              "      <td>MG</td>\n",
              "      <td>Morada Nova de Minas</td>\n",
              "      <td>Região Sudeste</td>\n",
              "      <td>54.924242</td>\n",
              "    </tr>\n",
              "    <tr>\n",
              "      <th>1</th>\n",
              "      <td>2</td>\n",
              "      <td>1</td>\n",
              "      <td>1</td>\n",
              "      <td>mulher</td>\n",
              "      <td>38</td>\n",
              "      <td>1</td>\n",
              "      <td>71283.0</td>\n",
              "      <td>5091.642857</td>\n",
              "      <td>5940.250000</td>\n",
              "      <td>RN</td>\n",
              "      <td>Marcelino Vieira</td>\n",
              "      <td>Região Nordeste</td>\n",
              "      <td>312.644737</td>\n",
              "    </tr>\n",
              "    <tr>\n",
              "      <th>2</th>\n",
              "      <td>3</td>\n",
              "      <td>1</td>\n",
              "      <td>3</td>\n",
              "      <td>mulher</td>\n",
              "      <td>26</td>\n",
              "      <td>0</td>\n",
              "      <td>7925.0</td>\n",
              "      <td>566.071429</td>\n",
              "      <td>660.416667</td>\n",
              "      <td>PR</td>\n",
              "      <td>Agudos do Sul</td>\n",
              "      <td>Região Sul</td>\n",
              "      <td>50.801282</td>\n",
              "    </tr>\n",
              "    <tr>\n",
              "      <th>3</th>\n",
              "      <td>4</td>\n",
              "      <td>1</td>\n",
              "      <td>1</td>\n",
              "      <td>mulher</td>\n",
              "      <td>35</td>\n",
              "      <td>1</td>\n",
              "      <td>531.0</td>\n",
              "      <td>37.928571</td>\n",
              "      <td>44.250000</td>\n",
              "      <td>PR</td>\n",
              "      <td>Congonhinhas</td>\n",
              "      <td>Região Sul</td>\n",
              "      <td>2.528571</td>\n",
              "    </tr>\n",
              "    <tr>\n",
              "      <th>4</th>\n",
              "      <td>5</td>\n",
              "      <td>0</td>\n",
              "      <td>3</td>\n",
              "      <td>homem</td>\n",
              "      <td>35</td>\n",
              "      <td>0</td>\n",
              "      <td>805.0</td>\n",
              "      <td>57.500000</td>\n",
              "      <td>67.083333</td>\n",
              "      <td>BA</td>\n",
              "      <td>Morpará</td>\n",
              "      <td>Região Nordeste</td>\n",
              "      <td>3.833333</td>\n",
              "    </tr>\n",
              "  </tbody>\n",
              "</table>\n",
              "</div>"
            ],
            "text/plain": [
              "   ID  Target  GrupoEconomico    Sexo  Idade  GrupoRisco  ValorCompraAnual  \\\n",
              "0   1       0               3   homem     22           1            7250.0   \n",
              "1   2       1               1  mulher     38           1           71283.0   \n",
              "2   3       1               3  mulher     26           0            7925.0   \n",
              "3   4       1               1  mulher     35           1             531.0   \n",
              "4   5       0               3   homem     35           0             805.0   \n",
              "\n",
              "      GastoMax   GastoMedio  UF      CidadeResidencia     RegiaodoPais  \\\n",
              "0   517.857143   604.166667  MG  Morada Nova de Minas   Região Sudeste   \n",
              "1  5091.642857  5940.250000  RN      Marcelino Vieira  Região Nordeste   \n",
              "2   566.071429   660.416667  PR         Agudos do Sul       Região Sul   \n",
              "3    37.928571    44.250000  PR          Congonhinhas       Região Sul   \n",
              "4    57.500000    67.083333  BA               Morpará  Região Nordeste   \n",
              "\n",
              "   NumeroComprasOnline  \n",
              "0            54.924242  \n",
              "1           312.644737  \n",
              "2            50.801282  \n",
              "3             2.528571  \n",
              "4             3.833333  "
            ]
          },
          "metadata": {
            "tags": []
          },
          "execution_count": 5
        }
      ]
    },
    {
      "cell_type": "code",
      "metadata": {
        "ExecuteTime": {
          "end_time": "2021-05-13T22:13:57.206485Z",
          "start_time": "2021-05-13T22:13:57.161481Z"
        },
        "id": "l5pH0Gj2WvJb",
        "outputId": "a92ce012-0ca0-41a2-86e3-111d0a0c5699"
      },
      "source": [
        "type(df)"
      ],
      "execution_count": null,
      "outputs": [
        {
          "output_type": "execute_result",
          "data": {
            "text/plain": [
              "pandas.core.frame.DataFrame"
            ]
          },
          "metadata": {
            "tags": []
          },
          "execution_count": 6
        }
      ]
    },
    {
      "cell_type": "markdown",
      "metadata": {
        "id": "8lpg8phEWvJd"
      },
      "source": [
        "- comentar código\n",
        "    - `ctrl + ;` ou\n",
        "    - `ctrl + /`"
      ]
    },
    {
      "cell_type": "code",
      "metadata": {
        "ExecuteTime": {
          "end_time": "2021-05-13T22:13:57.237483Z",
          "start_time": "2021-05-13T22:13:57.214482Z"
        },
        "id": "2vcGkmy_WvJe",
        "outputId": "9c577e11-78e6-4e21-b1f0-aeb9d78a42ff"
      },
      "source": [
        "# selecionar coluna\n",
        "# df.ID \n",
        "df['ID'].nunique()"
      ],
      "execution_count": null,
      "outputs": [
        {
          "output_type": "execute_result",
          "data": {
            "text/plain": [
              "891"
            ]
          },
          "metadata": {
            "tags": []
          },
          "execution_count": 7
        }
      ]
    },
    {
      "cell_type": "code",
      "metadata": {
        "ExecuteTime": {
          "end_time": "2021-05-13T22:13:57.283487Z",
          "start_time": "2021-05-13T22:13:57.242484Z"
        },
        "id": "7XH3ob67WvJf",
        "outputId": "a184ec26-38c8-41bf-d241-70ecdf9186ba"
      },
      "source": [
        "df.head()"
      ],
      "execution_count": null,
      "outputs": [
        {
          "output_type": "execute_result",
          "data": {
            "text/html": [
              "<div>\n",
              "<style scoped>\n",
              "    .dataframe tbody tr th:only-of-type {\n",
              "        vertical-align: middle;\n",
              "    }\n",
              "\n",
              "    .dataframe tbody tr th {\n",
              "        vertical-align: top;\n",
              "    }\n",
              "\n",
              "    .dataframe thead th {\n",
              "        text-align: right;\n",
              "    }\n",
              "</style>\n",
              "<table border=\"1\" class=\"dataframe\">\n",
              "  <thead>\n",
              "    <tr style=\"text-align: right;\">\n",
              "      <th></th>\n",
              "      <th>ID</th>\n",
              "      <th>Target</th>\n",
              "      <th>GrupoEconomico</th>\n",
              "      <th>Sexo</th>\n",
              "      <th>Idade</th>\n",
              "      <th>GrupoRisco</th>\n",
              "      <th>ValorCompraAnual</th>\n",
              "      <th>GastoMax</th>\n",
              "      <th>GastoMedio</th>\n",
              "      <th>UF</th>\n",
              "      <th>CidadeResidencia</th>\n",
              "      <th>RegiaodoPais</th>\n",
              "      <th>NumeroComprasOnline</th>\n",
              "    </tr>\n",
              "  </thead>\n",
              "  <tbody>\n",
              "    <tr>\n",
              "      <th>0</th>\n",
              "      <td>1</td>\n",
              "      <td>0</td>\n",
              "      <td>3</td>\n",
              "      <td>homem</td>\n",
              "      <td>22</td>\n",
              "      <td>1</td>\n",
              "      <td>7250.0</td>\n",
              "      <td>517.857143</td>\n",
              "      <td>604.166667</td>\n",
              "      <td>MG</td>\n",
              "      <td>Morada Nova de Minas</td>\n",
              "      <td>Região Sudeste</td>\n",
              "      <td>54.924242</td>\n",
              "    </tr>\n",
              "    <tr>\n",
              "      <th>1</th>\n",
              "      <td>2</td>\n",
              "      <td>1</td>\n",
              "      <td>1</td>\n",
              "      <td>mulher</td>\n",
              "      <td>38</td>\n",
              "      <td>1</td>\n",
              "      <td>71283.0</td>\n",
              "      <td>5091.642857</td>\n",
              "      <td>5940.250000</td>\n",
              "      <td>RN</td>\n",
              "      <td>Marcelino Vieira</td>\n",
              "      <td>Região Nordeste</td>\n",
              "      <td>312.644737</td>\n",
              "    </tr>\n",
              "    <tr>\n",
              "      <th>2</th>\n",
              "      <td>3</td>\n",
              "      <td>1</td>\n",
              "      <td>3</td>\n",
              "      <td>mulher</td>\n",
              "      <td>26</td>\n",
              "      <td>0</td>\n",
              "      <td>7925.0</td>\n",
              "      <td>566.071429</td>\n",
              "      <td>660.416667</td>\n",
              "      <td>PR</td>\n",
              "      <td>Agudos do Sul</td>\n",
              "      <td>Região Sul</td>\n",
              "      <td>50.801282</td>\n",
              "    </tr>\n",
              "    <tr>\n",
              "      <th>3</th>\n",
              "      <td>4</td>\n",
              "      <td>1</td>\n",
              "      <td>1</td>\n",
              "      <td>mulher</td>\n",
              "      <td>35</td>\n",
              "      <td>1</td>\n",
              "      <td>531.0</td>\n",
              "      <td>37.928571</td>\n",
              "      <td>44.250000</td>\n",
              "      <td>PR</td>\n",
              "      <td>Congonhinhas</td>\n",
              "      <td>Região Sul</td>\n",
              "      <td>2.528571</td>\n",
              "    </tr>\n",
              "    <tr>\n",
              "      <th>4</th>\n",
              "      <td>5</td>\n",
              "      <td>0</td>\n",
              "      <td>3</td>\n",
              "      <td>homem</td>\n",
              "      <td>35</td>\n",
              "      <td>0</td>\n",
              "      <td>805.0</td>\n",
              "      <td>57.500000</td>\n",
              "      <td>67.083333</td>\n",
              "      <td>BA</td>\n",
              "      <td>Morpará</td>\n",
              "      <td>Região Nordeste</td>\n",
              "      <td>3.833333</td>\n",
              "    </tr>\n",
              "  </tbody>\n",
              "</table>\n",
              "</div>"
            ],
            "text/plain": [
              "   ID  Target  GrupoEconomico    Sexo  Idade  GrupoRisco  ValorCompraAnual  \\\n",
              "0   1       0               3   homem     22           1            7250.0   \n",
              "1   2       1               1  mulher     38           1           71283.0   \n",
              "2   3       1               3  mulher     26           0            7925.0   \n",
              "3   4       1               1  mulher     35           1             531.0   \n",
              "4   5       0               3   homem     35           0             805.0   \n",
              "\n",
              "      GastoMax   GastoMedio  UF      CidadeResidencia     RegiaodoPais  \\\n",
              "0   517.857143   604.166667  MG  Morada Nova de Minas   Região Sudeste   \n",
              "1  5091.642857  5940.250000  RN      Marcelino Vieira  Região Nordeste   \n",
              "2   566.071429   660.416667  PR         Agudos do Sul       Região Sul   \n",
              "3    37.928571    44.250000  PR          Congonhinhas       Região Sul   \n",
              "4    57.500000    67.083333  BA               Morpará  Região Nordeste   \n",
              "\n",
              "   NumeroComprasOnline  \n",
              "0            54.924242  \n",
              "1           312.644737  \n",
              "2            50.801282  \n",
              "3             2.528571  \n",
              "4             3.833333  "
            ]
          },
          "metadata": {
            "tags": []
          },
          "execution_count": 8
        }
      ]
    },
    {
      "cell_type": "markdown",
      "metadata": {
        "id": "DWLY1yTqWvJg"
      },
      "source": [
        "- **no pandas**:\n",
        "    - `axis=0`: orientado para linha\n",
        "    - `axis=1`: orientado para coluna"
      ]
    },
    {
      "cell_type": "code",
      "metadata": {
        "ExecuteTime": {
          "end_time": "2021-05-13T22:13:57.331489Z",
          "start_time": "2021-05-13T22:13:57.289486Z"
        },
        "id": "YTPCSMUYWvJh"
      },
      "source": [
        "# df.drop('ID', axis=1, inplace=True)"
      ],
      "execution_count": null,
      "outputs": []
    },
    {
      "cell_type": "code",
      "metadata": {
        "ExecuteTime": {
          "end_time": "2021-05-13T22:13:57.394482Z",
          "start_time": "2021-05-13T22:13:57.346495Z"
        },
        "id": "WYaK3CmmWvJi"
      },
      "source": [
        "df.drop(columns='ID', inplace=True)"
      ],
      "execution_count": null,
      "outputs": []
    },
    {
      "cell_type": "code",
      "metadata": {
        "ExecuteTime": {
          "end_time": "2021-05-13T22:13:57.442483Z",
          "start_time": "2021-05-13T22:13:57.397482Z"
        },
        "id": "pcrXYzG6WvJj",
        "outputId": "45b14ac3-2f5b-4c83-8f14-7d4edfe90cd8"
      },
      "source": [
        "df.isna().sum()"
      ],
      "execution_count": null,
      "outputs": [
        {
          "output_type": "execute_result",
          "data": {
            "text/plain": [
              "Target                  0\n",
              "GrupoEconomico          0\n",
              "Sexo                    0\n",
              "Idade                   0\n",
              "GrupoRisco              0\n",
              "ValorCompraAnual       28\n",
              "GastoMax                0\n",
              "GastoMedio              0\n",
              "UF                      0\n",
              "CidadeResidencia        0\n",
              "RegiaodoPais            0\n",
              "NumeroComprasOnline     0\n",
              "dtype: int64"
            ]
          },
          "metadata": {
            "tags": []
          },
          "execution_count": 11
        }
      ]
    },
    {
      "cell_type": "code",
      "metadata": {
        "ExecuteTime": {
          "end_time": "2021-05-13T22:13:57.474482Z",
          "start_time": "2021-05-13T22:13:57.447485Z"
        },
        "id": "DhvIj6BhWvJk",
        "outputId": "bb250ad7-8e86-4af4-b68f-1127d0f877bd"
      },
      "source": [
        "28/891"
      ],
      "execution_count": null,
      "outputs": [
        {
          "output_type": "execute_result",
          "data": {
            "text/plain": [
              "0.031425364758698095"
            ]
          },
          "metadata": {
            "tags": []
          },
          "execution_count": 12
        }
      ]
    },
    {
      "cell_type": "code",
      "metadata": {
        "ExecuteTime": {
          "end_time": "2021-05-13T22:13:57.521483Z",
          "start_time": "2021-05-13T22:13:57.478487Z"
        },
        "id": "5-WOmmY2WvJm",
        "outputId": "16aa09a1-d639-4d0b-e2d9-20394952c9c4"
      },
      "source": [
        "df.shape"
      ],
      "execution_count": null,
      "outputs": [
        {
          "output_type": "execute_result",
          "data": {
            "text/plain": [
              "(891, 12)"
            ]
          },
          "metadata": {
            "tags": []
          },
          "execution_count": 13
        }
      ]
    },
    {
      "cell_type": "code",
      "metadata": {
        "ExecuteTime": {
          "end_time": "2021-05-13T22:13:57.600478Z",
          "start_time": "2021-05-13T22:13:57.526494Z"
        },
        "scrolled": true,
        "id": "bx14sregWvJo",
        "outputId": "95c30c48-d855-47aa-f83b-5a8e052594d2"
      },
      "source": [
        "df[df['ValorCompraAnual'].isna()]"
      ],
      "execution_count": null,
      "outputs": [
        {
          "output_type": "execute_result",
          "data": {
            "text/html": [
              "<div>\n",
              "<style scoped>\n",
              "    .dataframe tbody tr th:only-of-type {\n",
              "        vertical-align: middle;\n",
              "    }\n",
              "\n",
              "    .dataframe tbody tr th {\n",
              "        vertical-align: top;\n",
              "    }\n",
              "\n",
              "    .dataframe thead th {\n",
              "        text-align: right;\n",
              "    }\n",
              "</style>\n",
              "<table border=\"1\" class=\"dataframe\">\n",
              "  <thead>\n",
              "    <tr style=\"text-align: right;\">\n",
              "      <th></th>\n",
              "      <th>Target</th>\n",
              "      <th>GrupoEconomico</th>\n",
              "      <th>Sexo</th>\n",
              "      <th>Idade</th>\n",
              "      <th>GrupoRisco</th>\n",
              "      <th>ValorCompraAnual</th>\n",
              "      <th>GastoMax</th>\n",
              "      <th>GastoMedio</th>\n",
              "      <th>UF</th>\n",
              "      <th>CidadeResidencia</th>\n",
              "      <th>RegiaodoPais</th>\n",
              "      <th>NumeroComprasOnline</th>\n",
              "    </tr>\n",
              "  </thead>\n",
              "  <tbody>\n",
              "    <tr>\n",
              "      <th>236</th>\n",
              "      <td>0</td>\n",
              "      <td>2</td>\n",
              "      <td>homem</td>\n",
              "      <td>44</td>\n",
              "      <td>1</td>\n",
              "      <td>NaN</td>\n",
              "      <td>1.857143</td>\n",
              "      <td>2.166667</td>\n",
              "      <td>GO</td>\n",
              "      <td>Abadiânia</td>\n",
              "      <td>Região Centro-Oeste</td>\n",
              "      <td>0.098485</td>\n",
              "    </tr>\n",
              "    <tr>\n",
              "      <th>237</th>\n",
              "      <td>1</td>\n",
              "      <td>2</td>\n",
              "      <td>mulher</td>\n",
              "      <td>44</td>\n",
              "      <td>0</td>\n",
              "      <td>NaN</td>\n",
              "      <td>187.500000</td>\n",
              "      <td>218.750000</td>\n",
              "      <td>GO</td>\n",
              "      <td>Crixás</td>\n",
              "      <td>Região Centro-Oeste</td>\n",
              "      <td>54.687500</td>\n",
              "    </tr>\n",
              "    <tr>\n",
              "      <th>238</th>\n",
              "      <td>0</td>\n",
              "      <td>2</td>\n",
              "      <td>homem</td>\n",
              "      <td>19</td>\n",
              "      <td>0</td>\n",
              "      <td>NaN</td>\n",
              "      <td>7.500000</td>\n",
              "      <td>8.750000</td>\n",
              "      <td>PE</td>\n",
              "      <td>Joaquim Nabuco</td>\n",
              "      <td>Região Nordeste</td>\n",
              "      <td>0.921053</td>\n",
              "    </tr>\n",
              "    <tr>\n",
              "      <th>239</th>\n",
              "      <td>0</td>\n",
              "      <td>2</td>\n",
              "      <td>homem</td>\n",
              "      <td>33</td>\n",
              "      <td>0</td>\n",
              "      <td>NaN</td>\n",
              "      <td>876.785714</td>\n",
              "      <td>1022.916667</td>\n",
              "      <td>SP</td>\n",
              "      <td>Elias Fausto</td>\n",
              "      <td>Região Sudeste</td>\n",
              "      <td>61.994949</td>\n",
              "    </tr>\n",
              "    <tr>\n",
              "      <th>240</th>\n",
              "      <td>0</td>\n",
              "      <td>3</td>\n",
              "      <td>mulher</td>\n",
              "      <td>22</td>\n",
              "      <td>1</td>\n",
              "      <td>NaN</td>\n",
              "      <td>10324.428571</td>\n",
              "      <td>12045.166667</td>\n",
              "      <td>PR</td>\n",
              "      <td>Terra Boa</td>\n",
              "      <td>Região Sul</td>\n",
              "      <td>1095.015152</td>\n",
              "    </tr>\n",
              "    <tr>\n",
              "      <th>241</th>\n",
              "      <td>1</td>\n",
              "      <td>3</td>\n",
              "      <td>mulher</td>\n",
              "      <td>22</td>\n",
              "      <td>1</td>\n",
              "      <td>NaN</td>\n",
              "      <td>11.071429</td>\n",
              "      <td>12.916667</td>\n",
              "      <td>BA</td>\n",
              "      <td>Ibicuí</td>\n",
              "      <td>Região Nordeste</td>\n",
              "      <td>1.174242</td>\n",
              "    </tr>\n",
              "    <tr>\n",
              "      <th>242</th>\n",
              "      <td>0</td>\n",
              "      <td>2</td>\n",
              "      <td>homem</td>\n",
              "      <td>29</td>\n",
              "      <td>0</td>\n",
              "      <td>NaN</td>\n",
              "      <td>7.500000</td>\n",
              "      <td>8.750000</td>\n",
              "      <td>ES</td>\n",
              "      <td>João Neiva</td>\n",
              "      <td>Região Sudeste</td>\n",
              "      <td>0.603448</td>\n",
              "    </tr>\n",
              "    <tr>\n",
              "      <th>243</th>\n",
              "      <td>0</td>\n",
              "      <td>3</td>\n",
              "      <td>homem</td>\n",
              "      <td>22</td>\n",
              "      <td>0</td>\n",
              "      <td>NaN</td>\n",
              "      <td>508.928571</td>\n",
              "      <td>593.750000</td>\n",
              "      <td>PE</td>\n",
              "      <td>Jataúba</td>\n",
              "      <td>Região Nordeste</td>\n",
              "      <td>53.977273</td>\n",
              "    </tr>\n",
              "    <tr>\n",
              "      <th>244</th>\n",
              "      <td>0</td>\n",
              "      <td>3</td>\n",
              "      <td>homem</td>\n",
              "      <td>30</td>\n",
              "      <td>0</td>\n",
              "      <td>NaN</td>\n",
              "      <td>516.071429</td>\n",
              "      <td>602.083333</td>\n",
              "      <td>MG</td>\n",
              "      <td>Tocantins</td>\n",
              "      <td>Região Sudeste</td>\n",
              "      <td>40.138889</td>\n",
              "    </tr>\n",
              "    <tr>\n",
              "      <th>245</th>\n",
              "      <td>0</td>\n",
              "      <td>1</td>\n",
              "      <td>homem</td>\n",
              "      <td>44</td>\n",
              "      <td>2</td>\n",
              "      <td>NaN</td>\n",
              "      <td>6.428571</td>\n",
              "      <td>7.500000</td>\n",
              "      <td>SE</td>\n",
              "      <td>Indiaroba</td>\n",
              "      <td>Região Nordeste</td>\n",
              "      <td>0.340909</td>\n",
              "    </tr>\n",
              "    <tr>\n",
              "      <th>246</th>\n",
              "      <td>0</td>\n",
              "      <td>3</td>\n",
              "      <td>mulher</td>\n",
              "      <td>25</td>\n",
              "      <td>0</td>\n",
              "      <td>NaN</td>\n",
              "      <td>555.357143</td>\n",
              "      <td>647.916667</td>\n",
              "      <td>RN</td>\n",
              "      <td>São Paulo do Potengi</td>\n",
              "      <td>Região Nordeste</td>\n",
              "      <td>51.833333</td>\n",
              "    </tr>\n",
              "    <tr>\n",
              "      <th>247</th>\n",
              "      <td>1</td>\n",
              "      <td>2</td>\n",
              "      <td>mulher</td>\n",
              "      <td>24</td>\n",
              "      <td>0</td>\n",
              "      <td>NaN</td>\n",
              "      <td>10.357143</td>\n",
              "      <td>12.083333</td>\n",
              "      <td>PA</td>\n",
              "      <td>Aveiro</td>\n",
              "      <td>Região Norte</td>\n",
              "      <td>1.006944</td>\n",
              "    </tr>\n",
              "    <tr>\n",
              "      <th>248</th>\n",
              "      <td>1</td>\n",
              "      <td>1</td>\n",
              "      <td>homem</td>\n",
              "      <td>37</td>\n",
              "      <td>1</td>\n",
              "      <td>NaN</td>\n",
              "      <td>37538.714286</td>\n",
              "      <td>43795.166667</td>\n",
              "      <td>RS</td>\n",
              "      <td>Restinga Seca</td>\n",
              "      <td>Região Sul</td>\n",
              "      <td>2367.306306</td>\n",
              "    </tr>\n",
              "    <tr>\n",
              "      <th>249</th>\n",
              "      <td>0</td>\n",
              "      <td>2</td>\n",
              "      <td>homem</td>\n",
              "      <td>54</td>\n",
              "      <td>1</td>\n",
              "      <td>NaN</td>\n",
              "      <td>1.857143</td>\n",
              "      <td>2.166667</td>\n",
              "      <td>RO</td>\n",
              "      <td>Cujubim</td>\n",
              "      <td>Região Norte</td>\n",
              "      <td>0.080247</td>\n",
              "    </tr>\n",
              "    <tr>\n",
              "      <th>250</th>\n",
              "      <td>0</td>\n",
              "      <td>3</td>\n",
              "      <td>homem</td>\n",
              "      <td>22</td>\n",
              "      <td>0</td>\n",
              "      <td>NaN</td>\n",
              "      <td>51.785714</td>\n",
              "      <td>60.416667</td>\n",
              "      <td>MG</td>\n",
              "      <td>Montalvânia</td>\n",
              "      <td>Região Sudeste</td>\n",
              "      <td>5.492424</td>\n",
              "    </tr>\n",
              "    <tr>\n",
              "      <th>251</th>\n",
              "      <td>0</td>\n",
              "      <td>3</td>\n",
              "      <td>mulher</td>\n",
              "      <td>29</td>\n",
              "      <td>1</td>\n",
              "      <td>NaN</td>\n",
              "      <td>7473.214286</td>\n",
              "      <td>8718.750000</td>\n",
              "      <td>PR</td>\n",
              "      <td>Bituruna</td>\n",
              "      <td>Região Sul</td>\n",
              "      <td>601.293103</td>\n",
              "    </tr>\n",
              "    <tr>\n",
              "      <th>252</th>\n",
              "      <td>0</td>\n",
              "      <td>1</td>\n",
              "      <td>homem</td>\n",
              "      <td>62</td>\n",
              "      <td>0</td>\n",
              "      <td>NaN</td>\n",
              "      <td>189.642857</td>\n",
              "      <td>221.250000</td>\n",
              "      <td>PR</td>\n",
              "      <td>Contenda</td>\n",
              "      <td>Região Sul</td>\n",
              "      <td>7.137097</td>\n",
              "    </tr>\n",
              "    <tr>\n",
              "      <th>299</th>\n",
              "      <td>1</td>\n",
              "      <td>1</td>\n",
              "      <td>mulher</td>\n",
              "      <td>50</td>\n",
              "      <td>0</td>\n",
              "      <td>NaN</td>\n",
              "      <td>176800.571429</td>\n",
              "      <td>206267.333333</td>\n",
              "      <td>BA</td>\n",
              "      <td>Tapiramutá</td>\n",
              "      <td>Região Nordeste</td>\n",
              "      <td>8250.693333</td>\n",
              "    </tr>\n",
              "    <tr>\n",
              "      <th>300</th>\n",
              "      <td>1</td>\n",
              "      <td>3</td>\n",
              "      <td>mulher</td>\n",
              "      <td>22</td>\n",
              "      <td>0</td>\n",
              "      <td>NaN</td>\n",
              "      <td>55.357143</td>\n",
              "      <td>64.583333</td>\n",
              "      <td>SE</td>\n",
              "      <td>Cristinápolis</td>\n",
              "      <td>Região Nordeste</td>\n",
              "      <td>5.871212</td>\n",
              "    </tr>\n",
              "    <tr>\n",
              "      <th>301</th>\n",
              "      <td>1</td>\n",
              "      <td>3</td>\n",
              "      <td>homem</td>\n",
              "      <td>22</td>\n",
              "      <td>2</td>\n",
              "      <td>NaN</td>\n",
              "      <td>166.071429</td>\n",
              "      <td>193.750000</td>\n",
              "      <td>BA</td>\n",
              "      <td>Sapeaçu</td>\n",
              "      <td>Região Nordeste</td>\n",
              "      <td>17.613636</td>\n",
              "    </tr>\n",
              "    <tr>\n",
              "      <th>302</th>\n",
              "      <td>0</td>\n",
              "      <td>3</td>\n",
              "      <td>homem</td>\n",
              "      <td>19</td>\n",
              "      <td>0</td>\n",
              "      <td>NaN</td>\n",
              "      <td>0.000000</td>\n",
              "      <td>0.000000</td>\n",
              "      <td>RJ</td>\n",
              "      <td>Porto Real</td>\n",
              "      <td>Região Sudeste</td>\n",
              "      <td>0.000000</td>\n",
              "    </tr>\n",
              "    <tr>\n",
              "      <th>303</th>\n",
              "      <td>1</td>\n",
              "      <td>2</td>\n",
              "      <td>mulher</td>\n",
              "      <td>22</td>\n",
              "      <td>0</td>\n",
              "      <td>NaN</td>\n",
              "      <td>88.214286</td>\n",
              "      <td>102.916667</td>\n",
              "      <td>MA</td>\n",
              "      <td>Bacuri</td>\n",
              "      <td>Região Nordeste</td>\n",
              "      <td>9.356061</td>\n",
              "    </tr>\n",
              "    <tr>\n",
              "      <th>304</th>\n",
              "      <td>0</td>\n",
              "      <td>3</td>\n",
              "      <td>homem</td>\n",
              "      <td>22</td>\n",
              "      <td>0</td>\n",
              "      <td>NaN</td>\n",
              "      <td>57.500000</td>\n",
              "      <td>67.083333</td>\n",
              "      <td>SP</td>\n",
              "      <td>Cafelândia</td>\n",
              "      <td>Região Sudeste</td>\n",
              "      <td>6.098485</td>\n",
              "    </tr>\n",
              "    <tr>\n",
              "      <th>305</th>\n",
              "      <td>1</td>\n",
              "      <td>1</td>\n",
              "      <td>homem</td>\n",
              "      <td>92</td>\n",
              "      <td>1</td>\n",
              "      <td>NaN</td>\n",
              "      <td>1082.500000</td>\n",
              "      <td>1262.916667</td>\n",
              "      <td>RS</td>\n",
              "      <td>Tapes</td>\n",
              "      <td>Região Sul</td>\n",
              "      <td>27.454710</td>\n",
              "    </tr>\n",
              "    <tr>\n",
              "      <th>306</th>\n",
              "      <td>1</td>\n",
              "      <td>1</td>\n",
              "      <td>mulher</td>\n",
              "      <td>22</td>\n",
              "      <td>0</td>\n",
              "      <td>NaN</td>\n",
              "      <td>79202.357143</td>\n",
              "      <td>92402.750000</td>\n",
              "      <td>PR</td>\n",
              "      <td>Cândido de Abreu</td>\n",
              "      <td>Região Sul</td>\n",
              "      <td>8400.250000</td>\n",
              "    </tr>\n",
              "    <tr>\n",
              "      <th>307</th>\n",
              "      <td>1</td>\n",
              "      <td>1</td>\n",
              "      <td>mulher</td>\n",
              "      <td>17</td>\n",
              "      <td>1</td>\n",
              "      <td>NaN</td>\n",
              "      <td>77.785714</td>\n",
              "      <td>90.750000</td>\n",
              "      <td>CE</td>\n",
              "      <td>Monsenhor Tabosa</td>\n",
              "      <td>Região Nordeste</td>\n",
              "      <td>10.676471</td>\n",
              "    </tr>\n",
              "    <tr>\n",
              "      <th>308</th>\n",
              "      <td>0</td>\n",
              "      <td>2</td>\n",
              "      <td>homem</td>\n",
              "      <td>30</td>\n",
              "      <td>1</td>\n",
              "      <td>NaN</td>\n",
              "      <td>1.714286</td>\n",
              "      <td>2.000000</td>\n",
              "      <td>MG</td>\n",
              "      <td>Ipaba</td>\n",
              "      <td>Região Sudeste</td>\n",
              "      <td>0.133333</td>\n",
              "    </tr>\n",
              "    <tr>\n",
              "      <th>309</th>\n",
              "      <td>1</td>\n",
              "      <td>1</td>\n",
              "      <td>mulher</td>\n",
              "      <td>30</td>\n",
              "      <td>0</td>\n",
              "      <td>NaN</td>\n",
              "      <td>40663.714286</td>\n",
              "      <td>47441.000000</td>\n",
              "      <td>BA</td>\n",
              "      <td>Nova Canaã</td>\n",
              "      <td>Região Nordeste</td>\n",
              "      <td>3162.733333</td>\n",
              "    </tr>\n",
              "  </tbody>\n",
              "</table>\n",
              "</div>"
            ],
            "text/plain": [
              "     Target  GrupoEconomico    Sexo  Idade  GrupoRisco  ValorCompraAnual  \\\n",
              "236       0               2   homem     44           1               NaN   \n",
              "237       1               2  mulher     44           0               NaN   \n",
              "238       0               2   homem     19           0               NaN   \n",
              "239       0               2   homem     33           0               NaN   \n",
              "240       0               3  mulher     22           1               NaN   \n",
              "241       1               3  mulher     22           1               NaN   \n",
              "242       0               2   homem     29           0               NaN   \n",
              "243       0               3   homem     22           0               NaN   \n",
              "244       0               3   homem     30           0               NaN   \n",
              "245       0               1   homem     44           2               NaN   \n",
              "246       0               3  mulher     25           0               NaN   \n",
              "247       1               2  mulher     24           0               NaN   \n",
              "248       1               1   homem     37           1               NaN   \n",
              "249       0               2   homem     54           1               NaN   \n",
              "250       0               3   homem     22           0               NaN   \n",
              "251       0               3  mulher     29           1               NaN   \n",
              "252       0               1   homem     62           0               NaN   \n",
              "299       1               1  mulher     50           0               NaN   \n",
              "300       1               3  mulher     22           0               NaN   \n",
              "301       1               3   homem     22           2               NaN   \n",
              "302       0               3   homem     19           0               NaN   \n",
              "303       1               2  mulher     22           0               NaN   \n",
              "304       0               3   homem     22           0               NaN   \n",
              "305       1               1   homem     92           1               NaN   \n",
              "306       1               1  mulher     22           0               NaN   \n",
              "307       1               1  mulher     17           1               NaN   \n",
              "308       0               2   homem     30           1               NaN   \n",
              "309       1               1  mulher     30           0               NaN   \n",
              "\n",
              "          GastoMax     GastoMedio  UF      CidadeResidencia  \\\n",
              "236       1.857143       2.166667  GO             Abadiânia   \n",
              "237     187.500000     218.750000  GO                Crixás   \n",
              "238       7.500000       8.750000  PE        Joaquim Nabuco   \n",
              "239     876.785714    1022.916667  SP          Elias Fausto   \n",
              "240   10324.428571   12045.166667  PR             Terra Boa   \n",
              "241      11.071429      12.916667  BA                Ibicuí   \n",
              "242       7.500000       8.750000  ES            João Neiva   \n",
              "243     508.928571     593.750000  PE               Jataúba   \n",
              "244     516.071429     602.083333  MG             Tocantins   \n",
              "245       6.428571       7.500000  SE             Indiaroba   \n",
              "246     555.357143     647.916667  RN  São Paulo do Potengi   \n",
              "247      10.357143      12.083333  PA                Aveiro   \n",
              "248   37538.714286   43795.166667  RS         Restinga Seca   \n",
              "249       1.857143       2.166667  RO               Cujubim   \n",
              "250      51.785714      60.416667  MG           Montalvânia   \n",
              "251    7473.214286    8718.750000  PR              Bituruna   \n",
              "252     189.642857     221.250000  PR              Contenda   \n",
              "299  176800.571429  206267.333333  BA            Tapiramutá   \n",
              "300      55.357143      64.583333  SE         Cristinápolis   \n",
              "301     166.071429     193.750000  BA               Sapeaçu   \n",
              "302       0.000000       0.000000  RJ            Porto Real   \n",
              "303      88.214286     102.916667  MA                Bacuri   \n",
              "304      57.500000      67.083333  SP            Cafelândia   \n",
              "305    1082.500000    1262.916667  RS                 Tapes   \n",
              "306   79202.357143   92402.750000  PR      Cândido de Abreu   \n",
              "307      77.785714      90.750000  CE      Monsenhor Tabosa   \n",
              "308       1.714286       2.000000  MG                 Ipaba   \n",
              "309   40663.714286   47441.000000  BA            Nova Canaã   \n",
              "\n",
              "            RegiaodoPais  NumeroComprasOnline  \n",
              "236  Região Centro-Oeste             0.098485  \n",
              "237  Região Centro-Oeste            54.687500  \n",
              "238      Região Nordeste             0.921053  \n",
              "239       Região Sudeste            61.994949  \n",
              "240           Região Sul          1095.015152  \n",
              "241      Região Nordeste             1.174242  \n",
              "242       Região Sudeste             0.603448  \n",
              "243      Região Nordeste            53.977273  \n",
              "244       Região Sudeste            40.138889  \n",
              "245      Região Nordeste             0.340909  \n",
              "246      Região Nordeste            51.833333  \n",
              "247         Região Norte             1.006944  \n",
              "248           Região Sul          2367.306306  \n",
              "249         Região Norte             0.080247  \n",
              "250       Região Sudeste             5.492424  \n",
              "251           Região Sul           601.293103  \n",
              "252           Região Sul             7.137097  \n",
              "299      Região Nordeste          8250.693333  \n",
              "300      Região Nordeste             5.871212  \n",
              "301      Região Nordeste            17.613636  \n",
              "302       Região Sudeste             0.000000  \n",
              "303      Região Nordeste             9.356061  \n",
              "304       Região Sudeste             6.098485  \n",
              "305           Região Sul            27.454710  \n",
              "306           Região Sul          8400.250000  \n",
              "307      Região Nordeste            10.676471  \n",
              "308       Região Sudeste             0.133333  \n",
              "309      Região Nordeste          3162.733333  "
            ]
          },
          "metadata": {
            "tags": []
          },
          "execution_count": 14
        }
      ]
    },
    {
      "cell_type": "code",
      "metadata": {
        "ExecuteTime": {
          "end_time": "2021-05-13T22:13:57.709525Z",
          "start_time": "2021-05-13T22:13:57.603490Z"
        },
        "id": "dxXFg8P4WvJq"
      },
      "source": [
        "df.dropna(inplace=True)"
      ],
      "execution_count": null,
      "outputs": []
    },
    {
      "cell_type": "code",
      "metadata": {
        "ExecuteTime": {
          "end_time": "2021-05-13T22:13:57.755527Z",
          "start_time": "2021-05-13T22:13:57.713525Z"
        },
        "id": "1QgEp7BaWvJr",
        "outputId": "cc716b12-2b8d-4ed2-c0b8-1b3d51a8a28d"
      },
      "source": [
        "df.head()"
      ],
      "execution_count": null,
      "outputs": [
        {
          "output_type": "execute_result",
          "data": {
            "text/html": [
              "<div>\n",
              "<style scoped>\n",
              "    .dataframe tbody tr th:only-of-type {\n",
              "        vertical-align: middle;\n",
              "    }\n",
              "\n",
              "    .dataframe tbody tr th {\n",
              "        vertical-align: top;\n",
              "    }\n",
              "\n",
              "    .dataframe thead th {\n",
              "        text-align: right;\n",
              "    }\n",
              "</style>\n",
              "<table border=\"1\" class=\"dataframe\">\n",
              "  <thead>\n",
              "    <tr style=\"text-align: right;\">\n",
              "      <th></th>\n",
              "      <th>Target</th>\n",
              "      <th>GrupoEconomico</th>\n",
              "      <th>Sexo</th>\n",
              "      <th>Idade</th>\n",
              "      <th>GrupoRisco</th>\n",
              "      <th>ValorCompraAnual</th>\n",
              "      <th>GastoMax</th>\n",
              "      <th>GastoMedio</th>\n",
              "      <th>UF</th>\n",
              "      <th>CidadeResidencia</th>\n",
              "      <th>RegiaodoPais</th>\n",
              "      <th>NumeroComprasOnline</th>\n",
              "    </tr>\n",
              "  </thead>\n",
              "  <tbody>\n",
              "    <tr>\n",
              "      <th>0</th>\n",
              "      <td>0</td>\n",
              "      <td>3</td>\n",
              "      <td>homem</td>\n",
              "      <td>22</td>\n",
              "      <td>1</td>\n",
              "      <td>7250.0</td>\n",
              "      <td>517.857143</td>\n",
              "      <td>604.166667</td>\n",
              "      <td>MG</td>\n",
              "      <td>Morada Nova de Minas</td>\n",
              "      <td>Região Sudeste</td>\n",
              "      <td>54.924242</td>\n",
              "    </tr>\n",
              "    <tr>\n",
              "      <th>1</th>\n",
              "      <td>1</td>\n",
              "      <td>1</td>\n",
              "      <td>mulher</td>\n",
              "      <td>38</td>\n",
              "      <td>1</td>\n",
              "      <td>71283.0</td>\n",
              "      <td>5091.642857</td>\n",
              "      <td>5940.250000</td>\n",
              "      <td>RN</td>\n",
              "      <td>Marcelino Vieira</td>\n",
              "      <td>Região Nordeste</td>\n",
              "      <td>312.644737</td>\n",
              "    </tr>\n",
              "    <tr>\n",
              "      <th>2</th>\n",
              "      <td>1</td>\n",
              "      <td>3</td>\n",
              "      <td>mulher</td>\n",
              "      <td>26</td>\n",
              "      <td>0</td>\n",
              "      <td>7925.0</td>\n",
              "      <td>566.071429</td>\n",
              "      <td>660.416667</td>\n",
              "      <td>PR</td>\n",
              "      <td>Agudos do Sul</td>\n",
              "      <td>Região Sul</td>\n",
              "      <td>50.801282</td>\n",
              "    </tr>\n",
              "    <tr>\n",
              "      <th>3</th>\n",
              "      <td>1</td>\n",
              "      <td>1</td>\n",
              "      <td>mulher</td>\n",
              "      <td>35</td>\n",
              "      <td>1</td>\n",
              "      <td>531.0</td>\n",
              "      <td>37.928571</td>\n",
              "      <td>44.250000</td>\n",
              "      <td>PR</td>\n",
              "      <td>Congonhinhas</td>\n",
              "      <td>Região Sul</td>\n",
              "      <td>2.528571</td>\n",
              "    </tr>\n",
              "    <tr>\n",
              "      <th>4</th>\n",
              "      <td>0</td>\n",
              "      <td>3</td>\n",
              "      <td>homem</td>\n",
              "      <td>35</td>\n",
              "      <td>0</td>\n",
              "      <td>805.0</td>\n",
              "      <td>57.500000</td>\n",
              "      <td>67.083333</td>\n",
              "      <td>BA</td>\n",
              "      <td>Morpará</td>\n",
              "      <td>Região Nordeste</td>\n",
              "      <td>3.833333</td>\n",
              "    </tr>\n",
              "  </tbody>\n",
              "</table>\n",
              "</div>"
            ],
            "text/plain": [
              "   Target  GrupoEconomico    Sexo  Idade  GrupoRisco  ValorCompraAnual  \\\n",
              "0       0               3   homem     22           1            7250.0   \n",
              "1       1               1  mulher     38           1           71283.0   \n",
              "2       1               3  mulher     26           0            7925.0   \n",
              "3       1               1  mulher     35           1             531.0   \n",
              "4       0               3   homem     35           0             805.0   \n",
              "\n",
              "      GastoMax   GastoMedio  UF      CidadeResidencia     RegiaodoPais  \\\n",
              "0   517.857143   604.166667  MG  Morada Nova de Minas   Região Sudeste   \n",
              "1  5091.642857  5940.250000  RN      Marcelino Vieira  Região Nordeste   \n",
              "2   566.071429   660.416667  PR         Agudos do Sul       Região Sul   \n",
              "3    37.928571    44.250000  PR          Congonhinhas       Região Sul   \n",
              "4    57.500000    67.083333  BA               Morpará  Região Nordeste   \n",
              "\n",
              "   NumeroComprasOnline  \n",
              "0            54.924242  \n",
              "1           312.644737  \n",
              "2            50.801282  \n",
              "3             2.528571  \n",
              "4             3.833333  "
            ]
          },
          "metadata": {
            "tags": []
          },
          "execution_count": 16
        }
      ]
    },
    {
      "cell_type": "code",
      "metadata": {
        "ExecuteTime": {
          "end_time": "2021-05-13T22:13:57.803529Z",
          "start_time": "2021-05-13T22:13:57.758525Z"
        },
        "id": "WnO0qtpNWvJs",
        "outputId": "35ee55c4-3a12-4d1f-85a6-c4ae2d864632"
      },
      "source": [
        "df.shape"
      ],
      "execution_count": null,
      "outputs": [
        {
          "output_type": "execute_result",
          "data": {
            "text/plain": [
              "(863, 12)"
            ]
          },
          "metadata": {
            "tags": []
          },
          "execution_count": 17
        }
      ]
    },
    {
      "cell_type": "code",
      "metadata": {
        "ExecuteTime": {
          "end_time": "2021-05-13T22:13:57.866523Z",
          "start_time": "2021-05-13T22:13:57.808525Z"
        },
        "id": "2rJn4u2yWvJt",
        "outputId": "a3ac4737-4393-49e2-b7ae-9c4c11d6c5d8"
      },
      "source": [
        "df['Target'].value_counts()"
      ],
      "execution_count": null,
      "outputs": [
        {
          "output_type": "execute_result",
          "data": {
            "text/plain": [
              "0    533\n",
              "1    330\n",
              "Name: Target, dtype: int64"
            ]
          },
          "metadata": {
            "tags": []
          },
          "execution_count": 18
        }
      ]
    },
    {
      "cell_type": "markdown",
      "metadata": {
        "id": "-wLzrZZ7WvJu"
      },
      "source": [
        "## Análise de dados exploratória"
      ]
    },
    {
      "cell_type": "code",
      "metadata": {
        "ExecuteTime": {
          "end_time": "2021-05-13T22:13:59.211142Z",
          "start_time": "2021-05-13T22:13:57.871525Z"
        },
        "id": "nalxpsx0WvJv",
        "outputId": "f5383931-c3fb-4e1a-e659-192ca6a772eb"
      },
      "source": [
        "df['Target'].value_counts().plot(kind='barh', title='Frequencia da target', figsize=(4, 3));"
      ],
      "execution_count": null,
      "outputs": [
        {
          "output_type": "display_data",
          "data": {
            "image/png": "[encoded data removed]",
            "text/plain": [
              "<Figure size 288x216 with 1 Axes>"
            ]
          },
          "metadata": {
            "tags": [],
            "needs_background": "light"
          }
        }
      ]
    },
    {
      "cell_type": "code",
      "metadata": {
        "ExecuteTime": {
          "end_time": "2021-05-13T22:14:01.032775Z",
          "start_time": "2021-05-13T22:13:59.216145Z"
        },
        "id": "I7TsWSS8WvJw"
      },
      "source": [
        "# bibliotecas de visualização de dados\n",
        "import matplotlib.pyplot as b\n",
        "import seaborn as sns"
      ],
      "execution_count": null,
      "outputs": []
    },
    {
      "cell_type": "markdown",
      "metadata": {
        "id": "BFfArLMHWvJy"
      },
      "source": [
        "- **Diferenças entre bibliotecas de visualização de dados**\n",
        "    - `plot do pandas`: enxuto e simples\n",
        "    - `matplotlib`: complexo e menos conciso\n",
        "    - `seaborn`: mais voltado pra estatística"
      ]
    },
    {
      "cell_type": "code",
      "metadata": {
        "ExecuteTime": {
          "end_time": "2021-05-13T22:14:01.377775Z",
          "start_time": "2021-05-13T22:14:01.034775Z"
        },
        "id": "sJ_Ms4moWvJz",
        "outputId": "5ba92352-c1b6-42bb-8e00-d9373bef59f0"
      },
      "source": [
        "sns.countplot(data=df, y='Target');"
      ],
      "execution_count": null,
      "outputs": [
        {
          "output_type": "display_data",
          "data": {
            "image/png": "[encoded data removed]",
            "text/plain": [
              "<Figure size 432x288 with 1 Axes>"
            ]
          },
          "metadata": {
            "tags": [],
            "needs_background": "light"
          }
        }
      ]
    },
    {
      "cell_type": "code",
      "metadata": {
        "ExecuteTime": {
          "end_time": "2021-05-13T22:14:42.307568Z",
          "start_time": "2021-05-13T22:14:42.292562Z"
        },
        "id": "vruQelRDWvJ0"
      },
      "source": [
        "import matplotlib.pyplot as plt"
      ],
      "execution_count": null,
      "outputs": []
    },
    {
      "cell_type": "code",
      "metadata": {
        "ExecuteTime": {
          "end_time": "2021-05-13T22:14:43.001361Z",
          "start_time": "2021-05-13T22:14:42.311560Z"
        },
        "scrolled": true,
        "id": "bQNfTDgVWvJ0",
        "outputId": "ca27b964-5b19-4813-da20-4b739c458c75"
      },
      "source": [
        "plt.title('DIstribuição de idade') \n",
        "df['Idade'].hist(bins=50, grid=False);"
      ],
      "execution_count": null,
      "outputs": [
        {
          "output_type": "display_data",
          "data": {
            "image/png": "[encoded data removed]",
            "text/plain": [
              "<Figure size 432x288 with 1 Axes>"
            ]
          },
          "metadata": {
            "tags": [],
            "needs_background": "light"
          }
        }
      ]
    },
    {
      "cell_type": "code",
      "metadata": {
        "ExecuteTime": {
          "end_time": "2021-05-13T22:14:43.366959Z",
          "start_time": "2021-05-13T22:14:43.006363Z"
        },
        "id": "0RfA5V-mWvJ1",
        "outputId": "3cd8c935-6a82-43c3-e0eb-aa4ea10380f1"
      },
      "source": [
        "sns.scatterplot(data=df, x='Idade', y='GastoMedio', hue='Target');"
      ],
      "execution_count": null,
      "outputs": [
        {
          "output_type": "display_data",
          "data": {
            "image/png": "[encoded data removed]",
            "text/plain": [
              "<Figure size 432x288 with 1 Axes>"
            ]
          },
          "metadata": {
            "tags": [],
            "needs_background": "light"
          }
        }
      ]
    },
    {
      "cell_type": "code",
      "metadata": {
        "ExecuteTime": {
          "end_time": "2021-05-13T22:14:43.462968Z",
          "start_time": "2021-05-13T22:14:43.369957Z"
        },
        "id": "YzejrbHjWvJ2",
        "outputId": "18a4924d-d450-4ac7-dbf5-0e978d0054a4"
      },
      "source": [
        "df.describe()"
      ],
      "execution_count": null,
      "outputs": [
        {
          "output_type": "execute_result",
          "data": {
            "text/html": [
              "<div>\n",
              "<style scoped>\n",
              "    .dataframe tbody tr th:only-of-type {\n",
              "        vertical-align: middle;\n",
              "    }\n",
              "\n",
              "    .dataframe tbody tr th {\n",
              "        vertical-align: top;\n",
              "    }\n",
              "\n",
              "    .dataframe thead th {\n",
              "        text-align: right;\n",
              "    }\n",
              "</style>\n",
              "<table border=\"1\" class=\"dataframe\">\n",
              "  <thead>\n",
              "    <tr style=\"text-align: right;\">\n",
              "      <th></th>\n",
              "      <th>Target</th>\n",
              "      <th>GrupoEconomico</th>\n",
              "      <th>Idade</th>\n",
              "      <th>GrupoRisco</th>\n",
              "      <th>ValorCompraAnual</th>\n",
              "      <th>GastoMax</th>\n",
              "      <th>GastoMedio</th>\n",
              "      <th>NumeroComprasOnline</th>\n",
              "    </tr>\n",
              "  </thead>\n",
              "  <tbody>\n",
              "    <tr>\n",
              "      <th>count</th>\n",
              "      <td>863.000000</td>\n",
              "      <td>863.000000</td>\n",
              "      <td>863.000000</td>\n",
              "      <td>863.000000</td>\n",
              "      <td>8.630000e+02</td>\n",
              "      <td>863.000000</td>\n",
              "      <td>863.000000</td>\n",
              "      <td>8.630000e+02</td>\n",
              "    </tr>\n",
              "    <tr>\n",
              "      <th>mean</th>\n",
              "      <td>0.382387</td>\n",
              "      <td>2.315180</td>\n",
              "      <td>30.334878</td>\n",
              "      <td>0.524913</td>\n",
              "      <td>1.138834e+05</td>\n",
              "      <td>8134.529217</td>\n",
              "      <td>9490.284087</td>\n",
              "      <td>5.034897e+04</td>\n",
              "    </tr>\n",
              "    <tr>\n",
              "      <th>std</th>\n",
              "      <td>0.486252</td>\n",
              "      <td>0.835877</td>\n",
              "      <td>12.437044</td>\n",
              "      <td>1.114768</td>\n",
              "      <td>3.976690e+05</td>\n",
              "      <td>28404.926272</td>\n",
              "      <td>33139.080651</td>\n",
              "      <td>1.172906e+06</td>\n",
              "    </tr>\n",
              "    <tr>\n",
              "      <th>min</th>\n",
              "      <td>0.000000</td>\n",
              "      <td>1.000000</td>\n",
              "      <td>10.000000</td>\n",
              "      <td>0.000000</td>\n",
              "      <td>0.000000e+00</td>\n",
              "      <td>0.000000</td>\n",
              "      <td>0.000000</td>\n",
              "      <td>0.000000e+00</td>\n",
              "    </tr>\n",
              "    <tr>\n",
              "      <th>25%</th>\n",
              "      <td>0.000000</td>\n",
              "      <td>2.000000</td>\n",
              "      <td>22.000000</td>\n",
              "      <td>0.000000</td>\n",
              "      <td>1.610000e+02</td>\n",
              "      <td>11.500000</td>\n",
              "      <td>13.416667</td>\n",
              "      <td>1.098485e+00</td>\n",
              "    </tr>\n",
              "    <tr>\n",
              "      <th>50%</th>\n",
              "      <td>0.000000</td>\n",
              "      <td>3.000000</td>\n",
              "      <td>26.000000</td>\n",
              "      <td>0.000000</td>\n",
              "      <td>2.415000e+03</td>\n",
              "      <td>172.500000</td>\n",
              "      <td>201.250000</td>\n",
              "      <td>1.341667e+01</td>\n",
              "    </tr>\n",
              "    <tr>\n",
              "      <th>75%</th>\n",
              "      <td>1.000000</td>\n",
              "      <td>3.000000</td>\n",
              "      <td>36.000000</td>\n",
              "      <td>1.000000</td>\n",
              "      <td>7.883350e+04</td>\n",
              "      <td>5630.964286</td>\n",
              "      <td>6569.458333</td>\n",
              "      <td>5.757389e+02</td>\n",
              "    </tr>\n",
              "    <tr>\n",
              "      <th>max</th>\n",
              "      <td>1.000000</td>\n",
              "      <td>3.000000</td>\n",
              "      <td>90.000000</td>\n",
              "      <td>8.000000</td>\n",
              "      <td>5.123292e+06</td>\n",
              "      <td>365949.428571</td>\n",
              "      <td>426941.000000</td>\n",
              "      <td>3.410762e+07</td>\n",
              "    </tr>\n",
              "  </tbody>\n",
              "</table>\n",
              "</div>"
            ],
            "text/plain": [
              "           Target  GrupoEconomico       Idade  GrupoRisco  ValorCompraAnual  \\\n",
              "count  863.000000      863.000000  863.000000  863.000000      8.630000e+02   \n",
              "mean     0.382387        2.315180   30.334878    0.524913      1.138834e+05   \n",
              "std      0.486252        0.835877   12.437044    1.114768      3.976690e+05   \n",
              "min      0.000000        1.000000   10.000000    0.000000      0.000000e+00   \n",
              "25%      0.000000        2.000000   22.000000    0.000000      1.610000e+02   \n",
              "50%      0.000000        3.000000   26.000000    0.000000      2.415000e+03   \n",
              "75%      1.000000        3.000000   36.000000    1.000000      7.883350e+04   \n",
              "max      1.000000        3.000000   90.000000    8.000000      5.123292e+06   \n",
              "\n",
              "            GastoMax     GastoMedio  NumeroComprasOnline  \n",
              "count     863.000000     863.000000         8.630000e+02  \n",
              "mean     8134.529217    9490.284087         5.034897e+04  \n",
              "std     28404.926272   33139.080651         1.172906e+06  \n",
              "min         0.000000       0.000000         0.000000e+00  \n",
              "25%        11.500000      13.416667         1.098485e+00  \n",
              "50%       172.500000     201.250000         1.341667e+01  \n",
              "75%      5630.964286    6569.458333         5.757389e+02  \n",
              "max    365949.428571  426941.000000         3.410762e+07  "
            ]
          },
          "metadata": {
            "tags": []
          },
          "execution_count": 27
        }
      ]
    },
    {
      "cell_type": "code",
      "metadata": {
        "ExecuteTime": {
          "end_time": "2021-05-13T22:14:43.728571Z",
          "start_time": "2021-05-13T22:14:43.466961Z"
        },
        "id": "VnzQ60bdWvJ3",
        "outputId": "dbabaf1f-fb7c-4d51-9c47-2222960dcedd"
      },
      "source": [
        "df['NumeroComprasOnline'].plot.box();"
      ],
      "execution_count": null,
      "outputs": [
        {
          "output_type": "display_data",
          "data": {
            "image/png": "[encoded data removed]",
            "text/plain": [
              "<Figure size 432x288 with 1 Axes>"
            ]
          },
          "metadata": {
            "tags": [],
            "needs_background": "light"
          }
        }
      ]
    },
    {
      "cell_type": "code",
      "metadata": {
        "ExecuteTime": {
          "end_time": "2021-05-13T22:14:44.013621Z",
          "start_time": "2021-05-13T22:14:43.731585Z"
        },
        "id": "9zMuxl4bWvJ4",
        "outputId": "5875a172-08e5-4914-8a7b-22cd6231a006"
      },
      "source": [
        "df['Idade'].plot.box();"
      ],
      "execution_count": null,
      "outputs": [
        {
          "output_type": "display_data",
          "data": {
            "image/png": "[encoded data removed]",
            "text/plain": [
              "<Figure size 432x288 with 1 Axes>"
            ]
          },
          "metadata": {
            "tags": [],
            "needs_background": "light"
          }
        }
      ]
    },
    {
      "cell_type": "markdown",
      "metadata": {
        "id": "ByW3keKuWvJ5"
      },
      "source": [
        "## Tratamento dos dados para modelagem"
      ]
    },
    {
      "cell_type": "code",
      "metadata": {
        "ExecuteTime": {
          "end_time": "2021-05-13T22:14:44.077628Z",
          "start_time": "2021-05-13T22:14:44.016621Z"
        },
        "id": "bGP_68NFWvJ6",
        "outputId": "f2281aab-5ca2-4845-ac23-9f443e550c2f"
      },
      "source": [
        "df.head()"
      ],
      "execution_count": null,
      "outputs": [
        {
          "output_type": "execute_result",
          "data": {
            "text/html": [
              "<div>\n",
              "<style scoped>\n",
              "    .dataframe tbody tr th:only-of-type {\n",
              "        vertical-align: middle;\n",
              "    }\n",
              "\n",
              "    .dataframe tbody tr th {\n",
              "        vertical-align: top;\n",
              "    }\n",
              "\n",
              "    .dataframe thead th {\n",
              "        text-align: right;\n",
              "    }\n",
              "</style>\n",
              "<table border=\"1\" class=\"dataframe\">\n",
              "  <thead>\n",
              "    <tr style=\"text-align: right;\">\n",
              "      <th></th>\n",
              "      <th>Target</th>\n",
              "      <th>GrupoEconomico</th>\n",
              "      <th>Sexo</th>\n",
              "      <th>Idade</th>\n",
              "      <th>GrupoRisco</th>\n",
              "      <th>ValorCompraAnual</th>\n",
              "      <th>GastoMax</th>\n",
              "      <th>GastoMedio</th>\n",
              "      <th>UF</th>\n",
              "      <th>CidadeResidencia</th>\n",
              "      <th>RegiaodoPais</th>\n",
              "      <th>NumeroComprasOnline</th>\n",
              "    </tr>\n",
              "  </thead>\n",
              "  <tbody>\n",
              "    <tr>\n",
              "      <th>0</th>\n",
              "      <td>0</td>\n",
              "      <td>3</td>\n",
              "      <td>homem</td>\n",
              "      <td>22</td>\n",
              "      <td>1</td>\n",
              "      <td>7250.0</td>\n",
              "      <td>517.857143</td>\n",
              "      <td>604.166667</td>\n",
              "      <td>MG</td>\n",
              "      <td>Morada Nova de Minas</td>\n",
              "      <td>Região Sudeste</td>\n",
              "      <td>54.924242</td>\n",
              "    </tr>\n",
              "    <tr>\n",
              "      <th>1</th>\n",
              "      <td>1</td>\n",
              "      <td>1</td>\n",
              "      <td>mulher</td>\n",
              "      <td>38</td>\n",
              "      <td>1</td>\n",
              "      <td>71283.0</td>\n",
              "      <td>5091.642857</td>\n",
              "      <td>5940.250000</td>\n",
              "      <td>RN</td>\n",
              "      <td>Marcelino Vieira</td>\n",
              "      <td>Região Nordeste</td>\n",
              "      <td>312.644737</td>\n",
              "    </tr>\n",
              "    <tr>\n",
              "      <th>2</th>\n",
              "      <td>1</td>\n",
              "      <td>3</td>\n",
              "      <td>mulher</td>\n",
              "      <td>26</td>\n",
              "      <td>0</td>\n",
              "      <td>7925.0</td>\n",
              "      <td>566.071429</td>\n",
              "      <td>660.416667</td>\n",
              "      <td>PR</td>\n",
              "      <td>Agudos do Sul</td>\n",
              "      <td>Região Sul</td>\n",
              "      <td>50.801282</td>\n",
              "    </tr>\n",
              "    <tr>\n",
              "      <th>3</th>\n",
              "      <td>1</td>\n",
              "      <td>1</td>\n",
              "      <td>mulher</td>\n",
              "      <td>35</td>\n",
              "      <td>1</td>\n",
              "      <td>531.0</td>\n",
              "      <td>37.928571</td>\n",
              "      <td>44.250000</td>\n",
              "      <td>PR</td>\n",
              "      <td>Congonhinhas</td>\n",
              "      <td>Região Sul</td>\n",
              "      <td>2.528571</td>\n",
              "    </tr>\n",
              "    <tr>\n",
              "      <th>4</th>\n",
              "      <td>0</td>\n",
              "      <td>3</td>\n",
              "      <td>homem</td>\n",
              "      <td>35</td>\n",
              "      <td>0</td>\n",
              "      <td>805.0</td>\n",
              "      <td>57.500000</td>\n",
              "      <td>67.083333</td>\n",
              "      <td>BA</td>\n",
              "      <td>Morpará</td>\n",
              "      <td>Região Nordeste</td>\n",
              "      <td>3.833333</td>\n",
              "    </tr>\n",
              "  </tbody>\n",
              "</table>\n",
              "</div>"
            ],
            "text/plain": [
              "   Target  GrupoEconomico    Sexo  Idade  GrupoRisco  ValorCompraAnual  \\\n",
              "0       0               3   homem     22           1            7250.0   \n",
              "1       1               1  mulher     38           1           71283.0   \n",
              "2       1               3  mulher     26           0            7925.0   \n",
              "3       1               1  mulher     35           1             531.0   \n",
              "4       0               3   homem     35           0             805.0   \n",
              "\n",
              "      GastoMax   GastoMedio  UF      CidadeResidencia     RegiaodoPais  \\\n",
              "0   517.857143   604.166667  MG  Morada Nova de Minas   Região Sudeste   \n",
              "1  5091.642857  5940.250000  RN      Marcelino Vieira  Região Nordeste   \n",
              "2   566.071429   660.416667  PR         Agudos do Sul       Região Sul   \n",
              "3    37.928571    44.250000  PR          Congonhinhas       Região Sul   \n",
              "4    57.500000    67.083333  BA               Morpará  Região Nordeste   \n",
              "\n",
              "   NumeroComprasOnline  \n",
              "0            54.924242  \n",
              "1           312.644737  \n",
              "2            50.801282  \n",
              "3             2.528571  \n",
              "4             3.833333  "
            ]
          },
          "metadata": {
            "tags": []
          },
          "execution_count": 30
        }
      ]
    },
    {
      "cell_type": "code",
      "metadata": {
        "ExecuteTime": {
          "end_time": "2021-05-13T22:14:44.108193Z",
          "start_time": "2021-05-13T22:14:44.087624Z"
        },
        "id": "Tly-uaAuWvJ6",
        "outputId": "d14e2bbc-25ab-4bcb-f1e9-0b9c07080962"
      },
      "source": [
        "df.dtypes"
      ],
      "execution_count": null,
      "outputs": [
        {
          "output_type": "execute_result",
          "data": {
            "text/plain": [
              "Target                   int64\n",
              "GrupoEconomico           int64\n",
              "Sexo                    object\n",
              "Idade                    int64\n",
              "GrupoRisco               int64\n",
              "ValorCompraAnual       float64\n",
              "GastoMax               float64\n",
              "GastoMedio             float64\n",
              "UF                      object\n",
              "CidadeResidencia        object\n",
              "RegiaodoPais            object\n",
              "NumeroComprasOnline    float64\n",
              "dtype: object"
            ]
          },
          "metadata": {
            "tags": []
          },
          "execution_count": 31
        }
      ]
    },
    {
      "cell_type": "code",
      "metadata": {
        "ExecuteTime": {
          "end_time": "2021-05-13T22:14:44.156151Z",
          "start_time": "2021-05-13T22:14:44.113152Z"
        },
        "id": "N_Po0vhNWvJ7",
        "outputId": "6a3b099d-37ac-4305-d586-f7ed49494cad"
      },
      "source": [
        "df.select_dtypes(include='object').head()"
      ],
      "execution_count": null,
      "outputs": [
        {
          "output_type": "execute_result",
          "data": {
            "text/html": [
              "<div>\n",
              "<style scoped>\n",
              "    .dataframe tbody tr th:only-of-type {\n",
              "        vertical-align: middle;\n",
              "    }\n",
              "\n",
              "    .dataframe tbody tr th {\n",
              "        vertical-align: top;\n",
              "    }\n",
              "\n",
              "    .dataframe thead th {\n",
              "        text-align: right;\n",
              "    }\n",
              "</style>\n",
              "<table border=\"1\" class=\"dataframe\">\n",
              "  <thead>\n",
              "    <tr style=\"text-align: right;\">\n",
              "      <th></th>\n",
              "      <th>Sexo</th>\n",
              "      <th>UF</th>\n",
              "      <th>CidadeResidencia</th>\n",
              "      <th>RegiaodoPais</th>\n",
              "    </tr>\n",
              "  </thead>\n",
              "  <tbody>\n",
              "    <tr>\n",
              "      <th>0</th>\n",
              "      <td>homem</td>\n",
              "      <td>MG</td>\n",
              "      <td>Morada Nova de Minas</td>\n",
              "      <td>Região Sudeste</td>\n",
              "    </tr>\n",
              "    <tr>\n",
              "      <th>1</th>\n",
              "      <td>mulher</td>\n",
              "      <td>RN</td>\n",
              "      <td>Marcelino Vieira</td>\n",
              "      <td>Região Nordeste</td>\n",
              "    </tr>\n",
              "    <tr>\n",
              "      <th>2</th>\n",
              "      <td>mulher</td>\n",
              "      <td>PR</td>\n",
              "      <td>Agudos do Sul</td>\n",
              "      <td>Região Sul</td>\n",
              "    </tr>\n",
              "    <tr>\n",
              "      <th>3</th>\n",
              "      <td>mulher</td>\n",
              "      <td>PR</td>\n",
              "      <td>Congonhinhas</td>\n",
              "      <td>Região Sul</td>\n",
              "    </tr>\n",
              "    <tr>\n",
              "      <th>4</th>\n",
              "      <td>homem</td>\n",
              "      <td>BA</td>\n",
              "      <td>Morpará</td>\n",
              "      <td>Região Nordeste</td>\n",
              "    </tr>\n",
              "  </tbody>\n",
              "</table>\n",
              "</div>"
            ],
            "text/plain": [
              "     Sexo  UF      CidadeResidencia     RegiaodoPais\n",
              "0   homem  MG  Morada Nova de Minas   Região Sudeste\n",
              "1  mulher  RN      Marcelino Vieira  Região Nordeste\n",
              "2  mulher  PR         Agudos do Sul       Região Sul\n",
              "3  mulher  PR          Congonhinhas       Região Sul\n",
              "4   homem  BA               Morpará  Região Nordeste"
            ]
          },
          "metadata": {
            "tags": []
          },
          "execution_count": 32
        }
      ]
    },
    {
      "cell_type": "code",
      "metadata": {
        "ExecuteTime": {
          "end_time": "2021-05-13T22:14:44.187151Z",
          "start_time": "2021-05-13T22:14:44.160154Z"
        },
        "id": "37n1l94KWvJ9",
        "outputId": "94d13118-5928-45ff-95ae-cca9ead425ee"
      },
      "source": [
        "df.select_dtypes(include='object').nunique()"
      ],
      "execution_count": null,
      "outputs": [
        {
          "output_type": "execute_result",
          "data": {
            "text/plain": [
              "Sexo                  2\n",
              "UF                   26\n",
              "CidadeResidencia    823\n",
              "RegiaodoPais          5\n",
              "dtype: int64"
            ]
          },
          "metadata": {
            "tags": []
          },
          "execution_count": 33
        }
      ]
    },
    {
      "cell_type": "code",
      "metadata": {
        "ExecuteTime": {
          "end_time": "2021-05-13T22:14:44.203157Z",
          "start_time": "2021-05-13T22:14:44.194151Z"
        },
        "id": "AHJOodw-WvJ-"
      },
      "source": [
        "import numpy as np"
      ],
      "execution_count": null,
      "outputs": []
    },
    {
      "cell_type": "code",
      "metadata": {
        "ExecuteTime": {
          "end_time": "2021-05-13T22:14:44.219156Z",
          "start_time": "2021-05-13T22:14:44.209156Z"
        },
        "id": "1w7zZV1iWvJ-"
      },
      "source": [
        "df['Sexo_mulher'] = np.where(df['Sexo']=='mulher', 1, 0)"
      ],
      "execution_count": null,
      "outputs": []
    },
    {
      "cell_type": "code",
      "metadata": {
        "ExecuteTime": {
          "end_time": "2021-05-13T22:14:44.251156Z",
          "start_time": "2021-05-13T22:14:44.222152Z"
        },
        "id": "_pXSUsd9WvJ_"
      },
      "source": [
        "df.drop(columns='Sexo', inplace=True)"
      ],
      "execution_count": null,
      "outputs": []
    },
    {
      "cell_type": "code",
      "metadata": {
        "ExecuteTime": {
          "end_time": "2021-05-13T22:14:44.474153Z",
          "start_time": "2021-05-13T22:14:44.261366Z"
        },
        "id": "Eso9hpSFWvKA",
        "outputId": "81a5d8c0-396d-4631-f1c7-014884966300"
      },
      "source": [
        "df.select_dtypes(include='object').head()"
      ],
      "execution_count": null,
      "outputs": [
        {
          "output_type": "execute_result",
          "data": {
            "text/html": [
              "<div>\n",
              "<style scoped>\n",
              "    .dataframe tbody tr th:only-of-type {\n",
              "        vertical-align: middle;\n",
              "    }\n",
              "\n",
              "    .dataframe tbody tr th {\n",
              "        vertical-align: top;\n",
              "    }\n",
              "\n",
              "    .dataframe thead th {\n",
              "        text-align: right;\n",
              "    }\n",
              "</style>\n",
              "<table border=\"1\" class=\"dataframe\">\n",
              "  <thead>\n",
              "    <tr style=\"text-align: right;\">\n",
              "      <th></th>\n",
              "      <th>UF</th>\n",
              "      <th>CidadeResidencia</th>\n",
              "      <th>RegiaodoPais</th>\n",
              "    </tr>\n",
              "  </thead>\n",
              "  <tbody>\n",
              "    <tr>\n",
              "      <th>0</th>\n",
              "      <td>MG</td>\n",
              "      <td>Morada Nova de Minas</td>\n",
              "      <td>Região Sudeste</td>\n",
              "    </tr>\n",
              "    <tr>\n",
              "      <th>1</th>\n",
              "      <td>RN</td>\n",
              "      <td>Marcelino Vieira</td>\n",
              "      <td>Região Nordeste</td>\n",
              "    </tr>\n",
              "    <tr>\n",
              "      <th>2</th>\n",
              "      <td>PR</td>\n",
              "      <td>Agudos do Sul</td>\n",
              "      <td>Região Sul</td>\n",
              "    </tr>\n",
              "    <tr>\n",
              "      <th>3</th>\n",
              "      <td>PR</td>\n",
              "      <td>Congonhinhas</td>\n",
              "      <td>Região Sul</td>\n",
              "    </tr>\n",
              "    <tr>\n",
              "      <th>4</th>\n",
              "      <td>BA</td>\n",
              "      <td>Morpará</td>\n",
              "      <td>Região Nordeste</td>\n",
              "    </tr>\n",
              "  </tbody>\n",
              "</table>\n",
              "</div>"
            ],
            "text/plain": [
              "   UF      CidadeResidencia     RegiaodoPais\n",
              "0  MG  Morada Nova de Minas   Região Sudeste\n",
              "1  RN      Marcelino Vieira  Região Nordeste\n",
              "2  PR         Agudos do Sul       Região Sul\n",
              "3  PR          Congonhinhas       Região Sul\n",
              "4  BA               Morpará  Região Nordeste"
            ]
          },
          "metadata": {
            "tags": []
          },
          "execution_count": 37
        }
      ]
    },
    {
      "cell_type": "code",
      "metadata": {
        "ExecuteTime": {
          "end_time": "2021-05-13T22:14:44.490149Z",
          "start_time": "2021-05-13T22:14:44.477160Z"
        },
        "id": "OoO5NFeTWvKB"
      },
      "source": [
        "df.drop(columns='CidadeResidencia', inplace=True)"
      ],
      "execution_count": null,
      "outputs": []
    },
    {
      "cell_type": "code",
      "metadata": {
        "ExecuteTime": {
          "end_time": "2021-05-13T22:14:44.538153Z",
          "start_time": "2021-05-13T22:14:44.495174Z"
        },
        "id": "KTzpYFUFWvKB",
        "outputId": "d95d5462-bbc0-4e5e-b3e7-444bbfa34e1a"
      },
      "source": [
        "df.select_dtypes(include='object').nunique()"
      ],
      "execution_count": null,
      "outputs": [
        {
          "output_type": "execute_result",
          "data": {
            "text/plain": [
              "UF              26\n",
              "RegiaodoPais     5\n",
              "dtype: int64"
            ]
          },
          "metadata": {
            "tags": []
          },
          "execution_count": 39
        }
      ]
    },
    {
      "cell_type": "code",
      "metadata": {
        "ExecuteTime": {
          "end_time": "2021-05-13T22:14:44.554158Z",
          "start_time": "2021-05-13T22:14:44.543154Z"
        },
        "id": "trqTrzVpWvKC"
      },
      "source": [
        "df.drop(columns='UF', inplace=True)"
      ],
      "execution_count": null,
      "outputs": []
    },
    {
      "cell_type": "code",
      "metadata": {
        "ExecuteTime": {
          "end_time": "2021-05-13T22:14:44.899676Z",
          "start_time": "2021-05-13T22:14:44.560154Z"
        },
        "id": "2Hy5Jw59WvKD",
        "outputId": "a21cecd0-a19f-4f98-85d4-a828888aefed"
      },
      "source": [
        "plt.figure(figsize=(14, 6))\n",
        "sns.countplot(data=df, y='RegiaodoPais');"
      ],
      "execution_count": null,
      "outputs": [
        {
          "output_type": "display_data",
          "data": {
            "image/png": "[encoded data removed]",
            "text/plain": [
              "<Figure size 1008x432 with 1 Axes>"
            ]
          },
          "metadata": {
            "tags": [],
            "needs_background": "light"
          }
        }
      ]
    },
    {
      "cell_type": "code",
      "metadata": {
        "ExecuteTime": {
          "end_time": "2021-05-13T22:14:44.931198Z",
          "start_time": "2021-05-13T22:14:44.906685Z"
        },
        "id": "syhj7UUDWvKE"
      },
      "source": [
        "df = pd.get_dummies(df, columns=['RegiaodoPais'], drop_first=True)"
      ],
      "execution_count": null,
      "outputs": []
    },
    {
      "cell_type": "markdown",
      "metadata": {
        "id": "g8Wx6twgWvKF"
      },
      "source": [
        "**Tratando variáveis categóricas**\n",
        "\n",
        "Explicando dummy (ou one-hot) encoding\n",
        "\n",
        "![](https://images.deepai.org/glossary-terms/85ba9785fe164baca5739a8594e71e4f/dummy.jpeg)"
      ]
    },
    {
      "cell_type": "code",
      "metadata": {
        "ExecuteTime": {
          "end_time": "2021-05-13T22:14:44.961728Z",
          "start_time": "2021-05-13T22:14:44.936743Z"
        },
        "id": "MbIXq1G7WvKH",
        "outputId": "65ee2a7c-e02c-4342-9489-6fa8d2d2ebb6"
      },
      "source": [
        "df.head()"
      ],
      "execution_count": null,
      "outputs": [
        {
          "output_type": "execute_result",
          "data": {
            "text/html": [
              "<div>\n",
              "<style scoped>\n",
              "    .dataframe tbody tr th:only-of-type {\n",
              "        vertical-align: middle;\n",
              "    }\n",
              "\n",
              "    .dataframe tbody tr th {\n",
              "        vertical-align: top;\n",
              "    }\n",
              "\n",
              "    .dataframe thead th {\n",
              "        text-align: right;\n",
              "    }\n",
              "</style>\n",
              "<table border=\"1\" class=\"dataframe\">\n",
              "  <thead>\n",
              "    <tr style=\"text-align: right;\">\n",
              "      <th></th>\n",
              "      <th>Target</th>\n",
              "      <th>GrupoEconomico</th>\n",
              "      <th>Idade</th>\n",
              "      <th>GrupoRisco</th>\n",
              "      <th>ValorCompraAnual</th>\n",
              "      <th>GastoMax</th>\n",
              "      <th>GastoMedio</th>\n",
              "      <th>NumeroComprasOnline</th>\n",
              "      <th>Sexo_mulher</th>\n",
              "      <th>RegiaodoPais_Região Nordeste</th>\n",
              "      <th>RegiaodoPais_Região Norte</th>\n",
              "      <th>RegiaodoPais_Região Sudeste</th>\n",
              "      <th>RegiaodoPais_Região Sul</th>\n",
              "    </tr>\n",
              "  </thead>\n",
              "  <tbody>\n",
              "    <tr>\n",
              "      <th>0</th>\n",
              "      <td>0</td>\n",
              "      <td>3</td>\n",
              "      <td>22</td>\n",
              "      <td>1</td>\n",
              "      <td>7250.0</td>\n",
              "      <td>517.857143</td>\n",
              "      <td>604.166667</td>\n",
              "      <td>54.924242</td>\n",
              "      <td>0</td>\n",
              "      <td>0</td>\n",
              "      <td>0</td>\n",
              "      <td>1</td>\n",
              "      <td>0</td>\n",
              "    </tr>\n",
              "    <tr>\n",
              "      <th>1</th>\n",
              "      <td>1</td>\n",
              "      <td>1</td>\n",
              "      <td>38</td>\n",
              "      <td>1</td>\n",
              "      <td>71283.0</td>\n",
              "      <td>5091.642857</td>\n",
              "      <td>5940.250000</td>\n",
              "      <td>312.644737</td>\n",
              "      <td>1</td>\n",
              "      <td>1</td>\n",
              "      <td>0</td>\n",
              "      <td>0</td>\n",
              "      <td>0</td>\n",
              "    </tr>\n",
              "    <tr>\n",
              "      <th>2</th>\n",
              "      <td>1</td>\n",
              "      <td>3</td>\n",
              "      <td>26</td>\n",
              "      <td>0</td>\n",
              "      <td>7925.0</td>\n",
              "      <td>566.071429</td>\n",
              "      <td>660.416667</td>\n",
              "      <td>50.801282</td>\n",
              "      <td>1</td>\n",
              "      <td>0</td>\n",
              "      <td>0</td>\n",
              "      <td>0</td>\n",
              "      <td>1</td>\n",
              "    </tr>\n",
              "    <tr>\n",
              "      <th>3</th>\n",
              "      <td>1</td>\n",
              "      <td>1</td>\n",
              "      <td>35</td>\n",
              "      <td>1</td>\n",
              "      <td>531.0</td>\n",
              "      <td>37.928571</td>\n",
              "      <td>44.250000</td>\n",
              "      <td>2.528571</td>\n",
              "      <td>1</td>\n",
              "      <td>0</td>\n",
              "      <td>0</td>\n",
              "      <td>0</td>\n",
              "      <td>1</td>\n",
              "    </tr>\n",
              "    <tr>\n",
              "      <th>4</th>\n",
              "      <td>0</td>\n",
              "      <td>3</td>\n",
              "      <td>35</td>\n",
              "      <td>0</td>\n",
              "      <td>805.0</td>\n",
              "      <td>57.500000</td>\n",
              "      <td>67.083333</td>\n",
              "      <td>3.833333</td>\n",
              "      <td>0</td>\n",
              "      <td>1</td>\n",
              "      <td>0</td>\n",
              "      <td>0</td>\n",
              "      <td>0</td>\n",
              "    </tr>\n",
              "  </tbody>\n",
              "</table>\n",
              "</div>"
            ],
            "text/plain": [
              "   Target  GrupoEconomico  Idade  GrupoRisco  ValorCompraAnual     GastoMax  \\\n",
              "0       0               3     22           1            7250.0   517.857143   \n",
              "1       1               1     38           1           71283.0  5091.642857   \n",
              "2       1               3     26           0            7925.0   566.071429   \n",
              "3       1               1     35           1             531.0    37.928571   \n",
              "4       0               3     35           0             805.0    57.500000   \n",
              "\n",
              "    GastoMedio  NumeroComprasOnline  Sexo_mulher  \\\n",
              "0   604.166667            54.924242            0   \n",
              "1  5940.250000           312.644737            1   \n",
              "2   660.416667            50.801282            1   \n",
              "3    44.250000             2.528571            1   \n",
              "4    67.083333             3.833333            0   \n",
              "\n",
              "   RegiaodoPais_Região Nordeste  RegiaodoPais_Região Norte  \\\n",
              "0                             0                          0   \n",
              "1                             1                          0   \n",
              "2                             0                          0   \n",
              "3                             0                          0   \n",
              "4                             1                          0   \n",
              "\n",
              "   RegiaodoPais_Região Sudeste  RegiaodoPais_Região Sul  \n",
              "0                            1                        0  \n",
              "1                            0                        0  \n",
              "2                            0                        1  \n",
              "3                            0                        1  \n",
              "4                            0                        0  "
            ]
          },
          "metadata": {
            "tags": []
          },
          "execution_count": 43
        }
      ]
    },
    {
      "cell_type": "code",
      "metadata": {
        "ExecuteTime": {
          "end_time": "2021-05-13T22:14:45.341284Z",
          "start_time": "2021-05-13T22:14:44.965729Z"
        },
        "id": "LAC2l4pZWvKI",
        "outputId": "57f4967b-7de8-459b-beff-bf043c5b24ac"
      },
      "source": [
        "sns.countplot(data=df, y='GrupoRisco')"
      ],
      "execution_count": null,
      "outputs": [
        {
          "output_type": "execute_result",
          "data": {
            "text/plain": [
              "<matplotlib.axes._subplots.AxesSubplot at 0x1780240adc0>"
            ]
          },
          "metadata": {
            "tags": []
          },
          "execution_count": 44
        },
        {
          "output_type": "display_data",
          "data": {
            "image/png": "[encoded data removed]",
            "text/plain": [
              "<Figure size 432x288 with 1 Axes>"
            ]
          },
          "metadata": {
            "tags": [],
            "needs_background": "light"
          }
        }
      ]
    },
    {
      "cell_type": "code",
      "metadata": {
        "ExecuteTime": {
          "end_time": "2021-05-13T22:14:45.388289Z",
          "start_time": "2021-05-13T22:14:45.346284Z"
        },
        "id": "E1BwyGITWvKJ",
        "outputId": "df1c29be-6ab7-4435-c5d8-e561888c1145"
      },
      "source": [
        "pd.crosstab(df['GrupoRisco'], df['Target'])"
      ],
      "execution_count": null,
      "outputs": [
        {
          "output_type": "execute_result",
          "data": {
            "text/html": [
              "<div>\n",
              "<style scoped>\n",
              "    .dataframe tbody tr th:only-of-type {\n",
              "        vertical-align: middle;\n",
              "    }\n",
              "\n",
              "    .dataframe tbody tr th {\n",
              "        vertical-align: top;\n",
              "    }\n",
              "\n",
              "    .dataframe thead th {\n",
              "        text-align: right;\n",
              "    }\n",
              "</style>\n",
              "<table border=\"1\" class=\"dataframe\">\n",
              "  <thead>\n",
              "    <tr style=\"text-align: right;\">\n",
              "      <th>Target</th>\n",
              "      <th>0</th>\n",
              "      <th>1</th>\n",
              "    </tr>\n",
              "    <tr>\n",
              "      <th>GrupoRisco</th>\n",
              "      <th></th>\n",
              "      <th></th>\n",
              "    </tr>\n",
              "  </thead>\n",
              "  <tbody>\n",
              "    <tr>\n",
              "      <th>0</th>\n",
              "      <td>388</td>\n",
              "      <td>203</td>\n",
              "    </tr>\n",
              "    <tr>\n",
              "      <th>1</th>\n",
              "      <td>92</td>\n",
              "      <td>108</td>\n",
              "    </tr>\n",
              "    <tr>\n",
              "      <th>2</th>\n",
              "      <td>14</td>\n",
              "      <td>12</td>\n",
              "    </tr>\n",
              "    <tr>\n",
              "      <th>3</th>\n",
              "      <td>12</td>\n",
              "      <td>4</td>\n",
              "    </tr>\n",
              "    <tr>\n",
              "      <th>4</th>\n",
              "      <td>15</td>\n",
              "      <td>3</td>\n",
              "    </tr>\n",
              "    <tr>\n",
              "      <th>5</th>\n",
              "      <td>5</td>\n",
              "      <td>0</td>\n",
              "    </tr>\n",
              "    <tr>\n",
              "      <th>8</th>\n",
              "      <td>7</td>\n",
              "      <td>0</td>\n",
              "    </tr>\n",
              "  </tbody>\n",
              "</table>\n",
              "</div>"
            ],
            "text/plain": [
              "Target        0    1\n",
              "GrupoRisco          \n",
              "0           388  203\n",
              "1            92  108\n",
              "2            14   12\n",
              "3            12    4\n",
              "4            15    3\n",
              "5             5    0\n",
              "8             7    0"
            ]
          },
          "metadata": {
            "tags": []
          },
          "execution_count": 45
        }
      ]
    },
    {
      "cell_type": "code",
      "metadata": {
        "ExecuteTime": {
          "end_time": "2021-05-13T22:14:45.405316Z",
          "start_time": "2021-05-13T22:14:45.396286Z"
        },
        "id": "vOKEr31yWvKK"
      },
      "source": [
        "# instalar biblioteca direto do notebook\n",
        "# !pip install researchpy"
      ],
      "execution_count": null,
      "outputs": []
    },
    {
      "cell_type": "code",
      "metadata": {
        "ExecuteTime": {
          "end_time": "2021-05-13T22:14:45.532285Z",
          "start_time": "2021-05-13T22:14:45.420284Z"
        },
        "id": "36vBN3AHWvKL"
      },
      "source": [
        "import researchpy as rp"
      ],
      "execution_count": null,
      "outputs": []
    },
    {
      "cell_type": "code",
      "metadata": {
        "ExecuteTime": {
          "end_time": "2021-05-13T22:14:45.595826Z",
          "start_time": "2021-05-13T22:14:45.537287Z"
        },
        "id": "B27D338WWvKM",
        "outputId": "fda51c62-46a6-499d-fef0-5775f95f9baf"
      },
      "source": [
        "pd.crosstab(df['GrupoRisco'], df['Target'])"
      ],
      "execution_count": null,
      "outputs": [
        {
          "output_type": "execute_result",
          "data": {
            "text/html": [
              "<div>\n",
              "<style scoped>\n",
              "    .dataframe tbody tr th:only-of-type {\n",
              "        vertical-align: middle;\n",
              "    }\n",
              "\n",
              "    .dataframe tbody tr th {\n",
              "        vertical-align: top;\n",
              "    }\n",
              "\n",
              "    .dataframe thead th {\n",
              "        text-align: right;\n",
              "    }\n",
              "</style>\n",
              "<table border=\"1\" class=\"dataframe\">\n",
              "  <thead>\n",
              "    <tr style=\"text-align: right;\">\n",
              "      <th>Target</th>\n",
              "      <th>0</th>\n",
              "      <th>1</th>\n",
              "    </tr>\n",
              "    <tr>\n",
              "      <th>GrupoRisco</th>\n",
              "      <th></th>\n",
              "      <th></th>\n",
              "    </tr>\n",
              "  </thead>\n",
              "  <tbody>\n",
              "    <tr>\n",
              "      <th>0</th>\n",
              "      <td>388</td>\n",
              "      <td>203</td>\n",
              "    </tr>\n",
              "    <tr>\n",
              "      <th>1</th>\n",
              "      <td>92</td>\n",
              "      <td>108</td>\n",
              "    </tr>\n",
              "    <tr>\n",
              "      <th>2</th>\n",
              "      <td>14</td>\n",
              "      <td>12</td>\n",
              "    </tr>\n",
              "    <tr>\n",
              "      <th>3</th>\n",
              "      <td>12</td>\n",
              "      <td>4</td>\n",
              "    </tr>\n",
              "    <tr>\n",
              "      <th>4</th>\n",
              "      <td>15</td>\n",
              "      <td>3</td>\n",
              "    </tr>\n",
              "    <tr>\n",
              "      <th>5</th>\n",
              "      <td>5</td>\n",
              "      <td>0</td>\n",
              "    </tr>\n",
              "    <tr>\n",
              "      <th>8</th>\n",
              "      <td>7</td>\n",
              "      <td>0</td>\n",
              "    </tr>\n",
              "  </tbody>\n",
              "</table>\n",
              "</div>"
            ],
            "text/plain": [
              "Target        0    1\n",
              "GrupoRisco          \n",
              "0           388  203\n",
              "1            92  108\n",
              "2            14   12\n",
              "3            12    4\n",
              "4            15    3\n",
              "5             5    0\n",
              "8             7    0"
            ]
          },
          "metadata": {
            "tags": []
          },
          "execution_count": 48
        }
      ]
    },
    {
      "cell_type": "code",
      "metadata": {
        "ExecuteTime": {
          "end_time": "2021-05-13T22:14:45.722882Z",
          "start_time": "2021-05-13T22:14:45.602814Z"
        },
        "id": "km5G6qVIWvKM"
      },
      "source": [
        "freq = rp.crosstab(df['GrupoRisco'], df['Target'], prop='row')"
      ],
      "execution_count": null,
      "outputs": []
    },
    {
      "cell_type": "code",
      "metadata": {
        "ExecuteTime": {
          "end_time": "2021-05-13T22:14:45.738874Z",
          "start_time": "2021-05-13T22:14:45.727871Z"
        },
        "id": "VGwykSRSWvKN",
        "outputId": "a52085ed-5433-44f4-d198-94037f0ff70f"
      },
      "source": [
        "freq.index"
      ],
      "execution_count": null,
      "outputs": [
        {
          "output_type": "execute_result",
          "data": {
            "text/plain": [
              "Index([0, 1, 2, 3, 4, 5, 8, 'All'], dtype='object', name='GrupoRisco')"
            ]
          },
          "metadata": {
            "tags": []
          },
          "execution_count": 50
        }
      ]
    },
    {
      "cell_type": "code",
      "metadata": {
        "ExecuteTime": {
          "end_time": "2021-05-13T22:14:45.753870Z",
          "start_time": "2021-05-13T22:14:45.741874Z"
        },
        "id": "LjVycKWiWvKO"
      },
      "source": [
        "freq = freq.iloc[:-1,:-1]"
      ],
      "execution_count": null,
      "outputs": []
    },
    {
      "cell_type": "code",
      "metadata": {
        "ExecuteTime": {
          "end_time": "2021-05-13T22:14:45.802898Z",
          "start_time": "2021-05-13T22:14:45.757875Z"
        },
        "id": "RTK0xCj5WvKO",
        "outputId": "fe7a57aa-9a99-4381-9266-3863dc2f52f8"
      },
      "source": [
        "freq"
      ],
      "execution_count": null,
      "outputs": [
        {
          "output_type": "execute_result",
          "data": {
            "text/html": [
              "<div>\n",
              "<style scoped>\n",
              "    .dataframe tbody tr th:only-of-type {\n",
              "        vertical-align: middle;\n",
              "    }\n",
              "\n",
              "    .dataframe tbody tr th {\n",
              "        vertical-align: top;\n",
              "    }\n",
              "\n",
              "    .dataframe thead tr th {\n",
              "        text-align: left;\n",
              "    }\n",
              "\n",
              "    .dataframe thead tr:last-of-type th {\n",
              "        text-align: right;\n",
              "    }\n",
              "</style>\n",
              "<table border=\"1\" class=\"dataframe\">\n",
              "  <thead>\n",
              "    <tr>\n",
              "      <th></th>\n",
              "      <th colspan=\"2\" halign=\"left\">Target</th>\n",
              "    </tr>\n",
              "    <tr>\n",
              "      <th>Target</th>\n",
              "      <th>0</th>\n",
              "      <th>1</th>\n",
              "    </tr>\n",
              "    <tr>\n",
              "      <th>GrupoRisco</th>\n",
              "      <th></th>\n",
              "      <th></th>\n",
              "    </tr>\n",
              "  </thead>\n",
              "  <tbody>\n",
              "    <tr>\n",
              "      <th>0</th>\n",
              "      <td>65.65</td>\n",
              "      <td>34.35</td>\n",
              "    </tr>\n",
              "    <tr>\n",
              "      <th>1</th>\n",
              "      <td>46.00</td>\n",
              "      <td>54.00</td>\n",
              "    </tr>\n",
              "    <tr>\n",
              "      <th>2</th>\n",
              "      <td>53.85</td>\n",
              "      <td>46.15</td>\n",
              "    </tr>\n",
              "    <tr>\n",
              "      <th>3</th>\n",
              "      <td>75.00</td>\n",
              "      <td>25.00</td>\n",
              "    </tr>\n",
              "    <tr>\n",
              "      <th>4</th>\n",
              "      <td>83.33</td>\n",
              "      <td>16.67</td>\n",
              "    </tr>\n",
              "    <tr>\n",
              "      <th>5</th>\n",
              "      <td>100.00</td>\n",
              "      <td>0.00</td>\n",
              "    </tr>\n",
              "    <tr>\n",
              "      <th>8</th>\n",
              "      <td>100.00</td>\n",
              "      <td>0.00</td>\n",
              "    </tr>\n",
              "  </tbody>\n",
              "</table>\n",
              "</div>"
            ],
            "text/plain": [
              "            Target       \n",
              "Target           0      1\n",
              "GrupoRisco               \n",
              "0            65.65  34.35\n",
              "1            46.00  54.00\n",
              "2            53.85  46.15\n",
              "3            75.00  25.00\n",
              "4            83.33  16.67\n",
              "5           100.00   0.00\n",
              "8           100.00   0.00"
            ]
          },
          "metadata": {
            "tags": []
          },
          "execution_count": 52
        }
      ]
    },
    {
      "cell_type": "code",
      "metadata": {
        "ExecuteTime": {
          "end_time": "2021-05-13T22:14:46.039963Z",
          "start_time": "2021-05-13T22:14:45.808892Z"
        },
        "id": "m87pWj0CWvKP",
        "outputId": "d682a004-a19d-4dcd-8909-04e819bae2e1"
      },
      "source": [
        "plt.figure(figsize=(3, 4))\n",
        "sns.heatmap(freq, cmap='Greens', annot=True, fmt='.3g', cbar=False);"
      ],
      "execution_count": null,
      "outputs": [
        {
          "output_type": "display_data",
          "data": {
            "image/png": "[encoded data removed]",
            "text/plain": [
              "<Figure size 216x288 with 1 Axes>"
            ]
          },
          "metadata": {
            "tags": [],
            "needs_background": "light"
          }
        }
      ]
    },
    {
      "cell_type": "code",
      "metadata": {
        "ExecuteTime": {
          "end_time": "2021-05-13T22:14:46.211934Z",
          "start_time": "2021-05-13T22:14:46.050935Z"
        },
        "id": "QD9PozSSWvKR"
      },
      "source": [
        "freq, stat = rp.crosstab(df['GrupoEconomico'], df['Target'], prop='row', test='chi-square')"
      ],
      "execution_count": null,
      "outputs": []
    },
    {
      "cell_type": "code",
      "metadata": {
        "ExecuteTime": {
          "end_time": "2021-05-13T22:14:46.227991Z",
          "start_time": "2021-05-13T22:14:46.214933Z"
        },
        "id": "useNOJ_AWvKS"
      },
      "source": [
        "freq = freq.iloc[:-1,:-1]"
      ],
      "execution_count": null,
      "outputs": []
    },
    {
      "cell_type": "code",
      "metadata": {
        "ExecuteTime": {
          "end_time": "2021-05-13T22:14:46.428545Z",
          "start_time": "2021-05-13T22:14:46.229990Z"
        },
        "id": "CwGd4E9vWvKS",
        "outputId": "c209d0f9-d910-486b-bf07-f6500c052627"
      },
      "source": [
        "plt.figure(figsize=(3, 2))\n",
        "sns.heatmap(freq, cmap='Oranges', annot=True, fmt='.3g', cbar=False);"
      ],
      "execution_count": null,
      "outputs": [
        {
          "output_type": "display_data",
          "data": {
            "image/png": "[encoded data removed]",
            "text/plain": [
              "<Figure size 216x144 with 1 Axes>"
            ]
          },
          "metadata": {
            "tags": [],
            "needs_background": "light"
          }
        }
      ]
    },
    {
      "cell_type": "code",
      "metadata": {
        "ExecuteTime": {
          "end_time": "2021-05-13T22:14:46.460065Z",
          "start_time": "2021-05-13T22:14:46.432061Z"
        },
        "id": "88hozjrzWvKT",
        "outputId": "5e745c08-76fc-4326-b54a-4a9324e47f80"
      },
      "source": [
        "stat"
      ],
      "execution_count": null,
      "outputs": [
        {
          "output_type": "execute_result",
          "data": {
            "text/html": [
              "<div>\n",
              "<style scoped>\n",
              "    .dataframe tbody tr th:only-of-type {\n",
              "        vertical-align: middle;\n",
              "    }\n",
              "\n",
              "    .dataframe tbody tr th {\n",
              "        vertical-align: top;\n",
              "    }\n",
              "\n",
              "    .dataframe thead th {\n",
              "        text-align: right;\n",
              "    }\n",
              "</style>\n",
              "<table border=\"1\" class=\"dataframe\">\n",
              "  <thead>\n",
              "    <tr style=\"text-align: right;\">\n",
              "      <th></th>\n",
              "      <th>Chi-square test</th>\n",
              "      <th>results</th>\n",
              "    </tr>\n",
              "  </thead>\n",
              "  <tbody>\n",
              "    <tr>\n",
              "      <th>0</th>\n",
              "      <td>Pearson Chi-square ( 2.0) =</td>\n",
              "      <td>99.1485</td>\n",
              "    </tr>\n",
              "    <tr>\n",
              "      <th>1</th>\n",
              "      <td>p-value =</td>\n",
              "      <td>0.0000</td>\n",
              "    </tr>\n",
              "    <tr>\n",
              "      <th>2</th>\n",
              "      <td>Cramer's V =</td>\n",
              "      <td>0.3390</td>\n",
              "    </tr>\n",
              "  </tbody>\n",
              "</table>\n",
              "</div>"
            ],
            "text/plain": [
              "                Chi-square test  results\n",
              "0  Pearson Chi-square ( 2.0) =   99.1485\n",
              "1                    p-value =    0.0000\n",
              "2                 Cramer's V =    0.3390"
            ]
          },
          "metadata": {
            "tags": []
          },
          "execution_count": 57
        }
      ]
    },
    {
      "cell_type": "code",
      "metadata": {
        "ExecuteTime": {
          "end_time": "2021-05-13T22:14:46.492060Z",
          "start_time": "2021-05-13T22:14:46.465061Z"
        },
        "id": "kISp89jbWvKU"
      },
      "source": [
        "df_reg_target = pd.read_csv('AtrasoCartaoCredito.csv', usecols=['RegiaodoPais', 'Target'])"
      ],
      "execution_count": null,
      "outputs": []
    },
    {
      "cell_type": "code",
      "metadata": {
        "ExecuteTime": {
          "end_time": "2021-05-13T22:14:46.508061Z",
          "start_time": "2021-05-13T22:14:46.498062Z"
        },
        "id": "5X15JRQhWvKV",
        "outputId": "2cdae0c9-100f-4269-cd97-30b8f3c906fa"
      },
      "source": [
        "df.columns"
      ],
      "execution_count": null,
      "outputs": [
        {
          "output_type": "execute_result",
          "data": {
            "text/plain": [
              "Index(['Target', 'GrupoEconomico', 'Idade', 'GrupoRisco', 'ValorCompraAnual',\n",
              "       'GastoMax', 'GastoMedio', 'NumeroComprasOnline', 'Sexo_mulher',\n",
              "       'RegiaodoPais_Região Nordeste', 'RegiaodoPais_Região Norte',\n",
              "       'RegiaodoPais_Região Sudeste', 'RegiaodoPais_Região Sul'],\n",
              "      dtype='object')"
            ]
          },
          "metadata": {
            "tags": []
          },
          "execution_count": 59
        }
      ]
    },
    {
      "cell_type": "code",
      "metadata": {
        "ExecuteTime": {
          "end_time": "2021-05-13T22:14:46.669586Z",
          "start_time": "2021-05-13T22:14:46.513059Z"
        },
        "id": "ZAswnX2DWvKW"
      },
      "source": [
        "freq, stat = rp.crosstab(df_reg_target['RegiaodoPais'], df_reg_target['Target'], prop='row', test='chi-square')"
      ],
      "execution_count": null,
      "outputs": []
    },
    {
      "cell_type": "code",
      "metadata": {
        "ExecuteTime": {
          "end_time": "2021-05-13T22:14:46.712591Z",
          "start_time": "2021-05-13T22:14:46.682592Z"
        },
        "id": "XJk2yjTOWvKW",
        "outputId": "db53ba6f-2c15-43dd-94a3-72847cb0d40d"
      },
      "source": [
        "stat"
      ],
      "execution_count": null,
      "outputs": [
        {
          "output_type": "execute_result",
          "data": {
            "text/html": [
              "<div>\n",
              "<style scoped>\n",
              "    .dataframe tbody tr th:only-of-type {\n",
              "        vertical-align: middle;\n",
              "    }\n",
              "\n",
              "    .dataframe tbody tr th {\n",
              "        vertical-align: top;\n",
              "    }\n",
              "\n",
              "    .dataframe thead th {\n",
              "        text-align: right;\n",
              "    }\n",
              "</style>\n",
              "<table border=\"1\" class=\"dataframe\">\n",
              "  <thead>\n",
              "    <tr style=\"text-align: right;\">\n",
              "      <th></th>\n",
              "      <th>Chi-square test</th>\n",
              "      <th>results</th>\n",
              "    </tr>\n",
              "  </thead>\n",
              "  <tbody>\n",
              "    <tr>\n",
              "      <th>0</th>\n",
              "      <td>Pearson Chi-square ( 4.0) =</td>\n",
              "      <td>1.0101</td>\n",
              "    </tr>\n",
              "    <tr>\n",
              "      <th>1</th>\n",
              "      <td>p-value =</td>\n",
              "      <td>0.9083</td>\n",
              "    </tr>\n",
              "    <tr>\n",
              "      <th>2</th>\n",
              "      <td>Cramer's V =</td>\n",
              "      <td>0.0337</td>\n",
              "    </tr>\n",
              "  </tbody>\n",
              "</table>\n",
              "</div>"
            ],
            "text/plain": [
              "                Chi-square test  results\n",
              "0  Pearson Chi-square ( 4.0) =    1.0101\n",
              "1                    p-value =    0.9083\n",
              "2                 Cramer's V =    0.0337"
            ]
          },
          "metadata": {
            "tags": []
          },
          "execution_count": 61
        }
      ]
    },
    {
      "cell_type": "code",
      "metadata": {
        "ExecuteTime": {
          "end_time": "2021-05-13T22:14:46.728603Z",
          "start_time": "2021-05-13T22:14:46.719607Z"
        },
        "id": "P3ZiAtN9WvKX"
      },
      "source": [
        "freq = freq.iloc[:-1,:-1]"
      ],
      "execution_count": null,
      "outputs": []
    },
    {
      "cell_type": "code",
      "metadata": {
        "ExecuteTime": {
          "end_time": "2021-05-13T22:14:46.982134Z",
          "start_time": "2021-05-13T22:14:46.732594Z"
        },
        "id": "tpUy-27_WvKY",
        "outputId": "bf070cd7-f065-4a5a-a439-e97f7993c7ec"
      },
      "source": [
        "plt.figure(figsize=(3, 4))\n",
        "sns.heatmap(freq, cmap='Blues', annot=True, fmt='.3g', cbar=False);"
      ],
      "execution_count": null,
      "outputs": [
        {
          "output_type": "display_data",
          "data": {
            "image/png": "[encoded data removed]",
            "text/plain": [
              "<Figure size 216x288 with 1 Axes>"
            ]
          },
          "metadata": {
            "tags": [],
            "needs_background": "light"
          }
        }
      ]
    },
    {
      "cell_type": "code",
      "metadata": {
        "ExecuteTime": {
          "end_time": "2021-05-13T22:14:47.154648Z",
          "start_time": "2021-05-13T22:14:46.992127Z"
        },
        "id": "3_6otJMGWvKa",
        "outputId": "bb099ea7-2b67-456d-d6e0-84fe093acfeb"
      },
      "source": [
        "rp.crosstab(df_reg_target['RegiaodoPais'], df_reg_target['Target'])"
      ],
      "execution_count": null,
      "outputs": [
        {
          "output_type": "execute_result",
          "data": {
            "text/html": [
              "<div>\n",
              "<style scoped>\n",
              "    .dataframe tbody tr th:only-of-type {\n",
              "        vertical-align: middle;\n",
              "    }\n",
              "\n",
              "    .dataframe tbody tr th {\n",
              "        vertical-align: top;\n",
              "    }\n",
              "\n",
              "    .dataframe thead tr th {\n",
              "        text-align: left;\n",
              "    }\n",
              "\n",
              "    .dataframe thead tr:last-of-type th {\n",
              "        text-align: right;\n",
              "    }\n",
              "</style>\n",
              "<table border=\"1\" class=\"dataframe\">\n",
              "  <thead>\n",
              "    <tr>\n",
              "      <th></th>\n",
              "      <th colspan=\"3\" halign=\"left\">Target</th>\n",
              "    </tr>\n",
              "    <tr>\n",
              "      <th>Target</th>\n",
              "      <th>0</th>\n",
              "      <th>1</th>\n",
              "      <th>All</th>\n",
              "    </tr>\n",
              "    <tr>\n",
              "      <th>RegiaodoPais</th>\n",
              "      <th></th>\n",
              "      <th></th>\n",
              "      <th></th>\n",
              "    </tr>\n",
              "  </thead>\n",
              "  <tbody>\n",
              "    <tr>\n",
              "      <th>Região Centro-Oeste</th>\n",
              "      <td>46</td>\n",
              "      <td>24</td>\n",
              "      <td>70</td>\n",
              "    </tr>\n",
              "    <tr>\n",
              "      <th>Região Nordeste</th>\n",
              "      <td>207</td>\n",
              "      <td>136</td>\n",
              "      <td>343</td>\n",
              "    </tr>\n",
              "    <tr>\n",
              "      <th>Região Norte</th>\n",
              "      <td>53</td>\n",
              "      <td>30</td>\n",
              "      <td>83</td>\n",
              "    </tr>\n",
              "    <tr>\n",
              "      <th>Região Sudeste</th>\n",
              "      <td>151</td>\n",
              "      <td>92</td>\n",
              "      <td>243</td>\n",
              "    </tr>\n",
              "    <tr>\n",
              "      <th>Região Sul</th>\n",
              "      <td>92</td>\n",
              "      <td>60</td>\n",
              "      <td>152</td>\n",
              "    </tr>\n",
              "    <tr>\n",
              "      <th>All</th>\n",
              "      <td>549</td>\n",
              "      <td>342</td>\n",
              "      <td>891</td>\n",
              "    </tr>\n",
              "  </tbody>\n",
              "</table>\n",
              "</div>"
            ],
            "text/plain": [
              "                    Target          \n",
              "Target                   0    1  All\n",
              "RegiaodoPais                        \n",
              "Região Centro-Oeste     46   24   70\n",
              "Região Nordeste        207  136  343\n",
              "Região Norte            53   30   83\n",
              "Região Sudeste         151   92  243\n",
              "Região Sul              92   60  152\n",
              "All                    549  342  891"
            ]
          },
          "metadata": {
            "tags": []
          },
          "execution_count": 64
        }
      ]
    },
    {
      "cell_type": "code",
      "metadata": {
        "ExecuteTime": {
          "end_time": "2021-05-13T22:14:47.201185Z",
          "start_time": "2021-05-13T22:14:47.161201Z"
        },
        "id": "8XL-geVYWvKb",
        "outputId": "8fab5245-7ce3-4f2a-8625-9c40bbe0cde2"
      },
      "source": [
        "df.head()"
      ],
      "execution_count": null,
      "outputs": [
        {
          "output_type": "execute_result",
          "data": {
            "text/html": [
              "<div>\n",
              "<style scoped>\n",
              "    .dataframe tbody tr th:only-of-type {\n",
              "        vertical-align: middle;\n",
              "    }\n",
              "\n",
              "    .dataframe tbody tr th {\n",
              "        vertical-align: top;\n",
              "    }\n",
              "\n",
              "    .dataframe thead th {\n",
              "        text-align: right;\n",
              "    }\n",
              "</style>\n",
              "<table border=\"1\" class=\"dataframe\">\n",
              "  <thead>\n",
              "    <tr style=\"text-align: right;\">\n",
              "      <th></th>\n",
              "      <th>Target</th>\n",
              "      <th>GrupoEconomico</th>\n",
              "      <th>Idade</th>\n",
              "      <th>GrupoRisco</th>\n",
              "      <th>ValorCompraAnual</th>\n",
              "      <th>GastoMax</th>\n",
              "      <th>GastoMedio</th>\n",
              "      <th>NumeroComprasOnline</th>\n",
              "      <th>Sexo_mulher</th>\n",
              "      <th>RegiaodoPais_Região Nordeste</th>\n",
              "      <th>RegiaodoPais_Região Norte</th>\n",
              "      <th>RegiaodoPais_Região Sudeste</th>\n",
              "      <th>RegiaodoPais_Região Sul</th>\n",
              "    </tr>\n",
              "  </thead>\n",
              "  <tbody>\n",
              "    <tr>\n",
              "      <th>0</th>\n",
              "      <td>0</td>\n",
              "      <td>3</td>\n",
              "      <td>22</td>\n",
              "      <td>1</td>\n",
              "      <td>7250.0</td>\n",
              "      <td>517.857143</td>\n",
              "      <td>604.166667</td>\n",
              "      <td>54.924242</td>\n",
              "      <td>0</td>\n",
              "      <td>0</td>\n",
              "      <td>0</td>\n",
              "      <td>1</td>\n",
              "      <td>0</td>\n",
              "    </tr>\n",
              "    <tr>\n",
              "      <th>1</th>\n",
              "      <td>1</td>\n",
              "      <td>1</td>\n",
              "      <td>38</td>\n",
              "      <td>1</td>\n",
              "      <td>71283.0</td>\n",
              "      <td>5091.642857</td>\n",
              "      <td>5940.250000</td>\n",
              "      <td>312.644737</td>\n",
              "      <td>1</td>\n",
              "      <td>1</td>\n",
              "      <td>0</td>\n",
              "      <td>0</td>\n",
              "      <td>0</td>\n",
              "    </tr>\n",
              "    <tr>\n",
              "      <th>2</th>\n",
              "      <td>1</td>\n",
              "      <td>3</td>\n",
              "      <td>26</td>\n",
              "      <td>0</td>\n",
              "      <td>7925.0</td>\n",
              "      <td>566.071429</td>\n",
              "      <td>660.416667</td>\n",
              "      <td>50.801282</td>\n",
              "      <td>1</td>\n",
              "      <td>0</td>\n",
              "      <td>0</td>\n",
              "      <td>0</td>\n",
              "      <td>1</td>\n",
              "    </tr>\n",
              "    <tr>\n",
              "      <th>3</th>\n",
              "      <td>1</td>\n",
              "      <td>1</td>\n",
              "      <td>35</td>\n",
              "      <td>1</td>\n",
              "      <td>531.0</td>\n",
              "      <td>37.928571</td>\n",
              "      <td>44.250000</td>\n",
              "      <td>2.528571</td>\n",
              "      <td>1</td>\n",
              "      <td>0</td>\n",
              "      <td>0</td>\n",
              "      <td>0</td>\n",
              "      <td>1</td>\n",
              "    </tr>\n",
              "    <tr>\n",
              "      <th>4</th>\n",
              "      <td>0</td>\n",
              "      <td>3</td>\n",
              "      <td>35</td>\n",
              "      <td>0</td>\n",
              "      <td>805.0</td>\n",
              "      <td>57.500000</td>\n",
              "      <td>67.083333</td>\n",
              "      <td>3.833333</td>\n",
              "      <td>0</td>\n",
              "      <td>1</td>\n",
              "      <td>0</td>\n",
              "      <td>0</td>\n",
              "      <td>0</td>\n",
              "    </tr>\n",
              "  </tbody>\n",
              "</table>\n",
              "</div>"
            ],
            "text/plain": [
              "   Target  GrupoEconomico  Idade  GrupoRisco  ValorCompraAnual     GastoMax  \\\n",
              "0       0               3     22           1            7250.0   517.857143   \n",
              "1       1               1     38           1           71283.0  5091.642857   \n",
              "2       1               3     26           0            7925.0   566.071429   \n",
              "3       1               1     35           1             531.0    37.928571   \n",
              "4       0               3     35           0             805.0    57.500000   \n",
              "\n",
              "    GastoMedio  NumeroComprasOnline  Sexo_mulher  \\\n",
              "0   604.166667            54.924242            0   \n",
              "1  5940.250000           312.644737            1   \n",
              "2   660.416667            50.801282            1   \n",
              "3    44.250000             2.528571            1   \n",
              "4    67.083333             3.833333            0   \n",
              "\n",
              "   RegiaodoPais_Região Nordeste  RegiaodoPais_Região Norte  \\\n",
              "0                             0                          0   \n",
              "1                             1                          0   \n",
              "2                             0                          0   \n",
              "3                             0                          0   \n",
              "4                             1                          0   \n",
              "\n",
              "   RegiaodoPais_Região Sudeste  RegiaodoPais_Região Sul  \n",
              "0                            1                        0  \n",
              "1                            0                        0  \n",
              "2                            0                        1  \n",
              "3                            0                        1  \n",
              "4                            0                        0  "
            ]
          },
          "metadata": {
            "tags": []
          },
          "execution_count": 65
        }
      ]
    },
    {
      "cell_type": "markdown",
      "metadata": {
        "id": "IwATpghqWvKc"
      },
      "source": [
        "## Modelagem - Machine Learning"
      ]
    },
    {
      "cell_type": "code",
      "metadata": {
        "ExecuteTime": {
          "end_time": "2021-05-13T22:14:47.217182Z",
          "start_time": "2021-05-13T22:14:47.205192Z"
        },
        "id": "Dwg4pS_zWvKd",
        "outputId": "69efd4fe-e1b4-4b46-d9bf-67643c87a3d3"
      },
      "source": [
        "df.shape"
      ],
      "execution_count": null,
      "outputs": [
        {
          "output_type": "execute_result",
          "data": {
            "text/plain": [
              "(863, 13)"
            ]
          },
          "metadata": {
            "tags": []
          },
          "execution_count": 66
        }
      ]
    },
    {
      "cell_type": "markdown",
      "metadata": {
        "id": "KkfeTS5fWvKe"
      },
      "source": [
        "- Antes de fazer a modelagem de machine learning, precisamos dividir nosso dataset em 2 pedaços:\n",
        "    - treino: que será usado pra treinar o modelo\n",
        "    - teste: que será usado pra avaliar o modelo\n",
        "    \n",
        "- Isso pode ser feito com o `train_test_split`, que recebe:\n",
        "    - `X`: matriz de covariáveis ou de features, que são variáveis que vão auxiliar a prever a target (`Atraso_Cartao`)\n",
        "    - `y`: vetor com a variável resposta"
      ]
    },
    {
      "cell_type": "code",
      "metadata": {
        "ExecuteTime": {
          "end_time": "2021-05-13T22:14:47.233183Z",
          "start_time": "2021-05-13T22:14:47.223194Z"
        },
        "id": "1dTKdDETWvKf"
      },
      "source": [
        "x = df.drop(columns='Target')\n",
        "y = df['Target']"
      ],
      "execution_count": null,
      "outputs": []
    },
    {
      "cell_type": "code",
      "metadata": {
        "ExecuteTime": {
          "end_time": "2021-05-13T22:14:47.770996Z",
          "start_time": "2021-05-13T22:14:47.240198Z"
        },
        "id": "Yk5EdJviWvKg"
      },
      "source": [
        "from sklearn.model_selection import train_test_split"
      ],
      "execution_count": null,
      "outputs": []
    },
    {
      "cell_type": "code",
      "metadata": {
        "ExecuteTime": {
          "end_time": "2021-05-13T22:14:47.802963Z",
          "start_time": "2021-05-13T22:14:47.779977Z"
        },
        "id": "f6aeWT64WvKg"
      },
      "source": [
        "x_train, x_test, y_train, y_test = train_test_split(x, y, random_state=42)"
      ],
      "execution_count": null,
      "outputs": []
    },
    {
      "cell_type": "code",
      "metadata": {
        "ExecuteTime": {
          "end_time": "2021-05-13T22:14:48.023963Z",
          "start_time": "2021-05-13T22:14:47.807966Z"
        },
        "id": "4Hf6G9K6WvKh"
      },
      "source": [
        "from sklearn.linear_model import LogisticRegression"
      ],
      "execution_count": null,
      "outputs": []
    },
    {
      "cell_type": "code",
      "metadata": {
        "ExecuteTime": {
          "end_time": "2021-05-13T22:14:48.039976Z",
          "start_time": "2021-05-13T22:14:48.027966Z"
        },
        "id": "DexWPz_wWvKi"
      },
      "source": [
        "lr = LogisticRegression()"
      ],
      "execution_count": null,
      "outputs": []
    },
    {
      "cell_type": "code",
      "metadata": {
        "ExecuteTime": {
          "end_time": "2021-05-13T22:14:48.134537Z",
          "start_time": "2021-05-13T22:14:48.042964Z"
        },
        "id": "5ISvcRX8WvKj",
        "outputId": "8ddf9fc2-cc59-4cd4-be99-7f9e3e20b848"
      },
      "source": [
        "lr.fit(x_train, y_train)"
      ],
      "execution_count": null,
      "outputs": [
        {
          "output_type": "execute_result",
          "data": {
            "text/plain": [
              "LogisticRegression()"
            ]
          },
          "metadata": {
            "tags": []
          },
          "execution_count": 72
        }
      ]
    },
    {
      "cell_type": "code",
      "metadata": {
        "ExecuteTime": {
          "end_time": "2021-05-13T22:14:48.148271Z",
          "start_time": "2021-05-13T22:14:48.140269Z"
        },
        "id": "qoBAkvVPWvKk"
      },
      "source": [
        "y_pred = lr.predict(x_test)"
      ],
      "execution_count": null,
      "outputs": []
    },
    {
      "cell_type": "code",
      "metadata": {
        "ExecuteTime": {
          "end_time": "2021-05-13T22:38:18.436200Z",
          "start_time": "2021-05-13T22:38:18.415175Z"
        },
        "id": "Ou_e5PKSWvKl",
        "outputId": "8adf1306-24b2-4b83-9fef-1c5d50175d9b"
      },
      "source": [
        "lr.classes_"
      ],
      "execution_count": null,
      "outputs": [
        {
          "output_type": "execute_result",
          "data": {
            "text/plain": [
              "array([0, 1], dtype=int64)"
            ]
          },
          "metadata": {
            "tags": []
          },
          "execution_count": 100
        }
      ]
    },
    {
      "cell_type": "code",
      "metadata": {
        "ExecuteTime": {
          "end_time": "2021-05-13T22:39:16.532004Z",
          "start_time": "2021-05-13T22:39:16.512478Z"
        },
        "id": "-wT5_9a5WvKm"
      },
      "source": [
        "y_proba = lr.predict_proba(x_test)[:,1]"
      ],
      "execution_count": null,
      "outputs": []
    },
    {
      "cell_type": "code",
      "metadata": {
        "ExecuteTime": {
          "end_time": "2021-05-13T22:40:03.263419Z",
          "start_time": "2021-05-13T22:40:03.242423Z"
        },
        "id": "JQEjgX_BWvKn",
        "outputId": "a66321d4-50d0-41fc-c317-e3042dd9f70b"
      },
      "source": [
        "y_proba.min()"
      ],
      "execution_count": null,
      "outputs": [
        {
          "output_type": "execute_result",
          "data": {
            "text/plain": [
              "0.4999999655501894"
            ]
          },
          "metadata": {
            "tags": []
          },
          "execution_count": 108
        }
      ]
    },
    {
      "cell_type": "code",
      "metadata": {
        "ExecuteTime": {
          "end_time": "2021-05-13T22:39:54.918790Z",
          "start_time": "2021-05-13T22:39:54.550083Z"
        },
        "id": "rXuZtHXzWvKo",
        "outputId": "f2e3e403-5dec-4331-dd61-cbbd67590ca7"
      },
      "source": [
        "plt.hist(y_proba, bins=50);"
      ],
      "execution_count": null,
      "outputs": [
        {
          "output_type": "display_data",
          "data": {
            "image/png": "[encoded data removed]",
            "text/plain": [
              "<Figure size 432x288 with 1 Axes>"
            ]
          },
          "metadata": {
            "tags": [],
            "needs_background": "light"
          }
        }
      ]
    },
    {
      "cell_type": "code",
      "metadata": {
        "ExecuteTime": {
          "end_time": "2021-05-13T22:14:48.180271Z",
          "start_time": "2021-05-13T22:14:48.154276Z"
        },
        "scrolled": true,
        "id": "c__uQhHkWvKo",
        "outputId": "9605703c-6a04-4700-9447-2b325494a0c3"
      },
      "source": [
        "pd.DataFrame({'y_test': y_test,\n",
        "              'y_pred': y_pred})"
      ],
      "execution_count": null,
      "outputs": [
        {
          "output_type": "execute_result",
          "data": {
            "text/html": [
              "<div>\n",
              "<style scoped>\n",
              "    .dataframe tbody tr th:only-of-type {\n",
              "        vertical-align: middle;\n",
              "    }\n",
              "\n",
              "    .dataframe tbody tr th {\n",
              "        vertical-align: top;\n",
              "    }\n",
              "\n",
              "    .dataframe thead th {\n",
              "        text-align: right;\n",
              "    }\n",
              "</style>\n",
              "<table border=\"1\" class=\"dataframe\">\n",
              "  <thead>\n",
              "    <tr style=\"text-align: right;\">\n",
              "      <th></th>\n",
              "      <th>y_test</th>\n",
              "      <th>y_pred</th>\n",
              "    </tr>\n",
              "  </thead>\n",
              "  <tbody>\n",
              "    <tr>\n",
              "      <th>743</th>\n",
              "      <td>0</td>\n",
              "      <td>1</td>\n",
              "    </tr>\n",
              "    <tr>\n",
              "      <th>633</th>\n",
              "      <td>0</td>\n",
              "      <td>0</td>\n",
              "    </tr>\n",
              "    <tr>\n",
              "      <th>120</th>\n",
              "      <td>0</td>\n",
              "      <td>1</td>\n",
              "    </tr>\n",
              "    <tr>\n",
              "      <th>208</th>\n",
              "      <td>1</td>\n",
              "      <td>1</td>\n",
              "    </tr>\n",
              "    <tr>\n",
              "      <th>408</th>\n",
              "      <td>0</td>\n",
              "      <td>1</td>\n",
              "    </tr>\n",
              "    <tr>\n",
              "      <th>...</th>\n",
              "      <td>...</td>\n",
              "      <td>...</td>\n",
              "    </tr>\n",
              "    <tr>\n",
              "      <th>506</th>\n",
              "      <td>1</td>\n",
              "      <td>1</td>\n",
              "    </tr>\n",
              "    <tr>\n",
              "      <th>697</th>\n",
              "      <td>1</td>\n",
              "      <td>1</td>\n",
              "    </tr>\n",
              "    <tr>\n",
              "      <th>555</th>\n",
              "      <td>0</td>\n",
              "      <td>1</td>\n",
              "    </tr>\n",
              "    <tr>\n",
              "      <th>457</th>\n",
              "      <td>1</td>\n",
              "      <td>1</td>\n",
              "    </tr>\n",
              "    <tr>\n",
              "      <th>462</th>\n",
              "      <td>0</td>\n",
              "      <td>1</td>\n",
              "    </tr>\n",
              "  </tbody>\n",
              "</table>\n",
              "<p>216 rows × 2 columns</p>\n",
              "</div>"
            ],
            "text/plain": [
              "     y_test  y_pred\n",
              "743       0       1\n",
              "633       0       0\n",
              "120       0       1\n",
              "208       1       1\n",
              "408       0       1\n",
              "..      ...     ...\n",
              "506       1       1\n",
              "697       1       1\n",
              "555       0       1\n",
              "457       1       1\n",
              "462       0       1\n",
              "\n",
              "[216 rows x 2 columns]"
            ]
          },
          "metadata": {
            "tags": []
          },
          "execution_count": 74
        }
      ]
    },
    {
      "cell_type": "code",
      "metadata": {
        "ExecuteTime": {
          "end_time": "2021-05-13T22:15:38.873707Z",
          "start_time": "2021-05-13T22:15:38.854918Z"
        },
        "id": "JAbQ6U6yWvKp"
      },
      "source": [
        "from sklearn.metrics import plot_confusion_matrix"
      ],
      "execution_count": null,
      "outputs": []
    },
    {
      "cell_type": "code",
      "metadata": {
        "ExecuteTime": {
          "end_time": "2021-05-13T22:16:52.391548Z",
          "start_time": "2021-05-13T22:16:52.376527Z"
        },
        "id": "UzTTcmXZWvKq",
        "outputId": "2b9f548d-bb1e-431e-b07b-94836d9099ea"
      },
      "source": [
        "y_test.value_counts()"
      ],
      "execution_count": null,
      "outputs": [
        {
          "output_type": "execute_result",
          "data": {
            "text/plain": [
              "0    125\n",
              "1     91\n",
              "Name: Target, dtype: int64"
            ]
          },
          "metadata": {
            "tags": []
          },
          "execution_count": 78
        }
      ]
    },
    {
      "cell_type": "code",
      "metadata": {
        "ExecuteTime": {
          "end_time": "2021-05-13T22:17:32.580392Z",
          "start_time": "2021-05-13T22:17:32.567182Z"
        },
        "id": "4wdQTss2WvKr",
        "outputId": "c8e90e17-5f79-40b2-d8ee-6728d8466f94"
      },
      "source": [
        "pd.Series(y_pred).value_counts()"
      ],
      "execution_count": null,
      "outputs": [
        {
          "output_type": "execute_result",
          "data": {
            "text/plain": [
              "1    211\n",
              "0      5\n",
              "dtype: int64"
            ]
          },
          "metadata": {
            "tags": []
          },
          "execution_count": 80
        }
      ]
    },
    {
      "cell_type": "code",
      "metadata": {
        "ExecuteTime": {
          "end_time": "2021-05-13T22:35:55.727420Z",
          "start_time": "2021-05-13T22:35:55.714419Z"
        },
        "id": "-WK17_fhWvKs"
      },
      "source": [
        "def metricas_classificacao(clf, x_test, y_test, cmap='Oranges'):\n",
        "    print(clf.__class__.__name__)\n",
        "    \n",
        "    y_pred = clf.predict(x_test)\n",
        "    \n",
        "    print('Acurácia: ', accuracy_score(y_test, y_pred))\n",
        "    \n",
        "    plot_confusion_matrix(clf, x_test, y_test, cmap=cmap);"
      ],
      "execution_count": null,
      "outputs": []
    },
    {
      "cell_type": "code",
      "metadata": {
        "ExecuteTime": {
          "end_time": "2021-05-13T22:36:19.071698Z",
          "start_time": "2021-05-13T22:36:18.783681Z"
        },
        "id": "Pbq482dfWvKt",
        "outputId": "867eca23-b27a-4326-fa54-68298ce41ce0"
      },
      "source": [
        "metricas_classificacao(lr, x_test, y_test)"
      ],
      "execution_count": null,
      "outputs": [
        {
          "output_type": "stream",
          "text": [
            "LogisticRegression\n",
            "Acurácia:  0.4351851851851852\n"
          ],
          "name": "stdout"
        },
        {
          "output_type": "display_data",
          "data": {
            "image/png": "[encoded data removed]",
            "text/plain": [
              "<Figure size 432x288 with 2 Axes>"
            ]
          },
          "metadata": {
            "tags": [],
            "needs_background": "light"
          }
        }
      ]
    },
    {
      "cell_type": "code",
      "metadata": {
        "ExecuteTime": {
          "end_time": "2021-05-13T22:32:29.272936Z",
          "start_time": "2021-05-13T22:32:29.007423Z"
        },
        "id": "ouyGOPMiWvKu",
        "outputId": "0dc536fc-a46f-4aaf-e972-c905975bd95a"
      },
      "source": [
        "print('Regressão logística')\n",
        "plot_confusion_matrix(lr, x_test, y_test, cmap='Oranges');"
      ],
      "execution_count": null,
      "outputs": [
        {
          "output_type": "stream",
          "text": [
            "Regressão logística\n"
          ],
          "name": "stdout"
        },
        {
          "output_type": "display_data",
          "data": {
            "image/png": "[encoded data removed]",
            "text/plain": [
              "<Figure size 432x288 with 2 Axes>"
            ]
          },
          "metadata": {
            "tags": [],
            "needs_background": "light"
          }
        }
      ]
    },
    {
      "cell_type": "code",
      "metadata": {
        "ExecuteTime": {
          "end_time": "2021-05-13T22:19:27.714124Z",
          "start_time": "2021-05-13T22:19:27.705131Z"
        },
        "id": "rGW-pawWWvKv",
        "outputId": "61dc7352-1394-46ce-f3d9-7e34e7984c78"
      },
      "source": [
        "(90 + 4) / (90 + 4 +1 + 121)"
      ],
      "execution_count": null,
      "outputs": [
        {
          "output_type": "execute_result",
          "data": {
            "text/plain": [
              "0.4351851851851852"
            ]
          },
          "metadata": {
            "tags": []
          },
          "execution_count": 81
        }
      ]
    },
    {
      "cell_type": "code",
      "metadata": {
        "ExecuteTime": {
          "end_time": "2021-05-13T22:20:41.063083Z",
          "start_time": "2021-05-13T22:20:41.047266Z"
        },
        "id": "w9FEs4RPWvKw"
      },
      "source": [
        "from sklearn.metrics import accuracy_score, classification_report"
      ],
      "execution_count": null,
      "outputs": []
    },
    {
      "cell_type": "code",
      "metadata": {
        "ExecuteTime": {
          "end_time": "2021-05-13T22:20:02.340324Z",
          "start_time": "2021-05-13T22:20:02.323088Z"
        },
        "id": "vqs_faxEWvKx",
        "outputId": "ee96d2dd-7124-46d7-9eb8-e80bc3a53c47"
      },
      "source": [
        "accuracy_score(y_test, y_pred)"
      ],
      "execution_count": null,
      "outputs": [
        {
          "output_type": "execute_result",
          "data": {
            "text/plain": [
              "0.4351851851851852"
            ]
          },
          "metadata": {
            "tags": []
          },
          "execution_count": 83
        }
      ]
    },
    {
      "cell_type": "code",
      "metadata": {
        "ExecuteTime": {
          "end_time": "2021-05-13T22:21:18.203952Z",
          "start_time": "2021-05-13T22:21:18.174952Z"
        },
        "id": "oa2VUbX_WvKy",
        "outputId": "b661316e-441d-4429-fc36-502b1fd27e21"
      },
      "source": [
        "print(classification_report(y_test, y_pred))"
      ],
      "execution_count": null,
      "outputs": [
        {
          "output_type": "stream",
          "text": [
            "              precision    recall  f1-score   support\n",
            "\n",
            "           0       0.80      0.03      0.06       125\n",
            "           1       0.43      0.99      0.60        91\n",
            "\n",
            "    accuracy                           0.44       216\n",
            "   macro avg       0.61      0.51      0.33       216\n",
            "weighted avg       0.64      0.44      0.29       216\n",
            "\n"
          ],
          "name": "stdout"
        }
      ]
    },
    {
      "cell_type": "code",
      "metadata": {
        "ExecuteTime": {
          "end_time": "2021-05-13T22:24:50.271922Z",
          "start_time": "2021-05-13T22:24:50.255935Z"
        },
        "id": "iM6tGv-4WvKz",
        "outputId": "f2f3ee82-3eae-49fb-ced7-c9061f42b5d8"
      },
      "source": [
        "print('precision:', (90 / (121 + 90)))\n",
        "print('recall:', (90 / (1 + 90)))"
      ],
      "execution_count": null,
      "outputs": [
        {
          "output_type": "stream",
          "text": [
            "precision: 0.4265402843601896\n",
            "recall: 0.989010989010989\n"
          ],
          "name": "stdout"
        }
      ]
    },
    {
      "cell_type": "code",
      "metadata": {
        "ExecuteTime": {
          "end_time": "2021-05-13T22:16:24.664051Z",
          "start_time": "2021-05-13T22:16:24.359983Z"
        },
        "id": "q9csn5g5WvK0",
        "outputId": "f479c96d-e591-4a6d-ec8b-b83de182350b"
      },
      "source": [
        "plot_confusion_matrix(lr, x_test, y_test, cmap='Oranges');"
      ],
      "execution_count": null,
      "outputs": [
        {
          "output_type": "display_data",
          "data": {
            "image/png": "[encoded data removed]",
            "text/plain": [
              "<Figure size 432x288 with 2 Axes>"
            ]
          },
          "metadata": {
            "tags": [],
            "needs_background": "light"
          }
        }
      ]
    },
    {
      "cell_type": "code",
      "metadata": {
        "ExecuteTime": {
          "end_time": "2021-05-13T22:42:47.173931Z",
          "start_time": "2021-05-13T22:42:47.165920Z"
        },
        "id": "UWuFhXv0WvK1"
      },
      "source": [
        "from sklearn.tree import DecisionTreeClassifier, plot_tree"
      ],
      "execution_count": null,
      "outputs": []
    },
    {
      "cell_type": "code",
      "metadata": {
        "ExecuteTime": {
          "end_time": "2021-05-13T22:41:22.779965Z",
          "start_time": "2021-05-13T22:41:22.760966Z"
        },
        "id": "TvS8ehwMWvK2"
      },
      "source": [
        "dt = DecisionTreeClassifier()"
      ],
      "execution_count": null,
      "outputs": []
    },
    {
      "cell_type": "code",
      "metadata": {
        "ExecuteTime": {
          "end_time": "2021-05-13T22:41:33.669391Z",
          "start_time": "2021-05-13T22:41:33.649391Z"
        },
        "id": "nxWZTHx1WvK2",
        "outputId": "6ebf6329-38de-4051-e1b8-bfd77229767a"
      },
      "source": [
        "dt.fit(x_train, y_train)"
      ],
      "execution_count": null,
      "outputs": [
        {
          "output_type": "execute_result",
          "data": {
            "text/plain": [
              "DecisionTreeClassifier()"
            ]
          },
          "metadata": {
            "tags": []
          },
          "execution_count": 112
        }
      ]
    },
    {
      "cell_type": "code",
      "metadata": {
        "ExecuteTime": {
          "end_time": "2021-05-13T22:41:55.284591Z",
          "start_time": "2021-05-13T22:41:54.996578Z"
        },
        "id": "LGlh6NmxWvK3",
        "outputId": "601a6b64-2d57-4977-98db-c62ff18f8262"
      },
      "source": [
        "metricas_classificacao(dt, x_test, y_test, cmap='Greens')"
      ],
      "execution_count": null,
      "outputs": [
        {
          "output_type": "stream",
          "text": [
            "DecisionTreeClassifier\n",
            "Acurácia:  0.7361111111111112\n"
          ],
          "name": "stdout"
        },
        {
          "output_type": "display_data",
          "data": {
            "image/png": "[encoded data removed]",
            "text/plain": [
              "<Figure size 432x288 with 2 Axes>"
            ]
          },
          "metadata": {
            "tags": [],
            "needs_background": "light"
          }
        }
      ]
    },
    {
      "cell_type": "code",
      "metadata": {
        "ExecuteTime": {
          "end_time": "2021-05-13T22:43:29.951845Z",
          "start_time": "2021-05-13T22:43:29.929843Z"
        },
        "id": "aurIj48PWvK4",
        "outputId": "dc0c9514-91aa-4b6a-bf54-b7b7c6e28d0c"
      },
      "source": [
        "x_train.head()"
      ],
      "execution_count": null,
      "outputs": [
        {
          "output_type": "execute_result",
          "data": {
            "text/html": [
              "<div>\n",
              "<style scoped>\n",
              "    .dataframe tbody tr th:only-of-type {\n",
              "        vertical-align: middle;\n",
              "    }\n",
              "\n",
              "    .dataframe tbody tr th {\n",
              "        vertical-align: top;\n",
              "    }\n",
              "\n",
              "    .dataframe thead th {\n",
              "        text-align: right;\n",
              "    }\n",
              "</style>\n",
              "<table border=\"1\" class=\"dataframe\">\n",
              "  <thead>\n",
              "    <tr style=\"text-align: right;\">\n",
              "      <th></th>\n",
              "      <th>GrupoEconomico</th>\n",
              "      <th>Idade</th>\n",
              "      <th>GrupoRisco</th>\n",
              "      <th>ValorCompraAnual</th>\n",
              "      <th>GastoMax</th>\n",
              "      <th>GastoMedio</th>\n",
              "      <th>NumeroComprasOnline</th>\n",
              "      <th>Sexo_mulher</th>\n",
              "      <th>RegiaodoPais_Região Nordeste</th>\n",
              "      <th>RegiaodoPais_Região Norte</th>\n",
              "      <th>RegiaodoPais_Região Sudeste</th>\n",
              "      <th>RegiaodoPais_Região Sul</th>\n",
              "    </tr>\n",
              "  </thead>\n",
              "  <tbody>\n",
              "    <tr>\n",
              "      <th>204</th>\n",
              "      <td>3</td>\n",
              "      <td>18</td>\n",
              "      <td>0</td>\n",
              "      <td>805.0</td>\n",
              "      <td>57.500000</td>\n",
              "      <td>67.083333</td>\n",
              "      <td>7.453704</td>\n",
              "      <td>0</td>\n",
              "      <td>1</td>\n",
              "      <td>0</td>\n",
              "      <td>0</td>\n",
              "      <td>0</td>\n",
              "    </tr>\n",
              "    <tr>\n",
              "      <th>619</th>\n",
              "      <td>2</td>\n",
              "      <td>26</td>\n",
              "      <td>0</td>\n",
              "      <td>105.0</td>\n",
              "      <td>7.500000</td>\n",
              "      <td>8.750000</td>\n",
              "      <td>0.673077</td>\n",
              "      <td>0</td>\n",
              "      <td>0</td>\n",
              "      <td>0</td>\n",
              "      <td>1</td>\n",
              "      <td>0</td>\n",
              "    </tr>\n",
              "    <tr>\n",
              "      <th>612</th>\n",
              "      <td>3</td>\n",
              "      <td>22</td>\n",
              "      <td>1</td>\n",
              "      <td>155.0</td>\n",
              "      <td>11.071429</td>\n",
              "      <td>12.916667</td>\n",
              "      <td>1.174242</td>\n",
              "      <td>1</td>\n",
              "      <td>1</td>\n",
              "      <td>0</td>\n",
              "      <td>0</td>\n",
              "      <td>0</td>\n",
              "    </tr>\n",
              "    <tr>\n",
              "      <th>870</th>\n",
              "      <td>3</td>\n",
              "      <td>26</td>\n",
              "      <td>0</td>\n",
              "      <td>78958.0</td>\n",
              "      <td>5639.857143</td>\n",
              "      <td>6579.833333</td>\n",
              "      <td>506.141026</td>\n",
              "      <td>0</td>\n",
              "      <td>1</td>\n",
              "      <td>0</td>\n",
              "      <td>0</td>\n",
              "      <td>0</td>\n",
              "    </tr>\n",
              "    <tr>\n",
              "      <th>362</th>\n",
              "      <td>3</td>\n",
              "      <td>45</td>\n",
              "      <td>0</td>\n",
              "      <td>144542.0</td>\n",
              "      <td>10324.428571</td>\n",
              "      <td>12045.166667</td>\n",
              "      <td>535.340741</td>\n",
              "      <td>1</td>\n",
              "      <td>0</td>\n",
              "      <td>0</td>\n",
              "      <td>0</td>\n",
              "      <td>0</td>\n",
              "    </tr>\n",
              "  </tbody>\n",
              "</table>\n",
              "</div>"
            ],
            "text/plain": [
              "     GrupoEconomico  Idade  GrupoRisco  ValorCompraAnual      GastoMax  \\\n",
              "204               3     18           0             805.0     57.500000   \n",
              "619               2     26           0             105.0      7.500000   \n",
              "612               3     22           1             155.0     11.071429   \n",
              "870               3     26           0           78958.0   5639.857143   \n",
              "362               3     45           0          144542.0  10324.428571   \n",
              "\n",
              "       GastoMedio  NumeroComprasOnline  Sexo_mulher  \\\n",
              "204     67.083333             7.453704            0   \n",
              "619      8.750000             0.673077            0   \n",
              "612     12.916667             1.174242            1   \n",
              "870   6579.833333           506.141026            0   \n",
              "362  12045.166667           535.340741            1   \n",
              "\n",
              "     RegiaodoPais_Região Nordeste  RegiaodoPais_Região Norte  \\\n",
              "204                             1                          0   \n",
              "619                             0                          0   \n",
              "612                             1                          0   \n",
              "870                             1                          0   \n",
              "362                             0                          0   \n",
              "\n",
              "     RegiaodoPais_Região Sudeste  RegiaodoPais_Região Sul  \n",
              "204                            0                        0  \n",
              "619                            1                        0  \n",
              "612                            0                        0  \n",
              "870                            0                        0  \n",
              "362                            0                        0  "
            ]
          },
          "metadata": {
            "tags": []
          },
          "execution_count": 116
        }
      ]
    },
    {
      "cell_type": "code",
      "metadata": {
        "ExecuteTime": {
          "end_time": "2021-05-13T22:46:41.686740Z",
          "start_time": "2021-05-13T22:46:41.669119Z"
        },
        "id": "HzFc4GjyWvK5",
        "outputId": "f8374119-4e89-4490-ccff-fef705d2fb17"
      },
      "source": [
        "y_train.value_counts()"
      ],
      "execution_count": null,
      "outputs": [
        {
          "output_type": "execute_result",
          "data": {
            "text/plain": [
              "0    408\n",
              "1    239\n",
              "Name: Target, dtype: int64"
            ]
          },
          "metadata": {
            "tags": []
          },
          "execution_count": 122
        }
      ]
    },
    {
      "cell_type": "code",
      "metadata": {
        "ExecuteTime": {
          "end_time": "2021-05-13T22:48:14.111018Z",
          "start_time": "2021-05-13T22:48:13.049000Z"
        },
        "id": "WzTwmPz5WvK6",
        "outputId": "483144e9-c832-4167-a7e5-8bd9783cd8ef"
      },
      "source": [
        "plt.figure(figsize=(14, 7))\n",
        "plot_tree(dt, max_depth=3, fontsize=10, feature_names=x_train.columns, filled=True);"
      ],
      "execution_count": null,
      "outputs": [
        {
          "output_type": "display_data",
          "data": {
            "image/png": "[encoded data removed]",
            "text/plain": [
              "<Figure size 1008x504 with 1 Axes>"
            ]
          },
          "metadata": {
            "tags": [],
            "needs_background": "light"
          }
        }
      ]
    },
    {
      "cell_type": "code",
      "metadata": {
        "ExecuteTime": {
          "end_time": "2021-05-13T22:49:50.310480Z",
          "start_time": "2021-05-13T22:49:50.297463Z"
        },
        "id": "yOOi8bNTWvK7"
      },
      "source": [
        "from sklearn.ensemble import RandomForestClassifier"
      ],
      "execution_count": null,
      "outputs": []
    },
    {
      "cell_type": "code",
      "metadata": {
        "ExecuteTime": {
          "end_time": "2021-05-13T22:52:48.225757Z",
          "start_time": "2021-05-13T22:52:48.204766Z"
        },
        "id": "n2RHD6xeWvK7"
      },
      "source": [
        "rf = RandomForestClassifier(n_jobs=-1)"
      ],
      "execution_count": null,
      "outputs": []
    },
    {
      "cell_type": "code",
      "metadata": {
        "ExecuteTime": {
          "end_time": "2021-05-13T22:53:09.212475Z",
          "start_time": "2021-05-13T22:53:08.841497Z"
        },
        "id": "CK5NQ-wEWvK8",
        "outputId": "3ed94101-329d-4e47-f48d-4791b7ccc558"
      },
      "source": [
        "rf.fit(x_train, y_train)"
      ],
      "execution_count": null,
      "outputs": [
        {
          "output_type": "execute_result",
          "data": {
            "text/plain": [
              "RandomForestClassifier(n_jobs=-1)"
            ]
          },
          "metadata": {
            "tags": []
          },
          "execution_count": 128
        }
      ]
    },
    {
      "cell_type": "code",
      "metadata": {
        "ExecuteTime": {
          "end_time": "2021-05-13T22:53:33.489789Z",
          "start_time": "2021-05-13T22:53:33.064219Z"
        },
        "id": "n2dAqqOaWvK9",
        "outputId": "13d24532-985d-4bbe-92a8-1b9b34dfea47"
      },
      "source": [
        "metricas_classificacao(rf, x_test, y_test, cmap='Blues')"
      ],
      "execution_count": null,
      "outputs": [
        {
          "output_type": "stream",
          "text": [
            "RandomForestClassifier\n",
            "Acurácia:  0.7777777777777778\n"
          ],
          "name": "stdout"
        },
        {
          "output_type": "display_data",
          "data": {
            "image/png": "[encoded data removed]",
            "text/plain": [
              "<Figure size 432x288 with 2 Axes>"
            ]
          },
          "metadata": {
            "tags": [],
            "needs_background": "light"
          }
        }
      ]
    },
    {
      "cell_type": "code",
      "metadata": {
        "ExecuteTime": {
          "end_time": "2021-05-13T23:02:32.957909Z",
          "start_time": "2021-05-13T23:02:32.628594Z"
        },
        "id": "b8TqP7jHWvK-",
        "outputId": "35b176dc-e8df-445d-ac08-cb11787c8c5e"
      },
      "source": [
        "pd.Series(rf.feature_importances_, index=x_train.columns).sort_values().plot(kind='barh', title='Feature importances',\n",
        "                                                                             figsize=(14, 5));"
      ],
      "execution_count": null,
      "outputs": [
        {
          "output_type": "display_data",
          "data": {
            "image/png": "[encoded data removed]",
            "text/plain": [
              "<Figure size 1008x360 with 1 Axes>"
            ]
          },
          "metadata": {
            "tags": [],
            "needs_background": "light"
          }
        }
      ]
    },
    {
      "cell_type": "markdown",
      "metadata": {
        "id": "olRtE7coWvK_"
      },
      "source": [
        "![](https://miro.medium.com/max/2000/1*zTgGBTQIMlASWm5QuS2UpA.jpeg)\n",
        "\n",
        "![](https://i.ytimg.com/vi/BoGNyWW9-mE/maxresdefault.jpg)"
      ]
    },
    {
      "cell_type": "code",
      "metadata": {
        "ExecuteTime": {
          "end_time": "2021-05-13T23:07:20.788946Z",
          "start_time": "2021-05-13T23:07:20.699952Z"
        },
        "id": "i2jYc7LlWvK_"
      },
      "source": [
        "import lightgbm as lgb\n",
        "import xgboost as xgb"
      ],
      "execution_count": null,
      "outputs": []
    },
    {
      "cell_type": "code",
      "metadata": {
        "ExecuteTime": {
          "end_time": "2021-05-13T23:04:51.929863Z",
          "start_time": "2021-05-13T23:04:51.921879Z"
        },
        "id": "QBsq3XqoWvLA"
      },
      "source": [
        "clf_lgb = lgb.LGBMClassifier()"
      ],
      "execution_count": null,
      "outputs": []
    },
    {
      "cell_type": "code",
      "metadata": {
        "ExecuteTime": {
          "end_time": "2021-05-13T23:05:00.462969Z",
          "start_time": "2021-05-13T23:05:00.207807Z"
        },
        "id": "HzWBqEDJWvLB",
        "outputId": "bbd85cf4-86b8-4d4c-efc4-79406a97fc67"
      },
      "source": [
        "clf_lgb.fit(x_train, y_train)"
      ],
      "execution_count": null,
      "outputs": [
        {
          "output_type": "execute_result",
          "data": {
            "text/plain": [
              "LGBMClassifier()"
            ]
          },
          "metadata": {
            "tags": []
          },
          "execution_count": 139
        }
      ]
    },
    {
      "cell_type": "code",
      "metadata": {
        "ExecuteTime": {
          "end_time": "2021-05-13T22:53:33.489789Z",
          "start_time": "2021-05-13T22:53:33.064219Z"
        },
        "id": "BvGWH_7UWvLD",
        "outputId": "bf7deb26-ad47-4c14-fd77-e94f5ab6c75b"
      },
      "source": [
        "metricas_classificacao(rf, x_test, y_test, cmap='Blues')"
      ],
      "execution_count": null,
      "outputs": [
        {
          "output_type": "stream",
          "text": [
            "RandomForestClassifier\n",
            "Acurácia:  0.7777777777777778\n"
          ],
          "name": "stdout"
        },
        {
          "output_type": "display_data",
          "data": {
            "image/png": "[encoded data removed]",
            "text/plain": [
              "<Figure size 432x288 with 2 Axes>"
            ]
          },
          "metadata": {
            "tags": [],
            "needs_background": "light"
          }
        }
      ]
    },
    {
      "cell_type": "code",
      "metadata": {
        "ExecuteTime": {
          "end_time": "2021-05-13T23:05:16.136023Z",
          "start_time": "2021-05-13T23:05:15.743966Z"
        },
        "id": "DzPRmdVpWvLF",
        "outputId": "8d2fd125-ea00-4f2e-d74a-695867305c9b"
      },
      "source": [
        "metricas_classificacao(clf_lgb, x_test, y_test, cmap='Purples')"
      ],
      "execution_count": null,
      "outputs": [
        {
          "output_type": "stream",
          "text": [
            "LGBMClassifier\n",
            "Acurácia:  0.7314814814814815\n"
          ],
          "name": "stdout"
        },
        {
          "output_type": "display_data",
          "data": {
            "image/png": "[encoded data removed]",
            "text/plain": [
              "<Figure size 432x288 with 2 Axes>"
            ]
          },
          "metadata": {
            "tags": [],
            "needs_background": "light"
          }
        }
      ]
    },
    {
      "cell_type": "code",
      "metadata": {
        "ExecuteTime": {
          "end_time": "2021-05-13T23:07:51.574718Z",
          "start_time": "2021-05-13T23:07:51.565726Z"
        },
        "id": "7DxevXl_WvLH"
      },
      "source": [
        "clf_xgb = xgb.XGBClassifier()"
      ],
      "execution_count": null,
      "outputs": []
    },
    {
      "cell_type": "code",
      "metadata": {
        "ExecuteTime": {
          "end_time": "2021-05-13T23:07:59.340767Z",
          "start_time": "2021-05-13T23:07:59.181918Z"
        },
        "id": "XSfvWXs3WvLI",
        "outputId": "1fd9d8af-dbfc-41aa-c2d0-af69e86d1ec0"
      },
      "source": [
        "clf_xgb.fit(x_train, y_train)"
      ],
      "execution_count": null,
      "outputs": [
        {
          "output_type": "execute_result",
          "data": {
            "text/plain": [
              "XGBClassifier(base_score=0.5, booster='gbtree', colsample_bylevel=1,\n",
              "              colsample_bynode=1, colsample_bytree=1, gamma=0, gpu_id=-1,\n",
              "              importance_type='gain', interaction_constraints='',\n",
              "              learning_rate=0.300000012, max_delta_step=0, max_depth=6,\n",
              "              min_child_weight=1, missing=nan, monotone_constraints='()',\n",
              "              n_estimators=100, n_jobs=0, num_parallel_tree=1, random_state=0,\n",
              "              reg_alpha=0, reg_lambda=1, scale_pos_weight=1, subsample=1,\n",
              "              tree_method='exact', validate_parameters=1, verbosity=None)"
            ]
          },
          "metadata": {
            "tags": []
          },
          "execution_count": 143
        }
      ]
    },
    {
      "cell_type": "code",
      "metadata": {
        "ExecuteTime": {
          "end_time": "2021-05-13T23:08:23.763377Z",
          "start_time": "2021-05-13T23:08:23.398380Z"
        },
        "id": "6xQWhdaVWvLJ",
        "outputId": "56066e05-b32d-4d06-a920-a535e533d297"
      },
      "source": [
        "metricas_classificacao(clf_xgb, x_test, y_test, cmap='Reds')"
      ],
      "execution_count": null,
      "outputs": [
        {
          "output_type": "stream",
          "text": [
            "XGBClassifier\n",
            "Acurácia:  0.7592592592592593\n"
          ],
          "name": "stdout"
        },
        {
          "output_type": "display_data",
          "data": {
            "image/png": "[encoded data removed]",
            "text/plain": [
              "<Figure size 432x288 with 2 Axes>"
            ]
          },
          "metadata": {
            "tags": [],
            "needs_background": "light"
          }
        }
      ]
    },
    {
      "cell_type": "markdown",
      "metadata": {
        "id": "rgH4yeTzWvLK"
      },
      "source": [
        "## Pipeline"
      ]
    },
    {
      "cell_type": "code",
      "metadata": {
        "ExecuteTime": {
          "end_time": "2021-05-13T23:21:22.021888Z",
          "start_time": "2021-05-13T23:21:21.885894Z"
        },
        "id": "s0BjpBekWvLM",
        "outputId": "389b9621-8472-4a27-cd3a-e4eda7c44da7"
      },
      "source": [
        "x_train.head()"
      ],
      "execution_count": null,
      "outputs": [
        {
          "output_type": "execute_result",
          "data": {
            "text/html": [
              "<div>\n",
              "<style scoped>\n",
              "    .dataframe tbody tr th:only-of-type {\n",
              "        vertical-align: middle;\n",
              "    }\n",
              "\n",
              "    .dataframe tbody tr th {\n",
              "        vertical-align: top;\n",
              "    }\n",
              "\n",
              "    .dataframe thead th {\n",
              "        text-align: right;\n",
              "    }\n",
              "</style>\n",
              "<table border=\"1\" class=\"dataframe\">\n",
              "  <thead>\n",
              "    <tr style=\"text-align: right;\">\n",
              "      <th></th>\n",
              "      <th>GrupoEconomico</th>\n",
              "      <th>Idade</th>\n",
              "      <th>GrupoRisco</th>\n",
              "      <th>ValorCompraAnual</th>\n",
              "      <th>GastoMax</th>\n",
              "      <th>GastoMedio</th>\n",
              "      <th>NumeroComprasOnline</th>\n",
              "      <th>Sexo_mulher</th>\n",
              "      <th>RegiaodoPais_Região Nordeste</th>\n",
              "      <th>RegiaodoPais_Região Norte</th>\n",
              "      <th>RegiaodoPais_Região Sudeste</th>\n",
              "      <th>RegiaodoPais_Região Sul</th>\n",
              "    </tr>\n",
              "  </thead>\n",
              "  <tbody>\n",
              "    <tr>\n",
              "      <th>204</th>\n",
              "      <td>3</td>\n",
              "      <td>18</td>\n",
              "      <td>0</td>\n",
              "      <td>805.0</td>\n",
              "      <td>57.500000</td>\n",
              "      <td>67.083333</td>\n",
              "      <td>7.453704</td>\n",
              "      <td>0</td>\n",
              "      <td>1</td>\n",
              "      <td>0</td>\n",
              "      <td>0</td>\n",
              "      <td>0</td>\n",
              "    </tr>\n",
              "    <tr>\n",
              "      <th>619</th>\n",
              "      <td>2</td>\n",
              "      <td>26</td>\n",
              "      <td>0</td>\n",
              "      <td>105.0</td>\n",
              "      <td>7.500000</td>\n",
              "      <td>8.750000</td>\n",
              "      <td>0.673077</td>\n",
              "      <td>0</td>\n",
              "      <td>0</td>\n",
              "      <td>0</td>\n",
              "      <td>1</td>\n",
              "      <td>0</td>\n",
              "    </tr>\n",
              "    <tr>\n",
              "      <th>612</th>\n",
              "      <td>3</td>\n",
              "      <td>22</td>\n",
              "      <td>1</td>\n",
              "      <td>155.0</td>\n",
              "      <td>11.071429</td>\n",
              "      <td>12.916667</td>\n",
              "      <td>1.174242</td>\n",
              "      <td>1</td>\n",
              "      <td>1</td>\n",
              "      <td>0</td>\n",
              "      <td>0</td>\n",
              "      <td>0</td>\n",
              "    </tr>\n",
              "    <tr>\n",
              "      <th>870</th>\n",
              "      <td>3</td>\n",
              "      <td>26</td>\n",
              "      <td>0</td>\n",
              "      <td>78958.0</td>\n",
              "      <td>5639.857143</td>\n",
              "      <td>6579.833333</td>\n",
              "      <td>506.141026</td>\n",
              "      <td>0</td>\n",
              "      <td>1</td>\n",
              "      <td>0</td>\n",
              "      <td>0</td>\n",
              "      <td>0</td>\n",
              "    </tr>\n",
              "    <tr>\n",
              "      <th>362</th>\n",
              "      <td>3</td>\n",
              "      <td>45</td>\n",
              "      <td>0</td>\n",
              "      <td>144542.0</td>\n",
              "      <td>10324.428571</td>\n",
              "      <td>12045.166667</td>\n",
              "      <td>535.340741</td>\n",
              "      <td>1</td>\n",
              "      <td>0</td>\n",
              "      <td>0</td>\n",
              "      <td>0</td>\n",
              "      <td>0</td>\n",
              "    </tr>\n",
              "  </tbody>\n",
              "</table>\n",
              "</div>"
            ],
            "text/plain": [
              "     GrupoEconomico  Idade  GrupoRisco  ValorCompraAnual      GastoMax  \\\n",
              "204               3     18           0             805.0     57.500000   \n",
              "619               2     26           0             105.0      7.500000   \n",
              "612               3     22           1             155.0     11.071429   \n",
              "870               3     26           0           78958.0   5639.857143   \n",
              "362               3     45           0          144542.0  10324.428571   \n",
              "\n",
              "       GastoMedio  NumeroComprasOnline  Sexo_mulher  \\\n",
              "204     67.083333             7.453704            0   \n",
              "619      8.750000             0.673077            0   \n",
              "612     12.916667             1.174242            1   \n",
              "870   6579.833333           506.141026            0   \n",
              "362  12045.166667           535.340741            1   \n",
              "\n",
              "     RegiaodoPais_Região Nordeste  RegiaodoPais_Região Norte  \\\n",
              "204                             1                          0   \n",
              "619                             0                          0   \n",
              "612                             1                          0   \n",
              "870                             1                          0   \n",
              "362                             0                          0   \n",
              "\n",
              "     RegiaodoPais_Região Sudeste  RegiaodoPais_Região Sul  \n",
              "204                            0                        0  \n",
              "619                            1                        0  \n",
              "612                            0                        0  \n",
              "870                            0                        0  \n",
              "362                            0                        0  "
            ]
          },
          "metadata": {
            "tags": []
          },
          "execution_count": 146
        }
      ]
    },
    {
      "cell_type": "code",
      "metadata": {
        "ExecuteTime": {
          "end_time": "2021-05-13T23:21:47.112884Z",
          "start_time": "2021-05-13T23:21:46.677341Z"
        },
        "id": "BWrvjOj7WvLO",
        "outputId": "a87e6a12-27e9-4f23-b26d-756803e9ae7b"
      },
      "source": [
        "x_train.plot.box(figsize=(16, 4));"
      ],
      "execution_count": null,
      "outputs": [
        {
          "output_type": "display_data",
          "data": {
            "image/png": "[encoded data removed]",
            "text/plain": [
              "<Figure size 1152x288 with 1 Axes>"
            ]
          },
          "metadata": {
            "tags": [],
            "needs_background": "light"
          }
        }
      ]
    },
    {
      "cell_type": "code",
      "metadata": {
        "ExecuteTime": {
          "end_time": "2021-05-13T23:22:41.529500Z",
          "start_time": "2021-05-13T23:22:41.501503Z"
        },
        "id": "7G1H_DhrWvLQ"
      },
      "source": [
        "from sklearn.preprocessing import StandardScaler"
      ],
      "execution_count": null,
      "outputs": []
    },
    {
      "cell_type": "code",
      "metadata": {
        "ExecuteTime": {
          "end_time": "2021-05-13T23:23:23.090966Z",
          "start_time": "2021-05-13T23:23:23.082970Z"
        },
        "id": "Gz8ReuzVWvLR"
      },
      "source": [
        "scaler = StandardScaler()"
      ],
      "execution_count": null,
      "outputs": []
    },
    {
      "cell_type": "code",
      "metadata": {
        "ExecuteTime": {
          "end_time": "2021-05-13T23:24:33.004452Z",
          "start_time": "2021-05-13T23:24:32.974473Z"
        },
        "id": "qjgo4SPFWvLR"
      },
      "source": [
        "x_train_scaler = scaler.fit_transform(x_train)"
      ],
      "execution_count": null,
      "outputs": []
    },
    {
      "cell_type": "code",
      "metadata": {
        "ExecuteTime": {
          "end_time": "2021-05-13T23:25:03.282194Z",
          "start_time": "2021-05-13T23:25:02.787604Z"
        },
        "id": "Egt9GUIKWvLS",
        "outputId": "77c6a8da-1331-4be4-9353-180a036527c1"
      },
      "source": [
        "pd.DataFrame(x_train_scaler, columns=x_train.columns).plot.box(figsize=(16, 4));"
      ],
      "execution_count": null,
      "outputs": [
        {
          "output_type": "display_data",
          "data": {
            "image/png": "[encoded data removed]",
            "text/plain": [
              "<Figure size 1152x288 with 1 Axes>"
            ]
          },
          "metadata": {
            "tags": [],
            "needs_background": "light"
          }
        }
      ]
    },
    {
      "cell_type": "code",
      "metadata": {
        "ExecuteTime": {
          "end_time": "2021-05-13T23:27:51.965859Z",
          "start_time": "2021-05-13T23:27:51.612329Z"
        },
        "id": "k3miqwU1WvLU",
        "outputId": "8be8d140-ea6b-4d33-b924-3270b2857717"
      },
      "source": [
        "rf.fit(x_train_scaler, y_train)"
      ],
      "execution_count": null,
      "outputs": [
        {
          "output_type": "execute_result",
          "data": {
            "text/plain": [
              "RandomForestClassifier(n_jobs=-1)"
            ]
          },
          "metadata": {
            "tags": []
          },
          "execution_count": 162
        }
      ]
    },
    {
      "cell_type": "code",
      "metadata": {
        "ExecuteTime": {
          "end_time": "2021-05-13T23:27:52.422914Z",
          "start_time": "2021-05-13T23:27:52.413911Z"
        },
        "id": "IiWeP8PjWvLW"
      },
      "source": [
        "x_test_scaler = scaler.transform(x_test)"
      ],
      "execution_count": null,
      "outputs": []
    },
    {
      "cell_type": "code",
      "metadata": {
        "ExecuteTime": {
          "end_time": "2021-05-13T23:27:20.311408Z",
          "start_time": "2021-05-13T23:27:19.636829Z"
        },
        "id": "VShzoSyfWvLX",
        "outputId": "1574bc64-04d8-447e-d33e-b998c32eb716"
      },
      "source": [
        "metricas_classificacao(rf, x_test_scaler, y_test)"
      ],
      "execution_count": null,
      "outputs": [
        {
          "output_type": "stream",
          "text": [
            "RandomForestClassifier\n",
            "Acurácia:  0.7592592592592593\n"
          ],
          "name": "stdout"
        },
        {
          "output_type": "display_data",
          "data": {
            "image/png": "[encoded data removed]",
            "text/plain": [
              "<Figure size 432x288 with 2 Axes>"
            ]
          },
          "metadata": {
            "tags": [],
            "needs_background": "light"
          }
        }
      ]
    },
    {
      "cell_type": "code",
      "metadata": {
        "ExecuteTime": {
          "end_time": "2021-05-13T23:29:21.637691Z",
          "start_time": "2021-05-13T23:29:21.627701Z"
        },
        "id": "Rso6qWwXWvLY"
      },
      "source": [
        "from sklearn.pipeline import Pipeline"
      ],
      "execution_count": null,
      "outputs": []
    },
    {
      "cell_type": "code",
      "metadata": {
        "ExecuteTime": {
          "end_time": "2021-05-13T23:30:34.695908Z",
          "start_time": "2021-05-13T23:30:34.687895Z"
        },
        "id": "nioPk8iwWvLZ"
      },
      "source": [
        "pipe = Pipeline([('scaler', StandardScaler()),\n",
        "                 ('rf', RandomForestClassifier())])"
      ],
      "execution_count": null,
      "outputs": []
    },
    {
      "cell_type": "code",
      "metadata": {
        "ExecuteTime": {
          "end_time": "2021-05-13T23:30:42.648917Z",
          "start_time": "2021-05-13T23:30:42.336916Z"
        },
        "id": "TSu4g9m8WvLZ",
        "outputId": "a1f9583c-59b4-4ead-9a05-ce33ef668870"
      },
      "source": [
        "pipe.fit(x_train, y_train)"
      ],
      "execution_count": null,
      "outputs": [
        {
          "output_type": "execute_result",
          "data": {
            "text/plain": [
              "Pipeline(steps=[('scaler', StandardScaler()), ('rf', RandomForestClassifier())])"
            ]
          },
          "metadata": {
            "tags": []
          },
          "execution_count": 167
        }
      ]
    },
    {
      "cell_type": "code",
      "metadata": {
        "ExecuteTime": {
          "end_time": "2021-05-13T23:33:42.230405Z",
          "start_time": "2021-05-13T23:33:41.790341Z"
        },
        "id": "ImzzlfHGWvLa",
        "outputId": "b4b8b83c-b62c-42e1-bd3f-96f464c6e154"
      },
      "source": [
        "pd.Series(pipe['rf'].feature_importances_, index=x_train.columns).sort_values().plot.barh()"
      ],
      "execution_count": null,
      "outputs": [
        {
          "output_type": "execute_result",
          "data": {
            "text/plain": [
              "<matplotlib.axes._subplots.AxesSubplot at 0x1780ab462b0>"
            ]
          },
          "metadata": {
            "tags": []
          },
          "execution_count": 172
        },
        {
          "output_type": "display_data",
          "data": {
            "image/png": "[encoded data removed]",
            "text/plain": [
              "<Figure size 432x288 with 1 Axes>"
            ]
          },
          "metadata": {
            "tags": [],
            "needs_background": "light"
          }
        }
      ]
    },
    {
      "cell_type": "code",
      "metadata": {
        "ExecuteTime": {
          "end_time": "2021-05-13T23:31:03.624905Z",
          "start_time": "2021-05-13T23:31:03.131385Z"
        },
        "id": "MLWc9KfHWvLb",
        "outputId": "4454bd84-0706-45c5-9788-3496d05aee63"
      },
      "source": [
        "metricas_classificacao(pipe, x_test, y_test, cmap='viridis')"
      ],
      "execution_count": null,
      "outputs": [
        {
          "output_type": "stream",
          "text": [
            "Pipeline\n",
            "Acurácia:  0.7592592592592593\n"
          ],
          "name": "stdout"
        },
        {
          "output_type": "display_data",
          "data": {
            "image/png": "[encoded data removed]",
            "text/plain": [
              "<Figure size 432x288 with 2 Axes>"
            ]
          },
          "metadata": {
            "tags": [],
            "needs_background": "light"
          }
        }
      ]
    },
    {
      "cell_type": "markdown",
      "metadata": {
        "id": "GRt5HkzbWvLc"
      },
      "source": [
        "![](http://www.ulalalab.com/wp-content/uploads/2018/06/Screen-Shot-2018-02-04-at-8.09.33-PM.png)\n",
        "![](https://miro.medium.com/max/960/1*B3rECTf8kNC3Z_oWmWgHng.jpeg)"
      ]
    },
    {
      "cell_type": "markdown",
      "metadata": {
        "id": "GNvbIWRrWvLd"
      },
      "source": [
        "## Dashboard"
      ]
    },
    {
      "cell_type": "code",
      "metadata": {
        "ExecuteTime": {
          "end_time": "2021-05-13T23:43:09.005286Z",
          "start_time": "2021-05-13T23:43:08.989294Z"
        },
        "id": "1GTMjMPBWvLe"
      },
      "source": [
        "import yfinance as yf\n",
        "import mplfinance as mpf\n",
        "\n",
        "stock = yf.Ticker('PETR4.SA')\n",
        "\n",
        "# stock.get_info()\n",
        "\n",
        "hist = stock.history(start='2019-01-01', interval='1wk')\n",
        "\n",
        "mpf.plot(hist, type='candle', mav=(3, 6), volume=True, figsize=(14, 5), title='PETR4', style='yahoo')"
      ],
      "execution_count": null,
      "outputs": []
    },
    {
      "cell_type": "markdown",
      "metadata": {
        "id": "6b3KARzPWvLf"
      },
      "source": [
        "![](https://www.mckinsey.com/~/media/McKinsey/Industries/Financial%20Services/Our%20Insights/Building%20an%20effective%20analytics%20organization/SVGZ-Building-an-effective-analytics-Ex2.svgz)\n",
        "\n",
        "![](https://miro.medium.com/max/574/1*QRD-a7vAA02RhkD3RclEcQ.jpeg)"
      ]
    },
    {
      "cell_type": "markdown",
      "metadata": {
        "id": "aWLnfP2nWvLg"
      },
      "source": [
        "## Dataset pra portfolio"
      ]
    },
    {
      "cell_type": "markdown",
      "metadata": {
        "id": "8aIHT9Q1WvLg"
      },
      "source": [
        "https://pycaret.org/get-data/\n",
        "\n",
        "- cursos online\n",
        "    - coursera\n",
        "    - edx\n",
        "    - kaggle\n",
        "\n",
        "- 'livros':\n",
        "    - https://chrisalbon.com/\n",
        "    \n",
        "- Canais no youtube:\n",
        "    - edureka\n",
        "        - https://www.youtube.com/user/edurekaIN\n",
        "    - pydata\n",
        "        - https://www.youtube.com/channel/UCOjD18EJYcsBog4IozkF_7w\n",
        "    - siraj raval\n",
        "        - https://www.youtube.com/channel/UCWN3xxRkmTPmbKwht9FuE5A\n",
        "    - data school\n",
        "        - https://www.youtube.com/channel/UCnVzApLJE2ljPZSeQylSEyg\n",
        "    - ritvikmath\n",
        "        - https://www.youtube.com/channel/UCUcpVoi5KkJmnE3bvEhHR0Q\n",
        "        \n",
        "- sites:\n",
        "    - https://www.analyticsvidhya.com/\n",
        "    - http://www.sthda.com/english/\n",
        "    - https://www.statisticshowto.com/\n",
        "    - https://www.r-bloggers.com/\n",
        "    - medium - towards data science\n",
        "    - kaggle"
      ]
    }
  ]
}